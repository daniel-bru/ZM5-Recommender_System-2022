{
 "cells": [
  {
   "cell_type": "markdown",
   "id": "photographic-force",
   "metadata": {},
   "source": [
    "### Due to limited processing power on local power please open the notebook  by clicking the tab below\n"
   ]
  },
  {
   "cell_type": "code",
   "execution_count": null,
   "id": "external-rebel",
   "metadata": {},
   "outputs": [],
   "source": []
  },
  {
   "cell_type": "markdown",
   "id": "promising-satellite",
   "metadata": {},
   "source": [
    " <h3 align=\"center\">Movie Recommender Using Unsupervised Machine Learning Models</h3> \n",
    " \n"
   ]
  },
  {
   "cell_type": "markdown",
   "id": "partial-looking",
   "metadata": {},
   "source": [
    "\n",
    "<div align=\"center\" style=\"width: 900px; font-size: 80%; text-align: center; margin: 0 auto\">\n",
    "<img src=\"https://www.googleapis.com/download/storage/v1/b/kaggle-user-content/o/inbox%2F2205222%2Fbca114f2e4f6b9b46f2cc76527d7401e%2FImage_header.png?generation=1593773828621598&alt=media\"\n",
    "     alt=\"Barnicles on your ship :( \"\n",
    "     style=\"float: center; padding-bottom=0.5em\"\n",
    "     width=900px/>\n",
    "\n",
    "</div>"
   ]
  },
  {
   "cell_type": "markdown",
   "id": "collectible-cruise",
   "metadata": {},
   "source": [
    " <h3 align=\"center\">Jupyter Notebook Table Of Content</h3> \n",
    "<div class=\"toc\"><ul class=\"toc-item\"><li><span><a href=\"#Introduction--\" data-toc-modified-id=\"Introduction---1\"><span class=\"toc-item-num\">1&nbsp;&nbsp;</span>Introduction  </a></span><ul class=\"toc-item\"><li><span><a href=\"#Problem-Statement\" data-toc-modified-id=\"Problem-Statement-1.1\"><span class=\"toc-item-num\">1.1&nbsp;&nbsp;</span>Problem Statement</a></span></li><li><span><a href=\"#Objectives\" data-toc-modified-id=\"Objectives-1.2\"><span class=\"toc-item-num\">1.2&nbsp;&nbsp;</span>Objectives</a></span></li><li><span><a href=\"#Data-overview\" data-toc-modified-id=\"Data-overview-1.3\"><span class=\"toc-item-num\">1.3&nbsp;&nbsp;</span>Data overview</a>\n",
    "    \n",
    "</span></li></ul></li><li><span><a href=\"#Importing-the-libraries-\" data-toc-modified-id=\"Importing-the-libraries--3\"><span class=\"toc-item-num\">3&nbsp;&nbsp;</span>Importing the libraries \n",
    "</a></span></li><li><span><a href=\"#Loading-the-datasets-\" data-toc-modified-id=\"Loading-the-datasets--4\"><span class=\"toc-item-num\">4&nbsp;&nbsp;</span>Loading the datasets \n",
    "</a></span></li><li><span><a href=\"#Connecting-to-Comet-\" data-toc-modified-id=\"Connecting-to-Comet--2\"><span class=\"toc-item-num\">2&nbsp;&nbsp;</span>Connecting to Comet     \n",
    "</a></span></li><li><span><a href=\"#EDA\" data-toc-modified-id=\"EDA-5\"><span class=\"toc-item-num\">5&nbsp;&nbsp;</span>EDA</a></span><ul class=\"toc-item\"><li><span><a href=\"#Connecting-to-Comet-\" data-toc-modified-id=\"Connecting-to-Comet--2\"><span class=\"toc-item-num\">2&nbsp;&nbsp;</span>Connecting to Comet </a></span></li><li><span><a href=\"#Getting-initial-understanding-of-the-data\" data-toc-modified-id=\"Getting-initial-understanding-of-the-data-5.1\"><span class=\"toc-item-num\">5.1&nbsp;&nbsp;</span>Getting initial understanding of the data</a></span></li><li><span><a href=\"#Extracting-Insights-from-Mentions\" data-toc-modified-id=\"Extracting-Insights-from-Mentions-5.2\"><span class=\"toc-item-num\">5.2&nbsp;&nbsp;</span>Extracting Insights from Mentions</a></span></li><li><span><a href=\"#Extracting-Insights-from-Hashtags\" data-toc-modified-id=\"Extracting-Insights-from-Hashtags-5.3\"><span class=\"toc-item-num\">5.3&nbsp;&nbsp;</span>Extracting Insights from Hashtags</a></span></li><li><span><a href=\"#Extracting-Most-Frequent-Emojis\" data-toc-modified-id=\"Extracting-Most-Frequent-Emojis-5.4\"><span class=\"toc-item-num\">5.4&nbsp;&nbsp;</span>Extracting Most Frequent Emojis</a></span></li></ul></li><li><span><a href=\"#Text-Pre-processing-\" data-toc-modified-id=\"Text-Pre-processing--6\"><span class=\"toc-item-num\">6&nbsp;&nbsp;</span>Text Pre-processing </a></span><ul class=\"toc-item\"><li><span><a href=\"#Tokenization\" data-toc-modified-id=\"Tokenization-6.1\"><span class=\"toc-item-num\">6.1&nbsp;&nbsp;</span>Tokenization</a></span></li><li><span><a href=\"#Noise-Removal\" data-toc-modified-id=\"Noise-Removal-6.2\"><span class=\"toc-item-num\">6.2&nbsp;&nbsp;</span>Noise Removal</a></span><ul class=\"toc-item\"><li><span><a href=\"#Punctuation\" data-toc-modified-id=\"Punctuation-6.2.1\"><span class=\"toc-item-num\">6.2.1&nbsp;&nbsp;</span>Punctuation</a></span></li></ul></li><li><span><a href=\"#Lexicon-Normalization\" data-toc-modified-id=\"Lexicon-Normalization-6.3\"><span class=\"toc-item-num\">6.3&nbsp;&nbsp;</span>Lexicon Normalization</a></span><ul class=\"toc-item\"><li><span><a href=\"#Stemming\" data-toc-modified-id=\"Stemming-6.3.1\"><span class=\"toc-item-num\">6.3.1&nbsp;&nbsp;</span>Stemming</a></span></li><li><span><a href=\"#Lemmatization\" data-toc-modified-id=\"Lemmatization-6.3.2\"><span class=\"toc-item-num\">6.3.2&nbsp;&nbsp;</span>Lemmatization</a></span></li></ul></li></ul></li><li><span><a href=\"#Visualization-\" data-toc-modified-id=\"Visualization--7\"><span class=\"toc-item-num\">7&nbsp;&nbsp;</span>Visualization </a></span><ul class=\"toc-item\"><li><span><a href=\"#Wordclouds\" data-toc-modified-id=\"Wordclouds-7.1\"><span class=\"toc-item-num\">7.1&nbsp;&nbsp;</span>Wordclouds</a></span></li><li><span><a href=\"#Frequency-of-tweets\" data-toc-modified-id=\"Frequency-of-tweets-7.2\"><span class=\"toc-item-num\">7.2&nbsp;&nbsp;</span>Frequency of tweets</a></span></li></ul></li><li><span><a href=\"#Train-Test-Split-\" data-toc-modified-id=\"Train-Test-Split--8\"><span class=\"toc-item-num\">8&nbsp;&nbsp;</span>Train-Test Split </a></span></li><li><span><a href=\"#Classification-Analysis-\" data-toc-modified-id=\"Classification-Analysis--9\"><span class=\"toc-item-num\">9&nbsp;&nbsp;</span>Classification Analysis </a></span><ul class=\"toc-item\"><li><span><a href=\"#Logistic-Regression-Model\" data-toc-modified-id=\"Logistic-Regression-Model-9.1\"><span class=\"toc-item-num\">9.1&nbsp;&nbsp;</span>Logistic Regression Model</a></span></li><li><span><a href=\"#XGboost\" data-toc-modified-id=\"XGboost-9.2\"><span class=\"toc-item-num\">9.2&nbsp;&nbsp;</span>XGboost</a></span></li><li><span><a href=\"#Linear-SVC:\" data-toc-modified-id=\"Linear-SVC:-9.3\"><span class=\"toc-item-num\">9.3&nbsp;&nbsp;</span>Linear SVC:</a></span></li><li><span><a href=\"#Submitting-untuned-model\" data-toc-modified-id=\"Submitting-untuned-model-9.4\"><span class=\"toc-item-num\">9.4&nbsp;&nbsp;</span>Submitting untuned model</a></span></li></ul></li><li><span><a href=\"#Tuning-model-hyperparameter\" data-toc-modified-id=\"Tuning-model-hyperparameter-10\"><span class=\"toc-item-num\">10&nbsp;&nbsp;</span>Tuning model hyperparameter</a></span><ul class=\"toc-item\"><li><span><a href=\"#Multinomial-Naive-Bayes\" data-toc-modified-id=\"Multinomial-Naive-Bayes-10.1\"><span class=\"toc-item-num\">10.1&nbsp;&nbsp;</span>Multinomial Naive Bayes</a></span></li><li><span><a href=\"#LSVC\" data-toc-modified-id=\"LSVC-10.2\"><span class=\"toc-item-num\">10.2&nbsp;&nbsp;</span>LSVC</a></span></li><li><span><a href=\"#Logistic-Regression\" data-toc-modified-id=\"Logistic-Regression-10.3\"><span class=\"toc-item-num\">10.3&nbsp;&nbsp;</span>Logistic Regression</a></span></li><li><span><a href=\"#Ridge-Classifier\" data-toc-modified-id=\"Ridge-Classifier-10.4\"><span class=\"toc-item-num\">10.4&nbsp;&nbsp;</span>Ridge Classifier</a></span></li><li><span><a href=\"#Hyperparameter-Tuning\" data-toc-modified-id=\"Hyperparameter-Tuning-10.5\"><span class=\"toc-item-num\">10.5&nbsp;&nbsp;</span>Hyperparameter Tuning</a></span></li></ul></li><li><span><a href=\"#Model-Performance-Evaluation\" data-toc-modified-id=\"Model-Performance-Evaluation-11\"><span class=\"toc-item-num\">11&nbsp;&nbsp;</span>Model Performance Evaluation</a></span></li><li><span><a href=\"#Submission-\" data-toc-modified-id=\"Submission--12\"><span class=\"toc-item-num\">12&nbsp;&nbsp;</span>Submission </a></span></li><li><span><a href=\"#Pickling-the-file-\" data-toc-modified-id=\"Pickling-the-file--13\"><span class=\"toc-item-num\">13&nbsp;&nbsp;</span>Pickling the file </a></span></li><li><span><a href=\"#Conclusion-\" data-toc-modified-id=\"Conclusion--14\"><span class=\"toc-item-num\">14&nbsp;&nbsp;</span>Conclusion </a></span></li></ul></div>"
   ]
  },
  {
   "cell_type": "markdown",
   "id": "circular-scholar",
   "metadata": {},
   "source": [
    "## 1 ) Introduction"
   ]
  },
  {
   "cell_type": "markdown",
   "id": "every-transaction",
   "metadata": {},
   "source": [
    "###  1.1 ) Problem Statement"
   ]
  },
  {
   "cell_type": "markdown",
   "id": "engaged-police",
   "metadata": {},
   "source": [
    "### 1.2 ) Project Objectives"
   ]
  },
  {
   "cell_type": "markdown",
   "id": "creative-protection",
   "metadata": {},
   "source": [
    "###  1.3 ) Data Overview"
   ]
  },
  {
   "cell_type": "markdown",
   "id": "ready-mills",
   "metadata": {},
   "source": []
  },
  {
   "cell_type": "code",
   "execution_count": null,
   "id": "guilty-secret",
   "metadata": {},
   "outputs": [],
   "source": []
  }
 ],
 "metadata": {
  "kernelspec": {
   "display_name": "Python 3",
   "language": "python",
   "name": "python3"
  },
  "language_info": {
   "codemirror_mode": {
    "name": "ipython",
    "version": 3
   },
   "file_extension": ".py",
   "mimetype": "text/x-python",
   "name": "python",
   "nbconvert_exporter": "python",
   "pygments_lexer": "ipython3",
   "version": "3.6.12"
  }
 },
 "nbformat": 4,
 "nbformat_minor": 5
}

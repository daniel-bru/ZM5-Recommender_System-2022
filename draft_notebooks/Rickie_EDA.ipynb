{
 "cells": [
  {
   "cell_type": "markdown",
   "id": "4d10a370",
   "metadata": {},
   "source": [
    "### Due to limited processing power on local power please open the notebook in colab  by clicking the tab below\n"
   ]
  },
  {
   "cell_type": "code",
   "execution_count": null,
   "id": "9409a927",
   "metadata": {
    "collapsed": true
   },
   "outputs": [],
   "source": []
  },
  {
   "cell_type": "markdown",
   "id": "ac010e82",
   "metadata": {},
   "source": [
    " <h2 align=\"center\">EDSA Movie Recommendation Challenge</h2> \n",
    " \n"
   ]
  },
  {
   "cell_type": "markdown",
   "id": "945c8749",
   "metadata": {},
   "source": [
    " <h2 align=\"center\">Team ZM5</h2> "
   ]
  },
  {
   "cell_type": "markdown",
   "id": "7e674707",
   "metadata": {},
   "source": [
    "\n",
    "<div align=\"center\" style=\"width: 900px; font-size: 80%; text-align: center; margin: 0 auto\">\n",
    "<img src=\"https://www.googleapis.com/download/storage/v1/b/kaggle-user-content/o/inbox%2F2205222%2Fbca114f2e4f6b9b46f2cc76527d7401e%2FImage_header.png?generation=1593773828621598&alt=media\"\n",
    "     alt=\"Barnicles on your ship :( \"\n",
    "     style=\"float: center; padding-bottom=0.5em\"\n",
    "     width=900px/>\n",
    "\n",
    "</div>"
   ]
  },
  {
   "cell_type": "markdown",
   "id": "e1b3a8a8",
   "metadata": {},
   "source": [
    " <h2 align=\"center\">Jupyter Notebook Table Of Content</h2>  \n",
    "<div class=\"toc\"><ul class=\"toc-item\"><li><span><a href=\"#Introduction--\" data-toc-modified-id=\"Introduction---1\"><span class=\"toc-item-num\">1&nbsp;&nbsp;</span>Introduction  </a></span><ul class=\"toc-item\"><li><span><a href=\"#Problem-Statement\" data-toc-modified-id=\"Problem-Statement-1.1\"><span class=\"toc-item-num\">1.1&nbsp;&nbsp;</span>Problem Statement</a></span></li><li><span><a href=\"#Objectives\" data-toc-modified-id=\"Objectives-1.2\"><span class=\"toc-item-num\">1.2&nbsp;&nbsp;</span>Objectives</a></span></li><li><span><a href=\"#Data-overview\" data-toc-modified-id=\"Data-overview-1.3\"><span class=\"toc-item-num\">1.3&nbsp;&nbsp;</span>Data overview</a>\n",
    "    \n",
    "</span></li></ul></li><li><span><a href=\"#Importing-the-libraries-\" data-toc-modified-id=\"Importing-the-libraries--2\"><span class=\"toc-item-num\">2&nbsp;&nbsp;</span>Importing the libraries \n",
    "</a></span></li><li><span><a href=\"#Loading-the-datasets-\" data-toc-modified-id=\"Loading-the-datasets--3\"><span class=\"toc-item-num\">3&nbsp;&nbsp;</span>Loading the datasets \n",
    "</a></span></li><li><span><a href=\"#Connecting-to-Comet-\" data-toc-modified-id=\"Connecting-to-Comet--4\"><span class=\"toc-item-num\">4&nbsp;&nbsp;</span>Connecting to Comet     \n",
    "</a></span></li><li><span><a href=\"#EDA\" data-toc-modified-id=\"EDA-5\"><span class=\"toc-item-num\">5&nbsp;&nbsp;</span>EDA</a></span><ul class=\"toc-item\"><li><span><a href=\"#Getting-initial-understanding-of-the-data\" data-toc-modified-id=\"Getting-initial-understanding-of-the-data-5.1\"><span class=\"toc-item-num\">5.1&nbsp;&nbsp;</span>Getting initial understanding of the data</a></span></li><li><span><a href=\"#Extracting-Insights-from-Mentions\" data-toc-modified-id=\"Extracting-Insights-from-Mentions-5.2\"><span class=\"toc-item-num\">5.2&nbsp;&nbsp;</span>Extracting Insights from Mentions</a></span></li><li><span><a href=\"#Extracting-Insights-from-Hashtags\" data-toc-modified-id=\"Extracting-Insights-from-Hashtags-5.3\"><span class=\"toc-item-num\">5.3&nbsp;&nbsp;</span>Extracting Insights from Hashtags</a></span></li><li><span><a href=\"#Extracting-Most-Frequent-Emojis\" data-toc-modified-id=\"Extracting-Most-Frequent-Emojis-5.4\"><span class=\"toc-item-num\">5.4&nbsp;&nbsp;</span>Extracting Most Frequent Emojis<span></span></li></ul></li><li><span>\n",
    "\n",
    "<a href=\"#Data Preprocessing-\" data-toc-modified-id=\"Data Preprocessing--6\"><span class=\"toc-item-num\">6&nbsp;&nbsp;</span>Data preprocessing </a></span></li><li><span><a href=\"#Modelling-\" data-toc-modified-id=\"Modelling--7\"><span class=\"toc-item-num\">7&nbsp;&nbsp;</span>Modelling </a></span><ul class=\"toc-item\"><li><span><a href=\"#Model 1\" data-toc-modified-id=\"Model-1\"><span class=\"toc-item-num\">7.1&nbsp;&nbsp;</span> Model 1</a></span></li><li><span><a href=\"#Model 2\" data-toc-modified-id=\"Model 2\"><span class=\"toc-item-num\">7.2&nbsp;&nbsp;</span>Model 2</a></span></li><li><span><a href=\"#Model 2:\" data-toc-modified-id=\"Model 3\"><span class=\"toc-item-num\">7.3&nbsp;&nbsp;</span>Model 3</a></span></li><li><span></a></span></li></ul></li><li><span><a href=\"#Model Comparison And Selection\" data-toc-modified-id=\"Model Comparison And Selection\"><span class=\"toc-item-num\">8&nbsp;&nbsp;</span>Model Comparison And Selection</a></span><ul class=\"toc-item\"><li><span>\n",
    " </a></span></li></ul></li><li><span>&nbsp;&nbsp;</a></span></li><li><span><a href=\"#Submission-\" data-toc-modified-id=\"Submission--8\"><span class=\"toc-item-num\">8&nbsp;&nbsp;</span>Submission </a></span></li><li><span><a href=\"#Pickling-the-file-\" data-toc-modified-id=\"Pickling-the-file--9\"><span class=\"toc-item-num\">9&nbsp;&nbsp;</span>Pickling the file </a></span></li><li><span><a href=\"#Conclusion-\" data-toc-modified-id=\"Conclusion--10\"><span class=\"toc-item-num\">10&nbsp;&nbsp;</span>Conclusion </a></span></li></ul></div>"
   ]
  },
  {
   "cell_type": "markdown",
   "id": "8fb95019",
   "metadata": {},
   "source": [
    "## 1 ) Introduction"
   ]
  },
  {
   "cell_type": "markdown",
   "id": "35588d49",
   "metadata": {},
   "source": [
    "###  1.1 ) Problem Statement"
   ]
  },
  {
   "cell_type": "markdown",
   "id": "b00aa74e",
   "metadata": {},
   "source": [
    "In today’s technology driven world, recommender systems are socially and economically critical for ensuring that individuals can make appropriate choices surrounding the content they engage with on a daily basis. One application where this is especially true surrounds movie content recommendations; where intelligent algorithms can help viewers find great titles from tens of thousands of options.\n",
    "\n",
    "The task then becomes to construct a recommendation algorithm based on content or collaborative filtering, capable of accurately predicting how a user will rate a movie they have not yet viewed based on their historical preferences.\n",
    "\n",
    "Providing an accurate and robust solution has immense economic potential, with users of the system being exposed to content they would like to view or purchase - generating revenue and platform affinity."
   ]
  },
  {
   "cell_type": "markdown",
   "id": "1e0fdce1",
   "metadata": {},
   "source": [
    "### 1.2 ) Project Objectives\n",
    "\n",
    "- To compare contest-based and collaborating filtering in\n",
    "\n",
    "- To obtain an optimum unsupervised machine learning model with  RSME lower than 0.85 on the complete test set"
   ]
  },
  {
   "cell_type": "markdown",
   "id": "1a3da31f",
   "metadata": {},
   "source": [
    "###  1.3 ) Data Overview"
   ]
  },
  {
   "cell_type": "markdown",
   "id": "9c87b3e3",
   "metadata": {},
   "source": [
    "This dataset consists of several million 5-star ratings obtained from users of the online MovieLens movie recommendation service. The MovieLens dataset has long been used by industry and academic researchers to improve the performance of explicitly-based recommender systems, and now you get to as well!\n",
    "\n",
    "For this Predict, we'll be using a special version of the MovieLens dataset which has enriched with additional data, and resampled for fair evaluation purposes."
   ]
  },
  {
   "cell_type": "markdown",
   "id": "12052cc5",
   "metadata": {},
   "source": [
    "## 2 ) Importing Libraries"
   ]
  },
  {
   "cell_type": "code",
   "execution_count": 5,
   "id": "cfdf4043",
   "metadata": {},
   "outputs": [],
   "source": [
    "# Install packages here\n",
    "# Packages for data processing\n",
    "import numpy as np\n",
    "import pandas as pd\n",
    "import datetime\n",
    "from sklearn import preprocessing\n",
    "from sklearn.datasets import make_blobs\n",
    "from sklearn.preprocessing import StandardScaler\n",
    "from sklearn.feature_extraction.text import TfidfVectorizer\n",
    "from sklearn.metrics.pairwise import cosine_similarity\n",
    "import re\n",
    "from scipy.sparse import csr_matrix\n",
    "import scipy as sp\n",
    "\n",
    "# Packages for visualization\n",
    "import matplotlib.pyplot as plt\n",
    "import seaborn as sns\n",
    "%matplotlib inline\n",
    "\n",
    "# Packages for modeling\n",
    "from surprise import Reader\n",
    "from surprise import Dataset\n",
    "from surprise import KNNWithMeans\n",
    "from surprise import KNNBasic\n",
    "from surprise.model_selection import cross_validate\n",
    "from surprise.model_selection import GridSearchCV\n",
    "from surprise import SVD\n",
    "from surprise import SVDpp\n",
    "from surprise import NMF\n",
    "from surprise import SlopeOne\n",
    "from surprise import CoClustering\n",
    "import heapq\n",
    "\n",
    "# Packages for model evaluation\n",
    "from sklearn.metrics import mean_squared_error\n",
    "from sklearn.metrics import mean_absolute_error\n",
    "from time import time\n",
    "\n",
    "# Package to suppress warnings\n",
    "import warnings\n",
    "warnings.filterwarnings(\"ignore\")\n",
    "\n",
    "# Packages for saving models\n",
    "import pickle\n",
    "\n",
    "# Others\n",
    "import os\n"
   ]
  },
  {
   "cell_type": "markdown",
   "id": "16f61f3d",
   "metadata": {},
   "source": [
    " ## 3 ) Loading the Dataset"
   ]
  },
  {
   "cell_type": "code",
   "execution_count": 35,
   "id": "e643feb3",
   "metadata": {},
   "outputs": [
    {
     "name": "stderr",
     "output_type": "stream",
     "text": [
      "b'Skipping line 7: expected 1 fields, saw 2\\nSkipping line 10: expected 1 fields, saw 4\\nSkipping line 21: expected 1 fields, saw 2\\nSkipping line 41: expected 1 fields, saw 2\\nSkipping line 54: expected 1 fields, saw 9\\nSkipping line 58: expected 1 fields, saw 2\\nSkipping line 59: expected 1 fields, saw 6\\nSkipping line 64: expected 1 fields, saw 2\\nSkipping line 65: expected 1 fields, saw 3\\nSkipping line 66: expected 1 fields, saw 2\\nSkipping line 67: expected 1 fields, saw 2\\nSkipping line 68: expected 1 fields, saw 2\\nSkipping line 89: expected 1 fields, saw 17\\nSkipping line 99: expected 1 fields, saw 2\\nSkipping line 100: expected 1 fields, saw 2\\nSkipping line 101: expected 1 fields, saw 2\\nSkipping line 102: expected 1 fields, saw 2\\nSkipping line 110: expected 1 fields, saw 2\\nSkipping line 118: expected 1 fields, saw 2\\nSkipping line 146: expected 1 fields, saw 2\\nSkipping line 147: expected 1 fields, saw 2\\nSkipping line 148: expected 1 fields, saw 2\\nSkipping line 149: expected 1 fields, saw 2\\nSkipping line 151: expected 1 fields, saw 2\\nSkipping line 152: expected 1 fields, saw 2\\nSkipping line 172: expected 1 fields, saw 1504\\nSkipping line 178: expected 1 fields, saw 2\\nSkipping line 179: expected 1 fields, saw 3\\nSkipping line 182: expected 1 fields, saw 2\\nSkipping line 184: expected 1 fields, saw 2\\nSkipping line 186: expected 1 fields, saw 5\\nSkipping line 187: expected 1 fields, saw 5\\nSkipping line 188: expected 1 fields, saw 2\\nSkipping line 190: expected 1 fields, saw 2\\nSkipping line 194: expected 1 fields, saw 2\\nSkipping line 195: expected 1 fields, saw 2\\nSkipping line 199: expected 1 fields, saw 2\\nSkipping line 202: expected 1 fields, saw 2\\nSkipping line 203: expected 1 fields, saw 2\\nSkipping line 204: expected 1 fields, saw 2\\nSkipping line 205: expected 1 fields, saw 2\\nSkipping line 209: expected 1 fields, saw 2\\nSkipping line 211: expected 1 fields, saw 2\\n'\n",
      "b'Skipping line 7: expected 1 fields, saw 2\\nSkipping line 10: expected 1 fields, saw 4\\nSkipping line 21: expected 1 fields, saw 2\\nSkipping line 41: expected 1 fields, saw 2\\nSkipping line 54: expected 1 fields, saw 9\\nSkipping line 58: expected 1 fields, saw 2\\nSkipping line 59: expected 1 fields, saw 6\\nSkipping line 64: expected 1 fields, saw 2\\nSkipping line 65: expected 1 fields, saw 3\\nSkipping line 66: expected 1 fields, saw 2\\nSkipping line 67: expected 1 fields, saw 2\\nSkipping line 68: expected 1 fields, saw 2\\nSkipping line 89: expected 1 fields, saw 17\\nSkipping line 99: expected 1 fields, saw 2\\nSkipping line 100: expected 1 fields, saw 2\\nSkipping line 101: expected 1 fields, saw 2\\nSkipping line 102: expected 1 fields, saw 2\\nSkipping line 110: expected 1 fields, saw 2\\nSkipping line 118: expected 1 fields, saw 2\\nSkipping line 146: expected 1 fields, saw 2\\nSkipping line 147: expected 1 fields, saw 2\\nSkipping line 148: expected 1 fields, saw 2\\nSkipping line 149: expected 1 fields, saw 2\\nSkipping line 151: expected 1 fields, saw 2\\nSkipping line 152: expected 1 fields, saw 2\\nSkipping line 172: expected 1 fields, saw 1504\\nSkipping line 178: expected 1 fields, saw 2\\nSkipping line 179: expected 1 fields, saw 3\\nSkipping line 182: expected 1 fields, saw 2\\nSkipping line 184: expected 1 fields, saw 2\\nSkipping line 186: expected 1 fields, saw 5\\nSkipping line 187: expected 1 fields, saw 5\\nSkipping line 188: expected 1 fields, saw 2\\nSkipping line 190: expected 1 fields, saw 2\\nSkipping line 194: expected 1 fields, saw 2\\nSkipping line 195: expected 1 fields, saw 2\\nSkipping line 199: expected 1 fields, saw 2\\nSkipping line 202: expected 1 fields, saw 2\\nSkipping line 203: expected 1 fields, saw 2\\nSkipping line 204: expected 1 fields, saw 2\\nSkipping line 205: expected 1 fields, saw 2\\nSkipping line 209: expected 1 fields, saw 2\\nSkipping line 211: expected 1 fields, saw 2\\n'\n",
      "b'Skipping line 7: expected 1 fields, saw 2\\nSkipping line 10: expected 1 fields, saw 4\\nSkipping line 21: expected 1 fields, saw 2\\nSkipping line 41: expected 1 fields, saw 2\\nSkipping line 54: expected 1 fields, saw 9\\nSkipping line 58: expected 1 fields, saw 2\\nSkipping line 59: expected 1 fields, saw 6\\nSkipping line 64: expected 1 fields, saw 2\\nSkipping line 65: expected 1 fields, saw 3\\nSkipping line 66: expected 1 fields, saw 2\\nSkipping line 67: expected 1 fields, saw 2\\nSkipping line 68: expected 1 fields, saw 2\\nSkipping line 89: expected 1 fields, saw 17\\nSkipping line 99: expected 1 fields, saw 2\\nSkipping line 100: expected 1 fields, saw 2\\nSkipping line 101: expected 1 fields, saw 2\\nSkipping line 102: expected 1 fields, saw 2\\nSkipping line 110: expected 1 fields, saw 2\\nSkipping line 118: expected 1 fields, saw 2\\nSkipping line 146: expected 1 fields, saw 2\\nSkipping line 147: expected 1 fields, saw 2\\nSkipping line 148: expected 1 fields, saw 2\\nSkipping line 149: expected 1 fields, saw 2\\nSkipping line 151: expected 1 fields, saw 2\\nSkipping line 152: expected 1 fields, saw 2\\nSkipping line 172: expected 1 fields, saw 1504\\nSkipping line 178: expected 1 fields, saw 2\\nSkipping line 179: expected 1 fields, saw 3\\nSkipping line 182: expected 1 fields, saw 2\\nSkipping line 184: expected 1 fields, saw 2\\nSkipping line 186: expected 1 fields, saw 5\\nSkipping line 187: expected 1 fields, saw 5\\nSkipping line 188: expected 1 fields, saw 2\\nSkipping line 190: expected 1 fields, saw 2\\nSkipping line 194: expected 1 fields, saw 2\\nSkipping line 195: expected 1 fields, saw 2\\nSkipping line 199: expected 1 fields, saw 2\\nSkipping line 202: expected 1 fields, saw 2\\nSkipping line 203: expected 1 fields, saw 2\\nSkipping line 204: expected 1 fields, saw 2\\nSkipping line 205: expected 1 fields, saw 2\\nSkipping line 209: expected 1 fields, saw 2\\nSkipping line 211: expected 1 fields, saw 2\\n'\n",
      "b'Skipping line 7: expected 1 fields, saw 2\\nSkipping line 10: expected 1 fields, saw 4\\nSkipping line 21: expected 1 fields, saw 2\\nSkipping line 41: expected 1 fields, saw 2\\nSkipping line 54: expected 1 fields, saw 9\\nSkipping line 58: expected 1 fields, saw 2\\nSkipping line 59: expected 1 fields, saw 6\\nSkipping line 64: expected 1 fields, saw 2\\nSkipping line 65: expected 1 fields, saw 3\\nSkipping line 66: expected 1 fields, saw 2\\nSkipping line 67: expected 1 fields, saw 2\\nSkipping line 68: expected 1 fields, saw 2\\nSkipping line 89: expected 1 fields, saw 17\\nSkipping line 99: expected 1 fields, saw 2\\nSkipping line 100: expected 1 fields, saw 2\\nSkipping line 101: expected 1 fields, saw 2\\nSkipping line 102: expected 1 fields, saw 2\\nSkipping line 110: expected 1 fields, saw 2\\nSkipping line 118: expected 1 fields, saw 2\\nSkipping line 146: expected 1 fields, saw 2\\nSkipping line 147: expected 1 fields, saw 2\\nSkipping line 148: expected 1 fields, saw 2\\nSkipping line 149: expected 1 fields, saw 2\\nSkipping line 151: expected 1 fields, saw 2\\nSkipping line 152: expected 1 fields, saw 2\\nSkipping line 172: expected 1 fields, saw 1504\\nSkipping line 178: expected 1 fields, saw 2\\nSkipping line 179: expected 1 fields, saw 3\\nSkipping line 182: expected 1 fields, saw 2\\nSkipping line 184: expected 1 fields, saw 2\\nSkipping line 186: expected 1 fields, saw 5\\nSkipping line 187: expected 1 fields, saw 5\\nSkipping line 188: expected 1 fields, saw 2\\nSkipping line 190: expected 1 fields, saw 2\\nSkipping line 194: expected 1 fields, saw 2\\nSkipping line 195: expected 1 fields, saw 2\\nSkipping line 199: expected 1 fields, saw 2\\nSkipping line 202: expected 1 fields, saw 2\\nSkipping line 203: expected 1 fields, saw 2\\nSkipping line 204: expected 1 fields, saw 2\\nSkipping line 205: expected 1 fields, saw 2\\nSkipping line 209: expected 1 fields, saw 2\\nSkipping line 211: expected 1 fields, saw 2\\n'\n",
      "b'Skipping line 7: expected 1 fields, saw 2\\nSkipping line 10: expected 1 fields, saw 4\\nSkipping line 21: expected 1 fields, saw 2\\nSkipping line 41: expected 1 fields, saw 2\\nSkipping line 54: expected 1 fields, saw 9\\nSkipping line 58: expected 1 fields, saw 2\\nSkipping line 59: expected 1 fields, saw 6\\nSkipping line 64: expected 1 fields, saw 2\\nSkipping line 65: expected 1 fields, saw 3\\nSkipping line 66: expected 1 fields, saw 2\\nSkipping line 67: expected 1 fields, saw 2\\nSkipping line 68: expected 1 fields, saw 2\\nSkipping line 89: expected 1 fields, saw 17\\nSkipping line 99: expected 1 fields, saw 2\\nSkipping line 100: expected 1 fields, saw 2\\nSkipping line 101: expected 1 fields, saw 2\\nSkipping line 102: expected 1 fields, saw 2\\nSkipping line 110: expected 1 fields, saw 2\\nSkipping line 118: expected 1 fields, saw 2\\nSkipping line 146: expected 1 fields, saw 2\\nSkipping line 147: expected 1 fields, saw 2\\nSkipping line 148: expected 1 fields, saw 2\\nSkipping line 149: expected 1 fields, saw 2\\nSkipping line 151: expected 1 fields, saw 2\\nSkipping line 152: expected 1 fields, saw 2\\nSkipping line 172: expected 1 fields, saw 1504\\nSkipping line 178: expected 1 fields, saw 2\\nSkipping line 179: expected 1 fields, saw 3\\nSkipping line 182: expected 1 fields, saw 2\\nSkipping line 184: expected 1 fields, saw 2\\nSkipping line 186: expected 1 fields, saw 5\\nSkipping line 187: expected 1 fields, saw 5\\nSkipping line 188: expected 1 fields, saw 2\\nSkipping line 190: expected 1 fields, saw 2\\nSkipping line 194: expected 1 fields, saw 2\\nSkipping line 195: expected 1 fields, saw 2\\nSkipping line 199: expected 1 fields, saw 2\\nSkipping line 202: expected 1 fields, saw 2\\nSkipping line 203: expected 1 fields, saw 2\\nSkipping line 204: expected 1 fields, saw 2\\nSkipping line 205: expected 1 fields, saw 2\\nSkipping line 209: expected 1 fields, saw 2\\nSkipping line 211: expected 1 fields, saw 2\\n'\n"
     ]
    },
    {
     "name": "stderr",
     "output_type": "stream",
     "text": [
      "b'Skipping line 7: expected 1 fields, saw 2\\nSkipping line 10: expected 1 fields, saw 4\\nSkipping line 21: expected 1 fields, saw 2\\nSkipping line 41: expected 1 fields, saw 2\\nSkipping line 54: expected 1 fields, saw 9\\nSkipping line 58: expected 1 fields, saw 2\\nSkipping line 59: expected 1 fields, saw 6\\nSkipping line 64: expected 1 fields, saw 2\\nSkipping line 65: expected 1 fields, saw 3\\nSkipping line 66: expected 1 fields, saw 2\\nSkipping line 67: expected 1 fields, saw 2\\nSkipping line 68: expected 1 fields, saw 2\\nSkipping line 89: expected 1 fields, saw 17\\nSkipping line 99: expected 1 fields, saw 2\\nSkipping line 100: expected 1 fields, saw 2\\nSkipping line 101: expected 1 fields, saw 2\\nSkipping line 102: expected 1 fields, saw 2\\nSkipping line 110: expected 1 fields, saw 2\\nSkipping line 118: expected 1 fields, saw 2\\nSkipping line 146: expected 1 fields, saw 2\\nSkipping line 147: expected 1 fields, saw 2\\nSkipping line 148: expected 1 fields, saw 2\\nSkipping line 149: expected 1 fields, saw 2\\nSkipping line 151: expected 1 fields, saw 2\\nSkipping line 152: expected 1 fields, saw 2\\nSkipping line 172: expected 1 fields, saw 1504\\nSkipping line 178: expected 1 fields, saw 2\\nSkipping line 179: expected 1 fields, saw 3\\nSkipping line 182: expected 1 fields, saw 2\\nSkipping line 184: expected 1 fields, saw 2\\nSkipping line 186: expected 1 fields, saw 5\\nSkipping line 187: expected 1 fields, saw 5\\nSkipping line 188: expected 1 fields, saw 2\\nSkipping line 190: expected 1 fields, saw 2\\nSkipping line 194: expected 1 fields, saw 2\\nSkipping line 195: expected 1 fields, saw 2\\nSkipping line 199: expected 1 fields, saw 2\\nSkipping line 202: expected 1 fields, saw 2\\nSkipping line 203: expected 1 fields, saw 2\\nSkipping line 204: expected 1 fields, saw 2\\nSkipping line 205: expected 1 fields, saw 2\\nSkipping line 209: expected 1 fields, saw 2\\nSkipping line 211: expected 1 fields, saw 2\\n'\n",
      "b'Skipping line 7: expected 1 fields, saw 2\\nSkipping line 10: expected 1 fields, saw 4\\nSkipping line 21: expected 1 fields, saw 2\\nSkipping line 41: expected 1 fields, saw 2\\nSkipping line 54: expected 1 fields, saw 9\\nSkipping line 58: expected 1 fields, saw 2\\nSkipping line 59: expected 1 fields, saw 6\\nSkipping line 64: expected 1 fields, saw 2\\nSkipping line 65: expected 1 fields, saw 3\\nSkipping line 66: expected 1 fields, saw 2\\nSkipping line 67: expected 1 fields, saw 2\\nSkipping line 68: expected 1 fields, saw 2\\nSkipping line 89: expected 1 fields, saw 17\\nSkipping line 99: expected 1 fields, saw 2\\nSkipping line 100: expected 1 fields, saw 2\\nSkipping line 101: expected 1 fields, saw 2\\nSkipping line 102: expected 1 fields, saw 2\\nSkipping line 110: expected 1 fields, saw 2\\nSkipping line 118: expected 1 fields, saw 2\\nSkipping line 146: expected 1 fields, saw 2\\nSkipping line 147: expected 1 fields, saw 2\\nSkipping line 148: expected 1 fields, saw 2\\nSkipping line 149: expected 1 fields, saw 2\\nSkipping line 151: expected 1 fields, saw 2\\nSkipping line 152: expected 1 fields, saw 2\\nSkipping line 172: expected 1 fields, saw 1504\\nSkipping line 178: expected 1 fields, saw 2\\nSkipping line 179: expected 1 fields, saw 3\\nSkipping line 182: expected 1 fields, saw 2\\nSkipping line 184: expected 1 fields, saw 2\\nSkipping line 186: expected 1 fields, saw 5\\nSkipping line 187: expected 1 fields, saw 5\\nSkipping line 188: expected 1 fields, saw 2\\nSkipping line 190: expected 1 fields, saw 2\\nSkipping line 194: expected 1 fields, saw 2\\nSkipping line 195: expected 1 fields, saw 2\\nSkipping line 199: expected 1 fields, saw 2\\nSkipping line 202: expected 1 fields, saw 2\\nSkipping line 203: expected 1 fields, saw 2\\nSkipping line 204: expected 1 fields, saw 2\\nSkipping line 205: expected 1 fields, saw 2\\nSkipping line 209: expected 1 fields, saw 2\\nSkipping line 211: expected 1 fields, saw 2\\n'\n",
      "b'Skipping line 7: expected 1 fields, saw 2\\nSkipping line 10: expected 1 fields, saw 4\\nSkipping line 21: expected 1 fields, saw 2\\nSkipping line 41: expected 1 fields, saw 2\\nSkipping line 54: expected 1 fields, saw 9\\nSkipping line 58: expected 1 fields, saw 2\\nSkipping line 59: expected 1 fields, saw 6\\nSkipping line 64: expected 1 fields, saw 2\\nSkipping line 65: expected 1 fields, saw 3\\nSkipping line 66: expected 1 fields, saw 2\\nSkipping line 67: expected 1 fields, saw 2\\nSkipping line 68: expected 1 fields, saw 2\\nSkipping line 89: expected 1 fields, saw 17\\nSkipping line 99: expected 1 fields, saw 2\\nSkipping line 100: expected 1 fields, saw 2\\nSkipping line 101: expected 1 fields, saw 2\\nSkipping line 102: expected 1 fields, saw 2\\nSkipping line 110: expected 1 fields, saw 2\\nSkipping line 118: expected 1 fields, saw 2\\nSkipping line 146: expected 1 fields, saw 2\\nSkipping line 147: expected 1 fields, saw 2\\nSkipping line 148: expected 1 fields, saw 2\\nSkipping line 149: expected 1 fields, saw 2\\nSkipping line 151: expected 1 fields, saw 2\\nSkipping line 152: expected 1 fields, saw 2\\nSkipping line 172: expected 1 fields, saw 1504\\nSkipping line 178: expected 1 fields, saw 2\\nSkipping line 179: expected 1 fields, saw 3\\nSkipping line 182: expected 1 fields, saw 2\\nSkipping line 184: expected 1 fields, saw 2\\nSkipping line 186: expected 1 fields, saw 5\\nSkipping line 187: expected 1 fields, saw 5\\nSkipping line 188: expected 1 fields, saw 2\\nSkipping line 190: expected 1 fields, saw 2\\nSkipping line 194: expected 1 fields, saw 2\\nSkipping line 195: expected 1 fields, saw 2\\nSkipping line 199: expected 1 fields, saw 2\\nSkipping line 202: expected 1 fields, saw 2\\nSkipping line 203: expected 1 fields, saw 2\\nSkipping line 204: expected 1 fields, saw 2\\nSkipping line 205: expected 1 fields, saw 2\\nSkipping line 209: expected 1 fields, saw 2\\nSkipping line 211: expected 1 fields, saw 2\\n'\n"
     ]
    }
   ],
   "source": [
    "\n",
    "\n",
    "df_movies = pd.read_csv('https://www.kaggle.com/exploredatascience/starter-notebook-guide/data?select=movies.csv',error_bad_lines=False)\n",
    "df_imdb = pd.read_csv('https://www.kaggle.com/exploredatascience/starter-notebook-guide/data?select=imdb_data.csv',error_bad_lines=False)\n",
    "df_genome_scores = pd.read_csv('https://www.kaggle.com/exploredatascience/starter-notebook-guide/data?select=genome_scores.csv',error_bad_lines=False)\n",
    "df_genome_tags = pd.read_csv('https://www.kaggle.com/exploredatascience/starter-notebook-guide/data?select=genome_tags.csv',error_bad_lines=False)\n",
    "\n",
    "df_train = pd.read_csv('https://www.kaggle.com/exploredatascience/starter-notebook-guide/data?select=train.csv',error_bad_lines=False)\n",
    "df_test = pd.read_csv('https://www.kaggle.com/exploredatascience/starter-notebook-guide/data?select=test.csv',error_bad_lines=False)\n",
    "df_tags = pd.read_csv('https://www.kaggle.com/exploredatascience/starter-notebook-guide/data?select=tags.csv',error_bad_lines=False)\n",
    "\n",
    "df_links = pd.read_csv('https://www.kaggle.com/exploredatascience/starter-notebook-guide/data?select=links.csv',error_bad_lines=False)\n",
    "\n",
    "#df_sample_submission = pd.read_csv('')\n"
   ]
  },
  {
   "cell_type": "markdown",
   "id": "5919b147",
   "metadata": {},
   "source": [
    "## 4 ) Connecting to Commit"
   ]
  },
  {
   "cell_type": "code",
   "execution_count": null,
   "id": "b17c65b0",
   "metadata": {},
   "outputs": [],
   "source": []
  },
  {
   "cell_type": "markdown",
   "id": "35e24a53",
   "metadata": {},
   "source": [
    "## 5 ) Explore Data Analyses (EDA)"
   ]
  },
  {
   "cell_type": "code",
   "execution_count": null,
   "id": "18d1f4d3",
   "metadata": {},
   "outputs": [],
   "source": []
  }
 ],
 "metadata": {
  "kernelspec": {
   "display_name": "Python 3",
   "language": "python",
   "name": "python3"
  },
  "language_info": {
   "codemirror_mode": {
    "name": "ipython",
    "version": 3
   },
   "file_extension": ".py",
   "mimetype": "text/x-python",
   "name": "python",
   "nbconvert_exporter": "python",
   "pygments_lexer": "ipython3",
   "version": "3.6.13"
  }
 },
 "nbformat": 4,
 "nbformat_minor": 5
}

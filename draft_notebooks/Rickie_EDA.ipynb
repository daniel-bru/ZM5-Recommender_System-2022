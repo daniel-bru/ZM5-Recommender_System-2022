{
 "cells": [
  {
   "cell_type": "markdown",
   "id": "4d10a370",
   "metadata": {},
   "source": [
    "### Due to limited processing power on local power please open the notebook in colab  by clicking the tab below\n"
   ]
  },
  {
   "cell_type": "code",
   "execution_count": null,
   "id": "9409a927",
   "metadata": {
    "collapsed": true
   },
   "outputs": [],
   "source": []
  },
  {
   "cell_type": "markdown",
   "id": "ac010e82",
   "metadata": {},
   "source": [
    " <h2 align=\"center\">EDSA Movie Recommendation Challenge</h2> \n",
    " \n"
   ]
  },
  {
   "cell_type": "markdown",
   "id": "945c8749",
   "metadata": {},
   "source": [
    " <h2 align=\"center\">Team ZM5</h2> "
   ]
  },
  {
   "cell_type": "markdown",
   "id": "7e674707",
   "metadata": {},
   "source": [
    "\n",
    "<div align=\"center\" style=\"width: 900px; font-size: 80%; text-align: center; margin: 0 auto\">\n",
    "<img src=\"https://www.googleapis.com/download/storage/v1/b/kaggle-user-content/o/inbox%2F2205222%2Fbca114f2e4f6b9b46f2cc76527d7401e%2FImage_header.png?generation=1593773828621598&alt=media\"\n",
    "     alt=\"Barnicles on your ship :( \"\n",
    "     style=\"float: center; padding-bottom=0.5em\"\n",
    "     width=900px/>\n",
    "\n",
    "</div>"
   ]
  },
  {
   "cell_type": "markdown",
   "id": "e1b3a8a8",
   "metadata": {},
   "source": [
    " <h2 align=\"center\">Jupyter Notebook Table Of Content</h2>  \n",
    "<div class=\"toc\"><ul class=\"toc-item\"><li><span><a href=\"#Introduction--\" data-toc-modified-id=\"Introduction---1\"><span class=\"toc-item-num\">1&nbsp;&nbsp;</span>Introduction  </a></span><ul class=\"toc-item\"><li><span><a href=\"#Problem-Statement\" data-toc-modified-id=\"Problem-Statement-1.1\"><span class=\"toc-item-num\">1.1&nbsp;&nbsp;</span>Problem Statement</a></span></li><li><span><a href=\"#Objectives\" data-toc-modified-id=\"Objectives-1.2\"><span class=\"toc-item-num\">1.2&nbsp;&nbsp;</span>Objectives</a></span></li><li><span><a href=\"#Data-overview\" data-toc-modified-id=\"Data-overview-1.3\"><span class=\"toc-item-num\">1.3&nbsp;&nbsp;</span>Data overview</a>\n",
    "    \n",
    "</span></li></ul></li><li><span><a href=\"#Importing-the-libraries-\" data-toc-modified-id=\"Importing-the-libraries--2\"><span class=\"toc-item-num\">2&nbsp;&nbsp;</span>Importing the libraries \n",
    "</a></span></li><li><span><a href=\"#Loading-the-datasets-\" data-toc-modified-id=\"Loading-the-datasets--3\"><span class=\"toc-item-num\">3&nbsp;&nbsp;</span>Loading the datasets \n",
    "</a></span></li><li><span><a href=\"#Connecting-to-Comet-\" data-toc-modified-id=\"Connecting-to-Comet--4\"><span class=\"toc-item-num\">4&nbsp;&nbsp;</span>Connecting to Comet     \n",
    "</a></span></li><li><span><a href=\"#EDA\" data-toc-modified-id=\"EDA-5\"><span class=\"toc-item-num\">5&nbsp;&nbsp;</span>EDA</a></span><ul class=\"toc-item\"><li><span><a href=\"#Getting-initial-understanding-of-the-data\" data-toc-modified-id=\"Getting-initial-understanding-of-the-data-5.1\"><span class=\"toc-item-num\">5.1&nbsp;&nbsp;</span>Getting initial understanding of the data</a></span></li><li><span><a href=\"#Extracting-Insights-from-Mentions\" data-toc-modified-id=\"Extracting-Insights-from-Mentions-5.2\"><span class=\"toc-item-num\">5.2&nbsp;&nbsp;</span>Extracting Insights from Mentions</a></span></li><li><span><a href=\"#Extracting-Insights-from-Hashtags\" data-toc-modified-id=\"Extracting-Insights-from-Hashtags-5.3\"><span class=\"toc-item-num\">5.3&nbsp;&nbsp;</span>Extracting Insights from Hashtags</a></span></li><li><span><a href=\"#Extracting-Most-Frequent-Emojis\" data-toc-modified-id=\"Extracting-Most-Frequent-Emojis-5.4\"><span class=\"toc-item-num\">5.4&nbsp;&nbsp;</span>Extracting Most Frequent Emojis<span></span></li></ul></li><li><span>\n",
    "\n",
    "<a href=\"#Data Preprocessing-\" data-toc-modified-id=\"Data Preprocessing--6\"><span class=\"toc-item-num\">6&nbsp;&nbsp;</span>Data preprocessing </a></span></li><li><span><a href=\"#Modelling-\" data-toc-modified-id=\"Modelling--7\"><span class=\"toc-item-num\">7&nbsp;&nbsp;</span>Modelling </a></span><ul class=\"toc-item\"><li><span><a href=\"#Model 1\" data-toc-modified-id=\"Model-1\"><span class=\"toc-item-num\">7.1&nbsp;&nbsp;</span> Model 1</a></span></li><li><span><a href=\"#Model 2\" data-toc-modified-id=\"Model 2\"><span class=\"toc-item-num\">7.2&nbsp;&nbsp;</span>Model 2</a></span></li><li><span><a href=\"#Model 2:\" data-toc-modified-id=\"Model 3\"><span class=\"toc-item-num\">7.3&nbsp;&nbsp;</span>Model 3</a></span></li><li><span></a></span></li></ul></li><li><span><a href=\"#Model Comparison And Selection\" data-toc-modified-id=\"Model Comparison And Selection\"><span class=\"toc-item-num\">8&nbsp;&nbsp;</span>Model Comparison And Selection</a></span><ul class=\"toc-item\"><li><span>\n",
    " </a></span></li></ul></li><li><span>&nbsp;&nbsp;</a></span></li><li><span><a href=\"#Submission-\" data-toc-modified-id=\"Submission--8\"><span class=\"toc-item-num\">8&nbsp;&nbsp;</span>Submission </a></span></li><li><span><a href=\"#Pickling-the-file-\" data-toc-modified-id=\"Pickling-the-file--9\"><span class=\"toc-item-num\">9&nbsp;&nbsp;</span>Pickling the file </a></span></li><li><span><a href=\"#Conclusion-\" data-toc-modified-id=\"Conclusion--10\"><span class=\"toc-item-num\">10&nbsp;&nbsp;</span>Conclusion </a></span></li></ul></div>"
   ]
  },
  {
   "cell_type": "markdown",
   "id": "8fb95019",
   "metadata": {},
   "source": [
    "## 1 ) Introduction"
   ]
  },
  {
   "cell_type": "markdown",
   "id": "35588d49",
   "metadata": {},
   "source": [
    "###  1.1 ) Problem Statement"
   ]
  },
  {
   "cell_type": "markdown",
   "id": "b00aa74e",
   "metadata": {},
   "source": [
    "In today’s technology driven world, recommender systems are socially and economically critical for ensuring that individuals can make appropriate choices surrounding the content they engage with on a daily basis. One application where this is especially true surrounds movie content recommendations; where intelligent algorithms can help viewers find great titles from tens of thousands of options.\n",
    "\n",
    "The task then becomes to construct a recommendation algorithm based on content or collaborative filtering, capable of accurately predicting how a user will rate a movie they have not yet viewed based on their historical preferences.\n",
    "\n",
    "Providing an accurate and robust solution has immense economic potential, with users of the system being exposed to content they would like to view or purchase - generating revenue and platform affinity."
   ]
  },
  {
   "cell_type": "markdown",
   "id": "1e0fdce1",
   "metadata": {},
   "source": [
    "### 1.2 ) Project Objectives\n",
    "\n",
    "- To compare contest-based and collaborating filtering in\n",
    "\n",
    "- To obtain an optimum unsupervised machine learning model with  RSME lower than 0.85 on the complete test set"
   ]
  },
  {
   "cell_type": "markdown",
   "id": "1a3da31f",
   "metadata": {},
   "source": [
    "###  1.3 ) Data Overview"
   ]
  },
  {
   "cell_type": "markdown",
   "id": "024deac7",
   "metadata": {},
   "source": [
    "This dataset consists of several million 5-star ratings obtained from users of the online MovieLens movie recommendation service. The MovieLens dataset has long been used by industry and academic researchers to improve the performance of explicitly-based recommender systems, and now you get to as well!\n",
    "\n",
    "For this Predict, we'll be using a special version of the MovieLens dataset which has enriched with additional data, and resampled for fair evaluation purposes."
   ]
  },
  {
   "cell_type": "markdown",
   "id": "c6fff584",
   "metadata": {},
   "source": [
    "## 2 ) Importing Libraries"
   ]
  },
  {
   "cell_type": "code",
   "execution_count": 13,
   "id": "empirical-straight",
   "metadata": {},
   "outputs": [
    {
     "name": "stdout",
     "output_type": "stream",
     "text": [
      "^C\n"
     ]
    }
   ],
   "source": [
    "#!pip install wget\n",
    "!conda install -c conda-forge scikit-surprise"
   ]
  },
  {
   "cell_type": "code",
   "execution_count": 12,
   "id": "cfdf4043",
   "metadata": {},
   "outputs": [
    {
     "ename": "ModuleNotFoundError",
     "evalue": "No module named 'surprise'",
     "output_type": "error",
     "traceback": [
      "\u001b[1;31m---------------------------------------------------------------------------\u001b[0m",
      "\u001b[1;31mModuleNotFoundError\u001b[0m                       Traceback (most recent call last)",
      "\u001b[1;32m<ipython-input-12-f3fa29d74798>\u001b[0m in \u001b[0;36m<module>\u001b[1;34m\u001b[0m\n\u001b[0;32m     19\u001b[0m \u001b[1;33m\u001b[0m\u001b[0m\n\u001b[0;32m     20\u001b[0m \u001b[1;31m# Packages for modeling\u001b[0m\u001b[1;33m\u001b[0m\u001b[1;33m\u001b[0m\u001b[1;33m\u001b[0m\u001b[0m\n\u001b[1;32m---> 21\u001b[1;33m \u001b[1;32mfrom\u001b[0m \u001b[0msurprise\u001b[0m \u001b[1;32mimport\u001b[0m \u001b[0mReader\u001b[0m\u001b[1;33m\u001b[0m\u001b[1;33m\u001b[0m\u001b[0m\n\u001b[0m\u001b[0;32m     22\u001b[0m \u001b[1;32mfrom\u001b[0m \u001b[0msurprise\u001b[0m \u001b[1;32mimport\u001b[0m \u001b[0mDataset\u001b[0m\u001b[1;33m\u001b[0m\u001b[1;33m\u001b[0m\u001b[0m\n\u001b[0;32m     23\u001b[0m \u001b[1;32mfrom\u001b[0m \u001b[0msurprise\u001b[0m \u001b[1;32mimport\u001b[0m \u001b[0mKNNWithMeans\u001b[0m\u001b[1;33m\u001b[0m\u001b[1;33m\u001b[0m\u001b[0m\n",
      "\u001b[1;31mModuleNotFoundError\u001b[0m: No module named 'surprise'"
     ]
    }
   ],
   "source": [
    "# Install packages here\n",
    "# Packages for data processing\n",
    "import numpy as np\n",
    "import pandas as pd\n",
    "import datetime\n",
    "from sklearn import preprocessing\n",
    "from sklearn.datasets import make_blobs\n",
    "from sklearn.preprocessing import StandardScaler\n",
    "from sklearn.feature_extraction.text import TfidfVectorizer\n",
    "from sklearn.metrics.pairwise import cosine_similarity\n",
    "import re\n",
    "from scipy.sparse import csr_matrix\n",
    "import scipy as sp\n",
    "\n",
    "# Packages for visualization\n",
    "import matplotlib.pyplot as plt\n",
    "import seaborn as sns\n",
    "%matplotlib inline\n",
    "\n",
    "# Packages for modeling\n",
    "from surprise import Reader\n",
    "from surprise import Dataset\n",
    "from surprise import KNNWithMeans\n",
    "from surprise import KNNBasic\n",
    "from surprise.model_selection import cross_validate\n",
    "from surprise.model_selection import GridSearchCV\n",
    "from surprise import SVD\n",
    "from surprise import SVDpp\n",
    "from surprise import NMF\n",
    "from surprise import SlopeOne\n",
    "from surprise import CoClustering\n",
    "import heapq\n",
    "\n",
    "# Packages for model evaluation\n",
    "from sklearn.metrics import mean_squared_error\n",
    "from sklearn.metrics import mean_absolute_error\n",
    "from time import time\n",
    "\n",
    "# Package to suppress warnings\n",
    "import warnings\n",
    "warnings.filterwarnings(\"ignore\")\n",
    "\n",
    "# Packages for saving models\n",
    "import pickle\n",
    "\n",
    "# Others\n",
    "import os\n"
   ]
  },
  {
   "cell_type": "markdown",
   "id": "6f7e1e01",
   "metadata": {},
   "source": [
    " ## 3 ) Loading the Dataset"
   ]
  },
  {
   "cell_type": "code",
   "execution_count": 52,
   "id": "b1ac31bc",
   "metadata": {},
   "outputs": [],
   "source": [
    "\n",
    "\n",
    "df_movies = pd.read_csv('https://www.kaggle.com/exploredatascience/starter-notebook-guide/data?select=movies.csv',sep='\\t')\n",
    "#df_imdb = pd.read_csv('https://www.kaggle.com/exploredatascience/starter-notebook-guide/data?select=imdb_data.csv',error_bad_lines=False)\n",
    "#df_genome_scores = pd.read_csv('https://www.kaggle.com/exploredatascience/starter-notebook-guide/data?select=genome_scores.csv',error_bad_lines=False)\n",
    "#df_genome_tags = pd.read_csv('https://www.kaggle.com/exploredatascience/starter-notebook-guide/data?select=genome_tags.csv',error_bad_lines=False)\n",
    "\n",
    "#df_train = pd.read_csv('https://www.kaggle.com/exploredatascience/starter-notebook-guide/data?select=train.csv',error_bad_lines=False)\n",
    "#df_test = pd.read_csv('https://www.kaggle.com/exploredatascience/starter-notebook-guide/data?select=test.csv',error_bad_lines=False)\n",
    "#df_tags = pd.read_csv('https://www.kaggle.com/exploredatascience/starter-notebook-guide/data?select=tags.csv',error_bad_lines=False)\n",
    "\n",
    "#df_links = pd.read_csv('https://www.kaggle.com/exploredatascience/starter-notebook-guide/data?select=links.csv',error_bad_lines=False)\n",
    "\n",
    "#df_sample_submission = pd.read_csv('https://www.kaggle.com/exploredatascience/starter-notebook-guide/data?select=sample_submission.csv',error_bad_lines=False)\n"
   ]
  },
  {
   "cell_type": "code",
   "execution_count": 7,
   "id": "vocational-minutes",
   "metadata": {},
   "outputs": [
    {
     "ename": "NameError",
     "evalue": "name 'pd' is not defined",
     "output_type": "error",
     "traceback": [
      "\u001b[1;31m---------------------------------------------------------------------------\u001b[0m",
      "\u001b[1;31mNameError\u001b[0m                                 Traceback (most recent call last)",
      "\u001b[1;32m<ipython-input-7-5d1e1e9027ce>\u001b[0m in \u001b[0;36m<module>\u001b[1;34m\u001b[0m\n\u001b[0;32m      3\u001b[0m \u001b[1;33m\u001b[0m\u001b[0m\n\u001b[0;32m      4\u001b[0m \u001b[0mmovies\u001b[0m\u001b[1;33m=\u001b[0m\u001b[0mwget\u001b[0m\u001b[1;33m.\u001b[0m\u001b[0mdownload\u001b[0m\u001b[1;33m(\u001b[0m\u001b[1;34m'https://www.kaggle.com/exploredatascience/starter-notebook-guide/data?select=movies.csv'\u001b[0m\u001b[1;33m)\u001b[0m\u001b[1;33m\u001b[0m\u001b[1;33m\u001b[0m\u001b[0m\n\u001b[1;32m----> 5\u001b[1;33m \u001b[0mdf_movies\u001b[0m\u001b[1;33m=\u001b[0m\u001b[0mpd\u001b[0m\u001b[1;33m.\u001b[0m\u001b[0mread_csv\u001b[0m\u001b[1;33m(\u001b[0m\u001b[0mmovies\u001b[0m\u001b[1;33m)\u001b[0m\u001b[1;33m\u001b[0m\u001b[1;33m\u001b[0m\u001b[0m\n\u001b[0m",
      "\u001b[1;31mNameError\u001b[0m: name 'pd' is not defined"
     ]
    }
   ],
   "source": [
    "import wget\n",
    "\n",
    "\n",
    "movies=wget.download('https://www.kaggle.com/exploredatascience/starter-notebook-guide/data?select=movies.csv')\n",
    "df_movies=pd.read_csv(movies)"
   ]
  },
  {
   "cell_type": "markdown",
   "id": "4de4ab0b",
   "metadata": {},
   "source": [
    "## 4 ) Connecting to Commit"
   ]
  },
  {
   "cell_type": "code",
   "execution_count": 14,
   "id": "c1dd8285",
   "metadata": {},
   "outputs": [
    {
     "ename": "FileNotFoundError",
     "evalue": "[Errno 2] No such file or directory: 'my_python_files.zip'",
     "output_type": "error",
     "traceback": [
      "\u001b[1;31m---------------------------------------------------------------------------\u001b[0m",
      "\u001b[1;31mFileNotFoundError\u001b[0m                         Traceback (most recent call last)",
      "\u001b[1;32m<ipython-input-14-67268b03a051>\u001b[0m in \u001b[0;36m<module>\u001b[1;34m\u001b[0m\n\u001b[0;32m      6\u001b[0m \u001b[1;33m\u001b[0m\u001b[0m\n\u001b[0;32m      7\u001b[0m \u001b[1;31m# opening the zip file in READ mode\u001b[0m\u001b[1;33m\u001b[0m\u001b[1;33m\u001b[0m\u001b[1;33m\u001b[0m\u001b[0m\n\u001b[1;32m----> 8\u001b[1;33m \u001b[1;32mwith\u001b[0m \u001b[0mZipFile\u001b[0m\u001b[1;33m(\u001b[0m\u001b[0mfile_name\u001b[0m\u001b[1;33m,\u001b[0m \u001b[1;34m'r'\u001b[0m\u001b[1;33m)\u001b[0m \u001b[1;32mas\u001b[0m \u001b[0mzip\u001b[0m\u001b[1;33m:\u001b[0m\u001b[1;33m\u001b[0m\u001b[1;33m\u001b[0m\u001b[0m\n\u001b[0m\u001b[0;32m      9\u001b[0m     \u001b[1;31m# printing all the contents of the zip file\u001b[0m\u001b[1;33m\u001b[0m\u001b[1;33m\u001b[0m\u001b[1;33m\u001b[0m\u001b[0m\n\u001b[0;32m     10\u001b[0m     \u001b[0mzip\u001b[0m\u001b[1;33m.\u001b[0m\u001b[0mprintdir\u001b[0m\u001b[1;33m(\u001b[0m\u001b[1;33m)\u001b[0m\u001b[1;33m\u001b[0m\u001b[1;33m\u001b[0m\u001b[0m\n",
      "\u001b[1;32mC:\\ProgramData\\Anaconda3\\envs\\pandas\\lib\\zipfile.py\u001b[0m in \u001b[0;36m__init__\u001b[1;34m(self, file, mode, compression, allowZip64)\u001b[0m\n\u001b[0;32m   1111\u001b[0m             \u001b[1;32mwhile\u001b[0m \u001b[1;32mTrue\u001b[0m\u001b[1;33m:\u001b[0m\u001b[1;33m\u001b[0m\u001b[1;33m\u001b[0m\u001b[0m\n\u001b[0;32m   1112\u001b[0m                 \u001b[1;32mtry\u001b[0m\u001b[1;33m:\u001b[0m\u001b[1;33m\u001b[0m\u001b[1;33m\u001b[0m\u001b[0m\n\u001b[1;32m-> 1113\u001b[1;33m                     \u001b[0mself\u001b[0m\u001b[1;33m.\u001b[0m\u001b[0mfp\u001b[0m \u001b[1;33m=\u001b[0m \u001b[0mio\u001b[0m\u001b[1;33m.\u001b[0m\u001b[0mopen\u001b[0m\u001b[1;33m(\u001b[0m\u001b[0mfile\u001b[0m\u001b[1;33m,\u001b[0m \u001b[0mfilemode\u001b[0m\u001b[1;33m)\u001b[0m\u001b[1;33m\u001b[0m\u001b[1;33m\u001b[0m\u001b[0m\n\u001b[0m\u001b[0;32m   1114\u001b[0m                 \u001b[1;32mexcept\u001b[0m \u001b[0mOSError\u001b[0m\u001b[1;33m:\u001b[0m\u001b[1;33m\u001b[0m\u001b[1;33m\u001b[0m\u001b[0m\n\u001b[0;32m   1115\u001b[0m                     \u001b[1;32mif\u001b[0m \u001b[0mfilemode\u001b[0m \u001b[1;32min\u001b[0m \u001b[0mmodeDict\u001b[0m\u001b[1;33m:\u001b[0m\u001b[1;33m\u001b[0m\u001b[1;33m\u001b[0m\u001b[0m\n",
      "\u001b[1;31mFileNotFoundError\u001b[0m: [Errno 2] No such file or directory: 'my_python_files.zip'"
     ]
    }
   ],
   "source": [
    "# importing required modules\n",
    "from zipfile import ZipFile\n",
    "  \n",
    "# specifying the zip file name\n",
    "file_name = \"my_python_files.zip\"\n",
    "  \n",
    "# opening the zip file in READ mode\n",
    "with ZipFile(file_name, 'r') as zip:\n",
    "    # printing all the contents of the zip file\n",
    "    zip.printdir()\n",
    "  \n",
    "    # extracting all the files\n",
    "    print('Extracting all the files now...')\n",
    "    zip.extractall()\n",
    "    print('Done!')"
   ]
  },
  {
   "cell_type": "markdown",
   "id": "75686dbd",
   "metadata": {},
   "source": [
    "## 5 ) Explore Data Analyses (EDA)"
   ]
  },
  {
   "cell_type": "code",
   "execution_count": 56,
   "id": "f92ef7f8",
   "metadata": {},
   "outputs": [
    {
     "data": {
      "text/html": [
       "<div>\n",
       "<style scoped>\n",
       "    .dataframe tbody tr th:only-of-type {\n",
       "        vertical-align: middle;\n",
       "    }\n",
       "\n",
       "    .dataframe tbody tr th {\n",
       "        vertical-align: top;\n",
       "    }\n",
       "\n",
       "    .dataframe thead th {\n",
       "        text-align: right;\n",
       "    }\n",
       "</style>\n",
       "<table border=\"1\" class=\"dataframe\">\n",
       "  <thead>\n",
       "    <tr style=\"text-align: right;\">\n",
       "      <th></th>\n",
       "      <th>&lt;!DOCTYPE html&gt;</th>\n",
       "    </tr>\n",
       "  </thead>\n",
       "  <tbody>\n",
       "    <tr>\n",
       "      <th>0</th>\n",
       "      <td>&lt;html lang=\"en\"&gt;</td>\n",
       "    </tr>\n",
       "    <tr>\n",
       "      <th>1</th>\n",
       "      <td>&lt;head&gt;</td>\n",
       "    </tr>\n",
       "    <tr>\n",
       "      <th>2</th>\n",
       "      <td>&lt;title&gt;Starter Notebook Guide | Kaggle&lt;/title&gt;</td>\n",
       "    </tr>\n",
       "    <tr>\n",
       "      <th>3</th>\n",
       "      <td>&lt;meta charset=\"utf-8\" /&gt;</td>\n",
       "    </tr>\n",
       "    <tr>\n",
       "      <th>4</th>\n",
       "      <td>&lt;meta name=\"robots\" content=\"index, follow\" /&gt;</td>\n",
       "    </tr>\n",
       "    <tr>\n",
       "      <th>...</th>\n",
       "      <td>...</td>\n",
       "    </tr>\n",
       "    <tr>\n",
       "      <th>167</th>\n",
       "      <td>&lt;/script&gt;</td>\n",
       "    </tr>\n",
       "    <tr>\n",
       "      <th>168</th>\n",
       "      <td>&lt;/div&gt;</td>\n",
       "    </tr>\n",
       "    <tr>\n",
       "      <th>169</th>\n",
       "      <td>&lt;/main&gt;</td>\n",
       "    </tr>\n",
       "    <tr>\n",
       "      <th>170</th>\n",
       "      <td>&lt;/body&gt;</td>\n",
       "    </tr>\n",
       "    <tr>\n",
       "      <th>171</th>\n",
       "      <td>&lt;/html&gt;</td>\n",
       "    </tr>\n",
       "  </tbody>\n",
       "</table>\n",
       "<p>172 rows × 1 columns</p>\n",
       "</div>"
      ],
      "text/plain": [
       "                                      <!DOCTYPE html>\n",
       "0                                    <html lang=\"en\">\n",
       "1                                              <head>\n",
       "2      <title>Starter Notebook Guide | Kaggle</title>\n",
       "3                            <meta charset=\"utf-8\" />\n",
       "4      <meta name=\"robots\" content=\"index, follow\" />\n",
       "..                                                ...\n",
       "167                                         </script>\n",
       "168                                            </div>\n",
       "169                                           </main>\n",
       "170                                           </body>\n",
       "171                                           </html>\n",
       "\n",
       "[172 rows x 1 columns]"
      ]
     },
     "execution_count": 56,
     "metadata": {},
     "output_type": "execute_result"
    }
   ],
   "source": [
    "pd.set_option(\"display.max.column\", None)\n",
    "\n",
    "df_movies"
   ]
  },
  {
   "cell_type": "code",
   "execution_count": null,
   "id": "069049c4",
   "metadata": {},
   "outputs": [],
   "source": [
    "https://www.kaggle.com/c/edsa-movie-recommendation-challenge/data?select=movies.csv"
   ]
  },
  {
   "cell_type": "code",
   "execution_count": 3,
   "id": "coastal-capability",
   "metadata": {},
   "outputs": [
    {
     "name": "stdout",
     "output_type": "stream",
     "text": [
      "Beginning file download with wget module\n"
     ]
    }
   ],
   "source": []
  },
  {
   "cell_type": "code",
   "execution_count": null,
   "id": "compatible-canadian",
   "metadata": {},
   "outputs": [],
   "source": []
  }
 ],
 "metadata": {
  "kernelspec": {
   "display_name": "Python 3",
   "language": "python",
   "name": "python3"
  },
  "language_info": {
   "codemirror_mode": {
    "name": "ipython",
    "version": 3
   },
   "file_extension": ".py",
   "mimetype": "text/x-python",
   "name": "python",
   "nbconvert_exporter": "python",
   "pygments_lexer": "ipython3",
   "version": "3.6.12"
  }
 },
 "nbformat": 4,
 "nbformat_minor": 5
}

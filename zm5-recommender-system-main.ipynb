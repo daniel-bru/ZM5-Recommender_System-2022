{
 "cells": [
  {
   "cell_type": "markdown",
   "metadata": {
    "gradient": {
     "editing": false
    },
    "id": "y9Bg4XjvjKxG"
   },
   "source": [
    "### TEAM ZM5\n",
    "\n",
    "# EDSA MOVIE RECOMMENDATION CHALLENGE "
   ]
  },
  {
   "cell_type": "markdown",
   "metadata": {
    "gradient": {
     "editing": false
    },
    "id": "_oWYY8ihjKxH"
   },
   "source": [
    "### Installing packages\n",
    "Please download all relevant packages in. There is no terminal so you will need to pip install everything."
   ]
  },
  {
   "cell_type": "code",
   "execution_count": null,
   "metadata": {
    "gradient": {
     "editing": false
    },
    "id": "Tx223iVkjPVS",
    "outputId": "b408e89f-f72e-47e2-d12c-7f313dd4dc02"
   },
   "outputs": [],
   "source": [
    "#!wget 'https://storage.googleapis.com/kaggle-competitions-data/kaggle-v2/27685/2229266/bundle/archive.zip?GoogleAccessId=web-data@kaggle-161607.iam.gserviceaccount.com&Expires=1626387714&Signature=KygcspWYq74MDW0sfdmsG%2BKzbIVu7bAXbXSgGzeRSkW1y50gc6YBYMtbWZMOlxFxGTB4M8pHrDatrNrM7K1O7uBHHp6x1h3QEEHSnSa1X4tTYBy%2BiExhUNlV5Ez1E9Df5zYELJM1iOOtpnqWBcsndQN3mGXbpPgN4a9DBmihapuzgRXhixTX8Y3qyY9KJkoi99azSOVvQEj4S57R2KpqKOozaJUNNLSuV9z6KOoE0qzUq3%2FA5vvKE7uN7sG%2B5mmkmqAShUwzuurKBMGlty0%2FCCs8Yalhbfbto2PI4Yr%2BZJgpjxueDILjj1n1zcfeAQ083InWmYWZdd3Jbgyp4fIy0w%3D%3D&response-content-disposition=attachment%3B+filename%3Dedsa-movie-recommendation-challenge.zip'"
   ]
  },
  {
   "cell_type": "code",
   "execution_count": null,
   "metadata": {
    "gradient": {
     "editing": false
    },
    "id": "KU1KjlyDjV3s",
    "outputId": "2850692c-1ee6-4eec-e85c-1be3a753ae1c"
   },
   "outputs": [],
   "source": [
    "#!unzip 'archive.zip?GoogleAccessId=web-data@kaggle-161607.iam.gserviceaccount.com&Expires=1626387714&Signature=KygcspWYq74MDW0sfdmsG+KzbIVu7bAXbXSgGzeRSkW1y50gc6YBYMtbWZMOlxFxGTB4M8pHrDatrNrM7K1O7uBHHp6x1h3QEEHSnSa1X4tTYBy+iExhUNlV5Ez1E9Df5zYEL'"
   ]
  },
  {
   "cell_type": "code",
   "execution_count": null,
   "metadata": {
    "gradient": {
     "editing": false
    },
    "id": "nbaVdXOxKc13",
    "outputId": "15127e0f-a194-4699-b01e-a297496f7be2"
   },
   "outputs": [],
   "source": [
    "#!pip install LibRecommender\n",
    "#!pip install surprise\n",
    "#!pip install comet_ml\n",
    "#!pip install seaborn"
   ]
  },
  {
   "cell_type": "markdown",
   "metadata": {
    "gradient": {
     "editing": false
    },
    "id": "YxYt1RtwjKxI"
   },
   "source": [
    "### Imports"
   ]
  },
  {
   "cell_type": "code",
   "execution_count": 1,
   "metadata": {
    "execution": {
     "iopub.execute_input": "2021-07-12T22:02:23.190713Z",
     "iopub.status.busy": "2021-07-12T22:02:23.190125Z",
     "iopub.status.idle": "2021-07-12T22:02:23.520224Z",
     "shell.execute_reply": "2021-07-12T22:02:23.518940Z",
     "shell.execute_reply.started": "2021-07-12T22:02:23.190584Z"
    },
    "gradient": {
     "editing": false
    },
    "id": "HYWRCCuQ6C7x"
   },
   "outputs": [],
   "source": [
    "import comet_ml"
   ]
  },
  {
   "cell_type": "code",
   "execution_count": 2,
   "metadata": {
    "execution": {
     "iopub.execute_input": "2021-07-12T22:02:23.522179Z",
     "iopub.status.busy": "2021-07-12T22:02:23.521846Z",
     "iopub.status.idle": "2021-07-12T22:02:23.526409Z",
     "shell.execute_reply": "2021-07-12T22:02:23.525071Z",
     "shell.execute_reply.started": "2021-07-12T22:02:23.522148Z"
    },
    "gradient": {
     "editing": false
    },
    "id": "77cGEgEYjKxI"
   },
   "outputs": [],
   "source": [
    "# First import comet_ml at the top of your file\n",
    "from comet_ml import Experiment"
   ]
  },
  {
   "cell_type": "code",
   "execution_count": 3,
   "metadata": {
    "execution": {
     "iopub.execute_input": "2021-07-12T22:02:23.656114Z",
     "iopub.status.busy": "2021-07-12T22:02:23.655645Z",
     "iopub.status.idle": "2021-07-12T22:02:29.835720Z",
     "shell.execute_reply": "2021-07-12T22:02:29.834818Z",
     "shell.execute_reply.started": "2021-07-12T22:02:23.656079Z"
    },
    "gradient": {
     "editing": false
    },
    "id": "yYErFeM2jKxJ",
    "outputId": "dac0dad4-461b-4274-90ca-43967aa1f550"
   },
   "outputs": [
    {
     "name": "stderr",
     "output_type": "stream",
     "text": [
      "COMET WARNING: As you are running in a Jupyter environment, you will need to call `experiment.end()` when finished to ensure all metrics and code are logged before exiting.\n",
      "COMET INFO: Experiment is live on comet.ml https://www.comet.ml/daniel-bru/movie-reccomender-edsa/9abeba71f2c648d6b786ccb76f4b0f0e\n",
      "\n"
     ]
    }
   ],
   "source": [
    "# Create an experiment with your api key for version control\n",
    "experiment = Experiment(\n",
    "    api_key=\"amGQj1TC3Wyk9LYf7bD9xNV6G\",\n",
    "    project_name=\"movie-reccomender-edsa\",\n",
    "    workspace=\"daniel-bru\",\n",
    ")"
   ]
  },
  {
   "cell_type": "code",
   "execution_count": 1,
   "metadata": {
    "execution": {
     "iopub.execute_input": "2021-07-12T22:02:29.837563Z",
     "iopub.status.busy": "2021-07-12T22:02:29.837079Z",
     "iopub.status.idle": "2021-07-12T22:02:37.758554Z",
     "shell.execute_reply": "2021-07-12T22:02:37.757557Z",
     "shell.execute_reply.started": "2021-07-12T22:02:29.837528Z"
    },
    "gradient": {},
    "id": "Yk6ypS-4jKxK",
    "outputId": "fcc65141-7eb0-4680-b804-72765a6d8b0c"
   },
   "outputs": [
    {
     "name": "stdout",
     "output_type": "stream",
     "text": [
      "WARNING:tensorflow:From /usr/local/lib/python3.6/dist-packages/tensorflow/python/compat/v2_compat.py:96: disable_resource_variables (from tensorflow.python.ops.variable_scope) is deprecated and will be removed in a future version.\n",
      "Instructions for updating:\n",
      "non-resource variables are not supported in the long term\n"
     ]
    }
   ],
   "source": [
    "# Install packages here\n",
    "# Packages for data processing\n",
    "import numpy as np\n",
    "import pandas as pd\n",
    "import datetime\n",
    "from sklearn import preprocessing\n",
    "from sklearn.datasets import make_blobs\n",
    "from sklearn.preprocessing import StandardScaler\n",
    "from sklearn.feature_extraction.text import TfidfVectorizer\n",
    "from sklearn.metrics.pairwise import cosine_similarity\n",
    "import re\n",
    "from scipy.sparse import csr_matrix\n",
    "import scipy as sp\n",
    "\n",
    "# Packages for visualization\n",
    "import matplotlib.pyplot as plt\n",
    "import seaborn as sns\n",
    "%matplotlib inline\n",
    "\n",
    "# Packages for modeling\n",
    "from surprise import Reader\n",
    "from surprise import Dataset\n",
    "from surprise import KNNWithMeans\n",
    "from surprise import KNNBasic\n",
    "from surprise.model_selection import cross_validate\n",
    "from surprise.model_selection import GridSearchCV\n",
    "from surprise import SVD\n",
    "from surprise import accuracy\n",
    "from surprise.model_selection import train_test_split\n",
    "from surprise import NMF\n",
    "from surprise import SlopeOne\n",
    "from surprise import CoClustering\n",
    "import heapq\n",
    "\n",
    "from libreco.data import random_split, DatasetPure, DataInfo\n",
    "from libreco.data import split_by_ratio_chrono, DatasetFeat\n",
    "from libreco.algorithms import SVD as libSVD\n",
    "from libreco.algorithms import SVDpp, BPR\n",
    "from libreco.algorithms import FM, WideDeep, DeepFM, AutoInt, DIN\n",
    "from libreco.evaluation import evaluate\n",
    "import os\n",
    "import tensorflow as tf\n",
    "os.environ['TF_CPP_MIN_LOG_LEVEL'] = '3'\n",
    "os.environ[\"KMP_WARNINGS\"] = \"FALSE\"\n",
    "tf.compat.v1.logging.set_verbosity(tf.compat.v1.logging.ERROR)\n",
    "def reset_state(name):\n",
    "    tf.compat.v1.reset_default_graph()\n",
    "    print(\"\\n\", \"=\" * 30, name, \"=\" * 30)\n",
    "\n",
    "# Packages for model evaluation\n",
    "from sklearn.metrics import mean_squared_error\n",
    "from sklearn.metrics import mean_absolute_error\n",
    "from time import time\n",
    "from time import sleep\n",
    "import gc\n",
    "\n",
    "# Package to suppress warnings\n",
    "import warnings\n",
    "warnings.filterwarnings(\"ignore\")\n",
    "\n",
    "# Packages for saving models\n",
    "import pickle"
   ]
  },
  {
   "cell_type": "markdown",
   "metadata": {
    "id": "LCAuMww8jKxK"
   },
   "source": [
    "### Reading in data"
   ]
  },
  {
   "cell_type": "code",
   "execution_count": 2,
   "metadata": {
    "execution": {
     "iopub.execute_input": "2021-07-12T22:02:37.760896Z",
     "iopub.status.busy": "2021-07-12T22:02:37.760593Z",
     "iopub.status.idle": "2021-07-12T22:03:02.459131Z",
     "shell.execute_reply": "2021-07-12T22:03:02.458026Z",
     "shell.execute_reply.started": "2021-07-12T22:02:37.760867Z"
    },
    "gradient": {},
    "id": "C63Vok3qjKxL"
   },
   "outputs": [],
   "source": [
    "root_path = ''\n",
    "df_sample_submission = pd.read_csv(root_path + 'sample_submission.csv')\n",
    "df_movies = pd.read_csv(root_path + 'movies.csv')\n",
    "df_imdb = pd.read_csv(root_path + 'imdb_data.csv')\n",
    "df_genome_scores = pd.read_csv(root_path + 'genome_scores.csv')\n",
    "df_genome_tags = pd.read_csv(root_path +'genome_tags.csv')\n",
    "train = pd.read_csv(root_path + 'train.csv')\n",
    "df_test = pd.read_csv(root_path + 'test.csv')\n",
    "df_tags = pd.read_csv(root_path + 'tags.csv')\n",
    "df_links = pd.read_csv(root_path + 'links.csv')"
   ]
  },
  {
   "cell_type": "code",
   "execution_count": 6,
   "metadata": {
    "execution": {
     "iopub.execute_input": "2021-07-12T22:03:02.461006Z",
     "iopub.status.busy": "2021-07-12T22:03:02.460703Z",
     "iopub.status.idle": "2021-07-12T22:03:02.504001Z",
     "shell.execute_reply": "2021-07-12T22:03:02.503119Z",
     "shell.execute_reply.started": "2021-07-12T22:03:02.460979Z"
    },
    "gradient": {},
    "id": "R5o1NjMIjKxL",
    "outputId": "a2b638fe-7e95-4416-c0dd-4cfdfa70ca9c"
   },
   "outputs": [
    {
     "name": "stdout",
     "output_type": "stream",
     "text": [
      "<class 'pandas.core.frame.DataFrame'>\n",
      "RangeIndex: 5000019 entries, 0 to 5000018\n",
      "Data columns (total 2 columns):\n",
      "Id        object\n",
      "rating    float64\n",
      "dtypes: float64(1), object(1)\n",
      "memory usage: 76.3+ MB\n",
      "None\n"
     ]
    },
    {
     "data": {
      "text/html": [
       "<div>\n",
       "<style scoped>\n",
       "    .dataframe tbody tr th:only-of-type {\n",
       "        vertical-align: middle;\n",
       "    }\n",
       "\n",
       "    .dataframe tbody tr th {\n",
       "        vertical-align: top;\n",
       "    }\n",
       "\n",
       "    .dataframe thead th {\n",
       "        text-align: right;\n",
       "    }\n",
       "</style>\n",
       "<table border=\"1\" class=\"dataframe\">\n",
       "  <thead>\n",
       "    <tr style=\"text-align: right;\">\n",
       "      <th></th>\n",
       "      <th>Id</th>\n",
       "      <th>rating</th>\n",
       "    </tr>\n",
       "  </thead>\n",
       "  <tbody>\n",
       "    <tr>\n",
       "      <th>0</th>\n",
       "      <td>1_2011</td>\n",
       "      <td>1.0</td>\n",
       "    </tr>\n",
       "    <tr>\n",
       "      <th>1</th>\n",
       "      <td>1_4144</td>\n",
       "      <td>1.0</td>\n",
       "    </tr>\n",
       "    <tr>\n",
       "      <th>2</th>\n",
       "      <td>1_5767</td>\n",
       "      <td>1.0</td>\n",
       "    </tr>\n",
       "    <tr>\n",
       "      <th>3</th>\n",
       "      <td>1_6711</td>\n",
       "      <td>1.0</td>\n",
       "    </tr>\n",
       "    <tr>\n",
       "      <th>4</th>\n",
       "      <td>1_7318</td>\n",
       "      <td>1.0</td>\n",
       "    </tr>\n",
       "  </tbody>\n",
       "</table>\n",
       "</div>"
      ],
      "text/plain": [
       "       Id  rating\n",
       "0  1_2011     1.0\n",
       "1  1_4144     1.0\n",
       "2  1_5767     1.0\n",
       "3  1_6711     1.0\n",
       "4  1_7318     1.0"
      ]
     },
     "execution_count": 6,
     "metadata": {},
     "output_type": "execute_result"
    }
   ],
   "source": [
    "pd.set_option(\"display.max.column\", None)\n",
    "print(df_sample_submission.info())\n",
    "df_sample_submission.head()"
   ]
  },
  {
   "cell_type": "code",
   "execution_count": 7,
   "metadata": {
    "execution": {
     "iopub.execute_input": "2021-07-12T22:03:02.505668Z",
     "iopub.status.busy": "2021-07-12T22:03:02.505160Z",
     "iopub.status.idle": "2021-07-12T22:03:02.541835Z",
     "shell.execute_reply": "2021-07-12T22:03:02.541028Z",
     "shell.execute_reply.started": "2021-07-12T22:03:02.505633Z"
    },
    "gradient": {},
    "id": "o7cSwPL4jKxM",
    "outputId": "e28a8c14-e8fc-4943-c8e3-3652bc92f9bc"
   },
   "outputs": [
    {
     "name": "stdout",
     "output_type": "stream",
     "text": [
      "<class 'pandas.core.frame.DataFrame'>\n",
      "RangeIndex: 62423 entries, 0 to 62422\n",
      "Data columns (total 3 columns):\n",
      "movieId    62423 non-null int64\n",
      "title      62423 non-null object\n",
      "genres     62423 non-null object\n",
      "dtypes: int64(1), object(2)\n",
      "memory usage: 1.4+ MB\n",
      "None\n"
     ]
    },
    {
     "data": {
      "text/html": [
       "<div>\n",
       "<style scoped>\n",
       "    .dataframe tbody tr th:only-of-type {\n",
       "        vertical-align: middle;\n",
       "    }\n",
       "\n",
       "    .dataframe tbody tr th {\n",
       "        vertical-align: top;\n",
       "    }\n",
       "\n",
       "    .dataframe thead th {\n",
       "        text-align: right;\n",
       "    }\n",
       "</style>\n",
       "<table border=\"1\" class=\"dataframe\">\n",
       "  <thead>\n",
       "    <tr style=\"text-align: right;\">\n",
       "      <th></th>\n",
       "      <th>movieId</th>\n",
       "      <th>title</th>\n",
       "      <th>genres</th>\n",
       "    </tr>\n",
       "  </thead>\n",
       "  <tbody>\n",
       "    <tr>\n",
       "      <th>0</th>\n",
       "      <td>1</td>\n",
       "      <td>Toy Story (1995)</td>\n",
       "      <td>Adventure|Animation|Children|Comedy|Fantasy</td>\n",
       "    </tr>\n",
       "    <tr>\n",
       "      <th>1</th>\n",
       "      <td>2</td>\n",
       "      <td>Jumanji (1995)</td>\n",
       "      <td>Adventure|Children|Fantasy</td>\n",
       "    </tr>\n",
       "    <tr>\n",
       "      <th>2</th>\n",
       "      <td>3</td>\n",
       "      <td>Grumpier Old Men (1995)</td>\n",
       "      <td>Comedy|Romance</td>\n",
       "    </tr>\n",
       "    <tr>\n",
       "      <th>3</th>\n",
       "      <td>4</td>\n",
       "      <td>Waiting to Exhale (1995)</td>\n",
       "      <td>Comedy|Drama|Romance</td>\n",
       "    </tr>\n",
       "    <tr>\n",
       "      <th>4</th>\n",
       "      <td>5</td>\n",
       "      <td>Father of the Bride Part II (1995)</td>\n",
       "      <td>Comedy</td>\n",
       "    </tr>\n",
       "  </tbody>\n",
       "</table>\n",
       "</div>"
      ],
      "text/plain": [
       "   movieId                               title  \\\n",
       "0        1                    Toy Story (1995)   \n",
       "1        2                      Jumanji (1995)   \n",
       "2        3             Grumpier Old Men (1995)   \n",
       "3        4            Waiting to Exhale (1995)   \n",
       "4        5  Father of the Bride Part II (1995)   \n",
       "\n",
       "                                        genres  \n",
       "0  Adventure|Animation|Children|Comedy|Fantasy  \n",
       "1                   Adventure|Children|Fantasy  \n",
       "2                               Comedy|Romance  \n",
       "3                         Comedy|Drama|Romance  \n",
       "4                                       Comedy  "
      ]
     },
     "execution_count": 7,
     "metadata": {},
     "output_type": "execute_result"
    }
   ],
   "source": [
    "print(df_movies.info())\n",
    "df_movies.head()"
   ]
  },
  {
   "cell_type": "code",
   "execution_count": 8,
   "metadata": {
    "execution": {
     "iopub.execute_input": "2021-07-12T22:03:02.543405Z",
     "iopub.status.busy": "2021-07-12T22:03:02.542951Z",
     "iopub.status.idle": "2021-07-12T22:03:02.583128Z",
     "shell.execute_reply": "2021-07-12T22:03:02.582132Z",
     "shell.execute_reply.started": "2021-07-12T22:03:02.543371Z"
    },
    "gradient": {},
    "id": "AsaDBwTjjKxN",
    "outputId": "c1bec6e5-bdf0-4620-fbe2-fe3d7e890b32"
   },
   "outputs": [
    {
     "name": "stdout",
     "output_type": "stream",
     "text": [
      "<class 'pandas.core.frame.DataFrame'>\n",
      "RangeIndex: 27278 entries, 0 to 27277\n",
      "Data columns (total 6 columns):\n",
      "movieId          27278 non-null int64\n",
      "title_cast       17210 non-null object\n",
      "director         17404 non-null object\n",
      "runtime          15189 non-null float64\n",
      "budget           7906 non-null object\n",
      "plot_keywords    16200 non-null object\n",
      "dtypes: float64(1), int64(1), object(4)\n",
      "memory usage: 1.2+ MB\n",
      "None\n"
     ]
    },
    {
     "data": {
      "text/html": [
       "<div>\n",
       "<style scoped>\n",
       "    .dataframe tbody tr th:only-of-type {\n",
       "        vertical-align: middle;\n",
       "    }\n",
       "\n",
       "    .dataframe tbody tr th {\n",
       "        vertical-align: top;\n",
       "    }\n",
       "\n",
       "    .dataframe thead th {\n",
       "        text-align: right;\n",
       "    }\n",
       "</style>\n",
       "<table border=\"1\" class=\"dataframe\">\n",
       "  <thead>\n",
       "    <tr style=\"text-align: right;\">\n",
       "      <th></th>\n",
       "      <th>movieId</th>\n",
       "      <th>title_cast</th>\n",
       "      <th>director</th>\n",
       "      <th>runtime</th>\n",
       "      <th>budget</th>\n",
       "      <th>plot_keywords</th>\n",
       "    </tr>\n",
       "  </thead>\n",
       "  <tbody>\n",
       "    <tr>\n",
       "      <th>0</th>\n",
       "      <td>1</td>\n",
       "      <td>Tom Hanks|Tim Allen|Don Rickles|Jim Varney|Wal...</td>\n",
       "      <td>John Lasseter</td>\n",
       "      <td>81.0</td>\n",
       "      <td>$30,000,000</td>\n",
       "      <td>toy|rivalry|cowboy|cgi animation</td>\n",
       "    </tr>\n",
       "    <tr>\n",
       "      <th>1</th>\n",
       "      <td>2</td>\n",
       "      <td>Robin Williams|Jonathan Hyde|Kirsten Dunst|Bra...</td>\n",
       "      <td>Jonathan Hensleigh</td>\n",
       "      <td>104.0</td>\n",
       "      <td>$65,000,000</td>\n",
       "      <td>board game|adventurer|fight|game</td>\n",
       "    </tr>\n",
       "    <tr>\n",
       "      <th>2</th>\n",
       "      <td>3</td>\n",
       "      <td>Walter Matthau|Jack Lemmon|Sophia Loren|Ann-Ma...</td>\n",
       "      <td>Mark Steven Johnson</td>\n",
       "      <td>101.0</td>\n",
       "      <td>$25,000,000</td>\n",
       "      <td>boat|lake|neighbor|rivalry</td>\n",
       "    </tr>\n",
       "    <tr>\n",
       "      <th>3</th>\n",
       "      <td>4</td>\n",
       "      <td>Whitney Houston|Angela Bassett|Loretta Devine|...</td>\n",
       "      <td>Terry McMillan</td>\n",
       "      <td>124.0</td>\n",
       "      <td>$16,000,000</td>\n",
       "      <td>black american|husband wife relationship|betra...</td>\n",
       "    </tr>\n",
       "    <tr>\n",
       "      <th>4</th>\n",
       "      <td>5</td>\n",
       "      <td>Steve Martin|Diane Keaton|Martin Short|Kimberl...</td>\n",
       "      <td>Albert Hackett</td>\n",
       "      <td>106.0</td>\n",
       "      <td>$30,000,000</td>\n",
       "      <td>fatherhood|doberman|dog|mansion</td>\n",
       "    </tr>\n",
       "  </tbody>\n",
       "</table>\n",
       "</div>"
      ],
      "text/plain": [
       "   movieId                                         title_cast  \\\n",
       "0        1  Tom Hanks|Tim Allen|Don Rickles|Jim Varney|Wal...   \n",
       "1        2  Robin Williams|Jonathan Hyde|Kirsten Dunst|Bra...   \n",
       "2        3  Walter Matthau|Jack Lemmon|Sophia Loren|Ann-Ma...   \n",
       "3        4  Whitney Houston|Angela Bassett|Loretta Devine|...   \n",
       "4        5  Steve Martin|Diane Keaton|Martin Short|Kimberl...   \n",
       "\n",
       "              director  runtime       budget  \\\n",
       "0        John Lasseter     81.0  $30,000,000   \n",
       "1   Jonathan Hensleigh    104.0  $65,000,000   \n",
       "2  Mark Steven Johnson    101.0  $25,000,000   \n",
       "3       Terry McMillan    124.0  $16,000,000   \n",
       "4       Albert Hackett    106.0  $30,000,000   \n",
       "\n",
       "                                       plot_keywords  \n",
       "0                   toy|rivalry|cowboy|cgi animation  \n",
       "1                   board game|adventurer|fight|game  \n",
       "2                         boat|lake|neighbor|rivalry  \n",
       "3  black american|husband wife relationship|betra...  \n",
       "4                    fatherhood|doberman|dog|mansion  "
      ]
     },
     "execution_count": 8,
     "metadata": {},
     "output_type": "execute_result"
    }
   ],
   "source": [
    "print(df_imdb.info())\n",
    "df_imdb.head()"
   ]
  },
  {
   "cell_type": "code",
   "execution_count": 9,
   "metadata": {
    "execution": {
     "iopub.execute_input": "2021-07-12T22:03:02.584929Z",
     "iopub.status.busy": "2021-07-12T22:03:02.584576Z",
     "iopub.status.idle": "2021-07-12T22:03:02.606106Z",
     "shell.execute_reply": "2021-07-12T22:03:02.605216Z",
     "shell.execute_reply.started": "2021-07-12T22:03:02.584889Z"
    },
    "gradient": {},
    "id": "cWuidB3ijKxO",
    "outputId": "040801c5-f29e-4c0f-c515-64c3dfcf2d5f"
   },
   "outputs": [
    {
     "name": "stdout",
     "output_type": "stream",
     "text": [
      "<class 'pandas.core.frame.DataFrame'>\n",
      "RangeIndex: 15584448 entries, 0 to 15584447\n",
      "Data columns (total 3 columns):\n",
      "movieId      int64\n",
      "tagId        int64\n",
      "relevance    float64\n",
      "dtypes: float64(1), int64(2)\n",
      "memory usage: 356.7 MB\n",
      "None\n"
     ]
    },
    {
     "data": {
      "text/html": [
       "<div>\n",
       "<style scoped>\n",
       "    .dataframe tbody tr th:only-of-type {\n",
       "        vertical-align: middle;\n",
       "    }\n",
       "\n",
       "    .dataframe tbody tr th {\n",
       "        vertical-align: top;\n",
       "    }\n",
       "\n",
       "    .dataframe thead th {\n",
       "        text-align: right;\n",
       "    }\n",
       "</style>\n",
       "<table border=\"1\" class=\"dataframe\">\n",
       "  <thead>\n",
       "    <tr style=\"text-align: right;\">\n",
       "      <th></th>\n",
       "      <th>movieId</th>\n",
       "      <th>tagId</th>\n",
       "      <th>relevance</th>\n",
       "    </tr>\n",
       "  </thead>\n",
       "  <tbody>\n",
       "    <tr>\n",
       "      <th>0</th>\n",
       "      <td>1</td>\n",
       "      <td>1</td>\n",
       "      <td>0.02875</td>\n",
       "    </tr>\n",
       "    <tr>\n",
       "      <th>1</th>\n",
       "      <td>1</td>\n",
       "      <td>2</td>\n",
       "      <td>0.02375</td>\n",
       "    </tr>\n",
       "    <tr>\n",
       "      <th>2</th>\n",
       "      <td>1</td>\n",
       "      <td>3</td>\n",
       "      <td>0.06250</td>\n",
       "    </tr>\n",
       "    <tr>\n",
       "      <th>3</th>\n",
       "      <td>1</td>\n",
       "      <td>4</td>\n",
       "      <td>0.07575</td>\n",
       "    </tr>\n",
       "    <tr>\n",
       "      <th>4</th>\n",
       "      <td>1</td>\n",
       "      <td>5</td>\n",
       "      <td>0.14075</td>\n",
       "    </tr>\n",
       "  </tbody>\n",
       "</table>\n",
       "</div>"
      ],
      "text/plain": [
       "   movieId  tagId  relevance\n",
       "0        1      1    0.02875\n",
       "1        1      2    0.02375\n",
       "2        1      3    0.06250\n",
       "3        1      4    0.07575\n",
       "4        1      5    0.14075"
      ]
     },
     "execution_count": 9,
     "metadata": {},
     "output_type": "execute_result"
    }
   ],
   "source": [
    "print(df_genome_scores.info())\n",
    "df_genome_scores.head()"
   ]
  },
  {
   "cell_type": "code",
   "execution_count": 10,
   "metadata": {
    "execution": {
     "iopub.execute_input": "2021-07-12T21:42:58.589166Z",
     "iopub.status.busy": "2021-07-12T21:42:58.588757Z",
     "iopub.status.idle": "2021-07-12T21:42:58.611788Z",
     "shell.execute_reply": "2021-07-12T21:42:58.610490Z",
     "shell.execute_reply.started": "2021-07-12T21:42:58.589127Z"
    },
    "gradient": {},
    "id": "LBU1XScvjKxO",
    "outputId": "2ecfcae2-0c93-4a65-af1a-640e33ac0024"
   },
   "outputs": [
    {
     "name": "stdout",
     "output_type": "stream",
     "text": [
      "<class 'pandas.core.frame.DataFrame'>\n",
      "RangeIndex: 1128 entries, 0 to 1127\n",
      "Data columns (total 2 columns):\n",
      "tagId    1128 non-null int64\n",
      "tag      1128 non-null object\n",
      "dtypes: int64(1), object(1)\n",
      "memory usage: 17.8+ KB\n",
      "None\n"
     ]
    },
    {
     "data": {
      "text/html": [
       "<div>\n",
       "<style scoped>\n",
       "    .dataframe tbody tr th:only-of-type {\n",
       "        vertical-align: middle;\n",
       "    }\n",
       "\n",
       "    .dataframe tbody tr th {\n",
       "        vertical-align: top;\n",
       "    }\n",
       "\n",
       "    .dataframe thead th {\n",
       "        text-align: right;\n",
       "    }\n",
       "</style>\n",
       "<table border=\"1\" class=\"dataframe\">\n",
       "  <thead>\n",
       "    <tr style=\"text-align: right;\">\n",
       "      <th></th>\n",
       "      <th>tagId</th>\n",
       "      <th>tag</th>\n",
       "    </tr>\n",
       "  </thead>\n",
       "  <tbody>\n",
       "    <tr>\n",
       "      <th>0</th>\n",
       "      <td>1</td>\n",
       "      <td>007</td>\n",
       "    </tr>\n",
       "    <tr>\n",
       "      <th>1</th>\n",
       "      <td>2</td>\n",
       "      <td>007 (series)</td>\n",
       "    </tr>\n",
       "    <tr>\n",
       "      <th>2</th>\n",
       "      <td>3</td>\n",
       "      <td>18th century</td>\n",
       "    </tr>\n",
       "    <tr>\n",
       "      <th>3</th>\n",
       "      <td>4</td>\n",
       "      <td>1920s</td>\n",
       "    </tr>\n",
       "    <tr>\n",
       "      <th>4</th>\n",
       "      <td>5</td>\n",
       "      <td>1930s</td>\n",
       "    </tr>\n",
       "  </tbody>\n",
       "</table>\n",
       "</div>"
      ],
      "text/plain": [
       "   tagId           tag\n",
       "0      1           007\n",
       "1      2  007 (series)\n",
       "2      3  18th century\n",
       "3      4         1920s\n",
       "4      5         1930s"
      ]
     },
     "execution_count": 10,
     "metadata": {},
     "output_type": "execute_result"
    }
   ],
   "source": [
    "print(df_genome_tags.info())\n",
    "df_genome_tags.head()"
   ]
  },
  {
   "cell_type": "code",
   "execution_count": 11,
   "metadata": {
    "execution": {
     "iopub.execute_input": "2021-07-12T21:42:58.813479Z",
     "iopub.status.busy": "2021-07-12T21:42:58.813076Z",
     "iopub.status.idle": "2021-07-12T21:42:58.951080Z",
     "shell.execute_reply": "2021-07-12T21:42:58.949912Z",
     "shell.execute_reply.started": "2021-07-12T21:42:58.813430Z"
    },
    "gradient": {},
    "id": "W7xr8iMljKxP",
    "outputId": "aafeedbc-09c7-4467-f6b6-46b3864f7df8"
   },
   "outputs": [
    {
     "name": "stdout",
     "output_type": "stream",
     "text": [
      "<class 'pandas.core.frame.DataFrame'>\n",
      "RangeIndex: 1093360 entries, 0 to 1093359\n",
      "Data columns (total 4 columns):\n",
      "userId       1093360 non-null int64\n",
      "movieId      1093360 non-null int64\n",
      "tag          1093344 non-null object\n",
      "timestamp    1093360 non-null int64\n",
      "dtypes: int64(3), object(1)\n",
      "memory usage: 33.4+ MB\n",
      "None\n"
     ]
    },
    {
     "data": {
      "text/html": [
       "<div>\n",
       "<style scoped>\n",
       "    .dataframe tbody tr th:only-of-type {\n",
       "        vertical-align: middle;\n",
       "    }\n",
       "\n",
       "    .dataframe tbody tr th {\n",
       "        vertical-align: top;\n",
       "    }\n",
       "\n",
       "    .dataframe thead th {\n",
       "        text-align: right;\n",
       "    }\n",
       "</style>\n",
       "<table border=\"1\" class=\"dataframe\">\n",
       "  <thead>\n",
       "    <tr style=\"text-align: right;\">\n",
       "      <th></th>\n",
       "      <th>userId</th>\n",
       "      <th>movieId</th>\n",
       "      <th>tag</th>\n",
       "      <th>timestamp</th>\n",
       "    </tr>\n",
       "  </thead>\n",
       "  <tbody>\n",
       "    <tr>\n",
       "      <th>0</th>\n",
       "      <td>3</td>\n",
       "      <td>260</td>\n",
       "      <td>classic</td>\n",
       "      <td>1439472355</td>\n",
       "    </tr>\n",
       "    <tr>\n",
       "      <th>1</th>\n",
       "      <td>3</td>\n",
       "      <td>260</td>\n",
       "      <td>sci-fi</td>\n",
       "      <td>1439472256</td>\n",
       "    </tr>\n",
       "    <tr>\n",
       "      <th>2</th>\n",
       "      <td>4</td>\n",
       "      <td>1732</td>\n",
       "      <td>dark comedy</td>\n",
       "      <td>1573943598</td>\n",
       "    </tr>\n",
       "    <tr>\n",
       "      <th>3</th>\n",
       "      <td>4</td>\n",
       "      <td>1732</td>\n",
       "      <td>great dialogue</td>\n",
       "      <td>1573943604</td>\n",
       "    </tr>\n",
       "    <tr>\n",
       "      <th>4</th>\n",
       "      <td>4</td>\n",
       "      <td>7569</td>\n",
       "      <td>so bad it's good</td>\n",
       "      <td>1573943455</td>\n",
       "    </tr>\n",
       "  </tbody>\n",
       "</table>\n",
       "</div>"
      ],
      "text/plain": [
       "   userId  movieId               tag   timestamp\n",
       "0       3      260           classic  1439472355\n",
       "1       3      260            sci-fi  1439472256\n",
       "2       4     1732       dark comedy  1573943598\n",
       "3       4     1732    great dialogue  1573943604\n",
       "4       4     7569  so bad it's good  1573943455"
      ]
     },
     "execution_count": 11,
     "metadata": {},
     "output_type": "execute_result"
    }
   ],
   "source": [
    "print(df_tags.info())\n",
    "df_tags.head()"
   ]
  },
  {
   "cell_type": "code",
   "execution_count": 12,
   "metadata": {
    "execution": {
     "iopub.execute_input": "2021-07-12T21:42:59.123316Z",
     "iopub.status.busy": "2021-07-12T21:42:59.122952Z",
     "iopub.status.idle": "2021-07-12T21:42:59.149825Z",
     "shell.execute_reply": "2021-07-12T21:42:59.148551Z",
     "shell.execute_reply.started": "2021-07-12T21:42:59.123285Z"
    },
    "gradient": {},
    "id": "yTnM-LlnjKxQ",
    "outputId": "94cc65db-59a3-41ee-b241-6dcb112dd27a"
   },
   "outputs": [
    {
     "name": "stdout",
     "output_type": "stream",
     "text": [
      "<class 'pandas.core.frame.DataFrame'>\n",
      "RangeIndex: 62423 entries, 0 to 62422\n",
      "Data columns (total 3 columns):\n",
      "movieId    62423 non-null int64\n",
      "imdbId     62423 non-null int64\n",
      "tmdbId     62316 non-null float64\n",
      "dtypes: float64(1), int64(2)\n",
      "memory usage: 1.4 MB\n",
      "None\n"
     ]
    },
    {
     "data": {
      "text/html": [
       "<div>\n",
       "<style scoped>\n",
       "    .dataframe tbody tr th:only-of-type {\n",
       "        vertical-align: middle;\n",
       "    }\n",
       "\n",
       "    .dataframe tbody tr th {\n",
       "        vertical-align: top;\n",
       "    }\n",
       "\n",
       "    .dataframe thead th {\n",
       "        text-align: right;\n",
       "    }\n",
       "</style>\n",
       "<table border=\"1\" class=\"dataframe\">\n",
       "  <thead>\n",
       "    <tr style=\"text-align: right;\">\n",
       "      <th></th>\n",
       "      <th>movieId</th>\n",
       "      <th>imdbId</th>\n",
       "      <th>tmdbId</th>\n",
       "    </tr>\n",
       "  </thead>\n",
       "  <tbody>\n",
       "    <tr>\n",
       "      <th>0</th>\n",
       "      <td>1</td>\n",
       "      <td>114709</td>\n",
       "      <td>862.0</td>\n",
       "    </tr>\n",
       "    <tr>\n",
       "      <th>1</th>\n",
       "      <td>2</td>\n",
       "      <td>113497</td>\n",
       "      <td>8844.0</td>\n",
       "    </tr>\n",
       "    <tr>\n",
       "      <th>2</th>\n",
       "      <td>3</td>\n",
       "      <td>113228</td>\n",
       "      <td>15602.0</td>\n",
       "    </tr>\n",
       "    <tr>\n",
       "      <th>3</th>\n",
       "      <td>4</td>\n",
       "      <td>114885</td>\n",
       "      <td>31357.0</td>\n",
       "    </tr>\n",
       "    <tr>\n",
       "      <th>4</th>\n",
       "      <td>5</td>\n",
       "      <td>113041</td>\n",
       "      <td>11862.0</td>\n",
       "    </tr>\n",
       "  </tbody>\n",
       "</table>\n",
       "</div>"
      ],
      "text/plain": [
       "   movieId  imdbId   tmdbId\n",
       "0        1  114709    862.0\n",
       "1        2  113497   8844.0\n",
       "2        3  113228  15602.0\n",
       "3        4  114885  31357.0\n",
       "4        5  113041  11862.0"
      ]
     },
     "execution_count": 12,
     "metadata": {},
     "output_type": "execute_result"
    }
   ],
   "source": [
    "print(df_links.info())\n",
    "df_links.head()"
   ]
  },
  {
   "cell_type": "code",
   "execution_count": 13,
   "metadata": {
    "execution": {
     "iopub.execute_input": "2021-07-12T21:42:59.433043Z",
     "iopub.status.busy": "2021-07-12T21:42:59.432633Z",
     "iopub.status.idle": "2021-07-12T21:42:59.455592Z",
     "shell.execute_reply": "2021-07-12T21:42:59.454487Z",
     "shell.execute_reply.started": "2021-07-12T21:42:59.433005Z"
    },
    "gradient": {},
    "id": "LurnBJfEjKxQ",
    "outputId": "d099f46b-ed61-47d5-c44f-63dcba3dda7e"
   },
   "outputs": [
    {
     "name": "stdout",
     "output_type": "stream",
     "text": [
      "<class 'pandas.core.frame.DataFrame'>\n",
      "RangeIndex: 10000038 entries, 0 to 10000037\n",
      "Data columns (total 4 columns):\n",
      "userId       int64\n",
      "movieId      int64\n",
      "rating       float64\n",
      "timestamp    int64\n",
      "dtypes: float64(1), int64(3)\n",
      "memory usage: 305.2 MB\n",
      "None\n"
     ]
    },
    {
     "data": {
      "text/html": [
       "<div>\n",
       "<style scoped>\n",
       "    .dataframe tbody tr th:only-of-type {\n",
       "        vertical-align: middle;\n",
       "    }\n",
       "\n",
       "    .dataframe tbody tr th {\n",
       "        vertical-align: top;\n",
       "    }\n",
       "\n",
       "    .dataframe thead th {\n",
       "        text-align: right;\n",
       "    }\n",
       "</style>\n",
       "<table border=\"1\" class=\"dataframe\">\n",
       "  <thead>\n",
       "    <tr style=\"text-align: right;\">\n",
       "      <th></th>\n",
       "      <th>userId</th>\n",
       "      <th>movieId</th>\n",
       "      <th>rating</th>\n",
       "      <th>timestamp</th>\n",
       "    </tr>\n",
       "  </thead>\n",
       "  <tbody>\n",
       "    <tr>\n",
       "      <th>0</th>\n",
       "      <td>5163</td>\n",
       "      <td>57669</td>\n",
       "      <td>4.0</td>\n",
       "      <td>1518349992</td>\n",
       "    </tr>\n",
       "    <tr>\n",
       "      <th>1</th>\n",
       "      <td>106343</td>\n",
       "      <td>5</td>\n",
       "      <td>4.5</td>\n",
       "      <td>1206238739</td>\n",
       "    </tr>\n",
       "    <tr>\n",
       "      <th>2</th>\n",
       "      <td>146790</td>\n",
       "      <td>5459</td>\n",
       "      <td>5.0</td>\n",
       "      <td>1076215539</td>\n",
       "    </tr>\n",
       "    <tr>\n",
       "      <th>3</th>\n",
       "      <td>106362</td>\n",
       "      <td>32296</td>\n",
       "      <td>2.0</td>\n",
       "      <td>1423042565</td>\n",
       "    </tr>\n",
       "    <tr>\n",
       "      <th>4</th>\n",
       "      <td>9041</td>\n",
       "      <td>366</td>\n",
       "      <td>3.0</td>\n",
       "      <td>833375837</td>\n",
       "    </tr>\n",
       "  </tbody>\n",
       "</table>\n",
       "</div>"
      ],
      "text/plain": [
       "   userId  movieId  rating   timestamp\n",
       "0    5163    57669     4.0  1518349992\n",
       "1  106343        5     4.5  1206238739\n",
       "2  146790     5459     5.0  1076215539\n",
       "3  106362    32296     2.0  1423042565\n",
       "4    9041      366     3.0   833375837"
      ]
     },
     "execution_count": 13,
     "metadata": {},
     "output_type": "execute_result"
    }
   ],
   "source": [
    "print(train.info())\n",
    "train.head()"
   ]
  },
  {
   "cell_type": "code",
   "execution_count": 14,
   "metadata": {
    "execution": {
     "iopub.execute_input": "2021-07-12T21:43:02.575952Z",
     "iopub.status.busy": "2021-07-12T21:43:02.575532Z",
     "iopub.status.idle": "2021-07-12T21:43:02.594709Z",
     "shell.execute_reply": "2021-07-12T21:43:02.593281Z",
     "shell.execute_reply.started": "2021-07-12T21:43:02.575916Z"
    },
    "gradient": {},
    "id": "z1eVNw3zjKxS",
    "outputId": "af796e1d-af86-42e7-d5f2-a06828d7f5ff"
   },
   "outputs": [
    {
     "name": "stdout",
     "output_type": "stream",
     "text": [
      "<class 'pandas.core.frame.DataFrame'>\n",
      "RangeIndex: 5000019 entries, 0 to 5000018\n",
      "Data columns (total 2 columns):\n",
      "userId     int64\n",
      "movieId    int64\n",
      "dtypes: int64(2)\n",
      "memory usage: 76.3 MB\n",
      "None\n"
     ]
    },
    {
     "data": {
      "text/html": [
       "<div>\n",
       "<style scoped>\n",
       "    .dataframe tbody tr th:only-of-type {\n",
       "        vertical-align: middle;\n",
       "    }\n",
       "\n",
       "    .dataframe tbody tr th {\n",
       "        vertical-align: top;\n",
       "    }\n",
       "\n",
       "    .dataframe thead th {\n",
       "        text-align: right;\n",
       "    }\n",
       "</style>\n",
       "<table border=\"1\" class=\"dataframe\">\n",
       "  <thead>\n",
       "    <tr style=\"text-align: right;\">\n",
       "      <th></th>\n",
       "      <th>userId</th>\n",
       "      <th>movieId</th>\n",
       "    </tr>\n",
       "  </thead>\n",
       "  <tbody>\n",
       "    <tr>\n",
       "      <th>0</th>\n",
       "      <td>1</td>\n",
       "      <td>2011</td>\n",
       "    </tr>\n",
       "    <tr>\n",
       "      <th>1</th>\n",
       "      <td>1</td>\n",
       "      <td>4144</td>\n",
       "    </tr>\n",
       "    <tr>\n",
       "      <th>2</th>\n",
       "      <td>1</td>\n",
       "      <td>5767</td>\n",
       "    </tr>\n",
       "    <tr>\n",
       "      <th>3</th>\n",
       "      <td>1</td>\n",
       "      <td>6711</td>\n",
       "    </tr>\n",
       "    <tr>\n",
       "      <th>4</th>\n",
       "      <td>1</td>\n",
       "      <td>7318</td>\n",
       "    </tr>\n",
       "  </tbody>\n",
       "</table>\n",
       "</div>"
      ],
      "text/plain": [
       "   userId  movieId\n",
       "0       1     2011\n",
       "1       1     4144\n",
       "2       1     5767\n",
       "3       1     6711\n",
       "4       1     7318"
      ]
     },
     "execution_count": 14,
     "metadata": {},
     "output_type": "execute_result"
    }
   ],
   "source": [
    "print(df_test.info())\n",
    "df_test.head()"
   ]
  },
  {
   "cell_type": "markdown",
   "metadata": {
    "id": "aceTFZ8ajKxS"
   },
   "source": [
    "# Exploratory Data Analysis"
   ]
  },
  {
   "cell_type": "markdown",
   "metadata": {
    "id": "QOPeKelxjKxS"
   },
   "source": [
    "**Most common Genres**"
   ]
  },
  {
   "cell_type": "code",
   "execution_count": 15,
   "metadata": {
    "execution": {
     "iopub.execute_input": "2021-07-12T21:43:04.715429Z",
     "iopub.status.busy": "2021-07-12T21:43:04.715038Z",
     "iopub.status.idle": "2021-07-12T21:43:05.134100Z",
     "shell.execute_reply": "2021-07-12T21:43:05.133127Z",
     "shell.execute_reply.started": "2021-07-12T21:43:04.715395Z"
    },
    "gradient": {},
    "id": "mdN8NV02jKxS",
    "outputId": "c345e7e3-aee6-4f83-ee66-a53390a158ed"
   },
   "outputs": [
    {
     "data": {
      "text/html": [
       "<div>\n",
       "<style scoped>\n",
       "    .dataframe tbody tr th:only-of-type {\n",
       "        vertical-align: middle;\n",
       "    }\n",
       "\n",
       "    .dataframe tbody tr th {\n",
       "        vertical-align: top;\n",
       "    }\n",
       "\n",
       "    .dataframe thead th {\n",
       "        text-align: right;\n",
       "    }\n",
       "</style>\n",
       "<table border=\"1\" class=\"dataframe\">\n",
       "  <thead>\n",
       "    <tr style=\"text-align: right;\">\n",
       "      <th></th>\n",
       "      <th>movieId</th>\n",
       "      <th>genres</th>\n",
       "    </tr>\n",
       "  </thead>\n",
       "  <tbody>\n",
       "    <tr>\n",
       "      <th>0</th>\n",
       "      <td>1</td>\n",
       "      <td>Adventure</td>\n",
       "    </tr>\n",
       "    <tr>\n",
       "      <th>1</th>\n",
       "      <td>1</td>\n",
       "      <td>Animation</td>\n",
       "    </tr>\n",
       "    <tr>\n",
       "      <th>2</th>\n",
       "      <td>1</td>\n",
       "      <td>Children</td>\n",
       "    </tr>\n",
       "    <tr>\n",
       "      <th>3</th>\n",
       "      <td>1</td>\n",
       "      <td>Comedy</td>\n",
       "    </tr>\n",
       "    <tr>\n",
       "      <th>4</th>\n",
       "      <td>1</td>\n",
       "      <td>Fantasy</td>\n",
       "    </tr>\n",
       "  </tbody>\n",
       "</table>\n",
       "</div>"
      ],
      "text/plain": [
       "   movieId     genres\n",
       "0        1  Adventure\n",
       "1        1  Animation\n",
       "2        1   Children\n",
       "3        1     Comedy\n",
       "4        1    Fantasy"
      ]
     },
     "execution_count": 15,
     "metadata": {},
     "output_type": "execute_result"
    }
   ],
   "source": [
    "# Create dataframe containing only the movieId and genres\n",
    "movies_genres = pd.DataFrame(df_movies[['movieId', 'genres']],\n",
    "                             columns=['movieId', 'genres'])\n",
    "\n",
    "# Split genres seperated by \"|\" and create a list containing the genres allocated to each movie\n",
    "movies_genres.genres = movies_genres.genres.apply(lambda x: x.split('|'))\n",
    "\n",
    "# Create expanded dataframe where each movie-genre combination is in a seperate row\n",
    "movies_genres = pd.DataFrame([(tup.movieId, d) for tup in movies_genres.itertuples() for d in tup.genres],\n",
    "                             columns=['movieId', 'genres'])\n",
    "\n",
    "movies_genres.head()"
   ]
  },
  {
   "cell_type": "code",
   "execution_count": 16,
   "metadata": {
    "execution": {
     "iopub.execute_input": "2021-07-12T21:43:05.135898Z",
     "iopub.status.busy": "2021-07-12T21:43:05.135610Z",
     "iopub.status.idle": "2021-07-12T21:43:05.639751Z",
     "shell.execute_reply": "2021-07-12T21:43:05.638281Z",
     "shell.execute_reply.started": "2021-07-12T21:43:05.135869Z"
    },
    "gradient": {},
    "id": "7CJ0AG-ojKxT",
    "outputId": "279a6f59-3f10-4b31-9330-235029217620"
   },
   "outputs": [
    {
     "data": {
      "image/png": "[encoded data removed]",
      "text/plain": [
       "<Figure size 1080x720 with 1 Axes>"
      ]
     },
     "metadata": {
      "needs_background": "light"
     },
     "output_type": "display_data"
    }
   ],
   "source": [
    "# Plot the genres from most common to least common\n",
    "plot = plt.figure(figsize=(15, 10))\n",
    "plt.title('Most common genres\\n', fontsize=20)\n",
    "sns.countplot(y=\"genres\", data=movies_genres,\n",
    "              order=movies_genres['genres'].value_counts(ascending=False).index,\n",
    "              palette='Reds_r')\n",
    "plt.show()"
   ]
  },
  {
   "cell_type": "markdown",
   "metadata": {
    "id": "tpvaBrZ_fSP0"
   },
   "source": [
    "**Most common actors**"
   ]
  },
  {
   "cell_type": "code",
   "execution_count": 17,
   "metadata": {
    "execution": {
     "iopub.execute_input": "2021-07-12T21:43:05.642148Z",
     "iopub.status.busy": "2021-07-12T21:43:05.641769Z",
     "iopub.status.idle": "2021-07-12T21:43:06.197697Z",
     "shell.execute_reply": "2021-07-12T21:43:06.196643Z",
     "shell.execute_reply.started": "2021-07-12T21:43:05.642113Z"
    },
    "gradient": {},
    "id": "-N5Vn-92fNra",
    "outputId": "fc6c332b-5498-45a5-91df-1ff6064e2ca2"
   },
   "outputs": [
    {
     "name": "stdout",
     "output_type": "stream",
     "text": [
      "Total Cast Members: 121036\n",
      "Most Common Cast Members:\n",
      " ['nan', 'Samuel L. Jackson', 'Steve Buscemi', 'Keith David', 'Willem Dafoe', 'Robert De Niro', 'Gérard Depardieu', 'Brian Cox', 'Christopher Walken', 'Danny Glover', 'Morgan Freeman', 'Bruce Willis', 'Peter Stormare', 'Nicolas Cage', 'Alec Baldwin', 'Julianne Moore', 'Richard Jenkins', 'Stanley Tucci', 'Susan Sarandon', 'John Goodman', 'Woody Harrelson', 'Tom Wilkinson', 'Stellan Skarsgård', 'Christopher McDonald', 'Antonio Banderas', 'Val Kilmer', 'Jeff Bennett', 'Johnny Depp', 'Ed Harris', 'Harvey Keitel', 'John Leguizamo', 'Ray Liotta', 'Forest Whitaker', 'Donald Sutherland', 'John Cusack', 'Luis Guzmán', 'Stephen Tobolowsky', 'Paul Giamatti', 'Ewan McGregor', 'Richard Riehle', 'George W. Bush', 'David Strathairn', 'Danny Trejo', 'Jim Broadbent', 'John Malkovich', 'Ving Rhames', 'Kathy Bates', 'Patricia Clarkson', 'Robert Downey Jr.', 'Jim Cummings']\n"
     ]
    },
    {
     "data": {
      "text/html": [
       "<div>\n",
       "<style scoped>\n",
       "    .dataframe tbody tr th:only-of-type {\n",
       "        vertical-align: middle;\n",
       "    }\n",
       "\n",
       "    .dataframe tbody tr th {\n",
       "        vertical-align: top;\n",
       "    }\n",
       "\n",
       "    .dataframe thead th {\n",
       "        text-align: right;\n",
       "    }\n",
       "</style>\n",
       "<table border=\"1\" class=\"dataframe\">\n",
       "  <thead>\n",
       "    <tr style=\"text-align: right;\">\n",
       "      <th></th>\n",
       "      <th>movieId</th>\n",
       "      <th>title_cast</th>\n",
       "    </tr>\n",
       "  </thead>\n",
       "  <tbody>\n",
       "    <tr>\n",
       "      <th>0</th>\n",
       "      <td>1</td>\n",
       "      <td>Tom Hanks</td>\n",
       "    </tr>\n",
       "    <tr>\n",
       "      <th>1</th>\n",
       "      <td>1</td>\n",
       "      <td>Tim Allen</td>\n",
       "    </tr>\n",
       "    <tr>\n",
       "      <th>2</th>\n",
       "      <td>1</td>\n",
       "      <td>Don Rickles</td>\n",
       "    </tr>\n",
       "    <tr>\n",
       "      <th>3</th>\n",
       "      <td>1</td>\n",
       "      <td>Jim Varney</td>\n",
       "    </tr>\n",
       "    <tr>\n",
       "      <th>4</th>\n",
       "      <td>1</td>\n",
       "      <td>Wallace Shawn</td>\n",
       "    </tr>\n",
       "  </tbody>\n",
       "</table>\n",
       "</div>"
      ],
      "text/plain": [
       "   movieId     title_cast\n",
       "0        1      Tom Hanks\n",
       "1        1      Tim Allen\n",
       "2        1    Don Rickles\n",
       "3        1     Jim Varney\n",
       "4        1  Wallace Shawn"
      ]
     },
     "metadata": {},
     "output_type": "display_data"
    }
   ],
   "source": [
    "# Create dataframe containing only the movieId and cast members\n",
    "cast = pd.DataFrame(df_imdb[['movieId', 'title_cast']],\n",
    "                             columns=['movieId', 'title_cast'])\n",
    "\n",
    "# Split title_cast seperated by \"|\" and create a list containing the cast members in each movie\n",
    "cast.title_cast = cast.title_cast.astype(str).apply(lambda x: x.split('|'))\n",
    "\n",
    "# Create expanded dataframe where each movie - cast member combination is in a seperate row\n",
    "cast = pd.DataFrame([(tup.movieId, d) for tup in cast.itertuples() for d in tup.title_cast],\n",
    "                             columns=['movieId', 'title_cast'])\n",
    "\n",
    "mostc_cast = cast['title_cast'].value_counts(ascending=False).index.tolist()[:50]\n",
    "\n",
    "print('Total Cast Members:', len(list(cast['title_cast'].unique())))\n",
    "print('Most Common Cast Members:\\n', mostc_cast)\n",
    "display(cast.head())"
   ]
  },
  {
   "cell_type": "code",
   "execution_count": 18,
   "metadata": {
    "execution": {
     "iopub.execute_input": "2021-07-12T21:43:06.199737Z",
     "iopub.status.busy": "2021-07-12T21:43:06.199366Z",
     "iopub.status.idle": "2021-07-12T21:43:07.965864Z",
     "shell.execute_reply": "2021-07-12T21:43:07.964720Z",
     "shell.execute_reply.started": "2021-07-12T21:43:06.199702Z"
    },
    "gradient": {},
    "id": "N0HhZL4SfPC9",
    "outputId": "c06df9cc-bc42-4578-a555-c45736b534b2"
   },
   "outputs": [
    {
     "data": {
      "image/png": "[encoded data removed]",
      "text/plain": [
       "<Figure size 1080x1080 with 1 Axes>"
      ]
     },
     "metadata": {
      "needs_background": "light"
     },
     "output_type": "display_data"
    }
   ],
   "source": [
    "# Plot the genres from most common to least common\n",
    "plot = plt.figure(figsize=(15, 15))\n",
    "plt.title('Most common actors\\n', fontsize=20)\n",
    "sns.countplot(y=\"title_cast\", data=cast,\n",
    "              order=mostc_cast[1:50],\n",
    "              palette='Reds_r')\n",
    "plt.show()"
   ]
  },
  {
   "cell_type": "markdown",
   "metadata": {
    "id": "xJv8wc28jKxT"
   },
   "source": [
    "## Data Prepartion"
   ]
  },
  {
   "cell_type": "code",
   "execution_count": 125,
   "metadata": {
    "execution": {
     "iopub.execute_input": "2021-07-12T22:03:02.608366Z",
     "iopub.status.busy": "2021-07-12T22:03:02.607894Z",
     "iopub.status.idle": "2021-07-12T22:03:11.058687Z",
     "shell.execute_reply": "2021-07-12T22:03:11.057571Z",
     "shell.execute_reply.started": "2021-07-12T22:03:02.608335Z"
    },
    "gradient": {},
    "id": "OMMvaMMIJ9nD"
   },
   "outputs": [
    {
     "data": {
      "text/html": [
       "<div>\n",
       "<style scoped>\n",
       "    .dataframe tbody tr th:only-of-type {\n",
       "        vertical-align: middle;\n",
       "    }\n",
       "\n",
       "    .dataframe tbody tr th {\n",
       "        vertical-align: top;\n",
       "    }\n",
       "\n",
       "    .dataframe thead th {\n",
       "        text-align: right;\n",
       "    }\n",
       "</style>\n",
       "<table border=\"1\" class=\"dataframe\">\n",
       "  <thead>\n",
       "    <tr style=\"text-align: right;\">\n",
       "      <th></th>\n",
       "      <th>userId</th>\n",
       "      <th>movieId</th>\n",
       "      <th>rating</th>\n",
       "      <th>timestamp</th>\n",
       "      <th>movie_rating_count</th>\n",
       "      <th>user_rating_count</th>\n",
       "    </tr>\n",
       "  </thead>\n",
       "  <tbody>\n",
       "    <tr>\n",
       "      <th>0</th>\n",
       "      <td>5163</td>\n",
       "      <td>57669</td>\n",
       "      <td>4.0</td>\n",
       "      <td>1518349992</td>\n",
       "      <td>4253</td>\n",
       "      <td>22</td>\n",
       "    </tr>\n",
       "    <tr>\n",
       "      <th>1</th>\n",
       "      <td>5163</td>\n",
       "      <td>2671</td>\n",
       "      <td>1.0</td>\n",
       "      <td>1545511636</td>\n",
       "      <td>5698</td>\n",
       "      <td>22</td>\n",
       "    </tr>\n",
       "    <tr>\n",
       "      <th>2</th>\n",
       "      <td>5163</td>\n",
       "      <td>1247</td>\n",
       "      <td>4.5</td>\n",
       "      <td>1434310106</td>\n",
       "      <td>7569</td>\n",
       "      <td>22</td>\n",
       "    </tr>\n",
       "  </tbody>\n",
       "</table>\n",
       "</div>"
      ],
      "text/plain": [
       "   userId  movieId  rating   timestamp  movie_rating_count  user_rating_count\n",
       "0    5163    57669     4.0  1518349992                4253                 22\n",
       "1    5163     2671     1.0  1545511636                5698                 22\n",
       "2    5163     1247     4.5  1434310106                7569                 22"
      ]
     },
     "metadata": {},
     "output_type": "display_data"
    },
    {
     "name": "stdout",
     "output_type": "stream",
     "text": [
      "(9054351, 6)\n"
     ]
    },
    {
     "data": {
      "text/html": [
       "<div>\n",
       "<style scoped>\n",
       "    .dataframe tbody tr th:only-of-type {\n",
       "        vertical-align: middle;\n",
       "    }\n",
       "\n",
       "    .dataframe tbody tr th {\n",
       "        vertical-align: top;\n",
       "    }\n",
       "\n",
       "    .dataframe thead th {\n",
       "        text-align: right;\n",
       "    }\n",
       "</style>\n",
       "<table border=\"1\" class=\"dataframe\">\n",
       "  <thead>\n",
       "    <tr style=\"text-align: right;\">\n",
       "      <th></th>\n",
       "      <th>userId</th>\n",
       "      <th>movieId</th>\n",
       "      <th>rating</th>\n",
       "      <th>timestamp</th>\n",
       "    </tr>\n",
       "  </thead>\n",
       "  <tbody>\n",
       "    <tr>\n",
       "      <th>0</th>\n",
       "      <td>5163</td>\n",
       "      <td>57669</td>\n",
       "      <td>4.0</td>\n",
       "      <td>1518349992</td>\n",
       "    </tr>\n",
       "    <tr>\n",
       "      <th>1</th>\n",
       "      <td>5163</td>\n",
       "      <td>2671</td>\n",
       "      <td>1.0</td>\n",
       "      <td>1545511636</td>\n",
       "    </tr>\n",
       "    <tr>\n",
       "      <th>2</th>\n",
       "      <td>5163</td>\n",
       "      <td>1247</td>\n",
       "      <td>4.5</td>\n",
       "      <td>1434310106</td>\n",
       "    </tr>\n",
       "  </tbody>\n",
       "</table>\n",
       "</div>"
      ],
      "text/plain": [
       "   userId  movieId  rating   timestamp\n",
       "0    5163    57669     4.0  1518349992\n",
       "1    5163     2671     1.0  1545511636\n",
       "2    5163     1247     4.5  1434310106"
      ]
     },
     "metadata": {},
     "output_type": "display_data"
    },
    {
     "name": "stdout",
     "output_type": "stream",
     "text": [
      "(9054648, 4)\n"
     ]
    }
   ],
   "source": [
    "df_train = train.copy()\n",
    "\n",
    "rating_count = df_train.groupby('movieId')['rating'].count().reset_index()\n",
    "rating_count.rename(columns = {'rating': 'movie_rating_count'}, inplace=True)\n",
    "df_train = df_train.merge(rating_count, on='movieId')\n",
    "\n",
    "user_count = df_train.groupby('userId')['rating'].count().reset_index()\n",
    "user_count.rename(columns={'rating': 'user_rating_count'}, inplace=True)\n",
    "df_train=df_train.merge(user_count, on='userId')\n",
    "\n",
    "mrc = 250\n",
    "urc = 2\n",
    "r = 0.5\n",
    "df_train = df_train[df_train['movie_rating_count'] > mrc]\n",
    "df_train = df_train[df_train['user_rating_count'] > urc]\n",
    "df_train = df_train[df_train['rating'] > r]\n",
    "display(df_train.head(3))\n",
    "print(df_train.shape)\n",
    "df_train.drop(['movie_rating_count','user_rating_count'], 1, inplace=True)\n",
    "\n",
    "a = set(df_train['userId'].tolist())\n",
    "t = set(df_test['userId'].tolist())\n",
    "m = list(t - a)\n",
    "going_home = train[train['userId'].isin(m)].copy()\n",
    "df_train = pd.concat([df_train, going_home], axis = 0)\n",
    "\n",
    "display(df_train.head(3))\n",
    "print(df_train.shape)"
   ]
  },
  {
   "cell_type": "code",
   "execution_count": 137,
   "metadata": {
    "execution": {
     "iopub.execute_input": "2021-07-12T22:03:11.061276Z",
     "iopub.status.busy": "2021-07-12T22:03:11.060657Z",
     "iopub.status.idle": "2021-07-12T22:03:11.070004Z",
     "shell.execute_reply": "2021-07-12T22:03:11.068770Z",
     "shell.execute_reply.started": "2021-07-12T22:03:11.061226Z"
    },
    "gradient": {}
   },
   "outputs": [],
   "source": [
    "def create_features(df, column, features):\n",
    "    \"\"\"Creates features from a column of lists where the list items will be the features.\"\"\"\n",
    "    \n",
    "    features_df = pd.DataFrame(columns = features)\n",
    "    all_features = pd.concat([df, features_df], axis=1)\n",
    "\n",
    "    for i,row in all_features.iterrows():\n",
    "        for feature in features:\n",
    "            if feature in getattr(row,column):\n",
    "                all_features[feature].iloc[i]= 1\n",
    "    all_features = all_features.drop(column, axis=1)\n",
    "    \n",
    "    return all_features"
   ]
  },
  {
   "cell_type": "code",
   "execution_count": 138,
   "metadata": {
    "execution": {
     "iopub.execute_input": "2021-07-12T22:03:11.071807Z",
     "iopub.status.busy": "2021-07-12T22:03:11.071433Z",
     "iopub.status.idle": "2021-07-12T22:03:11.178105Z",
     "shell.execute_reply": "2021-07-12T22:03:11.177064Z",
     "shell.execute_reply.started": "2021-07-12T22:03:11.071776Z"
    },
    "gradient": {}
   },
   "outputs": [],
   "source": [
    "df_imdb.fillna(0, inplace=True)\n",
    "df_imdb.budget = df_imdb.budget.astype(str).apply(lambda x: int(re.sub(\"[^0-9]\", \"\", x)))"
   ]
  },
  {
   "cell_type": "code",
   "execution_count": null,
   "metadata": {
    "execution": {
     "iopub.execute_input": "2021-07-12T22:03:11.180146Z",
     "iopub.status.busy": "2021-07-12T22:03:11.179796Z",
     "iopub.status.idle": "2021-07-12T22:05:05.325406Z",
     "shell.execute_reply": "2021-07-12T22:05:05.322817Z",
     "shell.execute_reply.started": "2021-07-12T22:03:11.180109Z"
    },
    "gradient": {}
   },
   "outputs": [],
   "source": [
    "%%time\n",
    "movies_genres = pd.DataFrame(df_movies[['movieId', 'genres']],\n",
    "                             columns=['movieId', 'genres'])\n",
    "\n",
    "# Split genres seperated by \"|\" and create a list containing the genres allocated to each movie\n",
    "movies_genres.genres = movies_genres.genres.apply(lambda x: x.split('|'))\n",
    "genres = ['Adventure', 'Animation', 'Children', 'Comedy', 'Fantasy',\n",
    "       'Romance', 'Drama', 'Action', 'Crime', 'Thriller', 'Horror',\n",
    "       'Mystery', 'Sci-Fi', 'IMAX', 'Documentary', 'War', 'Musical',\n",
    "       'Western', 'Film-Noir', '(no genres listed)']\n",
    "\n",
    "genre_encode = create_features(movies_genres, 'genres', genres)\n",
    "genre_encode.head(4)"
   ]
  },
  {
   "cell_type": "code",
   "execution_count": null,
   "metadata": {
    "execution": {
     "iopub.execute_input": "2021-07-12T22:05:05.329201Z",
     "iopub.status.busy": "2021-07-12T22:05:05.328696Z",
     "iopub.status.idle": "2021-07-12T22:05:13.207316Z",
     "shell.execute_reply": "2021-07-12T22:05:13.206111Z",
     "shell.execute_reply.started": "2021-07-12T22:05:05.329143Z"
    },
    "gradient": {}
   },
   "outputs": [],
   "source": [
    "%%time\n",
    "cast = pd.DataFrame(df_imdb[['movieId', 'title_cast']],\n",
    "                             columns=['movieId', 'title_cast'])\n",
    "\n",
    "# Split title_cast seperated by \"|\" and create a list containing the cast members in each movie\n",
    "cast.title_cast = cast.title_cast.astype(str).apply(lambda x: x.split('|'))\n",
    "cast_movie = pd.DataFrame([(tup.movieId, d) for tup in cast.itertuples() for d in tup.title_cast],\n",
    "                             columns=['movieId', 'title_cast'])\n",
    "mostc_cast = cast_movie['title_cast'].value_counts(ascending=False).index.tolist()[:21]\n",
    "\n",
    "cast_encode = create_features(cast, 'title_cast', mostc_cast[1:])\n",
    "cast_encode.head(4)"
   ]
  },
  {
   "cell_type": "code",
   "execution_count": null,
   "metadata": {
    "execution": {
     "iopub.execute_input": "2021-07-12T22:05:13.209955Z",
     "iopub.status.busy": "2021-07-12T22:05:13.209514Z",
     "iopub.status.idle": "2021-07-12T22:05:23.456763Z",
     "shell.execute_reply": "2021-07-12T22:05:23.455574Z",
     "shell.execute_reply.started": "2021-07-12T22:05:13.209899Z"
    },
    "gradient": {}
   },
   "outputs": [],
   "source": [
    "gc.collect()\n",
    "del rating_count, user_count, movies_genres, cast, cast_movie\n",
    "sleep(2)"
   ]
  },
  {
   "cell_type": "markdown",
   "metadata": {
    "id": "XsJdiCsmjKxU"
   },
   "source": [
    "## Modelling \n",
    "\n"
   ]
  },
  {
   "cell_type": "markdown",
   "metadata": {
    "id": "sOGusERajKxU"
   },
   "source": [
    "### Collaborative Filtering "
   ]
  },
  {
   "cell_type": "code",
   "execution_count": null,
   "metadata": {
    "gradient": {},
    "id": "aAYejWasjKxT"
   },
   "outputs": [],
   "source": [
    "%%time\n",
    "ratings = df_train.copy()\n",
    "ratings_dict = {'itemID': list(ratings.movieId),\n",
    "                'userID': list(ratings.userId),\n",
    "                'rating': list(ratings.rating)}\n",
    "df = pd.DataFrame(ratings_dict)\n",
    "\n",
    "# A reader is still needed but only the rating_scale param is requiered.\n",
    "reader = Reader(rating_scale=(0.5, 5.0))\n",
    "# The columns must correspond to user id, item id and ratings (in that order).\n",
    "data = Dataset.load_from_df(df[['userID', 'itemID', 'rating']], reader)"
   ]
  },
  {
   "cell_type": "code",
   "execution_count": null,
   "metadata": {
    "gradient": {},
    "id": "VDVxYjAbqG28"
   },
   "outputs": [],
   "source": [
    "%%time\n",
    "trainset, testset = train_test_split(data, test_size=.01, random_state = 1)"
   ]
  },
  {
   "cell_type": "code",
   "execution_count": null,
   "metadata": {
    "gradient": {}
   },
   "outputs": [],
   "source": [
    "gc.collect()\n",
    "del ratings, ratings_dict, df, data\n",
    "sleep(10)"
   ]
  },
  {
   "cell_type": "markdown",
   "metadata": {
    "id": "mqp1sqZZjKxV"
   },
   "source": [
    "#### SVD      (surprise Package)"
   ]
  },
  {
   "cell_type": "code",
   "execution_count": null,
   "metadata": {
    "gradient": {},
    "id": "QlZiAB3-jKxV",
    "outputId": "a60ae704-0424-46f8-bee2-c49257183f35"
   },
   "outputs": [],
   "source": [
    "%%time\n",
    "algo = SVD(verbose=True)\n",
    "# Train the algorithm on the trainset, and predict ratings for the testset\n",
    "algo.fit(trainset)\n",
    "predictions = algo.test(testset)\n",
    "\n",
    "# Compute RMSE\n",
    "accuracy.rmse(predictions)\n",
    "accuracy.mae(predictions)"
   ]
  },
  {
   "cell_type": "code",
   "execution_count": null,
   "metadata": {
    "gradient": {}
   },
   "outputs": [],
   "source": [
    "gc.collect()\n",
    "del algo\n",
    "sleep(10)"
   ]
  },
  {
   "cell_type": "code",
   "execution_count": null,
   "metadata": {
    "gradient": {},
    "id": "s_HCqeKSt-sd",
    "outputId": "658cdf05-e173-403b-bd36-b9981c8793a5"
   },
   "outputs": [],
   "source": [
    "%%time\n",
    "algo = SVD(random_state = 1, n_epochs= 16, verbose=True, n_factors =220, lr_all = 0.016, reg_all =0.02, \n",
    "           init_std_dev = 0.005, init_mean = -0.037)\n",
    "# Train the algorithm on the trainset, and predict ratings for the testset \n",
    "algo.fit(trainset)\n",
    "predictions = algo.test(testset) \n",
    "\n",
    "# Compute RMSE\n",
    "accuracy.rmse(predictions) # RMSE: 0.8028 \n",
    "accuracy.mae(predictions)"
   ]
  },
  {
   "cell_type": "code",
   "execution_count": null,
   "metadata": {
    "gradient": {}
   },
   "outputs": [],
   "source": [
    "gc.collect()\n",
    "del algo, trainset, testset, \n",
    "sleep(10)"
   ]
  },
  {
   "cell_type": "code",
   "execution_count": null,
   "metadata": {
    "gradient": {},
    "id": "4RFfsRSlKc2F",
    "outputId": "ff4c6e03-76f1-4610-dc50-673bbcdfc702"
   },
   "outputs": [],
   "source": [
    "#trainset = data.build_full_trainset()\n",
    "#algo = SVD(random_state = 1, n_epochs= 16, verbose=True, n_factors =220, lr_all = 0.016, reg_all =0.02, init_std_dev = 0.005, init_mean = -0.037)\n",
    "#algo.fit(trainset)"
   ]
  },
  {
   "cell_type": "markdown",
   "metadata": {
    "id": "FwWQnppEKc2G"
   },
   "source": [
    "#### SVD (LibRecommender package)"
   ]
  },
  {
   "cell_type": "code",
   "execution_count": 126,
   "metadata": {
    "gradient": {},
    "id": "2abYRaqOKc2G",
    "outputId": "4d33eb28-0ca8-43d7-9d6e-74d139c5b76f"
   },
   "outputs": [
    {
     "name": "stdout",
     "output_type": "stream",
     "text": [
      "n_users: 162541, n_items: 4869, data sparsity: 1.1327 %\n",
      "CPU times: user 23.3 s, sys: 2.09 s, total: 25.3 s\n",
      "Wall time: 25.4 s\n"
     ]
    }
   ],
   "source": [
    "%%time\n",
    "data = df_train.copy()\n",
    "data.rename(columns={'userId':'user', 'movieId':'item','rating':'label', \n",
    "                               'timestamp':'time'}, inplace=True)\n",
    "\n",
    "# split whole data into three folds for training, evaluating and testing\n",
    "train_data, eval_data, test_data = random_split(data, multi_ratios=[0.99, 0.005, 0.005])\n",
    "\n",
    "train_data, data_info = DatasetPure.build_trainset(train_data)\n",
    "eval_data = DatasetPure.build_evalset(eval_data)\n",
    "test_data = DatasetPure.build_testset(test_data)\n",
    "print(data_info)"
   ]
  },
  {
   "cell_type": "code",
   "execution_count": 127,
   "metadata": {
    "gradient": {},
    "id": "jkHCItyaKc2G"
   },
   "outputs": [],
   "source": [
    "def reset_state(name):\n",
    "    tf.compat.v1.reset_default_graph()\n",
    "    print(\"\\n\", \"=\" * 30, name, \"=\" * 30)"
   ]
  },
  {
   "cell_type": "code",
   "execution_count": 128,
   "metadata": {
    "gradient": {},
    "id": "WKJD4S4MXkqd",
    "outputId": "0a8d744c-5028-48a3-8ab5-69e8396d53bf",
    "scrolled": false
   },
   "outputs": [
    {
     "name": "stdout",
     "output_type": "stream",
     "text": [
      "\n",
      " ============================== libSVD ==============================\n",
      "Training start time: \u001b[35m2021-07-13 07:39:19\u001b[0m\n"
     ]
    },
    {
     "name": "stderr",
     "output_type": "stream",
     "text": [
      "train: 100%|██████████| 897/897 [00:05<00:00, 158.86it/s]\n"
     ]
    },
    {
     "name": "stdout",
     "output_type": "stream",
     "text": [
      "Epoch 1 elapsed: 10.662s\n",
      "\t \u001b[32mtrain_loss: 0.7061\u001b[0m\n"
     ]
    },
    {
     "name": "stderr",
     "output_type": "stream",
     "text": [
      "eval_pred: 100%|██████████| 6/6 [00:00<00:00, 491.15it/s]\n"
     ]
    },
    {
     "name": "stdout",
     "output_type": "stream",
     "text": [
      "\t eval rmse: 0.7916\n",
      "\t eval mae: 0.6115\n",
      "\t eval r2: 0.3686\n",
      "==============================\n"
     ]
    },
    {
     "name": "stderr",
     "output_type": "stream",
     "text": [
      "train: 100%|██████████| 897/897 [00:05<00:00, 161.64it/s]\n"
     ]
    },
    {
     "name": "stdout",
     "output_type": "stream",
     "text": [
      "Epoch 2 elapsed: 10.572s\n",
      "\t \u001b[32mtrain_loss: 0.5844\u001b[0m\n"
     ]
    },
    {
     "name": "stderr",
     "output_type": "stream",
     "text": [
      "eval_pred: 100%|██████████| 6/6 [00:00<00:00, 330.39it/s]\n"
     ]
    },
    {
     "name": "stdout",
     "output_type": "stream",
     "text": [
      "\t eval rmse: 0.7790\n",
      "\t eval mae: 0.6004\n",
      "\t eval r2: 0.3887\n",
      "==============================\n"
     ]
    },
    {
     "name": "stderr",
     "output_type": "stream",
     "text": [
      "train: 100%|██████████| 897/897 [00:05<00:00, 162.01it/s]\n"
     ]
    },
    {
     "name": "stdout",
     "output_type": "stream",
     "text": [
      "Epoch 3 elapsed: 10.498s\n",
      "\t \u001b[32mtrain_loss: 0.5411\u001b[0m\n"
     ]
    },
    {
     "name": "stderr",
     "output_type": "stream",
     "text": [
      "eval_pred: 100%|██████████| 6/6 [00:00<00:00, 557.58it/s]\n"
     ]
    },
    {
     "name": "stdout",
     "output_type": "stream",
     "text": [
      "\t eval rmse: 0.7769\n",
      "\t eval mae: 0.5972\n",
      "\t eval r2: 0.3919\n",
      "==============================\n"
     ]
    },
    {
     "name": "stderr",
     "output_type": "stream",
     "text": [
      "eval_pred: 100%|██████████| 6/6 [00:00<00:00, 582.79it/s]"
     ]
    },
    {
     "name": "stdout",
     "output_type": "stream",
     "text": [
      "evaluate_result:  {'rmse': 0.7752698689951272, 'mae': 0.5934235258232385}\n",
      "CPU times: user 1min 29s, sys: 4.42 s, total: 1min 33s\n",
      "Wall time: 32.6 s\n"
     ]
    },
    {
     "name": "stderr",
     "output_type": "stream",
     "text": [
      "\n"
     ]
    }
   ],
   "source": [
    "%%time\n",
    "reset_state('libSVD')\n",
    "svd_lib = libSVD(task=\"rating\", data_info=data_info, embed_size=8, n_epochs=3, lr=0.005, batch_size=10000, \n",
    "                 batch_sampling=True)  # embed_size=8, n_epochs=3, lr=0.005,batch_size=10000\n",
    "# monitor metrics on eval_data during training\n",
    "svd_lib.fit(train_data, verbose=2, eval_data=eval_data, metrics=[\"rmse\", \"mae\", \"r2\"])\n",
    "\n",
    "# do final evaluation on test data\n",
    "print(\"evaluate_result: \", evaluate(model=svd_lib, data=test_data,\n",
    "                                    metrics=[\"rmse\", \"mae\"]))"
   ]
  },
  {
   "cell_type": "code",
   "execution_count": 129,
   "metadata": {
    "gradient": {}
   },
   "outputs": [
    {
     "name": "stdout",
     "output_type": "stream",
     "text": [
      "prediction:  [4.40771]\n",
      "recommendation:  [(2959, 4.9423904), (296, 4.88998), (288, 4.7672167), (116897, 4.746368), (159817, 4.7333198)]\n"
     ]
    },
    {
     "data": {
      "text/plain": [
       "array([4.40771  , 2.858386 , 4.208558 , 4.4185195, 3.532493 , 4.1347685,\n",
       "       4.1783595, 3.8288686, 4.2823944, 4.167843 ], dtype=float32)"
      ]
     },
     "execution_count": 129,
     "metadata": {},
     "output_type": "execute_result"
    }
   ],
   "source": [
    "print(\"prediction: \", svd_lib.predict(user=5163, item=57669))\n",
    "print(\"recommendation: \", svd_lib.recommend_user(user=5163, n_rec=5))\n",
    "svd_lib.predict(df_train['userId'][:10], df_train['movieId'][:10])"
   ]
  },
  {
   "cell_type": "code",
   "execution_count": 130,
   "metadata": {
    "gradient": {}
   },
   "outputs": [],
   "source": [
    "gc.collect()\n",
    "del data, svd_lib\n",
    "sleep(10)"
   ]
  },
  {
   "cell_type": "markdown",
   "metadata": {
    "id": "4fK-IwqIVrwJ"
   },
   "source": [
    "SVDpp from Librecommender"
   ]
  },
  {
   "cell_type": "code",
   "execution_count": 132,
   "metadata": {
    "gradient": {},
    "id": "pj5KYJeDKc2G",
    "outputId": "d573f996-2b1a-4c71-d00c-8dd43c6fb6e9"
   },
   "outputs": [
    {
     "name": "stdout",
     "output_type": "stream",
     "text": [
      "\n",
      " ============================== SVDpp ==============================\n",
      "Training start time: \u001b[35m2021-07-13 07:42:54\u001b[0m\n"
     ]
    },
    {
     "name": "stderr",
     "output_type": "stream",
     "text": [
      "train: 100%|██████████| 897/897 [11:40<00:00,  1.28it/s]\n"
     ]
    },
    {
     "name": "stdout",
     "output_type": "stream",
     "text": [
      "Epoch 1 elapsed: 705.193s\n",
      "\t \u001b[32mtrain_loss: 0.6592\u001b[0m\n"
     ]
    },
    {
     "name": "stderr",
     "output_type": "stream",
     "text": [
      "eval_pred: 100%|██████████| 6/6 [00:00<00:00, 526.27it/s]\n"
     ]
    },
    {
     "name": "stdout",
     "output_type": "stream",
     "text": [
      "\t eval rmse: 0.7710\n",
      "\t eval mae: 0.5955\n",
      "\t eval r2: 0.4011\n",
      "==============================\n"
     ]
    },
    {
     "name": "stderr",
     "output_type": "stream",
     "text": [
      "train: 100%|██████████| 897/897 [11:32<00:00,  1.30it/s]\n"
     ]
    },
    {
     "name": "stdout",
     "output_type": "stream",
     "text": [
      "Epoch 2 elapsed: 697.318s\n",
      "\t \u001b[32mtrain_loss: 0.5441\u001b[0m\n"
     ]
    },
    {
     "name": "stderr",
     "output_type": "stream",
     "text": [
      "eval_pred: 100%|██████████| 6/6 [00:00<00:00, 545.00it/s]\n"
     ]
    },
    {
     "name": "stdout",
     "output_type": "stream",
     "text": [
      "\t eval rmse: 0.7607\n",
      "\t eval mae: 0.5847\n",
      "\t eval r2: 0.4170\n",
      "==============================\n"
     ]
    },
    {
     "name": "stderr",
     "output_type": "stream",
     "text": [
      "eval_pred: 100%|██████████| 6/6 [00:00<00:00, 538.17it/s]"
     ]
    },
    {
     "name": "stdout",
     "output_type": "stream",
     "text": [
      "evaluate_result:  {'rmse': 0.75702052264262, 'mae': 0.5811714384804062}\n",
      "CPU times: user 30min 26s, sys: 8min 12s, total: 38min 39s\n",
      "Wall time: 23min 31s\n"
     ]
    },
    {
     "name": "stderr",
     "output_type": "stream",
     "text": [
      "\n"
     ]
    }
   ],
   "source": [
    "%%time\n",
    "reset_state('SVDpp')\n",
    "svdpp = SVDpp(task=\"rating\", data_info=data_info, embed_size=16, n_epochs=2, lr=0.0048,batch_size=10000,\n",
    "              batch_sampling=True)  # embed_size=16, n_epochs=2, lr=0.005,batch_size=10000\n",
    "# monitor metrics on eval_data during training\n",
    "svdpp.fit(train_data, verbose=2, eval_data=eval_data, metrics=[\"rmse\", \"mae\", \"r2\"])\n",
    "\n",
    "# do final evaluation on test data\n",
    "print(\"evaluate_result: \", evaluate(model=svdpp, data=test_data,\n",
    "                                    metrics=[\"rmse\", \"mae\"]))"
   ]
  },
  {
   "cell_type": "code",
   "execution_count": 133,
   "metadata": {
    "gradient": {}
   },
   "outputs": [
    {
     "name": "stdout",
     "output_type": "stream",
     "text": [
      "prediction:  [4.354411]\n",
      "recommendation:  [(296, 5.1158895), (6874, 4.8834662), (86345, 4.8747015), (1136, 4.7870274), (7438, 4.7602425)]\n"
     ]
    },
    {
     "data": {
      "text/plain": [
       "array([4.354411 , 3.0401978, 4.0746274, 4.5748396, 3.4525025, 4.2924614,\n",
       "       4.559071 , 3.7208931, 4.2276306, 4.517718 ], dtype=float32)"
      ]
     },
     "execution_count": 133,
     "metadata": {},
     "output_type": "execute_result"
    }
   ],
   "source": [
    "print(\"prediction: \", svdpp.predict(user=5163, item=57669))\n",
    "print(\"recommendation: \", svdpp.recommend_user(user=5163, n_rec=5))\n",
    "svdpp.predict(df_train['userId'][:10], df_train['movieId'][:10])"
   ]
  },
  {
   "cell_type": "code",
   "execution_count": 134,
   "metadata": {
    "gradient": {}
   },
   "outputs": [],
   "source": [
    "gc.collect()\n",
    "del svdpp, train_data, data_info, eval_data, test_data\n",
    "sleep(10)"
   ]
  },
  {
   "cell_type": "markdown",
   "metadata": {
    "id": "hjZSzPYjVkh1"
   },
   "source": [
    "Train SVDpp on full dataset"
   ]
  },
  {
   "cell_type": "code",
   "execution_count": null,
   "metadata": {
    "gradient": {},
    "id": "jurAZ-9oKc2H"
   },
   "outputs": [],
   "source": [
    "# data = pd.read_csv(root_path + 'train.csv', header=0, names = [\"user\", \"item\", \"label\", \"time\"])\n",
    "# train_data, data_info = DatasetPure.build_trainset(data)\n",
    "\n",
    "# reset_state('SVDpp')\n",
    "# svdpp = SVDpp(task=\"rating\", data_info=data_info, embed_size=16, n_epochs=2, lr=0.005,batch_size=10000, batch_sampling=True)\n",
    "# svdpp.fit(train_data, verbose=2)"
   ]
  },
  {
   "cell_type": "markdown",
   "metadata": {
    "id": "_lRUtrfYWMjn"
   },
   "source": [
    "Save SVDpp model"
   ]
  },
  {
   "cell_type": "code",
   "execution_count": null,
   "metadata": {
    "gradient": {},
    "id": "H8NbFKUCnE7y"
   },
   "outputs": [],
   "source": [
    "\"\"\"\n",
    "data_info.save(path=\"SVDpp_model_path\")\n",
    "svdpp.save(path=\"SVDpp_model_path\", model_name=\"svdpp_model\", manual=True,\n",
    "                inference_only=False)\n",
    "\"\"\""
   ]
  },
  {
   "cell_type": "code",
   "execution_count": null,
   "metadata": {
    "gradient": {},
    "id": "5Vu-KxHVnRKY"
   },
   "outputs": [],
   "source": [
    "\"\"\"\n",
    "tf.compat.v1.reset_default_graph()\n",
    "data_info = DataInfo.load(\"SVDpp_model_path\")\n",
    "\n",
    "svdpp_loaded = SVDpp(task=\"rating\", data_info=data_info, embed_size=16, n_epochs=2, \n",
    "                                                lr=0.005,batch_size=10000, batch_sampling=True)\n",
    "\n",
    "data = pd.read_csv(root_path + 'train.csv', header=0, names = [\"user\", \"item\", \"label\", \"time\"])\n",
    "train_data, eval_data, test_data = random_split(data, multi_ratios=[0.99, 0.005, 0.005])\n",
    "train_data, data_info = DatasetPure.build_trainset(train_data)\n",
    "svdpp_loaded.rebuild_graph(path=\"SVDpp_model_path\", model_name=\"svdpp_model\",\n",
    "                        full_assign=True, train_data=train_data)\n",
    "\"\"\""
   ]
  },
  {
   "cell_type": "code",
   "execution_count": null,
   "metadata": {
    "gradient": {},
    "id": "fXWgl8nzQC5H"
   },
   "outputs": [],
   "source": [
    "#svdpp_loaded.predict(df_train['userId'][:10], df_train['movieId'][:10])"
   ]
  },
  {
   "cell_type": "markdown",
   "metadata": {
    "gradient": {
     "editing": false
    },
    "id": "l7xyKU9Uhzzm"
   },
   "source": [
    "### Hybrid Models"
   ]
  },
  {
   "cell_type": "code",
   "execution_count": 135,
   "metadata": {
    "execution": {
     "iopub.execute_input": "2021-07-12T22:05:23.458629Z",
     "iopub.status.busy": "2021-07-12T22:05:23.458247Z",
     "iopub.status.idle": "2021-07-12T22:05:33.419663Z",
     "shell.execute_reply": "2021-07-12T22:05:33.418261Z",
     "shell.execute_reply.started": "2021-07-12T22:05:23.458590Z"
    },
    "gradient": {
     "editing": false
    },
    "id": "Se9n7fokiZPy",
    "outputId": "36da6e84-6653-46af-b127-db3ee25b4082"
   },
   "outputs": [
    {
     "ename": "NameError",
     "evalue": "name 'genre_encode' is not defined",
     "output_type": "error",
     "traceback": [
      "\u001b[0;31m---------------------------------------------------------------------------\u001b[0m",
      "\u001b[0;31mNameError\u001b[0m                                 Traceback (most recent call last)",
      "\u001b[0;32m<timed exec>\u001b[0m in \u001b[0;36m<module>\u001b[0;34m\u001b[0m\n",
      "\u001b[0;31mNameError\u001b[0m: name 'genre_encode' is not defined"
     ]
    }
   ],
   "source": [
    "%%time\n",
    "mergeded_train = df_train.copy()\n",
    "mergeded_train = pd.merge(mergeded_train, genre_encode,on= 'movieId', how='left')\n",
    "mergeded_train = pd.merge(mergeded_train, cast_encode, on= 'movieId', how='left')\n",
    "print(mergeded_train.shape)"
   ]
  },
  {
   "cell_type": "code",
   "execution_count": 136,
   "metadata": {
    "execution": {
     "iopub.execute_input": "2021-07-12T22:05:33.421926Z",
     "iopub.status.busy": "2021-07-12T22:05:33.421498Z",
     "iopub.status.idle": "2021-07-12T22:05:43.631931Z",
     "shell.execute_reply": "2021-07-12T22:05:43.630668Z",
     "shell.execute_reply.started": "2021-07-12T22:05:33.421882Z"
    },
    "gradient": {
     "editing": false
    }
   },
   "outputs": [
    {
     "ename": "NameError",
     "evalue": "name 'genre_encode' is not defined",
     "output_type": "error",
     "traceback": [
      "\u001b[0;31m---------------------------------------------------------------------------\u001b[0m",
      "\u001b[0;31mNameError\u001b[0m                                 Traceback (most recent call last)",
      "\u001b[0;32m<ipython-input-136-9bbbadd7830a>\u001b[0m in \u001b[0;36m<module>\u001b[0;34m\u001b[0m\n\u001b[1;32m      1\u001b[0m \u001b[0mgc\u001b[0m\u001b[0;34m.\u001b[0m\u001b[0mcollect\u001b[0m\u001b[0;34m(\u001b[0m\u001b[0;34m)\u001b[0m\u001b[0;34m\u001b[0m\u001b[0;34m\u001b[0m\u001b[0m\n\u001b[0;32m----> 2\u001b[0;31m \u001b[0;32mdel\u001b[0m \u001b[0mgenre_encode\u001b[0m\u001b[0;34m,\u001b[0m \u001b[0mcast_encode\u001b[0m\u001b[0;34m\u001b[0m\u001b[0;34m\u001b[0m\u001b[0m\n\u001b[0m\u001b[1;32m      3\u001b[0m \u001b[0msleep\u001b[0m\u001b[0;34m(\u001b[0m\u001b[0;36m10\u001b[0m\u001b[0;34m)\u001b[0m\u001b[0;34m\u001b[0m\u001b[0;34m\u001b[0m\u001b[0m\n",
      "\u001b[0;31mNameError\u001b[0m: name 'genre_encode' is not defined"
     ]
    }
   ],
   "source": [
    "gc.collect()\n",
    "del genre_encode, cast_encode\n",
    "sleep(10)"
   ]
  },
  {
   "cell_type": "code",
   "execution_count": null,
   "metadata": {
    "execution": {
     "iopub.execute_input": "2021-07-12T22:05:43.633707Z",
     "iopub.status.busy": "2021-07-12T22:05:43.633372Z",
     "iopub.status.idle": "2021-07-12T22:09:00.666405Z",
     "shell.execute_reply": "2021-07-12T22:09:00.665181Z",
     "shell.execute_reply.started": "2021-07-12T22:05:43.633676Z"
    },
    "gradient": {
     "editing": false
    },
    "id": "jCICZACml9Ja",
    "outputId": "078871a8-e83b-4bd1-863d-a85936301d09",
    "scrolled": true
   },
   "outputs": [
    {
     "name": "stdout",
     "output_type": "stream",
     "text": [
      "CPU times: user 2min 24s, sys: 23.2 s, total: 2min 47s\n",
      "Wall time: 2min 45s\n"
     ]
    },
    {
     "data": {
      "text/html": [
       "<div>\n",
       "<style scoped>\n",
       "    .dataframe tbody tr th:only-of-type {\n",
       "        vertical-align: middle;\n",
       "    }\n",
       "\n",
       "    .dataframe tbody tr th {\n",
       "        vertical-align: top;\n",
       "    }\n",
       "\n",
       "    .dataframe thead th {\n",
       "        text-align: right;\n",
       "    }\n",
       "</style>\n",
       "<table border=\"1\" class=\"dataframe\">\n",
       "  <thead>\n",
       "    <tr style=\"text-align: right;\">\n",
       "      <th></th>\n",
       "      <th>userId</th>\n",
       "      <th>movieId</th>\n",
       "      <th>rating</th>\n",
       "      <th>timestamp</th>\n",
       "      <th>Adventure</th>\n",
       "      <th>Animation</th>\n",
       "      <th>Children</th>\n",
       "      <th>Comedy</th>\n",
       "      <th>Fantasy</th>\n",
       "      <th>Romance</th>\n",
       "      <th>...</th>\n",
       "      <th>Nicolas Cage</th>\n",
       "      <th>Peter Stormare</th>\n",
       "      <th>Stanley Tucci</th>\n",
       "      <th>Julianne Moore</th>\n",
       "      <th>Richard Jenkins</th>\n",
       "      <th>Susan Sarandon</th>\n",
       "      <th>Woody Harrelson</th>\n",
       "      <th>John Goodman</th>\n",
       "      <th>runtime</th>\n",
       "      <th>budget</th>\n",
       "    </tr>\n",
       "  </thead>\n",
       "  <tbody>\n",
       "    <tr>\n",
       "      <th>0</th>\n",
       "      <td>5163</td>\n",
       "      <td>57669</td>\n",
       "      <td>4.0</td>\n",
       "      <td>1518349992</td>\n",
       "      <td>0</td>\n",
       "      <td>0</td>\n",
       "      <td>0</td>\n",
       "      <td>1</td>\n",
       "      <td>0</td>\n",
       "      <td>0</td>\n",
       "      <td>...</td>\n",
       "      <td>0</td>\n",
       "      <td>0</td>\n",
       "      <td>0</td>\n",
       "      <td>0</td>\n",
       "      <td>0</td>\n",
       "      <td>0</td>\n",
       "      <td>0</td>\n",
       "      <td>0</td>\n",
       "      <td>107.0</td>\n",
       "      <td>15000000</td>\n",
       "    </tr>\n",
       "    <tr>\n",
       "      <th>1</th>\n",
       "      <td>87388</td>\n",
       "      <td>57669</td>\n",
       "      <td>3.5</td>\n",
       "      <td>1237455297</td>\n",
       "      <td>0</td>\n",
       "      <td>0</td>\n",
       "      <td>0</td>\n",
       "      <td>1</td>\n",
       "      <td>0</td>\n",
       "      <td>0</td>\n",
       "      <td>...</td>\n",
       "      <td>0</td>\n",
       "      <td>0</td>\n",
       "      <td>0</td>\n",
       "      <td>0</td>\n",
       "      <td>0</td>\n",
       "      <td>0</td>\n",
       "      <td>0</td>\n",
       "      <td>0</td>\n",
       "      <td>107.0</td>\n",
       "      <td>15000000</td>\n",
       "    </tr>\n",
       "    <tr>\n",
       "      <th>2</th>\n",
       "      <td>137050</td>\n",
       "      <td>57669</td>\n",
       "      <td>4.0</td>\n",
       "      <td>1425631854</td>\n",
       "      <td>0</td>\n",
       "      <td>0</td>\n",
       "      <td>0</td>\n",
       "      <td>1</td>\n",
       "      <td>0</td>\n",
       "      <td>0</td>\n",
       "      <td>...</td>\n",
       "      <td>0</td>\n",
       "      <td>0</td>\n",
       "      <td>0</td>\n",
       "      <td>0</td>\n",
       "      <td>0</td>\n",
       "      <td>0</td>\n",
       "      <td>0</td>\n",
       "      <td>0</td>\n",
       "      <td>107.0</td>\n",
       "      <td>15000000</td>\n",
       "    </tr>\n",
       "    <tr>\n",
       "      <th>3</th>\n",
       "      <td>120490</td>\n",
       "      <td>57669</td>\n",
       "      <td>4.5</td>\n",
       "      <td>1408228517</td>\n",
       "      <td>0</td>\n",
       "      <td>0</td>\n",
       "      <td>0</td>\n",
       "      <td>1</td>\n",
       "      <td>0</td>\n",
       "      <td>0</td>\n",
       "      <td>...</td>\n",
       "      <td>0</td>\n",
       "      <td>0</td>\n",
       "      <td>0</td>\n",
       "      <td>0</td>\n",
       "      <td>0</td>\n",
       "      <td>0</td>\n",
       "      <td>0</td>\n",
       "      <td>0</td>\n",
       "      <td>107.0</td>\n",
       "      <td>15000000</td>\n",
       "    </tr>\n",
       "    <tr>\n",
       "      <th>4</th>\n",
       "      <td>50616</td>\n",
       "      <td>57669</td>\n",
       "      <td>4.5</td>\n",
       "      <td>1446941640</td>\n",
       "      <td>0</td>\n",
       "      <td>0</td>\n",
       "      <td>0</td>\n",
       "      <td>1</td>\n",
       "      <td>0</td>\n",
       "      <td>0</td>\n",
       "      <td>...</td>\n",
       "      <td>0</td>\n",
       "      <td>0</td>\n",
       "      <td>0</td>\n",
       "      <td>0</td>\n",
       "      <td>0</td>\n",
       "      <td>0</td>\n",
       "      <td>0</td>\n",
       "      <td>0</td>\n",
       "      <td>107.0</td>\n",
       "      <td>15000000</td>\n",
       "    </tr>\n",
       "  </tbody>\n",
       "</table>\n",
       "<p>5 rows × 46 columns</p>\n",
       "</div>"
      ],
      "text/plain": [
       "   userId  movieId  rating   timestamp  Adventure  Animation  Children  \\\n",
       "0    5163    57669     4.0  1518349992          0          0         0   \n",
       "1   87388    57669     3.5  1237455297          0          0         0   \n",
       "2  137050    57669     4.0  1425631854          0          0         0   \n",
       "3  120490    57669     4.5  1408228517          0          0         0   \n",
       "4   50616    57669     4.5  1446941640          0          0         0   \n",
       "\n",
       "   Comedy  Fantasy  Romance  ...  Nicolas Cage  Peter Stormare  Stanley Tucci  \\\n",
       "0       1        0        0  ...             0               0              0   \n",
       "1       1        0        0  ...             0               0              0   \n",
       "2       1        0        0  ...             0               0              0   \n",
       "3       1        0        0  ...             0               0              0   \n",
       "4       1        0        0  ...             0               0              0   \n",
       "\n",
       "   Julianne Moore  Richard Jenkins  Susan Sarandon  Woody Harrelson  \\\n",
       "0               0                0               0                0   \n",
       "1               0                0               0                0   \n",
       "2               0                0               0                0   \n",
       "3               0                0               0                0   \n",
       "4               0                0               0                0   \n",
       "\n",
       "   John Goodman  runtime    budget  \n",
       "0             0    107.0  15000000  \n",
       "1             0    107.0  15000000  \n",
       "2             0    107.0  15000000  \n",
       "3             0    107.0  15000000  \n",
       "4             0    107.0  15000000  \n",
       "\n",
       "[5 rows x 46 columns]"
      ]
     },
     "execution_count": 15,
     "metadata": {},
     "output_type": "execute_result"
    }
   ],
   "source": [
    "%%time\n",
    "mergeded_train = pd.merge(mergeded_train, df_imdb[['movieId', 'runtime', \n",
    "                                                   'budget']], on= 'movieId').fillna(0)\n",
    "mergeded_train.head()"
   ]
  },
  {
   "cell_type": "code",
   "execution_count": null,
   "metadata": {
    "execution": {
     "iopub.execute_input": "2021-07-12T22:09:00.668343Z",
     "iopub.status.busy": "2021-07-12T22:09:00.668008Z",
     "iopub.status.idle": "2021-07-12T22:09:00.674521Z",
     "shell.execute_reply": "2021-07-12T22:09:00.673303Z",
     "shell.execute_reply.started": "2021-07-12T22:09:00.668309Z"
    },
    "gradient": {
     "editing": false
    },
    "id": "K1DipdeVi1O_",
    "outputId": "20cf672c-a9e3-4187-823f-8d9bcd041868"
   },
   "outputs": [
    {
     "name": "stdout",
     "output_type": "stream",
     "text": [
      "['Adventure', 'Animation', 'Children', 'Comedy', 'Fantasy', 'Romance', 'Drama', 'Action', 'Crime', 'Thriller', 'Horror', 'Mystery', 'Sci-Fi', 'IMAX', 'Documentary', 'War', 'Musical', 'Western', 'Film-Noir', '(no genres listed)', 'Samuel L. Jackson', 'Steve Buscemi', 'Keith David', 'Willem Dafoe', 'Robert De Niro', 'Christopher Walken', 'Gérard Depardieu', 'Brian Cox', 'Danny Glover', 'Morgan Freeman', 'Bruce Willis', 'Alec Baldwin', 'Nicolas Cage', 'Peter Stormare', 'Stanley Tucci', 'Julianne Moore', 'Richard Jenkins', 'Susan Sarandon', 'Woody Harrelson', 'John Goodman', 'runtime', 'budget']\n"
     ]
    }
   ],
   "source": [
    "columns = list(mergeded_train.columns)\n",
    "print(columns[4:])"
   ]
  },
  {
   "cell_type": "code",
   "execution_count": null,
   "metadata": {
    "execution": {
     "iopub.execute_input": "2021-07-12T22:09:00.676025Z",
     "iopub.status.busy": "2021-07-12T22:09:00.675737Z",
     "iopub.status.idle": "2021-07-12T22:10:55.427297Z",
     "shell.execute_reply": "2021-07-12T22:10:55.426315Z",
     "shell.execute_reply.started": "2021-07-12T22:09:00.675998Z"
    },
    "gradient": {
     "editing": false
    },
    "id": "VChnrXGnJs9m"
   },
   "outputs": [],
   "source": [
    "mergeded_train.to_csv('train_feat.csv', index=False)"
   ]
  },
  {
   "cell_type": "code",
   "execution_count": null,
   "metadata": {
    "execution": {
     "iopub.execute_input": "2021-07-12T22:10:55.429550Z",
     "iopub.status.busy": "2021-07-12T22:10:55.428891Z",
     "iopub.status.idle": "2021-07-12T22:10:55.436894Z",
     "shell.execute_reply": "2021-07-12T22:10:55.435678Z",
     "shell.execute_reply.started": "2021-07-12T22:10:55.429501Z"
    },
    "gradient": {
     "editing": false
    }
   },
   "outputs": [],
   "source": [
    "from IPython.display import FileLink\n",
    "FileLink('./train_feat.csv')"
   ]
  },
  {
   "cell_type": "code",
   "execution_count": null,
   "metadata": {
    "execution": {
     "iopub.execute_input": "2021-07-12T22:10:55.440961Z",
     "iopub.status.busy": "2021-07-12T22:10:55.440513Z",
     "iopub.status.idle": "2021-07-12T22:12:15.435769Z",
     "shell.execute_reply": "2021-07-12T22:12:15.434373Z",
     "shell.execute_reply.started": "2021-07-12T22:10:55.440914Z"
    },
    "gradient": {
     "editing": false
    },
    "id": "ikMqxXnoUQPL",
    "outputId": "a6b1e898-f69e-4770-9331-e2e6dcaa6d10"
   },
   "outputs": [
    {
     "name": "stdout",
     "output_type": "stream",
     "text": [
      "n_users: 160815, n_items: 11637, data sparsity: 0.5052 %\n",
      "CPU times: user 1min 31s, sys: 14.8 s, total: 1min 46s\n",
      "Wall time: 1min 46s\n"
     ]
    }
   ],
   "source": [
    "%%time\n",
    "mergeded_train = pd.read_csv('./train_feat.csv')\n",
    "mergeded_train.rename(columns={'userId':'user', 'movieId':'item','rating':'label', \n",
    "                               'timestamp':'time'}, inplace=True)\n",
    "\n",
    "columns = list(mergeded_train.columns)\n",
    "sparse_col = columns[4:]\n",
    "item_col = columns[4:]\n",
    "\n",
    "# split whole data into three folds for training, evaluating and testing\n",
    "train_data, eval_data, test_data = random_split(\n",
    "    mergeded_train, multi_ratios=[0.99, 0.005, 0.005])\n",
    "\n",
    "train_data, data_info = DatasetFeat.build_trainset(train_data, item_col=item_col,\n",
    "                                                   sparse_col=sparse_col)\n",
    "eval_data = DatasetFeat.build_evalset(eval_data)\n",
    "test_data = DatasetFeat.build_testset(test_data)\n",
    "print(data_info)"
   ]
  },
  {
   "cell_type": "code",
   "execution_count": null,
   "metadata": {
    "execution": {
     "iopub.execute_input": "2021-07-12T22:12:15.438384Z",
     "iopub.status.busy": "2021-07-12T22:12:15.437932Z",
     "iopub.status.idle": "2021-07-12T22:12:25.681742Z",
     "shell.execute_reply": "2021-07-12T22:12:25.680458Z",
     "shell.execute_reply.started": "2021-07-12T22:12:15.438333Z"
    },
    "gradient": {
     "editing": false
    }
   },
   "outputs": [],
   "source": [
    "gc.collect()\n",
    "del mergeded_train, columns, sparse_col, item_col\n",
    "sleep(10)"
   ]
  },
  {
   "cell_type": "code",
   "execution_count": null,
   "metadata": {
    "gradient": {},
    "id": "-CvwwsGYTXS5",
    "outputId": "6368d06a-d62f-4299-86b4-32cc2523d129"
   },
   "outputs": [
    {
     "name": "stdout",
     "output_type": "stream",
     "text": [
      "\n",
      " ============================== FM ==============================\n",
      "Training start time: \u001b[35m2021-07-13 03:39:12\u001b[0m\n",
      "total params: \u001b[33m2,945,480\u001b[0m | embedding params: \u001b[33m2,945,388\u001b[0m | network params: \u001b[33m92\u001b[0m\n",
      "With lr_decay, epoch 1 learning rate: 0.004999999888241291\n"
     ]
    },
    {
     "name": "stderr",
     "output_type": "stream",
     "text": [
      "train: 100%|██████████| 946/946 [00:35<00:00, 26.84it/s]\n"
     ]
    },
    {
     "name": "stdout",
     "output_type": "stream",
     "text": [
      "Epoch 1 elapsed: 47.683s\n",
      "\t \u001b[32mtrain_loss: 0.9603\u001b[0m\n"
     ]
    },
    {
     "name": "stderr",
     "output_type": "stream",
     "text": [
      "eval_pred: 100%|██████████| 6/6 [00:00<00:00, 65.42it/s]\n"
     ]
    },
    {
     "name": "stdout",
     "output_type": "stream",
     "text": [
      "\t eval rmse: 0.8466\n",
      "\t eval mae: 0.6478\n",
      "\t eval r2: 0.3591\n",
      "==============================\n",
      "With lr_decay, epoch 2 learning rate: 0.004799999762326479\n"
     ]
    },
    {
     "name": "stderr",
     "output_type": "stream",
     "text": [
      "train: 100%|██████████| 946/946 [00:35<00:00, 26.83it/s]\n"
     ]
    },
    {
     "name": "stdout",
     "output_type": "stream",
     "text": [
      "Epoch 2 elapsed: 47.443s\n",
      "\t \u001b[32mtrain_loss: 0.6868\u001b[0m\n"
     ]
    },
    {
     "name": "stderr",
     "output_type": "stream",
     "text": [
      "eval_pred: 100%|██████████| 6/6 [00:00<00:00, 97.81it/s]\n"
     ]
    },
    {
     "name": "stdout",
     "output_type": "stream",
     "text": [
      "\t eval rmse: 0.8289\n",
      "\t eval mae: 0.6331\n",
      "\t eval r2: 0.3856\n",
      "==============================\n",
      "With lr_decay, epoch 3 learning rate: 0.004607999697327614\n"
     ]
    },
    {
     "name": "stderr",
     "output_type": "stream",
     "text": [
      "train: 100%|██████████| 946/946 [00:35<00:00, 26.65it/s]\n"
     ]
    },
    {
     "name": "stdout",
     "output_type": "stream",
     "text": [
      "Epoch 3 elapsed: 46.810s\n",
      "\t \u001b[32mtrain_loss: 0.6436\u001b[0m\n"
     ]
    },
    {
     "name": "stderr",
     "output_type": "stream",
     "text": [
      "eval_pred: 100%|██████████| 6/6 [00:00<00:00, 91.16it/s]\n"
     ]
    },
    {
     "name": "stdout",
     "output_type": "stream",
     "text": [
      "\t eval rmse: 0.8278\n",
      "\t eval mae: 0.6233\n",
      "\t eval r2: 0.3871\n",
      "==============================\n",
      "With lr_decay, epoch 4 learning rate: 0.004423679783940315\n"
     ]
    },
    {
     "name": "stderr",
     "output_type": "stream",
     "text": [
      "train: 100%|██████████| 946/946 [00:35<00:00, 26.99it/s]\n"
     ]
    },
    {
     "name": "stdout",
     "output_type": "stream",
     "text": [
      "Epoch 4 elapsed: 47.243s\n",
      "\t \u001b[32mtrain_loss: 0.6015\u001b[0m\n"
     ]
    },
    {
     "name": "stderr",
     "output_type": "stream",
     "text": [
      "eval_pred: 100%|██████████| 6/6 [00:00<00:00, 98.63it/s]\n"
     ]
    },
    {
     "name": "stdout",
     "output_type": "stream",
     "text": [
      "\t eval rmse: 0.8145\n",
      "\t eval mae: 0.6199\n",
      "\t eval r2: 0.4067\n",
      "==============================\n"
     ]
    },
    {
     "name": "stderr",
     "output_type": "stream",
     "text": [
      "eval_pred: 100%|██████████| 6/6 [00:00<00:00, 100.69it/s]"
     ]
    },
    {
     "name": "stdout",
     "output_type": "stream",
     "text": [
      "evaluate_result:  {'rmse': 0.8163677478595579, 'mae': 0.62342481337356}\n",
      "CPU times: user 13min 7s, sys: 1min 8s, total: 14min 16s\n",
      "Wall time: 3min 12s\n"
     ]
    },
    {
     "name": "stderr",
     "output_type": "stream",
     "text": [
      "\n"
     ]
    }
   ],
   "source": [
    "%%time\n",
    "reset_state(\"FM\")\n",
    "fm = FM(\"rating\", data_info, embed_size=16, n_epochs=4,\n",
    "            lr=0.005, lr_decay=True, reg=None, batch_size=10000,\n",
    "            num_neg=1, use_bn=True, dropout_rate=None, tf_sess_config=None)\n",
    "fm.fit(train_data, verbose=2, shuffle=True, eval_data=eval_data,\n",
    "           metrics=[\"rmse\", \"mae\", \"r2\"])\n",
    "\n",
    "# do final evaluation on test data\n",
    "print(\"evaluate_result: \", evaluate(model=fm, data=test_data,\n",
    "                                    metrics=[\"rmse\", \"mae\"]))"
   ]
  },
  {
   "cell_type": "code",
   "execution_count": null,
   "metadata": {
    "gradient": {
     "editing": false
    }
   },
   "outputs": [],
   "source": [
    "gc.collect()\n",
    "del fm\n",
    "sleep(10)"
   ]
  },
  {
   "cell_type": "code",
   "execution_count": null,
   "metadata": {
    "gradient": {
     "editing": false
    },
    "id": "brd0COvWTXWO"
   },
   "outputs": [],
   "source": [
    "%%time\n",
    "reset_state(\"Wide_Deep\")\n",
    "wd = WideDeep(\"rating\", data_info, embed_size=16, n_epochs=2,\n",
    "              lr={\"wide\": 0.01, \"deep\": 1e-4}, lr_decay=False, reg=None,\n",
    "              batch_size=100000, num_neg=1, use_bn=False, dropout_rate=None,\n",
    "              hidden_units=\"128,64,32\", tf_sess_config=None)\n",
    "wd.fit(train_data, verbose=2, shuffle=True, eval_data=eval_data,\n",
    "       metrics=[\"rmse\", \"mae\", \"r2\"])\n",
    "# do final evaluation on test data\n",
    "print(\"evaluate_result: \", evaluate(model=wd, data=test_data,\n",
    "                                    metrics=[\"rmse\", \"mae\"]))"
   ]
  },
  {
   "cell_type": "code",
   "execution_count": null,
   "metadata": {
    "gradient": {
     "editing": false
    }
   },
   "outputs": [],
   "source": [
    "gc.collect()\n",
    "del wd\n",
    "sleep(10)"
   ]
  },
  {
   "cell_type": "code",
   "execution_count": null,
   "metadata": {
    "gradient": {
     "editing": false
    },
    "id": "2gbrNStXTXZ-"
   },
   "outputs": [
    {
     "name": "stdout",
     "output_type": "stream",
     "text": [
      "\n",
      " ============================== DeepFM ==============================\n",
      "Training start time: \u001b[35m2021-07-13 04:00:33\u001b[0m\n",
      "total params: \u001b[33m3,046,729\u001b[0m | embedding params: \u001b[33m2,945,640\u001b[0m | network params: \u001b[33m101,089\u001b[0m\n",
      "With lr_decay, epoch 1 learning rate: 0.004999999888241291\n"
     ]
    },
    {
     "name": "stderr",
     "output_type": "stream",
     "text": [
      "train: 100%|██████████| 4617/4617 [01:39<00:00, 46.44it/s]\n"
     ]
    },
    {
     "name": "stdout",
     "output_type": "stream",
     "text": [
      "Epoch 1 elapsed: 110.852s\n",
      "\t \u001b[32mtrain_loss: 0.7631\u001b[0m\n"
     ]
    },
    {
     "name": "stderr",
     "output_type": "stream",
     "text": [
      "eval_pred: 100%|██████████| 6/6 [00:00<00:00, 46.11it/s]\n"
     ]
    },
    {
     "name": "stdout",
     "output_type": "stream",
     "text": [
      "\t eval rmse: 0.8292\n",
      "\t eval mae: 0.6298\n",
      "\t eval r2: 0.3852\n",
      "==============================\n",
      "With lr_decay, epoch 2 learning rate: 0.004799999762326479\n"
     ]
    },
    {
     "name": "stderr",
     "output_type": "stream",
     "text": [
      "train: 100%|██████████| 4617/4617 [01:39<00:00, 46.41it/s]\n"
     ]
    },
    {
     "name": "stdout",
     "output_type": "stream",
     "text": [
      "Epoch 2 elapsed: 111.037s\n",
      "\t \u001b[32mtrain_loss: 0.6424\u001b[0m\n"
     ]
    },
    {
     "name": "stderr",
     "output_type": "stream",
     "text": [
      "eval_pred: 100%|██████████| 6/6 [00:00<00:00, 50.92it/s]\n"
     ]
    },
    {
     "name": "stdout",
     "output_type": "stream",
     "text": [
      "\t eval rmse: 0.8114\n",
      "\t eval mae: 0.6160\n",
      "\t eval r2: 0.4113\n",
      "==============================\n",
      "With lr_decay, epoch 3 learning rate: 0.004607999697327614\n"
     ]
    },
    {
     "name": "stderr",
     "output_type": "stream",
     "text": [
      "train: 100%|██████████| 4617/4617 [01:39<00:00, 46.58it/s]\n"
     ]
    },
    {
     "name": "stdout",
     "output_type": "stream",
     "text": [
      "Epoch 3 elapsed: 109.608s\n",
      "\t \u001b[32mtrain_loss: 0.5855\u001b[0m\n"
     ]
    },
    {
     "name": "stderr",
     "output_type": "stream",
     "text": [
      "eval_pred: 100%|██████████| 6/6 [00:00<00:00, 57.72it/s]\n"
     ]
    },
    {
     "name": "stdout",
     "output_type": "stream",
     "text": [
      "\t eval rmse: 0.8049\n",
      "\t eval mae: 0.6080\n",
      "\t eval r2: 0.4206\n",
      "==============================\n"
     ]
    },
    {
     "name": "stderr",
     "output_type": "stream",
     "text": [
      "eval_pred: 100%|██████████| 6/6 [00:00<00:00, 59.07it/s]"
     ]
    },
    {
     "name": "stdout",
     "output_type": "stream",
     "text": [
      "evaluate_result:  {'rmse': 0.8039755756837164, 'mae': 0.6074580627477099}\n",
      "CPU times: user 28min 18s, sys: 54.7 s, total: 29min 13s\n",
      "Wall time: 5min 33s\n"
     ]
    },
    {
     "name": "stderr",
     "output_type": "stream",
     "text": [
      "\n"
     ]
    }
   ],
   "source": [
    "%%time\n",
    "reset_state(\"DeepFM\")\n",
    "deepfm = DeepFM(\"rating\", data_info, embed_size=16, n_epochs=3,\n",
    "                lr=5e-3, lr_decay=True, reg=None, batch_size=2048,\n",
    "                num_neg=1, use_bn=False, dropout_rate=None,\n",
    "                hidden_units=\"128,64,32,16,8,4\", tf_sess_config=None)\n",
    "deepfm.fit(train_data, verbose=2, shuffle=True, eval_data=eval_data,\n",
    "           metrics=[\"rmse\", \"mae\", \"r2\"])\n",
    "\n",
    "print(\"evaluate_result: \", evaluate(model=deepfm, data=test_data,\n",
    "                                    metrics=[\"rmse\", \"mae\"]))"
   ]
  },
  {
   "cell_type": "code",
   "execution_count": null,
   "metadata": {
    "gradient": {
     "editing": false
    }
   },
   "outputs": [],
   "source": [
    "gc.collect()\n",
    "del deepfm\n",
    "sleep(10)"
   ]
  },
  {
   "cell_type": "code",
   "execution_count": null,
   "metadata": {
    "execution": {
     "iopub.execute_input": "2021-07-12T22:13:05.193536Z",
     "iopub.status.busy": "2021-07-12T22:13:05.193115Z"
    },
    "gradient": {
     "editing": false
    },
    "id": "uQ6kijxZTXdP"
   },
   "outputs": [
    {
     "name": "stdout",
     "output_type": "stream",
     "text": [
      "\n",
      " ============================== AutoInt ==============================\n",
      "Training start time: \u001b[35m2021-07-13 04:07:50\u001b[0m\n",
      "With lr_decay, epoch 1 learning rate: 0.004999999888241291\n"
     ]
    },
    {
     "name": "stderr",
     "output_type": "stream",
     "text": [
      "train:  90%|█████████ | 4158/4617 [23:07<02:49,  2.71it/s]  "
     ]
    }
   ],
   "source": [
    "%%time\n",
    "reset_state(\"AutoInt\")\n",
    "autoint = AutoInt(\"rating\", data_info, embed_size=16, n_epochs=2,\n",
    "                  att_embed_size=(8, 8, 8), num_heads=4, use_residual=False,\n",
    "                  lr=0.005, lr_decay=True, reg=None, batch_size=2048,\n",
    "                  num_neg=1, use_bn=False, dropout_rate=None,\n",
    "                  hidden_units=\"128,64,32\", tf_sess_config=None)\n",
    "autoint.fit(train_data, verbose=2, shuffle=True, eval_data=eval_data,\n",
    "            metrics=[\"rmse\", \"mae\", \"r2\"])"
   ]
  },
  {
   "cell_type": "code",
   "execution_count": null,
   "metadata": {
    "execution": {
     "iopub.execute_input": "2021-07-12T21:58:13.878020Z",
     "iopub.status.busy": "2021-07-12T21:58:13.877630Z",
     "iopub.status.idle": "2021-07-12T21:58:24.127490Z",
     "shell.execute_reply": "2021-07-12T21:58:24.126394Z",
     "shell.execute_reply.started": "2021-07-12T21:58:13.877989Z"
    },
    "gradient": {
     "editing": false
    }
   },
   "outputs": [],
   "source": [
    "gc.collect()\n",
    "del autoint\n",
    "sleep(10)"
   ]
  },
  {
   "cell_type": "markdown",
   "metadata": {
    "gradient": {
     "editing": false
    },
    "id": "ei4PIZBOjKxV"
   },
   "source": [
    "\n",
    "### Create Submission\n",
    "Hit the blue Publish button at the top of your notebook screen. It will take some time for your kernel to run. When it has finished your navigation bar at the top of the screen will have a tab for Output. This only shows up if you have written an output file (like we did in the Prepare Submission File step)."
   ]
  },
  {
   "cell_type": "code",
   "execution_count": null,
   "metadata": {
    "gradient": {
     "editing": false
    },
    "id": "w0YDZdK-Kc2O"
   },
   "outputs": [],
   "source": [
    "\"\"\"\n",
    "# Pickle The Model\n",
    "model_save_path = \"SVD_tunedA1.pkl\"\n",
    "with open(model_save_path,'wb') as file:\n",
    "    pickle.dump(algo,file)\n",
    "\"\"\""
   ]
  },
  {
   "cell_type": "code",
   "execution_count": null,
   "metadata": {
    "gradient": {},
    "id": "DOpVMc-mKc2O"
   },
   "outputs": [],
   "source": [
    "\"\"\"\n",
    "model_load_path = \"/content/drive/MyDrive/Unsupervised Models/SVD_tunedA1.pkl\"\n",
    "with open(model_load_path,'rb') as file:\n",
    "    algo = pickle.load(file)\n",
    "\"\"\""
   ]
  },
  {
   "cell_type": "code",
   "execution_count": null,
   "metadata": {
    "gradient": {},
    "id": "b5iJZrLGjKxV"
   },
   "outputs": [],
   "source": [
    "def create_submission(algo, save_name):\n",
    "    \n",
    "    ratings_predictions = [algo.predict(row.userId, row.movieId) for _,row in df_test.iterrows()]\n",
    "    df_pred = pd.DataFrame(ratings_predictions)\n",
    "    df_pred = df_pred.rename(columns={'uid':'userId', 'iid':'movieId','est':'rating'})\n",
    "    df_pred.drop(['r_ui','details'],axis=1,inplace=True)\n",
    "    # Create ID column\n",
    "    df_pred['Id'] = df_pred.apply(lambda x:'%s_%s' % (x['userId'],x['movieId']),axis=1)\n",
    "    df_pred['Id'] = df_pred.apply(lambda x:'%s_%s' % (x['userId'],x['movieId']),axis=1)\n",
    "    df_pred = df_pred[['Id', 'rating']]\n",
    "    df_pred.to_csv(save_name + '.csv', index=False)\n",
    "    \n",
    "    return pd.read_csv('./' + save_name + '.csv')\n",
    "\n",
    "def create_librec_submission(svdpp, save_name)\n",
    "    svdpp_pred = svdpp.predict(df_test['userId'], df_test['movieId'], cold_start= \"popular\")\n",
    "    df_pred =df_test.copy()\n",
    "    df_pred['rating'] = svdpp_pred\n",
    "    df_pred['Id'] = df_pred.apply(lambda x:'%s_%s' % (x['userId'],x['movieId']),axis=1)\n",
    "    df_pred['Id'] = df_pred.apply(lambda x:'%s_%s' % (x['userId'],x['movieId']),axis=1)\n",
    "    df_pred = df_pred[['Id', 'rating']]\n",
    "    df_pred.to_csv(save_name + '.csv', index=False)\n",
    "    return pd.read_csv('./' + save_name + '.csv')"
   ]
  },
  {
   "cell_type": "code",
   "execution_count": null,
   "metadata": {
    "gradient": {},
    "id": "iZitmvpFjKxW"
   },
   "outputs": [],
   "source": [
    "\"\"\"%%time\n",
    "submission = create_submission(algo, 'SVD_tunedA1')\n",
    "submission.head(10)\"\"\""
   ]
  },
  {
   "cell_type": "code",
   "execution_count": null,
   "metadata": {
    "gradient": {}
   },
   "outputs": [],
   "source": [
    "\"\"\"%%time\n",
    "librec_submission = create_librec_submission(svdpp, 'SVDpp_librecA')\n",
    "librec_submission.head(10)\"\"\""
   ]
  },
  {
   "cell_type": "code",
   "execution_count": null,
   "metadata": {
    "gradient": {},
    "id": "YBCv2DSwO2Cl",
    "outputId": "1bcf645c-ecbd-4303-a337-14c493547f52"
   },
   "outputs": [],
   "source": [
    "\"\"\"from google.colab import drive\n",
    "drive.mount('/content/drive')\"\"\""
   ]
  },
  {
   "cell_type": "code",
   "execution_count": null,
   "metadata": {
    "gradient": {},
    "id": "9DiZ8JwjzNZv",
    "outputId": "5ce341bc-7552-40c7-c57a-24f3d6fa3099"
   },
   "outputs": [],
   "source": [
    "#!wget 'https://nek225hf93.clg07azjl.paperspacegradient.com/files/train_feat.csv'"
   ]
  },
  {
   "cell_type": "code",
   "execution_count": null,
   "metadata": {
    "gradient": {},
    "id": "L7go5VSTKc2P"
   },
   "outputs": [],
   "source": [
    "#cp \"/content/train_feat.csv\" \"/content/drive/MyDrive/Unsupervised Models\""
   ]
  },
  {
   "cell_type": "code",
   "execution_count": null,
   "metadata": {
    "gradient": {}
   },
   "outputs": [],
   "source": []
  },
  {
   "cell_type": "code",
   "execution_count": null,
   "metadata": {
    "gradient": {}
   },
   "outputs": [],
   "source": [
    "def load_movie_titles(df):\n",
    "    \"\"\"Load movie titles from database records.\n",
    "    Parameters\n",
    "    ----------\n",
    "    path_to_movies : str\n",
    "        Relative or absolute path to movie database stored\n",
    "        in .csv format.\n",
    "    Returns\n",
    "    -------\n",
    "    list[str]\n",
    "        Movie titles.\n",
    "    \"\"\"\n",
    "    df = df.dropna()\n",
    "    movie_list = df['title'].to_list()\n",
    "    return movie_list\n",
    "\n",
    "title_list = load_movie_titles(df_movies)\n",
    "df_movies[14930:15200]\n",
    "df_movies[25055:25255]\n",
    "df_movies[21100:21200]"
   ]
  }
 ],
 "metadata": {
  "kernelspec": {
   "display_name": "Python 3",
   "language": "python",
   "name": "python3"
  },
  "language_info": {
   "codemirror_mode": {
    "name": "ipython",
    "version": 3
   },
   "file_extension": ".py",
   "mimetype": "text/x-python",
   "name": "python",
   "nbconvert_exporter": "python",
   "pygments_lexer": "ipython3",
   "version": "3.6.8"
  }
 },
 "nbformat": 4,
 "nbformat_minor": 4
}

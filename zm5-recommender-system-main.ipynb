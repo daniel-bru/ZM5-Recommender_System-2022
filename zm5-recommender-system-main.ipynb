{
 "cells": [
  {
   "cell_type": "markdown",
   "metadata": {
    "id": "y9Bg4XjvjKxG"
   },
   "source": [
    "### TEAM ZM5\n",
    "\n",
    "# EDSA MOVIE RECOMMENDATION CHALLENGE "
   ]
  },
  {
   "cell_type": "markdown",
   "metadata": {
    "id": "_oWYY8ihjKxH"
   },
   "source": [
    "### Installing packages\n",
    "Please download all relevant packages in. There is no terminal so you will need to pip install everything."
   ]
  },
  {
   "cell_type": "code",
   "execution_count": 1,
   "metadata": {
    "colab": {
     "base_uri": "https://localhost:8080/"
    },
    "id": "Tx223iVkjPVS",
    "outputId": "b408e89f-f72e-47e2-d12c-7f313dd4dc02"
   },
   "outputs": [],
   "source": [
    "#!wget \"https://storage.googleapis.com/kaggle-competitions-data/kaggle-v2/27685/2229266/bundle/archive.zip?GoogleAccessId=web-data@kaggle-161607.iam.gserviceaccount.com&Expires=1626119890&Signature=RvOBNnir2bFl4hFPSH%2BHXmXKo75wdgbykpMl2SAWO%2FvM3uvSpT60IxVyI5dFDpBzi%2FKs0ljnJ59nOlHwqMe6zrFEj%2F1v3rS0oZJAn5iJFnO9QnwFMnhpf9IQJFUFHitvZ%2F9VF8zD7vMnK1QioodteZUxYc458hfBSHtZaBXq9KaurVFJf8c21KMm%2FxKz9KOKyLKx8nTDogkIUdK%2FQ852tUQrUTaUxS376BENKmzBhtukOiizqESj3ihlJ%2BFNsMPWGetf0IFm0x8GTWO5lfH5mcOHKi43sirvrCe2tR1ANbgVh34uwo7N9B9jec%2FOa%2F8iAR%2F4IiDCzJsU3tv1ydBVJA%3D%3D&response-content-disposition=attachment%3B+filename%3Dedsa-movie-recommendation-challenge.zip\""
   ]
  },
  {
   "cell_type": "code",
   "execution_count": 2,
   "metadata": {
    "colab": {
     "base_uri": "https://localhost:8080/"
    },
    "id": "KU1KjlyDjV3s",
    "outputId": "2850692c-1ee6-4eec-e85c-1be3a753ae1c"
   },
   "outputs": [],
   "source": [
    "#!unzip '/content/archive.zip?GoogleAccessId=web-data@kaggle-161607.iam.gserviceaccount.com&Expires=1626119890&Signature=RvOBNnir2bFl4hFPSH+HXmXKo75wdgbykpMl2SAWO%2FvM3uvSpT60IxVyI5dFDpBzi%2FKs0ljnJ59nOlHwqMe6zrFEj%2F1v3rS0oZJAn5iJFnO9QnwFMnhpf9IQJFUFHit'"
   ]
  },
  {
   "cell_type": "code",
   "execution_count": 3,
   "metadata": {
    "colab": {
     "base_uri": "https://localhost:8080/"
    },
    "id": "nbaVdXOxKc13",
    "outputId": "15127e0f-a194-4699-b01e-a297496f7be2"
   },
   "outputs": [],
   "source": [
    "#!pip install LibRecommender\n",
    "#!pip install surprise\n",
    "#!pip install comet_ml"
   ]
  },
  {
   "cell_type": "markdown",
   "metadata": {
    "id": "YxYt1RtwjKxI"
   },
   "source": [
    "### Imports"
   ]
  },
  {
   "cell_type": "code",
   "execution_count": 5,
   "metadata": {
    "execution": {
     "iopub.execute_input": "2021-07-10T13:04:46.019196Z",
     "iopub.status.busy": "2021-07-10T13:04:46.018815Z",
     "iopub.status.idle": "2021-07-10T13:04:46.630303Z",
     "shell.execute_reply": "2021-07-10T13:04:46.629108Z",
     "shell.execute_reply.started": "2021-07-10T13:04:46.019153Z"
    },
    "id": "HYWRCCuQ6C7x"
   },
   "outputs": [],
   "source": [
    "import comet_ml"
   ]
  },
  {
   "cell_type": "code",
   "execution_count": 6,
   "metadata": {
    "execution": {
     "iopub.execute_input": "2021-07-10T13:04:46.634338Z",
     "iopub.status.busy": "2021-07-10T13:04:46.633939Z",
     "iopub.status.idle": "2021-07-10T13:04:46.639409Z",
     "shell.execute_reply": "2021-07-10T13:04:46.637966Z",
     "shell.execute_reply.started": "2021-07-10T13:04:46.634303Z"
    },
    "id": "77cGEgEYjKxI"
   },
   "outputs": [],
   "source": [
    "# First import comet_ml at the top of your file\n",
    "from comet_ml import Experiment"
   ]
  },
  {
   "cell_type": "code",
   "execution_count": 7,
   "metadata": {
    "colab": {
     "base_uri": "https://localhost:8080/"
    },
    "execution": {
     "iopub.execute_input": "2021-07-10T13:04:46.642056Z",
     "iopub.status.busy": "2021-07-10T13:04:46.641660Z",
     "iopub.status.idle": "2021-07-10T13:04:51.389924Z",
     "shell.execute_reply": "2021-07-10T13:04:51.388721Z",
     "shell.execute_reply.started": "2021-07-10T13:04:46.642003Z"
    },
    "id": "yYErFeM2jKxJ",
    "outputId": "dac0dad4-461b-4274-90ca-43967aa1f550"
   },
   "outputs": [
    {
     "name": "stderr",
     "output_type": "stream",
     "text": [
      "COMET WARNING: As you are running in a Jupyter environment, you will need to call `experiment.end()` when finished to ensure all metrics and code are logged before exiting.\n",
      "COMET INFO: Experiment is live on comet.ml https://www.comet.ml/daniel-bru/movie-reccomender-edsa/dd6f7bd11f7049869dc220aea3d1401c\n",
      "\n"
     ]
    }
   ],
   "source": [
    "# Create an experiment with your api key for version control\n",
    "experiment = Experiment(\n",
    "    api_key=\"amGQj1TC3Wyk9LYf7bD9xNV6G\",\n",
    "    project_name=\"movie-reccomender-edsa\",\n",
    "    workspace=\"daniel-bru\",\n",
    ")"
   ]
  },
  {
   "cell_type": "code",
   "execution_count": 9,
   "metadata": {
    "colab": {
     "base_uri": "https://localhost:8080/"
    },
    "execution": {
     "iopub.execute_input": "2021-07-10T15:59:44.079147Z",
     "iopub.status.busy": "2021-07-10T15:59:44.078647Z",
     "iopub.status.idle": "2021-07-10T15:59:44.102234Z",
     "shell.execute_reply": "2021-07-10T15:59:44.100977Z",
     "shell.execute_reply.started": "2021-07-10T15:59:44.079110Z"
    },
    "id": "Yk6ypS-4jKxK",
    "outputId": "fcc65141-7eb0-4680-b804-72765a6d8b0c"
   },
   "outputs": [
    {
     "name": "stdout",
     "output_type": "stream",
     "text": [
      "WARNING:tensorflow:From /usr/local/lib/python3.7/dist-packages/tensorflow/python/compat/v2_compat.py:96: disable_resource_variables (from tensorflow.python.ops.variable_scope) is deprecated and will be removed in a future version.\n",
      "Instructions for updating:\n",
      "non-resource variables are not supported in the long term\n"
     ]
    }
   ],
   "source": [
    "# Install packages here\n",
    "# Packages for data processing\n",
    "import numpy as np\n",
    "import pandas as pd\n",
    "import datetime\n",
    "from sklearn import preprocessing\n",
    "from sklearn.datasets import make_blobs\n",
    "from sklearn.preprocessing import StandardScaler\n",
    "from sklearn.feature_extraction.text import TfidfVectorizer\n",
    "from sklearn.metrics.pairwise import cosine_similarity\n",
    "import re\n",
    "from scipy.sparse import csr_matrix\n",
    "import scipy as sp\n",
    "\n",
    "# Packages for visualization\n",
    "import matplotlib.pyplot as plt\n",
    "import seaborn as sns\n",
    "%matplotlib inline\n",
    "\n",
    "# Packages for modeling\n",
    "from surprise import Reader\n",
    "from surprise import Dataset\n",
    "from surprise import KNNWithMeans\n",
    "from surprise import KNNBasic\n",
    "from surprise.model_selection import cross_validate\n",
    "from surprise.model_selection import GridSearchCV\n",
    "from surprise import SVD\n",
    "from surprise import accuracy\n",
    "from surprise.model_selection import train_test_split\n",
    "from surprise import NMF\n",
    "from surprise import SlopeOne\n",
    "from surprise import CoClustering\n",
    "import heapq\n",
    "from libreco.algorithms import FM, WideDeep, DeepFM, AutoInt, DIN\n",
    "\n",
    "from libreco.data import random_split, DatasetPure, DataInfo\n",
    "from libreco.data import split_by_ratio_chrono, DatasetFeat\n",
    "from libreco.algorithms import SVD as libSVD\n",
    "from libreco.algorithms import SVDpp\n",
    "from libreco.algorithms import FM, WideDeep, DeepFM, AutoInt, DIN\n",
    "from libreco.evaluation import evaluate\n",
    "import os\n",
    "import tensorflow as tf\n",
    "os.environ['TF_CPP_MIN_LOG_LEVEL'] = '3'\n",
    "os.environ[\"KMP_WARNINGS\"] = \"FALSE\"\n",
    "tf.compat.v1.logging.set_verbosity(tf.compat.v1.logging.ERROR)\n",
    "def reset_state(name):\n",
    "    tf.compat.v1.reset_default_graph()\n",
    "    print(\"\\n\", \"=\" * 30, name, \"=\" * 30)\n",
    "\n",
    "# Packages for model evaluation\n",
    "from sklearn.metrics import mean_squared_error\n",
    "from sklearn.metrics import mean_absolute_error\n",
    "from time import time\n",
    "\n",
    "# Package to suppress warnings\n",
    "import warnings\n",
    "warnings.filterwarnings(\"ignore\")\n",
    "\n",
    "# Packages for saving models\n",
    "import pickle"
   ]
  },
  {
   "cell_type": "markdown",
   "metadata": {
    "id": "LCAuMww8jKxK"
   },
   "source": [
    "### Reading in data"
   ]
  },
  {
   "cell_type": "code",
   "execution_count": 10,
   "metadata": {
    "execution": {
     "iopub.execute_input": "2021-07-10T13:04:59.705487Z",
     "iopub.status.busy": "2021-07-10T13:04:59.705174Z",
     "iopub.status.idle": "2021-07-10T13:05:24.599933Z",
     "shell.execute_reply": "2021-07-10T13:05:24.598902Z",
     "shell.execute_reply.started": "2021-07-10T13:04:59.705456Z"
    },
    "id": "C63Vok3qjKxL"
   },
   "outputs": [],
   "source": [
    "root_path = '/content/'\n",
    "df_sample_submission = pd.read_csv(root_path + 'sample_submission.csv')\n",
    "df_movies = pd.read_csv(root_path + 'movies.csv')\n",
    "df_imdb = pd.read_csv(root_path + 'imdb_data.csv')\n",
    "df_genome_scores = pd.read_csv(root_path + 'genome_scores.csv')\n",
    "df_genome_tags = pd.read_csv(root_path +'genome_tags.csv')\n",
    "train = pd.read_csv(root_path + 'train.csv')\n",
    "df_test = pd.read_csv(root_path + 'test.csv')\n",
    "df_tags = pd.read_csv(root_path + 'tags.csv')\n",
    "df_links = pd.read_csv(root_path + 'links.csv')"
   ]
  },
  {
   "cell_type": "code",
   "execution_count": 12,
   "metadata": {
    "id": "yEKBuy26aZGx"
   },
   "outputs": [],
   "source": [
    "df_genres = pd.read_csv(root_path + 'genres.csv')"
   ]
  },
  {
   "cell_type": "code",
   "execution_count": 9,
   "metadata": {
    "colab": {
     "base_uri": "https://localhost:8080/",
     "height": 380
    },
    "execution": {
     "iopub.execute_input": "2021-07-10T13:05:24.602163Z",
     "iopub.status.busy": "2021-07-10T13:05:24.601727Z",
     "iopub.status.idle": "2021-07-10T13:05:24.650023Z",
     "shell.execute_reply": "2021-07-10T13:05:24.649148Z",
     "shell.execute_reply.started": "2021-07-10T13:05:24.602117Z"
    },
    "id": "R5o1NjMIjKxL",
    "outputId": "a2b638fe-7e95-4416-c0dd-4cfdfa70ca9c"
   },
   "outputs": [
    {
     "name": "stdout",
     "output_type": "stream",
     "text": [
      "<class 'pandas.core.frame.DataFrame'>\n",
      "RangeIndex: 5000019 entries, 0 to 5000018\n",
      "Data columns (total 2 columns):\n",
      " #   Column  Dtype  \n",
      "---  ------  -----  \n",
      " 0   Id      object \n",
      " 1   rating  float64\n",
      "dtypes: float64(1), object(1)\n",
      "memory usage: 76.3+ MB\n",
      "None\n"
     ]
    },
    {
     "data": {
      "text/html": [
       "<div>\n",
       "<style scoped>\n",
       "    .dataframe tbody tr th:only-of-type {\n",
       "        vertical-align: middle;\n",
       "    }\n",
       "\n",
       "    .dataframe tbody tr th {\n",
       "        vertical-align: top;\n",
       "    }\n",
       "\n",
       "    .dataframe thead th {\n",
       "        text-align: right;\n",
       "    }\n",
       "</style>\n",
       "<table border=\"1\" class=\"dataframe\">\n",
       "  <thead>\n",
       "    <tr style=\"text-align: right;\">\n",
       "      <th></th>\n",
       "      <th>Id</th>\n",
       "      <th>rating</th>\n",
       "    </tr>\n",
       "  </thead>\n",
       "  <tbody>\n",
       "    <tr>\n",
       "      <th>0</th>\n",
       "      <td>1_2011</td>\n",
       "      <td>1.0</td>\n",
       "    </tr>\n",
       "    <tr>\n",
       "      <th>1</th>\n",
       "      <td>1_4144</td>\n",
       "      <td>1.0</td>\n",
       "    </tr>\n",
       "    <tr>\n",
       "      <th>2</th>\n",
       "      <td>1_5767</td>\n",
       "      <td>1.0</td>\n",
       "    </tr>\n",
       "    <tr>\n",
       "      <th>3</th>\n",
       "      <td>1_6711</td>\n",
       "      <td>1.0</td>\n",
       "    </tr>\n",
       "    <tr>\n",
       "      <th>4</th>\n",
       "      <td>1_7318</td>\n",
       "      <td>1.0</td>\n",
       "    </tr>\n",
       "  </tbody>\n",
       "</table>\n",
       "</div>"
      ],
      "text/plain": [
       "       Id  rating\n",
       "0  1_2011     1.0\n",
       "1  1_4144     1.0\n",
       "2  1_5767     1.0\n",
       "3  1_6711     1.0\n",
       "4  1_7318     1.0"
      ]
     },
     "execution_count": 9,
     "metadata": {
      "tags": []
     },
     "output_type": "execute_result"
    }
   ],
   "source": [
    "pd.set_option(\"display.max.column\", None)\n",
    "print(df_sample_submission.info())\n",
    "df_sample_submission.head()"
   ]
  },
  {
   "cell_type": "code",
   "execution_count": 10,
   "metadata": {
    "colab": {
     "base_uri": "https://localhost:8080/",
     "height": 397
    },
    "execution": {
     "iopub.execute_input": "2021-07-10T14:31:37.920457Z",
     "iopub.status.busy": "2021-07-10T14:31:37.920058Z",
     "iopub.status.idle": "2021-07-10T14:31:37.963995Z",
     "shell.execute_reply": "2021-07-10T14:31:37.962718Z",
     "shell.execute_reply.started": "2021-07-10T14:31:37.920423Z"
    },
    "id": "o7cSwPL4jKxM",
    "outputId": "e28a8c14-e8fc-4943-c8e3-3652bc92f9bc"
   },
   "outputs": [
    {
     "name": "stdout",
     "output_type": "stream",
     "text": [
      "<class 'pandas.core.frame.DataFrame'>\n",
      "RangeIndex: 62423 entries, 0 to 62422\n",
      "Data columns (total 3 columns):\n",
      " #   Column   Non-Null Count  Dtype \n",
      "---  ------   --------------  ----- \n",
      " 0   movieId  62423 non-null  int64 \n",
      " 1   title    62423 non-null  object\n",
      " 2   genres   62423 non-null  object\n",
      "dtypes: int64(1), object(2)\n",
      "memory usage: 1.4+ MB\n",
      "None\n"
     ]
    },
    {
     "data": {
      "text/html": [
       "<div>\n",
       "<style scoped>\n",
       "    .dataframe tbody tr th:only-of-type {\n",
       "        vertical-align: middle;\n",
       "    }\n",
       "\n",
       "    .dataframe tbody tr th {\n",
       "        vertical-align: top;\n",
       "    }\n",
       "\n",
       "    .dataframe thead th {\n",
       "        text-align: right;\n",
       "    }\n",
       "</style>\n",
       "<table border=\"1\" class=\"dataframe\">\n",
       "  <thead>\n",
       "    <tr style=\"text-align: right;\">\n",
       "      <th></th>\n",
       "      <th>movieId</th>\n",
       "      <th>title</th>\n",
       "      <th>genres</th>\n",
       "    </tr>\n",
       "  </thead>\n",
       "  <tbody>\n",
       "    <tr>\n",
       "      <th>0</th>\n",
       "      <td>1</td>\n",
       "      <td>Toy Story (1995)</td>\n",
       "      <td>Adventure|Animation|Children|Comedy|Fantasy</td>\n",
       "    </tr>\n",
       "    <tr>\n",
       "      <th>1</th>\n",
       "      <td>2</td>\n",
       "      <td>Jumanji (1995)</td>\n",
       "      <td>Adventure|Children|Fantasy</td>\n",
       "    </tr>\n",
       "    <tr>\n",
       "      <th>2</th>\n",
       "      <td>3</td>\n",
       "      <td>Grumpier Old Men (1995)</td>\n",
       "      <td>Comedy|Romance</td>\n",
       "    </tr>\n",
       "    <tr>\n",
       "      <th>3</th>\n",
       "      <td>4</td>\n",
       "      <td>Waiting to Exhale (1995)</td>\n",
       "      <td>Comedy|Drama|Romance</td>\n",
       "    </tr>\n",
       "    <tr>\n",
       "      <th>4</th>\n",
       "      <td>5</td>\n",
       "      <td>Father of the Bride Part II (1995)</td>\n",
       "      <td>Comedy</td>\n",
       "    </tr>\n",
       "  </tbody>\n",
       "</table>\n",
       "</div>"
      ],
      "text/plain": [
       "   movieId                               title  \\\n",
       "0        1                    Toy Story (1995)   \n",
       "1        2                      Jumanji (1995)   \n",
       "2        3             Grumpier Old Men (1995)   \n",
       "3        4            Waiting to Exhale (1995)   \n",
       "4        5  Father of the Bride Part II (1995)   \n",
       "\n",
       "                                        genres  \n",
       "0  Adventure|Animation|Children|Comedy|Fantasy  \n",
       "1                   Adventure|Children|Fantasy  \n",
       "2                               Comedy|Romance  \n",
       "3                         Comedy|Drama|Romance  \n",
       "4                                       Comedy  "
      ]
     },
     "execution_count": 10,
     "metadata": {
      "tags": []
     },
     "output_type": "execute_result"
    }
   ],
   "source": [
    "print(movies.info())\n",
    "movies.head()"
   ]
  },
  {
   "cell_type": "code",
   "execution_count": 11,
   "metadata": {
    "colab": {
     "base_uri": "https://localhost:8080/",
     "height": 451
    },
    "execution": {
     "iopub.execute_input": "2021-07-10T14:31:38.170998Z",
     "iopub.status.busy": "2021-07-10T14:31:38.170642Z",
     "iopub.status.idle": "2021-07-10T14:31:38.211352Z",
     "shell.execute_reply": "2021-07-10T14:31:38.210161Z",
     "shell.execute_reply.started": "2021-07-10T14:31:38.170969Z"
    },
    "id": "AsaDBwTjjKxN",
    "outputId": "c1bec6e5-bdf0-4620-fbe2-fe3d7e890b32"
   },
   "outputs": [
    {
     "name": "stdout",
     "output_type": "stream",
     "text": [
      "<class 'pandas.core.frame.DataFrame'>\n",
      "RangeIndex: 27278 entries, 0 to 27277\n",
      "Data columns (total 6 columns):\n",
      " #   Column         Non-Null Count  Dtype  \n",
      "---  ------         --------------  -----  \n",
      " 0   movieId        27278 non-null  int64  \n",
      " 1   title_cast     17210 non-null  object \n",
      " 2   director       17404 non-null  object \n",
      " 3   runtime        15189 non-null  float64\n",
      " 4   budget         7906 non-null   object \n",
      " 5   plot_keywords  16200 non-null  object \n",
      "dtypes: float64(1), int64(1), object(4)\n",
      "memory usage: 1.2+ MB\n",
      "None\n"
     ]
    },
    {
     "data": {
      "text/html": [
       "<div>\n",
       "<style scoped>\n",
       "    .dataframe tbody tr th:only-of-type {\n",
       "        vertical-align: middle;\n",
       "    }\n",
       "\n",
       "    .dataframe tbody tr th {\n",
       "        vertical-align: top;\n",
       "    }\n",
       "\n",
       "    .dataframe thead th {\n",
       "        text-align: right;\n",
       "    }\n",
       "</style>\n",
       "<table border=\"1\" class=\"dataframe\">\n",
       "  <thead>\n",
       "    <tr style=\"text-align: right;\">\n",
       "      <th></th>\n",
       "      <th>movieId</th>\n",
       "      <th>title_cast</th>\n",
       "      <th>director</th>\n",
       "      <th>runtime</th>\n",
       "      <th>budget</th>\n",
       "      <th>plot_keywords</th>\n",
       "    </tr>\n",
       "  </thead>\n",
       "  <tbody>\n",
       "    <tr>\n",
       "      <th>0</th>\n",
       "      <td>1</td>\n",
       "      <td>Tom Hanks|Tim Allen|Don Rickles|Jim Varney|Wal...</td>\n",
       "      <td>John Lasseter</td>\n",
       "      <td>81.0</td>\n",
       "      <td>$30,000,000</td>\n",
       "      <td>toy|rivalry|cowboy|cgi animation</td>\n",
       "    </tr>\n",
       "    <tr>\n",
       "      <th>1</th>\n",
       "      <td>2</td>\n",
       "      <td>Robin Williams|Jonathan Hyde|Kirsten Dunst|Bra...</td>\n",
       "      <td>Jonathan Hensleigh</td>\n",
       "      <td>104.0</td>\n",
       "      <td>$65,000,000</td>\n",
       "      <td>board game|adventurer|fight|game</td>\n",
       "    </tr>\n",
       "    <tr>\n",
       "      <th>2</th>\n",
       "      <td>3</td>\n",
       "      <td>Walter Matthau|Jack Lemmon|Sophia Loren|Ann-Ma...</td>\n",
       "      <td>Mark Steven Johnson</td>\n",
       "      <td>101.0</td>\n",
       "      <td>$25,000,000</td>\n",
       "      <td>boat|lake|neighbor|rivalry</td>\n",
       "    </tr>\n",
       "    <tr>\n",
       "      <th>3</th>\n",
       "      <td>4</td>\n",
       "      <td>Whitney Houston|Angela Bassett|Loretta Devine|...</td>\n",
       "      <td>Terry McMillan</td>\n",
       "      <td>124.0</td>\n",
       "      <td>$16,000,000</td>\n",
       "      <td>black american|husband wife relationship|betra...</td>\n",
       "    </tr>\n",
       "    <tr>\n",
       "      <th>4</th>\n",
       "      <td>5</td>\n",
       "      <td>Steve Martin|Diane Keaton|Martin Short|Kimberl...</td>\n",
       "      <td>Albert Hackett</td>\n",
       "      <td>106.0</td>\n",
       "      <td>$30,000,000</td>\n",
       "      <td>fatherhood|doberman|dog|mansion</td>\n",
       "    </tr>\n",
       "  </tbody>\n",
       "</table>\n",
       "</div>"
      ],
      "text/plain": [
       "   movieId                                         title_cast  \\\n",
       "0        1  Tom Hanks|Tim Allen|Don Rickles|Jim Varney|Wal...   \n",
       "1        2  Robin Williams|Jonathan Hyde|Kirsten Dunst|Bra...   \n",
       "2        3  Walter Matthau|Jack Lemmon|Sophia Loren|Ann-Ma...   \n",
       "3        4  Whitney Houston|Angela Bassett|Loretta Devine|...   \n",
       "4        5  Steve Martin|Diane Keaton|Martin Short|Kimberl...   \n",
       "\n",
       "              director  runtime       budget  \\\n",
       "0        John Lasseter     81.0  $30,000,000   \n",
       "1   Jonathan Hensleigh    104.0  $65,000,000   \n",
       "2  Mark Steven Johnson    101.0  $25,000,000   \n",
       "3       Terry McMillan    124.0  $16,000,000   \n",
       "4       Albert Hackett    106.0  $30,000,000   \n",
       "\n",
       "                                       plot_keywords  \n",
       "0                   toy|rivalry|cowboy|cgi animation  \n",
       "1                   board game|adventurer|fight|game  \n",
       "2                         boat|lake|neighbor|rivalry  \n",
       "3  black american|husband wife relationship|betra...  \n",
       "4                    fatherhood|doberman|dog|mansion  "
      ]
     },
     "execution_count": 11,
     "metadata": {
      "tags": []
     },
     "output_type": "execute_result"
    }
   ],
   "source": [
    "print(df_imdb.info())\n",
    "df_imdb.head()"
   ]
  },
  {
   "cell_type": "code",
   "execution_count": 12,
   "metadata": {
    "colab": {
     "base_uri": "https://localhost:8080/",
     "height": 397
    },
    "execution": {
     "iopub.execute_input": "2021-07-10T14:31:38.414349Z",
     "iopub.status.busy": "2021-07-10T14:31:38.413918Z",
     "iopub.status.idle": "2021-07-10T14:31:38.438160Z",
     "shell.execute_reply": "2021-07-10T14:31:38.436730Z",
     "shell.execute_reply.started": "2021-07-10T14:31:38.414314Z"
    },
    "id": "cWuidB3ijKxO",
    "outputId": "040801c5-f29e-4c0f-c515-64c3dfcf2d5f"
   },
   "outputs": [
    {
     "name": "stdout",
     "output_type": "stream",
     "text": [
      "<class 'pandas.core.frame.DataFrame'>\n",
      "RangeIndex: 15584448 entries, 0 to 15584447\n",
      "Data columns (total 3 columns):\n",
      " #   Column     Dtype  \n",
      "---  ------     -----  \n",
      " 0   movieId    int64  \n",
      " 1   tagId      int64  \n",
      " 2   relevance  float64\n",
      "dtypes: float64(1), int64(2)\n",
      "memory usage: 356.7 MB\n",
      "None\n"
     ]
    },
    {
     "data": {
      "text/html": [
       "<div>\n",
       "<style scoped>\n",
       "    .dataframe tbody tr th:only-of-type {\n",
       "        vertical-align: middle;\n",
       "    }\n",
       "\n",
       "    .dataframe tbody tr th {\n",
       "        vertical-align: top;\n",
       "    }\n",
       "\n",
       "    .dataframe thead th {\n",
       "        text-align: right;\n",
       "    }\n",
       "</style>\n",
       "<table border=\"1\" class=\"dataframe\">\n",
       "  <thead>\n",
       "    <tr style=\"text-align: right;\">\n",
       "      <th></th>\n",
       "      <th>movieId</th>\n",
       "      <th>tagId</th>\n",
       "      <th>relevance</th>\n",
       "    </tr>\n",
       "  </thead>\n",
       "  <tbody>\n",
       "    <tr>\n",
       "      <th>0</th>\n",
       "      <td>1</td>\n",
       "      <td>1</td>\n",
       "      <td>0.02875</td>\n",
       "    </tr>\n",
       "    <tr>\n",
       "      <th>1</th>\n",
       "      <td>1</td>\n",
       "      <td>2</td>\n",
       "      <td>0.02375</td>\n",
       "    </tr>\n",
       "    <tr>\n",
       "      <th>2</th>\n",
       "      <td>1</td>\n",
       "      <td>3</td>\n",
       "      <td>0.06250</td>\n",
       "    </tr>\n",
       "    <tr>\n",
       "      <th>3</th>\n",
       "      <td>1</td>\n",
       "      <td>4</td>\n",
       "      <td>0.07575</td>\n",
       "    </tr>\n",
       "    <tr>\n",
       "      <th>4</th>\n",
       "      <td>1</td>\n",
       "      <td>5</td>\n",
       "      <td>0.14075</td>\n",
       "    </tr>\n",
       "  </tbody>\n",
       "</table>\n",
       "</div>"
      ],
      "text/plain": [
       "   movieId  tagId  relevance\n",
       "0        1      1    0.02875\n",
       "1        1      2    0.02375\n",
       "2        1      3    0.06250\n",
       "3        1      4    0.07575\n",
       "4        1      5    0.14075"
      ]
     },
     "execution_count": 12,
     "metadata": {
      "tags": []
     },
     "output_type": "execute_result"
    }
   ],
   "source": [
    "print(df_genome_scores.info())\n",
    "df_genome_scores.head()"
   ]
  },
  {
   "cell_type": "code",
   "execution_count": 13,
   "metadata": {
    "colab": {
     "base_uri": "https://localhost:8080/",
     "height": 380
    },
    "execution": {
     "iopub.execute_input": "2021-07-10T14:31:40.027905Z",
     "iopub.status.busy": "2021-07-10T14:31:40.027526Z",
     "iopub.status.idle": "2021-07-10T14:31:40.053247Z",
     "shell.execute_reply": "2021-07-10T14:31:40.051822Z",
     "shell.execute_reply.started": "2021-07-10T14:31:40.027872Z"
    },
    "id": "LBU1XScvjKxO",
    "outputId": "2ecfcae2-0c93-4a65-af1a-640e33ac0024"
   },
   "outputs": [
    {
     "name": "stdout",
     "output_type": "stream",
     "text": [
      "<class 'pandas.core.frame.DataFrame'>\n",
      "RangeIndex: 1128 entries, 0 to 1127\n",
      "Data columns (total 2 columns):\n",
      " #   Column  Non-Null Count  Dtype \n",
      "---  ------  --------------  ----- \n",
      " 0   tagId   1128 non-null   int64 \n",
      " 1   tag     1128 non-null   object\n",
      "dtypes: int64(1), object(1)\n",
      "memory usage: 17.8+ KB\n",
      "None\n"
     ]
    },
    {
     "data": {
      "text/html": [
       "<div>\n",
       "<style scoped>\n",
       "    .dataframe tbody tr th:only-of-type {\n",
       "        vertical-align: middle;\n",
       "    }\n",
       "\n",
       "    .dataframe tbody tr th {\n",
       "        vertical-align: top;\n",
       "    }\n",
       "\n",
       "    .dataframe thead th {\n",
       "        text-align: right;\n",
       "    }\n",
       "</style>\n",
       "<table border=\"1\" class=\"dataframe\">\n",
       "  <thead>\n",
       "    <tr style=\"text-align: right;\">\n",
       "      <th></th>\n",
       "      <th>tagId</th>\n",
       "      <th>tag</th>\n",
       "    </tr>\n",
       "  </thead>\n",
       "  <tbody>\n",
       "    <tr>\n",
       "      <th>0</th>\n",
       "      <td>1</td>\n",
       "      <td>007</td>\n",
       "    </tr>\n",
       "    <tr>\n",
       "      <th>1</th>\n",
       "      <td>2</td>\n",
       "      <td>007 (series)</td>\n",
       "    </tr>\n",
       "    <tr>\n",
       "      <th>2</th>\n",
       "      <td>3</td>\n",
       "      <td>18th century</td>\n",
       "    </tr>\n",
       "    <tr>\n",
       "      <th>3</th>\n",
       "      <td>4</td>\n",
       "      <td>1920s</td>\n",
       "    </tr>\n",
       "    <tr>\n",
       "      <th>4</th>\n",
       "      <td>5</td>\n",
       "      <td>1930s</td>\n",
       "    </tr>\n",
       "  </tbody>\n",
       "</table>\n",
       "</div>"
      ],
      "text/plain": [
       "   tagId           tag\n",
       "0      1           007\n",
       "1      2  007 (series)\n",
       "2      3  18th century\n",
       "3      4         1920s\n",
       "4      5         1930s"
      ]
     },
     "execution_count": 13,
     "metadata": {
      "tags": []
     },
     "output_type": "execute_result"
    }
   ],
   "source": [
    "print(df_genome_tags.info())\n",
    "df_genome_tags.head()"
   ]
  },
  {
   "cell_type": "code",
   "execution_count": 14,
   "metadata": {
    "colab": {
     "base_uri": "https://localhost:8080/",
     "height": 415
    },
    "execution": {
     "iopub.execute_input": "2021-07-10T14:31:40.341680Z",
     "iopub.status.busy": "2021-07-10T14:31:40.341267Z",
     "iopub.status.idle": "2021-07-10T14:31:40.490714Z",
     "shell.execute_reply": "2021-07-10T14:31:40.489198Z",
     "shell.execute_reply.started": "2021-07-10T14:31:40.341647Z"
    },
    "id": "W7xr8iMljKxP",
    "outputId": "aafeedbc-09c7-4467-f6b6-46b3864f7df8"
   },
   "outputs": [
    {
     "name": "stdout",
     "output_type": "stream",
     "text": [
      "<class 'pandas.core.frame.DataFrame'>\n",
      "RangeIndex: 1093360 entries, 0 to 1093359\n",
      "Data columns (total 4 columns):\n",
      " #   Column     Non-Null Count    Dtype \n",
      "---  ------     --------------    ----- \n",
      " 0   userId     1093360 non-null  int64 \n",
      " 1   movieId    1093360 non-null  int64 \n",
      " 2   tag        1093344 non-null  object\n",
      " 3   timestamp  1093360 non-null  int64 \n",
      "dtypes: int64(3), object(1)\n",
      "memory usage: 33.4+ MB\n",
      "None\n"
     ]
    },
    {
     "data": {
      "text/html": [
       "<div>\n",
       "<style scoped>\n",
       "    .dataframe tbody tr th:only-of-type {\n",
       "        vertical-align: middle;\n",
       "    }\n",
       "\n",
       "    .dataframe tbody tr th {\n",
       "        vertical-align: top;\n",
       "    }\n",
       "\n",
       "    .dataframe thead th {\n",
       "        text-align: right;\n",
       "    }\n",
       "</style>\n",
       "<table border=\"1\" class=\"dataframe\">\n",
       "  <thead>\n",
       "    <tr style=\"text-align: right;\">\n",
       "      <th></th>\n",
       "      <th>userId</th>\n",
       "      <th>movieId</th>\n",
       "      <th>tag</th>\n",
       "      <th>timestamp</th>\n",
       "    </tr>\n",
       "  </thead>\n",
       "  <tbody>\n",
       "    <tr>\n",
       "      <th>0</th>\n",
       "      <td>3</td>\n",
       "      <td>260</td>\n",
       "      <td>classic</td>\n",
       "      <td>1439472355</td>\n",
       "    </tr>\n",
       "    <tr>\n",
       "      <th>1</th>\n",
       "      <td>3</td>\n",
       "      <td>260</td>\n",
       "      <td>sci-fi</td>\n",
       "      <td>1439472256</td>\n",
       "    </tr>\n",
       "    <tr>\n",
       "      <th>2</th>\n",
       "      <td>4</td>\n",
       "      <td>1732</td>\n",
       "      <td>dark comedy</td>\n",
       "      <td>1573943598</td>\n",
       "    </tr>\n",
       "    <tr>\n",
       "      <th>3</th>\n",
       "      <td>4</td>\n",
       "      <td>1732</td>\n",
       "      <td>great dialogue</td>\n",
       "      <td>1573943604</td>\n",
       "    </tr>\n",
       "    <tr>\n",
       "      <th>4</th>\n",
       "      <td>4</td>\n",
       "      <td>7569</td>\n",
       "      <td>so bad it's good</td>\n",
       "      <td>1573943455</td>\n",
       "    </tr>\n",
       "  </tbody>\n",
       "</table>\n",
       "</div>"
      ],
      "text/plain": [
       "   userId  movieId               tag   timestamp\n",
       "0       3      260           classic  1439472355\n",
       "1       3      260            sci-fi  1439472256\n",
       "2       4     1732       dark comedy  1573943598\n",
       "3       4     1732    great dialogue  1573943604\n",
       "4       4     7569  so bad it's good  1573943455"
      ]
     },
     "execution_count": 14,
     "metadata": {
      "tags": []
     },
     "output_type": "execute_result"
    }
   ],
   "source": [
    "print(df_tags.info())\n",
    "df_tags.head()"
   ]
  },
  {
   "cell_type": "code",
   "execution_count": 15,
   "metadata": {
    "colab": {
     "base_uri": "https://localhost:8080/",
     "height": 397
    },
    "execution": {
     "iopub.execute_input": "2021-07-10T14:31:41.772497Z",
     "iopub.status.busy": "2021-07-10T14:31:41.772054Z",
     "iopub.status.idle": "2021-07-10T14:31:41.830912Z",
     "shell.execute_reply": "2021-07-10T14:31:41.830018Z",
     "shell.execute_reply.started": "2021-07-10T14:31:41.772458Z"
    },
    "id": "yTnM-LlnjKxQ",
    "outputId": "94cc65db-59a3-41ee-b241-6dcb112dd27a"
   },
   "outputs": [
    {
     "name": "stdout",
     "output_type": "stream",
     "text": [
      "<class 'pandas.core.frame.DataFrame'>\n",
      "RangeIndex: 62423 entries, 0 to 62422\n",
      "Data columns (total 3 columns):\n",
      " #   Column   Non-Null Count  Dtype  \n",
      "---  ------   --------------  -----  \n",
      " 0   movieId  62423 non-null  int64  \n",
      " 1   imdbId   62423 non-null  int64  \n",
      " 2   tmdbId   62316 non-null  float64\n",
      "dtypes: float64(1), int64(2)\n",
      "memory usage: 1.4 MB\n",
      "None\n"
     ]
    },
    {
     "data": {
      "text/html": [
       "<div>\n",
       "<style scoped>\n",
       "    .dataframe tbody tr th:only-of-type {\n",
       "        vertical-align: middle;\n",
       "    }\n",
       "\n",
       "    .dataframe tbody tr th {\n",
       "        vertical-align: top;\n",
       "    }\n",
       "\n",
       "    .dataframe thead th {\n",
       "        text-align: right;\n",
       "    }\n",
       "</style>\n",
       "<table border=\"1\" class=\"dataframe\">\n",
       "  <thead>\n",
       "    <tr style=\"text-align: right;\">\n",
       "      <th></th>\n",
       "      <th>movieId</th>\n",
       "      <th>imdbId</th>\n",
       "      <th>tmdbId</th>\n",
       "    </tr>\n",
       "  </thead>\n",
       "  <tbody>\n",
       "    <tr>\n",
       "      <th>0</th>\n",
       "      <td>1</td>\n",
       "      <td>114709</td>\n",
       "      <td>862.0</td>\n",
       "    </tr>\n",
       "    <tr>\n",
       "      <th>1</th>\n",
       "      <td>2</td>\n",
       "      <td>113497</td>\n",
       "      <td>8844.0</td>\n",
       "    </tr>\n",
       "    <tr>\n",
       "      <th>2</th>\n",
       "      <td>3</td>\n",
       "      <td>113228</td>\n",
       "      <td>15602.0</td>\n",
       "    </tr>\n",
       "    <tr>\n",
       "      <th>3</th>\n",
       "      <td>4</td>\n",
       "      <td>114885</td>\n",
       "      <td>31357.0</td>\n",
       "    </tr>\n",
       "    <tr>\n",
       "      <th>4</th>\n",
       "      <td>5</td>\n",
       "      <td>113041</td>\n",
       "      <td>11862.0</td>\n",
       "    </tr>\n",
       "  </tbody>\n",
       "</table>\n",
       "</div>"
      ],
      "text/plain": [
       "   movieId  imdbId   tmdbId\n",
       "0        1  114709    862.0\n",
       "1        2  113497   8844.0\n",
       "2        3  113228  15602.0\n",
       "3        4  114885  31357.0\n",
       "4        5  113041  11862.0"
      ]
     },
     "execution_count": 15,
     "metadata": {
      "tags": []
     },
     "output_type": "execute_result"
    }
   ],
   "source": [
    "print(df_links.info())\n",
    "df_links.head()"
   ]
  },
  {
   "cell_type": "code",
   "execution_count": null,
   "metadata": {
    "colab": {
     "base_uri": "https://localhost:8080/",
     "height": 415
    },
    "execution": {
     "iopub.execute_input": "2021-07-10T14:31:42.020474Z",
     "iopub.status.busy": "2021-07-10T14:31:42.020007Z",
     "iopub.status.idle": "2021-07-10T14:31:42.046703Z",
     "shell.execute_reply": "2021-07-10T14:31:42.045749Z",
     "shell.execute_reply.started": "2021-07-10T14:31:42.020435Z"
    },
    "id": "LurnBJfEjKxQ",
    "outputId": "d099f46b-ed61-47d5-c44f-63dcba3dda7e"
   },
   "outputs": [
    {
     "name": "stdout",
     "output_type": "stream",
     "text": [
      "<class 'pandas.core.frame.DataFrame'>\n",
      "RangeIndex: 10000038 entries, 0 to 10000037\n",
      "Data columns (total 4 columns):\n",
      " #   Column     Dtype  \n",
      "---  ------     -----  \n",
      " 0   userId     int64  \n",
      " 1   movieId    int64  \n",
      " 2   rating     float64\n",
      " 3   timestamp  int64  \n",
      "dtypes: float64(1), int64(3)\n",
      "memory usage: 305.2 MB\n",
      "None\n"
     ]
    },
    {
     "data": {
      "text/html": [
       "<div>\n",
       "<style scoped>\n",
       "    .dataframe tbody tr th:only-of-type {\n",
       "        vertical-align: middle;\n",
       "    }\n",
       "\n",
       "    .dataframe tbody tr th {\n",
       "        vertical-align: top;\n",
       "    }\n",
       "\n",
       "    .dataframe thead th {\n",
       "        text-align: right;\n",
       "    }\n",
       "</style>\n",
       "<table border=\"1\" class=\"dataframe\">\n",
       "  <thead>\n",
       "    <tr style=\"text-align: right;\">\n",
       "      <th></th>\n",
       "      <th>userId</th>\n",
       "      <th>movieId</th>\n",
       "      <th>rating</th>\n",
       "      <th>timestamp</th>\n",
       "    </tr>\n",
       "  </thead>\n",
       "  <tbody>\n",
       "    <tr>\n",
       "      <th>0</th>\n",
       "      <td>5163</td>\n",
       "      <td>57669</td>\n",
       "      <td>4.0</td>\n",
       "      <td>1518349992</td>\n",
       "    </tr>\n",
       "    <tr>\n",
       "      <th>1</th>\n",
       "      <td>106343</td>\n",
       "      <td>5</td>\n",
       "      <td>4.5</td>\n",
       "      <td>1206238739</td>\n",
       "    </tr>\n",
       "    <tr>\n",
       "      <th>2</th>\n",
       "      <td>146790</td>\n",
       "      <td>5459</td>\n",
       "      <td>5.0</td>\n",
       "      <td>1076215539</td>\n",
       "    </tr>\n",
       "    <tr>\n",
       "      <th>3</th>\n",
       "      <td>106362</td>\n",
       "      <td>32296</td>\n",
       "      <td>2.0</td>\n",
       "      <td>1423042565</td>\n",
       "    </tr>\n",
       "    <tr>\n",
       "      <th>4</th>\n",
       "      <td>9041</td>\n",
       "      <td>366</td>\n",
       "      <td>3.0</td>\n",
       "      <td>833375837</td>\n",
       "    </tr>\n",
       "  </tbody>\n",
       "</table>\n",
       "</div>"
      ],
      "text/plain": [
       "   userId  movieId  rating   timestamp\n",
       "0    5163    57669     4.0  1518349992\n",
       "1  106343        5     4.5  1206238739\n",
       "2  146790     5459     5.0  1076215539\n",
       "3  106362    32296     2.0  1423042565\n",
       "4    9041      366     3.0   833375837"
      ]
     },
     "execution_count": 25,
     "metadata": {
      "tags": []
     },
     "output_type": "execute_result"
    }
   ],
   "source": [
    "print(train.info())\n",
    "train.head()"
   ]
  },
  {
   "cell_type": "code",
   "execution_count": null,
   "metadata": {
    "colab": {
     "base_uri": "https://localhost:8080/",
     "height": 380
    },
    "execution": {
     "iopub.execute_input": "2021-07-10T14:31:44.310076Z",
     "iopub.status.busy": "2021-07-10T14:31:44.309655Z",
     "iopub.status.idle": "2021-07-10T14:31:44.333173Z",
     "shell.execute_reply": "2021-07-10T14:31:44.331519Z",
     "shell.execute_reply.started": "2021-07-10T14:31:44.310017Z"
    },
    "id": "z1eVNw3zjKxS",
    "outputId": "af796e1d-af86-42e7-d5f2-a06828d7f5ff"
   },
   "outputs": [
    {
     "name": "stdout",
     "output_type": "stream",
     "text": [
      "<class 'pandas.core.frame.DataFrame'>\n",
      "RangeIndex: 5000019 entries, 0 to 5000018\n",
      "Data columns (total 2 columns):\n",
      " #   Column   Dtype\n",
      "---  ------   -----\n",
      " 0   userId   int64\n",
      " 1   movieId  int64\n",
      "dtypes: int64(2)\n",
      "memory usage: 76.3 MB\n",
      "None\n"
     ]
    },
    {
     "data": {
      "text/html": [
       "<div>\n",
       "<style scoped>\n",
       "    .dataframe tbody tr th:only-of-type {\n",
       "        vertical-align: middle;\n",
       "    }\n",
       "\n",
       "    .dataframe tbody tr th {\n",
       "        vertical-align: top;\n",
       "    }\n",
       "\n",
       "    .dataframe thead th {\n",
       "        text-align: right;\n",
       "    }\n",
       "</style>\n",
       "<table border=\"1\" class=\"dataframe\">\n",
       "  <thead>\n",
       "    <tr style=\"text-align: right;\">\n",
       "      <th></th>\n",
       "      <th>userId</th>\n",
       "      <th>movieId</th>\n",
       "    </tr>\n",
       "  </thead>\n",
       "  <tbody>\n",
       "    <tr>\n",
       "      <th>0</th>\n",
       "      <td>1</td>\n",
       "      <td>2011</td>\n",
       "    </tr>\n",
       "    <tr>\n",
       "      <th>1</th>\n",
       "      <td>1</td>\n",
       "      <td>4144</td>\n",
       "    </tr>\n",
       "    <tr>\n",
       "      <th>2</th>\n",
       "      <td>1</td>\n",
       "      <td>5767</td>\n",
       "    </tr>\n",
       "    <tr>\n",
       "      <th>3</th>\n",
       "      <td>1</td>\n",
       "      <td>6711</td>\n",
       "    </tr>\n",
       "    <tr>\n",
       "      <th>4</th>\n",
       "      <td>1</td>\n",
       "      <td>7318</td>\n",
       "    </tr>\n",
       "  </tbody>\n",
       "</table>\n",
       "</div>"
      ],
      "text/plain": [
       "   userId  movieId\n",
       "0       1     2011\n",
       "1       1     4144\n",
       "2       1     5767\n",
       "3       1     6711\n",
       "4       1     7318"
      ]
     },
     "execution_count": 26,
     "metadata": {
      "tags": []
     },
     "output_type": "execute_result"
    }
   ],
   "source": [
    "print(df_test.info())\n",
    "df_test.head()"
   ]
  },
  {
   "cell_type": "markdown",
   "metadata": {
    "id": "aceTFZ8ajKxS"
   },
   "source": [
    "# Exploratory Data Analysis"
   ]
  },
  {
   "cell_type": "markdown",
   "metadata": {
    "id": "QOPeKelxjKxS"
   },
   "source": [
    "**Most common Genres**"
   ]
  },
  {
   "cell_type": "code",
   "execution_count": 11,
   "metadata": {
    "colab": {
     "base_uri": "https://localhost:8080/",
     "height": 202
    },
    "execution": {
     "iopub.execute_input": "2021-07-10T14:31:49.574475Z",
     "iopub.status.busy": "2021-07-10T14:31:49.574091Z",
     "iopub.status.idle": "2021-07-10T14:31:49.816131Z",
     "shell.execute_reply": "2021-07-10T14:31:49.815240Z",
     "shell.execute_reply.started": "2021-07-10T14:31:49.574443Z"
    },
    "id": "mdN8NV02jKxS",
    "outputId": "c345e7e3-aee6-4f83-ee66-a53390a158ed"
   },
   "outputs": [
    {
     "data": {
      "text/html": [
       "<div>\n",
       "<style scoped>\n",
       "    .dataframe tbody tr th:only-of-type {\n",
       "        vertical-align: middle;\n",
       "    }\n",
       "\n",
       "    .dataframe tbody tr th {\n",
       "        vertical-align: top;\n",
       "    }\n",
       "\n",
       "    .dataframe thead th {\n",
       "        text-align: right;\n",
       "    }\n",
       "</style>\n",
       "<table border=\"1\" class=\"dataframe\">\n",
       "  <thead>\n",
       "    <tr style=\"text-align: right;\">\n",
       "      <th></th>\n",
       "      <th>movieId</th>\n",
       "      <th>genres</th>\n",
       "    </tr>\n",
       "  </thead>\n",
       "  <tbody>\n",
       "    <tr>\n",
       "      <th>0</th>\n",
       "      <td>1</td>\n",
       "      <td>Adventure</td>\n",
       "    </tr>\n",
       "    <tr>\n",
       "      <th>1</th>\n",
       "      <td>1</td>\n",
       "      <td>Animation</td>\n",
       "    </tr>\n",
       "    <tr>\n",
       "      <th>2</th>\n",
       "      <td>1</td>\n",
       "      <td>Children</td>\n",
       "    </tr>\n",
       "    <tr>\n",
       "      <th>3</th>\n",
       "      <td>1</td>\n",
       "      <td>Comedy</td>\n",
       "    </tr>\n",
       "    <tr>\n",
       "      <th>4</th>\n",
       "      <td>1</td>\n",
       "      <td>Fantasy</td>\n",
       "    </tr>\n",
       "  </tbody>\n",
       "</table>\n",
       "</div>"
      ],
      "text/plain": [
       "   movieId     genres\n",
       "0        1  Adventure\n",
       "1        1  Animation\n",
       "2        1   Children\n",
       "3        1     Comedy\n",
       "4        1    Fantasy"
      ]
     },
     "execution_count": 11,
     "metadata": {
      "tags": []
     },
     "output_type": "execute_result"
    }
   ],
   "source": [
    "# Create dataframe containing only the movieId and genres\n",
    "movies_genres = pd.DataFrame(movies[['movieId', 'genres']],\n",
    "                             columns=['movieId', 'genres'])\n",
    "\n",
    "# Split genres seperated by \"|\" and create a list containing the genres allocated to each movie\n",
    "movies_genres.genres = movies_genres.genres.apply(lambda x: x.split('|'))\n",
    "\n",
    "# Create expanded dataframe where each movie-genre combination is in a seperate row\n",
    "movies_genres = pd.DataFrame([(tup.movieId, d) for tup in movies_genres.itertuples() for d in tup.genres],\n",
    "                             columns=['movieId', 'genres'])\n",
    "\n",
    "movies_genres.head()"
   ]
  },
  {
   "cell_type": "code",
   "execution_count": 12,
   "metadata": {
    "colab": {
     "base_uri": "https://localhost:8080/",
     "height": 647
    },
    "execution": {
     "iopub.execute_input": "2021-07-10T14:31:49.817911Z",
     "iopub.status.busy": "2021-07-10T14:31:49.817466Z",
     "iopub.status.idle": "2021-07-10T14:31:50.371907Z",
     "shell.execute_reply": "2021-07-10T14:31:50.370595Z",
     "shell.execute_reply.started": "2021-07-10T14:31:49.817879Z"
    },
    "id": "7CJ0AG-ojKxT",
    "outputId": "279a6f59-3f10-4b31-9330-235029217620"
   },
   "outputs": [
    {
     "data": {
      "image/png": "[encoded data removed]",
      "text/plain": [
       "<Figure size 1080x720 with 1 Axes>"
      ]
     },
     "metadata": {
      "needs_background": "light",
      "tags": []
     },
     "output_type": "display_data"
    }
   ],
   "source": [
    "# Plot the genres from most common to least common\n",
    "plot = plt.figure(figsize=(15, 10))\n",
    "plt.title('Most common genres\\n', fontsize=20)\n",
    "sns.countplot(y=\"genres\", data=movies_genres,\n",
    "              order=movies_genres['genres'].value_counts(ascending=False).index,\n",
    "              palette='Reds_r')\n",
    "plt.show()"
   ]
  },
  {
   "cell_type": "markdown",
   "metadata": {
    "id": "tpvaBrZ_fSP0"
   },
   "source": [
    "**Most common actors**"
   ]
  },
  {
   "cell_type": "code",
   "execution_count": 17,
   "metadata": {
    "colab": {
     "base_uri": "https://localhost:8080/",
     "height": 275
    },
    "id": "-N5Vn-92fNra",
    "outputId": "fc6c332b-5498-45a5-91df-1ff6064e2ca2"
   },
   "outputs": [
    {
     "name": "stdout",
     "output_type": "stream",
     "text": [
      "Total Cast Members: 121036\n",
      "Most Common Cast Members:\n",
      " ['nan', 'Samuel L. Jackson', 'Steve Buscemi', 'Keith David', 'Willem Dafoe', 'Robert De Niro', 'Brian Cox', 'Gérard Depardieu', 'Christopher Walken', 'Morgan Freeman', 'Bruce Willis', 'Danny Glover', 'Alec Baldwin', 'Peter Stormare', 'Nicolas Cage', 'Richard Jenkins', 'Stanley Tucci', 'Susan Sarandon', 'Julianne Moore', 'Stellan Skarsgård', 'Woody Harrelson', 'Tom Wilkinson', 'John Goodman', 'Antonio Banderas', 'Christopher McDonald', 'Val Kilmer', 'Jeff Bennett', 'Ed Harris', 'Johnny Depp', 'John Cusack', 'Forest Whitaker', 'Ray Liotta', 'John Leguizamo', 'Harvey Keitel', 'Donald Sutherland', 'Luis Guzmán', 'Stephen Tobolowsky', 'Paul Giamatti', 'George W. Bush', 'Danny Trejo', 'John Malkovich', 'Jim Broadbent', 'Richard Riehle', 'David Strathairn', 'Ewan McGregor', 'William H. Macy', 'Jim Cummings', 'Ving Rhames', 'Robert Downey Jr.', 'Kathy Bates']\n"
     ]
    },
    {
     "data": {
      "text/html": [
       "<div>\n",
       "<style scoped>\n",
       "    .dataframe tbody tr th:only-of-type {\n",
       "        vertical-align: middle;\n",
       "    }\n",
       "\n",
       "    .dataframe tbody tr th {\n",
       "        vertical-align: top;\n",
       "    }\n",
       "\n",
       "    .dataframe thead th {\n",
       "        text-align: right;\n",
       "    }\n",
       "</style>\n",
       "<table border=\"1\" class=\"dataframe\">\n",
       "  <thead>\n",
       "    <tr style=\"text-align: right;\">\n",
       "      <th></th>\n",
       "      <th>movieId</th>\n",
       "      <th>title_cast</th>\n",
       "    </tr>\n",
       "  </thead>\n",
       "  <tbody>\n",
       "    <tr>\n",
       "      <th>0</th>\n",
       "      <td>1</td>\n",
       "      <td>Tom Hanks</td>\n",
       "    </tr>\n",
       "    <tr>\n",
       "      <th>1</th>\n",
       "      <td>1</td>\n",
       "      <td>Tim Allen</td>\n",
       "    </tr>\n",
       "    <tr>\n",
       "      <th>2</th>\n",
       "      <td>1</td>\n",
       "      <td>Don Rickles</td>\n",
       "    </tr>\n",
       "    <tr>\n",
       "      <th>3</th>\n",
       "      <td>1</td>\n",
       "      <td>Jim Varney</td>\n",
       "    </tr>\n",
       "    <tr>\n",
       "      <th>4</th>\n",
       "      <td>1</td>\n",
       "      <td>Wallace Shawn</td>\n",
       "    </tr>\n",
       "  </tbody>\n",
       "</table>\n",
       "</div>"
      ],
      "text/plain": [
       "   movieId     title_cast\n",
       "0        1      Tom Hanks\n",
       "1        1      Tim Allen\n",
       "2        1    Don Rickles\n",
       "3        1     Jim Varney\n",
       "4        1  Wallace Shawn"
      ]
     },
     "metadata": {
      "tags": []
     },
     "output_type": "display_data"
    }
   ],
   "source": [
    "# Create dataframe containing only the movieId and cast members\n",
    "cast = pd.DataFrame(df_imdb[['movieId', 'title_cast']],\n",
    "                             columns=['movieId', 'title_cast'])\n",
    "\n",
    "# Split title_cast seperated by \"|\" and create a list containing the cast members in each movie\n",
    "cast.title_cast = cast.title_cast.astype(str).apply(lambda x: x.split('|'))\n",
    "\n",
    "# Create expanded dataframe where each movie - cast member combination is in a seperate row\n",
    "cast = pd.DataFrame([(tup.movieId, d) for tup in cast.itertuples() for d in tup.title_cast],\n",
    "                             columns=['movieId', 'title_cast'])\n",
    "\n",
    "mostc_cast = cast['title_cast'].value_counts(ascending=False).index.tolist()[:50]\n",
    "\n",
    "print('Total Cast Members:', len(list(cast['title_cast'].unique())))\n",
    "print('Most Common Cast Members:\\n', mostc_cast)\n",
    "display(cast.head())"
   ]
  },
  {
   "cell_type": "code",
   "execution_count": 18,
   "metadata": {
    "colab": {
     "base_uri": "https://localhost:8080/",
     "height": 1000
    },
    "id": "N0HhZL4SfPC9",
    "outputId": "c06df9cc-bc42-4578-a555-c45736b534b2"
   },
   "outputs": [
    {
     "data": {
      "image/png": "[encoded data removed]",
      "text/plain": [
       "<Figure size 4800x4000 with 1 Axes>"
      ]
     },
     "metadata": {
      "needs_background": "light",
      "tags": []
     },
     "output_type": "display_data"
    }
   ],
   "source": [
    "# Plot the genres from most common to least common\n",
    "plot = plt.figure(figsize=(12, 10), dpi=400)\n",
    "plt.title('Most common actors\\n', fontsize=20)\n",
    "sns.countplot(y=\"title_cast\", data=cast,\n",
    "              order=mostc_cast[1:50],\n",
    "              palette='Blues_r')\n",
    "plt.show()"
   ]
  },
  {
   "cell_type": "markdown",
   "metadata": {
    "id": "xJv8wc28jKxT"
   },
   "source": [
    "## Data Prepartion"
   ]
  },
  {
   "cell_type": "code",
   "execution_count": null,
   "metadata": {
    "id": "OMMvaMMIJ9nD"
   },
   "outputs": [],
   "source": []
  },
  {
   "cell_type": "markdown",
   "metadata": {
    "id": "XsJdiCsmjKxU"
   },
   "source": [
    "## Modelling \n",
    "\n"
   ]
  },
  {
   "cell_type": "markdown",
   "metadata": {
    "id": "sOGusERajKxU"
   },
   "source": [
    "### Collaborative Filtering "
   ]
  },
  {
   "cell_type": "code",
   "execution_count": null,
   "metadata": {
    "execution": {
     "iopub.execute_input": "2021-07-10T14:02:43.197502Z",
     "iopub.status.busy": "2021-07-10T14:02:43.197137Z",
     "iopub.status.idle": "2021-07-10T14:03:17.702852Z",
     "shell.execute_reply": "2021-07-10T14:03:17.701450Z",
     "shell.execute_reply.started": "2021-07-10T14:02:43.197471Z"
    },
    "id": "aAYejWasjKxT"
   },
   "outputs": [],
   "source": [
    "ratings = train.copy()\n",
    "ratings_dict = {'itemID': list(ratings.movieId),\n",
    "                'userID': list(ratings.userId),\n",
    "                'rating': list(ratings.rating)}\n",
    "df = pd.DataFrame(ratings_dict)\n",
    "\n",
    "# A reader is still needed but only the rating_scale param is requiered.\n",
    "reader = Reader(rating_scale=(0.5, 5.0))\n",
    "# The columns must correspond to user id, item id and ratings (in that order).\n",
    "data = Dataset.load_from_df(df[['userID', 'itemID', 'rating']], reader)"
   ]
  },
  {
   "cell_type": "code",
   "execution_count": null,
   "metadata": {
    "execution": {
     "iopub.execute_input": "2021-07-10T14:03:17.704997Z",
     "iopub.status.busy": "2021-07-10T14:03:17.704688Z",
     "iopub.status.idle": "2021-07-10T14:03:57.883381Z",
     "shell.execute_reply": "2021-07-10T14:03:57.882312Z",
     "shell.execute_reply.started": "2021-07-10T14:03:17.704969Z"
    },
    "id": "VDVxYjAbqG28"
   },
   "outputs": [],
   "source": [
    "%%time\n",
    "trainset, testset = train_test_split(data, test_size=.01, random_state = 1)"
   ]
  },
  {
   "cell_type": "markdown",
   "metadata": {
    "id": "mqp1sqZZjKxV"
   },
   "source": [
    "#### SVD      (surprise Package)"
   ]
  },
  {
   "cell_type": "code",
   "execution_count": null,
   "metadata": {
    "execution": {
     "iopub.status.busy": "2021-07-10T14:02:24.368195Z",
     "iopub.status.idle": "2021-07-10T14:02:24.369066Z"
    },
    "id": "QlZiAB3-jKxV",
    "outputId": "a60ae704-0424-46f8-bee2-c49257183f35"
   },
   "outputs": [
    {
     "name": "stdout",
     "output_type": "stream",
     "text": [
      "RMSE: 0.8164\n",
      "Wall time: 6min 59s\n"
     ]
    },
    {
     "data": {
      "text/plain": [
       "0.8164059812554958"
      ]
     },
     "execution_count": 14,
     "metadata": {
      "tags": []
     },
     "output_type": "execute_result"
    }
   ],
   "source": [
    "%%time\n",
    "algo = SVD()\n",
    "# Train the algorithm on the trainset, and predict ratings for the testset\n",
    "algo.fit(trainset)\n",
    "predictions = algo.test(testset)\n",
    "\n",
    "# Compute RMSE\n",
    "accuracy.rmse(predictions)"
   ]
  },
  {
   "cell_type": "code",
   "execution_count": null,
   "metadata": {
    "execution": {
     "iopub.execute_input": "2021-07-10T14:09:09.604074Z",
     "iopub.status.busy": "2021-07-10T14:09:09.603633Z",
     "iopub.status.idle": "2021-07-10T14:14:39.115360Z",
     "shell.execute_reply": "2021-07-10T14:14:39.114274Z",
     "shell.execute_reply.started": "2021-07-10T14:09:09.604015Z"
    },
    "id": "s_HCqeKSt-sd",
    "outputId": "658cdf05-e173-403b-bd36-b9981c8793a5"
   },
   "outputs": [
    {
     "name": "stdout",
     "output_type": "stream",
     "text": [
      "Processing epoch 0\n",
      "Processing epoch 1\n",
      "Processing epoch 2\n",
      "Processing epoch 3\n",
      "Processing epoch 4\n",
      "Processing epoch 5\n",
      "Processing epoch 6\n",
      "Processing epoch 7\n",
      "Processing epoch 8\n",
      "Processing epoch 9\n",
      "Processing epoch 10\n",
      "Processing epoch 11\n",
      "Processing epoch 12\n",
      "Processing epoch 13\n",
      "Processing epoch 14\n",
      "Processing epoch 15\n",
      "Processing epoch 16\n",
      "RMSE: 0.8045\n",
      "Wall time: 11min 5s\n"
     ]
    },
    {
     "data": {
      "text/plain": [
       "0.804545620921777"
      ]
     },
     "execution_count": 15,
     "metadata": {
      "tags": []
     },
     "output_type": "execute_result"
    }
   ],
   "source": [
    "%%time\n",
    "algo = SVD(random_state = 1, n_epochs= 17, verbose=True, n_factors =220, lr_all = 0.016, reg_all =0.02, init_std_dev = 0.005, init_mean = -0.037)\n",
    "# Train the algorithm on the trainset, and predict ratings for the testset\n",
    "algo.fit(trainset)\n",
    "predictions = algo.test(testset)\n",
    "\n",
    "# Compute RMSE\n",
    "accuracy.rmse(predictions) # rmse: 0.8101      5min 29s"
   ]
  },
  {
   "cell_type": "code",
   "execution_count": null,
   "metadata": {
    "id": "4RFfsRSlKc2F",
    "outputId": "ff4c6e03-76f1-4610-dc50-673bbcdfc702"
   },
   "outputs": [
    {
     "name": "stdout",
     "output_type": "stream",
     "text": [
      "Processing epoch 0\n",
      "Processing epoch 1\n",
      "Processing epoch 2\n",
      "Processing epoch 3\n",
      "Processing epoch 4\n",
      "Processing epoch 5\n",
      "Processing epoch 6\n",
      "Processing epoch 7\n",
      "Processing epoch 8\n",
      "Processing epoch 9\n",
      "Processing epoch 10\n",
      "Processing epoch 11\n",
      "Processing epoch 12\n",
      "Processing epoch 13\n",
      "Processing epoch 14\n",
      "Processing epoch 15\n"
     ]
    },
    {
     "data": {
      "text/plain": [
       "<surprise.prediction_algorithms.matrix_factorization.SVD at 0x2824b908250>"
      ]
     },
     "execution_count": 16,
     "metadata": {
      "tags": []
     },
     "output_type": "execute_result"
    }
   ],
   "source": [
    "trainset = data.build_full_trainset()\n",
    "algo = SVD(random_state = 1, n_epochs= 16, verbose=True, n_factors =220, lr_all = 0.016, reg_all =0.02, init_std_dev = 0.005, init_mean = -0.037)\n",
    "algo.fit(trainset)"
   ]
  },
  {
   "cell_type": "markdown",
   "metadata": {
    "id": "FwWQnppEKc2G"
   },
   "source": [
    "#### SVD (LibRecommender package)"
   ]
  },
  {
   "cell_type": "code",
   "execution_count": null,
   "metadata": {
    "colab": {
     "base_uri": "https://localhost:8080/"
    },
    "execution": {
     "iopub.execute_input": "2021-07-10T14:34:12.952493Z",
     "iopub.status.busy": "2021-07-10T14:34:12.952071Z",
     "iopub.status.idle": "2021-07-10T14:34:55.255060Z",
     "shell.execute_reply": "2021-07-10T14:34:55.253751Z",
     "shell.execute_reply.started": "2021-07-10T14:34:12.952457Z"
    },
    "id": "2abYRaqOKc2G",
    "outputId": "4d33eb28-0ca8-43d7-9d6e-74d139c5b76f"
   },
   "outputs": [
    {
     "name": "stdout",
     "output_type": "stream",
     "text": [
      "n_users: 160834, n_items: 13036, data sparsity: 0.4650 %\n"
     ]
    }
   ],
   "source": [
    "data = df_train.copy()\n",
    "data.rename(columns={'userId':'user'},inplace=True)\n",
    "data.rename(columns={'movieId':'item'},inplace=True)\n",
    "data.rename(columns={'rating':'label'},inplace=True)\n",
    "data.rename(columns={'timestamp':'time'},inplace=True)\n",
    "\n",
    "# split whole data into three folds for training, evaluating and testing\n",
    "train_data, eval_data, test_data = random_split(data, multi_ratios=[0.99, 0.005, 0.005])\n",
    "\n",
    "train_data, data_info = DatasetPure.build_trainset(train_data)\n",
    "eval_data = DatasetPure.build_evalset(eval_data)\n",
    "test_data = DatasetPure.build_testset(test_data)\n",
    "print(data_info)"
   ]
  },
  {
   "cell_type": "code",
   "execution_count": null,
   "metadata": {
    "execution": {
     "iopub.execute_input": "2021-07-10T14:34:55.257024Z",
     "iopub.status.busy": "2021-07-10T14:34:55.256730Z",
     "iopub.status.idle": "2021-07-10T14:34:55.263144Z",
     "shell.execute_reply": "2021-07-10T14:34:55.261654Z",
     "shell.execute_reply.started": "2021-07-10T14:34:55.256996Z"
    },
    "id": "jkHCItyaKc2G"
   },
   "outputs": [],
   "source": [
    "def reset_state(name):\n",
    "    tf.compat.v1.reset_default_graph()\n",
    "    print(\"\\n\", \"=\" * 30, name, \"=\" * 30)"
   ]
  },
  {
   "cell_type": "code",
   "execution_count": null,
   "metadata": {
    "colab": {
     "base_uri": "https://localhost:8080/"
    },
    "id": "WKJD4S4MXkqd",
    "outputId": "0a8d744c-5028-48a3-8ab5-69e8396d53bf"
   },
   "outputs": [
    {
     "name": "stdout",
     "output_type": "stream",
     "text": [
      "\n",
      " ============================== libSVD ==============================\n",
      "Training start time: \u001b[35m2021-07-11 16:06:59\u001b[0m\n"
     ]
    },
    {
     "name": "stderr",
     "output_type": "stream",
     "text": [
      "train: 100%|██████████| 976/976 [00:05<00:00, 180.61it/s]\n",
      "eval_pred: 100%|██████████| 7/7 [00:00<00:00, 539.91it/s]\n"
     ]
    },
    {
     "name": "stdout",
     "output_type": "stream",
     "text": [
      "Epoch 1 elapsed: 8.916s\n",
      "\t \u001b[32mtrain_loss: 0.7848\u001b[0m\n",
      "\t eval rmse: 0.8230\n",
      "\t eval mae: 0.6243\n",
      "\t eval r2: 0.3935\n",
      "==============================\n"
     ]
    },
    {
     "name": "stderr",
     "output_type": "stream",
     "text": [
      "train: 100%|██████████| 976/976 [00:04<00:00, 218.39it/s]\n",
      "eval_pred: 100%|██████████| 7/7 [00:00<00:00, 501.34it/s]\n"
     ]
    },
    {
     "name": "stdout",
     "output_type": "stream",
     "text": [
      "Epoch 2 elapsed: 7.852s\n",
      "\t \u001b[32mtrain_loss: 0.6146\u001b[0m\n",
      "\t eval rmse: 0.8121\n",
      "\t eval mae: 0.6152\n",
      "\t eval r2: 0.4095\n",
      "==============================\n"
     ]
    },
    {
     "name": "stderr",
     "output_type": "stream",
     "text": [
      "train: 100%|██████████| 976/976 [00:04<00:00, 229.96it/s]\n",
      "eval_pred: 100%|██████████| 7/7 [00:00<00:00, 638.04it/s]\n",
      "eval_pred: 100%|██████████| 7/7 [00:00<00:00, 638.06it/s]"
     ]
    },
    {
     "name": "stdout",
     "output_type": "stream",
     "text": [
      "Epoch 3 elapsed: 7.446s\n",
      "\t \u001b[32mtrain_loss: 0.547\u001b[0m\n",
      "\t eval rmse: 0.8186\n",
      "\t eval mae: 0.6186\n",
      "\t eval r2: 0.4000\n",
      "==============================\n",
      "evaluate_result:  {'rmse': 0.8158993788755492, 'mae': 0.6174194603255447}\n",
      "Wall time: 24.9 s\n"
     ]
    },
    {
     "name": "stderr",
     "output_type": "stream",
     "text": [
      "\n"
     ]
    }
   ],
   "source": [
    "%%time\n",
    "reset_state('libSVD')\n",
    "svd_lib = libSVD(task=\"rating\", data_info=data_info, embed_size=16, n_epochs=3, lr=0.005,batch_size=10000, batch_sampling=True)  # embed_size=8, n_epochs=3, lr=0.005,batch_size=10000\n",
    "# monitor metrics on eval_data during training\n",
    "svd_lib.fit(train_data, verbose=2, eval_data=eval_data, metrics=[\"rmse\", \"mae\", \"r2\"])\n",
    "\n",
    "# do final evaluation on test data\n",
    "print(\"evaluate_result: \", evaluate(model=svd_lib, data=test_data,\n",
    "                                    metrics=[\"rmse\", \"mae\"]))"
   ]
  },
  {
   "cell_type": "markdown",
   "metadata": {
    "id": "4fK-IwqIVrwJ"
   },
   "source": [
    "#### SVDpp (LibRecommender package)"
   ]
  },
  {
   "cell_type": "code",
   "execution_count": null,
   "metadata": {
    "colab": {
     "base_uri": "https://localhost:8080/"
    },
    "execution": {
     "iopub.execute_input": "2021-07-10T16:02:08.592582Z",
     "iopub.status.busy": "2021-07-10T16:02:08.592195Z"
    },
    "id": "pj5KYJeDKc2G",
    "outputId": "d573f996-2b1a-4c71-d00c-8dd43c6fb6e9"
   },
   "outputs": [
    {
     "name": "stdout",
     "output_type": "stream",
     "text": [
      "\n",
      " ============================== SVDpp ==============================\n",
      "Training start time: \u001b[35m2021-07-11 14:28:48\u001b[0m\n"
     ]
    },
    {
     "name": "stderr",
     "output_type": "stream",
     "text": [
      "train: 100%|██████████| 976/976 [08:48<00:00,  1.85it/s]\n"
     ]
    },
    {
     "name": "stdout",
     "output_type": "stream",
     "text": [
      "Epoch 1 elapsed: 531.049s\n",
      "\t \u001b[32mtrain_loss: 0.7346\u001b[0m\n"
     ]
    },
    {
     "name": "stderr",
     "output_type": "stream",
     "text": [
      "eval_pred: 100%|██████████| 7/7 [00:00<00:00, 438.68it/s]\n"
     ]
    },
    {
     "name": "stdout",
     "output_type": "stream",
     "text": [
      "\t eval rmse: 0.8112\n",
      "\t eval mae: 0.6171\n",
      "\t eval r2: 0.4141\n",
      "==============================\n"
     ]
    },
    {
     "name": "stderr",
     "output_type": "stream",
     "text": [
      "train: 100%|██████████| 976/976 [08:46<00:00,  1.85it/s]\n"
     ]
    },
    {
     "name": "stdout",
     "output_type": "stream",
     "text": [
      "Epoch 2 elapsed: 529.057s\n",
      "\t \u001b[32mtrain_loss: 0.5981\u001b[0m\n"
     ]
    },
    {
     "name": "stderr",
     "output_type": "stream",
     "text": [
      "eval_pred: 100%|██████████| 7/7 [00:00<00:00, 779.86it/s]\n"
     ]
    },
    {
     "name": "stdout",
     "output_type": "stream",
     "text": [
      "\t eval rmse: 0.8007\n",
      "\t eval mae: 0.6088\n",
      "\t eval r2: 0.4292\n",
      "==============================\n"
     ]
    },
    {
     "name": "stderr",
     "output_type": "stream",
     "text": [
      "eval_pred: 100%|██████████| 7/7 [00:00<00:00, 701.89it/s]"
     ]
    },
    {
     "name": "stdout",
     "output_type": "stream",
     "text": [
      "evaluate_result:  {'rmse': 0.7970316494608983, 'mae': 0.604411352354703}\n",
      "Wall time: 17min 48s\n"
     ]
    },
    {
     "name": "stderr",
     "output_type": "stream",
     "text": [
      "\n"
     ]
    }
   ],
   "source": [
    "%%time\n",
    "reset_state('SVDpp')\n",
    "svdpp = SVDpp(task=\"rating\", data_info=data_info, embed_size=16, n_epochs=2, lr=0.005,batch_size=10000, batch_sampling=True)  # embed_size=16, n_epochs=2, lr=0.005,batch_size=10000\n",
    "# monitor metrics on eval_data during training\n",
    "svdpp.fit(train_data, verbose=2, eval_data=eval_data, metrics=[\"rmse\", \"mae\", \"r2\"])\n",
    "\n",
    "# do final evaluation on test data\n",
    "print(\"evaluate_result: \", evaluate(model=svdpp, data=test_data,\n",
    "                                    metrics=[\"rmse\", \"mae\"]))"
   ]
  },
  {
   "cell_type": "markdown",
   "metadata": {
    "id": "hjZSzPYjVkh1"
   },
   "source": [
    "Train SVDpp on full dataset"
   ]
  },
  {
   "cell_type": "code",
   "execution_count": null,
   "metadata": {
    "id": "jurAZ-9oKc2H"
   },
   "outputs": [],
   "source": [
    "# data = pd.read_csv(root_path + 'train.csv', header=0, names = [\"user\", \"item\", \"label\", \"time\"])\n",
    "# train_data, data_info = DatasetPure.build_trainset(data)\n",
    "\n",
    "# reset_state('SVDpp')\n",
    "# svdpp = SVDpp(task=\"rating\", data_info=data_info, embed_size=16, n_epochs=2, lr=0.005,batch_size=10000, batch_sampling=True)\n",
    "# svdpp.fit(train_data, verbose=2)"
   ]
  },
  {
   "cell_type": "code",
   "execution_count": null,
   "metadata": {
    "colab": {
     "base_uri": "https://localhost:8080/"
    },
    "execution": {
     "iopub.execute_input": "2021-07-10T14:50:08.887933Z",
     "iopub.status.busy": "2021-07-10T14:50:08.887557Z",
     "iopub.status.idle": "2021-07-10T14:50:08.917068Z",
     "shell.execute_reply": "2021-07-10T14:50:08.915968Z",
     "shell.execute_reply.started": "2021-07-10T14:50:08.887901Z"
    },
    "id": "-g4NY-kDKc2H",
    "outputId": "073c12bd-39fa-467a-b24a-049cd5ebfefb"
   },
   "outputs": [
    {
     "name": "stdout",
     "output_type": "stream",
     "text": [
      "prediction:  [4.2383614]\n",
      "recommendation:  [(120478, 5.039912), (134252, 4.947643), (296, 4.922036), (1261, 4.9119997), (86377, 4.8843603)]\n"
     ]
    }
   ],
   "source": [
    "print(\"prediction: \", svdpp.predict(user=5163, item=57669))\n",
    "print(\"recommendation: \", svdpp.recommend_user(user=5163, n_rec=5))"
   ]
  },
  {
   "cell_type": "code",
   "execution_count": null,
   "metadata": {
    "colab": {
     "base_uri": "https://localhost:8080/"
    },
    "execution": {
     "iopub.execute_input": "2021-07-10T15:01:24.602370Z",
     "iopub.status.busy": "2021-07-10T15:01:24.601867Z",
     "iopub.status.idle": "2021-07-10T15:01:24.610356Z",
     "shell.execute_reply": "2021-07-10T15:01:24.609281Z",
     "shell.execute_reply.started": "2021-07-10T15:01:24.602340Z"
    },
    "id": "EOyIO8KJKc2H",
    "outputId": "be6c649c-e85d-4142-b55a-ed52582cdf2e"
   },
   "outputs": [
    {
     "data": {
      "text/plain": [
       "array([4.4354897, 3.7348151, 4.1863747, 2.354507 , 3.3813767, 3.2520676,\n",
       "       3.708427 , 1.837827 , 3.9626102, 3.4779892], dtype=float32)"
      ]
     },
     "execution_count": 18,
     "metadata": {
      "tags": []
     },
     "output_type": "execute_result"
    }
   ],
   "source": [
    "svdpp.predict(df_train['userId'][:10], df_train['movieId'][:10])"
   ]
  },
  {
   "cell_type": "code",
   "execution_count": null,
   "metadata": {
    "colab": {
     "base_uri": "https://localhost:8080/"
    },
    "id": "NFVrl2zXKc2I",
    "outputId": "367b11ef-3e65-4bc3-ef6f-de370338552c"
   },
   "outputs": [],
   "source": [
    "#### SVD (LibRecommender package)"
   ]
  },
  {
   "cell_type": "code",
   "execution_count": null,
   "metadata": {
    "execution": {
     "iopub.execute_input": "2021-07-10T15:46:15.794076Z",
     "iopub.status.busy": "2021-07-10T15:46:15.793649Z",
     "iopub.status.idle": "2021-07-10T15:49:34.985069Z",
     "shell.execute_reply": "2021-07-10T15:49:34.983724Z",
     "shell.execute_reply.started": "2021-07-10T15:46:15.794018Z"
    },
    "id": "wMb0M79DKc2L"
   },
   "outputs": [],
   "source": [
    "save_name = 'SVDpp_librecA'\n",
    "df_pred =df_test.copy()\n",
    "df_pred['rating'] = svdpp_pred\n",
    "df_pred['Id'] = df_pred.apply(lambda x:'%s_%s' % (x['userId'],x['movieId']),axis=1)\n",
    "df_pred['Id'] = df_pred.apply(lambda x:'%s_%s' % (x['userId'],x['movieId']),axis=1)\n",
    "df_pred = df_pred[['Id', 'rating']]\n",
    "df_pred.to_csv(save_name + '.csv', index=False)"
   ]
  },
  {
   "cell_type": "markdown",
   "metadata": {
    "id": "_lRUtrfYWMjn"
   },
   "source": [
    "Save SVDpp model"
   ]
  },
  {
   "cell_type": "code",
   "execution_count": null,
   "metadata": {
    "id": "H8NbFKUCnE7y"
   },
   "outputs": [],
   "source": [
    "\"\"\"\n",
    "data_info.save(path=\"SVDpp_model_path\")\n",
    "svdpp.save(path=\"SVDpp_model_path\", model_name=\"svdpp_model\", manual=True,\n",
    "                inference_only=False)\n",
    "\"\"\""
   ]
  },
  {
   "cell_type": "code",
   "execution_count": null,
   "metadata": {
    "id": "5Vu-KxHVnRKY"
   },
   "outputs": [],
   "source": [
    "\"\"\"\n",
    "tf.compat.v1.reset_default_graph()\n",
    "data_info = DataInfo.load(\"SVDpp_model_path\")\n",
    "\n",
    "svdpp_loaded = SVDpp(task=\"rating\", data_info=data_info, embed_size=16, n_epochs=2, lr=0.005,batch_size=10000, batch_sampling=True)\n",
    "\n",
    "data = pd.read_csv(root_path + 'train.csv', header=0, names = [\"user\", \"item\", \"label\", \"time\"])\n",
    "train_data, eval_data, test_data = random_split(data, multi_ratios=[0.99, 0.005, 0.005])\n",
    "train_data, data_info = DatasetPure.build_trainset(train_data)\n",
    "svdpp_loaded.rebuild_graph(path=\"SVDpp_model_path\", model_name=\"svdpp_model\",\n",
    "                        full_assign=True, train_data=train_data)\n",
    "\"\"\""
   ]
  },
  {
   "cell_type": "code",
   "execution_count": null,
   "metadata": {
    "id": "fXWgl8nzQC5H"
   },
   "outputs": [],
   "source": [
    "#svdpp_loaded.predict(df_train['userId'][:10], df_train['movieId'][:10])"
   ]
  },
  {
   "cell_type": "markdown",
   "metadata": {
    "id": "l7xyKU9Uhzzm"
   },
   "source": [
    "### Hybrid Models\n"
   ]
  },
  {
   "cell_type": "code",
   "execution_count": 19,
   "metadata": {
    "id": "G1dSurcuoWDL"
   },
   "outputs": [],
   "source": [
    "def create_features(df, column, features):\n",
    "    \"\"\"Creates features from a column of lists where the list items will be the features.\"\"\"\n",
    "    \n",
    "    features_df = pd.DataFrame(columns = features)\n",
    "    all_features = pd.concat([df, features_df], axis=1)\n",
    "\n",
    "    for i,row in all_features.iterrows():\n",
    "        for feature in features:\n",
    "            if feature in row.column:\n",
    "                all_features[feature].iloc[i]= 1\n",
    "    all_features = all_features.drop(column, axis=1)\n",
    "    \n",
    "    return all_features"
   ]
  },
  {
   "cell_type": "code",
   "execution_count": null,
   "metadata": {
    "id": "SCysX1AcoWH8"
   },
   "outputs": [],
   "source": [
    "movies_genres = pd.DataFrame(df_movies[['movieId', 'genres']],\n",
    "                             columns=['movieId', 'genres'])\n",
    "\n",
    "# Split genres seperated by \"|\" and create a list containing the genres allocated to each movie\n",
    "movies_genres.genres = movies_genres.genres.apply(lambda x: x.split('|'))\n",
    "genres = ['Adventure', 'Animation', 'Children', 'Comedy', 'Fantasy',\n",
    "       'Romance', 'Drama', 'Action', 'Crime', 'Thriller', 'Horror',\n",
    "       'Mystery', 'Sci-Fi', 'IMAX', 'Documentary', 'War', 'Musical',\n",
    "       'Western', 'Film-Noir', '(no genres listed)']\n",
    "genre_encode = create_features(movies_genres[:5], 'genres', genres)\n",
    "genre_encode.head()"
   ]
  },
  {
   "cell_type": "code",
   "execution_count": null,
   "metadata": {
    "id": "HEdnxXvaoWLE"
   },
   "outputs": [],
   "source": [
    "cast = pd.DataFrame(df_imdb[['movieId', 'title_cast']],\n",
    "                             columns=['movieId', 'title_cast'])\n",
    "\n",
    "# Split title_cast seperated by \"|\" and create a list containing the cast members in each movie\n",
    "cast.title_cast = cast.title_cast.astype(str).apply(lambda x: x.split('|'))\n",
    "cast_movie = pd.DataFrame([(tup.movieId, d) for tup in cast.itertuples() for d in tup.title_cast],\n",
    "                             columns=['movieId', 'title_cast'])\n",
    "mostc_cast = cast_movie['title_cast'].value_counts(ascending=False).index.tolist()[:50]\n",
    "\n",
    "cast_encode = create_features(cast[:5], 'title_cast', mostc_cast[1:])\n",
    "cast_encode.head()"
   ]
  },
  {
   "cell_type": "code",
   "execution_count": null,
   "metadata": {
    "id": "hLHHzrOXGaeI"
   },
   "outputs": [],
   "source": [
    "df_imdb.fillna(0, inplace=True)\n",
    "df_imdb.budget = df_imdb.budget.astype(str).apply(lambda x: int(re.sub(\"[^0-9]\", \"\", x)))"
   ]
  },
  {
   "cell_type": "code",
   "execution_count": null,
   "metadata": {
    "colab": {
     "base_uri": "https://localhost:8080/",
     "height": 141
    },
    "id": "E0oeRDe6iKBX",
    "outputId": "4c37a653-e449-4301-b344-7089d5ef7ad6"
   },
   "outputs": [
    {
     "data": {
      "text/html": [
       "<div>\n",
       "<style scoped>\n",
       "    .dataframe tbody tr th:only-of-type {\n",
       "        vertical-align: middle;\n",
       "    }\n",
       "\n",
       "    .dataframe tbody tr th {\n",
       "        vertical-align: top;\n",
       "    }\n",
       "\n",
       "    .dataframe thead th {\n",
       "        text-align: right;\n",
       "    }\n",
       "</style>\n",
       "<table border=\"1\" class=\"dataframe\">\n",
       "  <thead>\n",
       "    <tr style=\"text-align: right;\">\n",
       "      <th></th>\n",
       "      <th>userId</th>\n",
       "      <th>movieId</th>\n",
       "      <th>rating</th>\n",
       "      <th>timestamp</th>\n",
       "      <th>movie_rating_count</th>\n",
       "      <th>user_rating_count</th>\n",
       "    </tr>\n",
       "  </thead>\n",
       "  <tbody>\n",
       "    <tr>\n",
       "      <th>0</th>\n",
       "      <td>5163</td>\n",
       "      <td>57669</td>\n",
       "      <td>4.0</td>\n",
       "      <td>1518349992</td>\n",
       "      <td>4253</td>\n",
       "      <td>22</td>\n",
       "    </tr>\n",
       "    <tr>\n",
       "      <th>1</th>\n",
       "      <td>5163</td>\n",
       "      <td>2671</td>\n",
       "      <td>1.0</td>\n",
       "      <td>1545511636</td>\n",
       "      <td>5698</td>\n",
       "      <td>22</td>\n",
       "    </tr>\n",
       "    <tr>\n",
       "      <th>2</th>\n",
       "      <td>5163</td>\n",
       "      <td>1247</td>\n",
       "      <td>4.5</td>\n",
       "      <td>1434310106</td>\n",
       "      <td>7569</td>\n",
       "      <td>22</td>\n",
       "    </tr>\n",
       "  </tbody>\n",
       "</table>\n",
       "</div>"
      ],
      "text/plain": [
       "   userId  movieId  rating   timestamp  movie_rating_count  user_rating_count\n",
       "0    5163    57669     4.0  1518349992                4253                 22\n",
       "1    5163     2671     1.0  1545511636                5698                 22\n",
       "2    5163     1247     4.5  1434310106                7569                 22"
      ]
     },
     "execution_count": 29,
     "metadata": {
      "tags": []
     },
     "output_type": "execute_result"
    }
   ],
   "source": [
    "# joining\n",
    "df_train = train.copy()\n",
    "\n",
    "rating_count = df_train.groupby('movieId')['rating'].count().reset_index()\n",
    "rating_count.rename(columns = {'rating': 'movie_rating_count'}, inplace=True)\n",
    "df_train = df_train.merge(rating_count, on='movieId')\n",
    "\n",
    "user_count = df_train.groupby('userId')['rating'].count().reset_index()\n",
    "user_count.rename(columns={'rating': 'user_rating_count'}, inplace=True)\n",
    "df_train=df_train.merge(user_count, on='userId')\n",
    "\n",
    "df_train = df_train[df_train['movie_rating_count'] > 20]\n",
    "df_train = df_train[df_train['user_rating_count'] > 5]\n",
    "df_train.head(3)"
   ]
  },
  {
   "cell_type": "code",
   "execution_count": null,
   "metadata": {
    "colab": {
     "base_uri": "https://localhost:8080/"
    },
    "id": "wTMXif2ViZJ1",
    "outputId": "e21e2eda-e4d6-4039-b644-727b9d2dba4f"
   },
   "outputs": [
    {
     "data": {
      "text/plain": [
       "(9848791, 4)"
      ]
     },
     "execution_count": 30,
     "metadata": {
      "tags": []
     },
     "output_type": "execute_result"
    }
   ],
   "source": [
    "df_train.drop(['movie_rating_count','user_rating_count'], 1, inplace=True)\n",
    "df_train.shape"
   ]
  },
  {
   "cell_type": "code",
   "execution_count": null,
   "metadata": {
    "colab": {
     "base_uri": "https://localhost:8080/"
    },
    "id": "Se9n7fokiZPy",
    "outputId": "36da6e84-6653-46af-b127-db3ee25b4082"
   },
   "outputs": [
    {
     "name": "stdout",
     "output_type": "stream",
     "text": [
      "(9848791, 25)\n"
     ]
    }
   ],
   "source": [
    "df_train = pd.merge(df_train, genre_encode,on= 'movieId')\n",
    "df_train = df_train.merge(cast_encode, on= 'movieId')\n",
    "print(df_train.shape)"
   ]
  },
  {
   "cell_type": "code",
   "execution_count": null,
   "metadata": {
    "colab": {
     "base_uri": "https://localhost:8080/",
     "height": 344
    },
    "id": "jCICZACml9Ja",
    "outputId": "078871a8-e83b-4bd1-863d-a85936301d09"
   },
   "outputs": [
    {
     "data": {
      "text/html": [
       "<div>\n",
       "<style scoped>\n",
       "    .dataframe tbody tr th:only-of-type {\n",
       "        vertical-align: middle;\n",
       "    }\n",
       "\n",
       "    .dataframe tbody tr th {\n",
       "        vertical-align: top;\n",
       "    }\n",
       "\n",
       "    .dataframe thead th {\n",
       "        text-align: right;\n",
       "    }\n",
       "</style>\n",
       "<table border=\"1\" class=\"dataframe\">\n",
       "  <thead>\n",
       "    <tr style=\"text-align: right;\">\n",
       "      <th></th>\n",
       "      <th>userId</th>\n",
       "      <th>movieId</th>\n",
       "      <th>rating</th>\n",
       "      <th>timestamp</th>\n",
       "      <th>action</th>\n",
       "      <th>adventure</th>\n",
       "      <th>animation</th>\n",
       "      <th>children</th>\n",
       "      <th>comedy</th>\n",
       "      <th>crime</th>\n",
       "      <th>documentary</th>\n",
       "      <th>drama</th>\n",
       "      <th>fantasy</th>\n",
       "      <th>film</th>\n",
       "      <th>horror</th>\n",
       "      <th>imax</th>\n",
       "      <th>musical</th>\n",
       "      <th>mystery</th>\n",
       "      <th>no genres listed</th>\n",
       "      <th>noir</th>\n",
       "      <th>romance</th>\n",
       "      <th>sci-fi</th>\n",
       "      <th>thriller</th>\n",
       "      <th>war</th>\n",
       "      <th>western</th>\n",
       "      <th>title_cast</th>\n",
       "      <th>director</th>\n",
       "      <th>runtime</th>\n",
       "      <th>budget</th>\n",
       "      <th>plot_keywords</th>\n",
       "    </tr>\n",
       "  </thead>\n",
       "  <tbody>\n",
       "    <tr>\n",
       "      <th>0</th>\n",
       "      <td>5163</td>\n",
       "      <td>57669</td>\n",
       "      <td>4.0</td>\n",
       "      <td>1518349992</td>\n",
       "      <td>0</td>\n",
       "      <td>0</td>\n",
       "      <td>0</td>\n",
       "      <td>0</td>\n",
       "      <td>1</td>\n",
       "      <td>1</td>\n",
       "      <td>0</td>\n",
       "      <td>1</td>\n",
       "      <td>0</td>\n",
       "      <td>0</td>\n",
       "      <td>0</td>\n",
       "      <td>0</td>\n",
       "      <td>0</td>\n",
       "      <td>0</td>\n",
       "      <td>0</td>\n",
       "      <td>0</td>\n",
       "      <td>0</td>\n",
       "      <td>0</td>\n",
       "      <td>1</td>\n",
       "      <td>0</td>\n",
       "      <td>0</td>\n",
       "      <td>Elizabeth Berrington|Rudy Blomme|Olivier Bonjo...</td>\n",
       "      <td>Martin McDonagh</td>\n",
       "      <td>107.0</td>\n",
       "      <td>$15,000,000</td>\n",
       "      <td>dwarf|bruges|irish|hitman</td>\n",
       "    </tr>\n",
       "    <tr>\n",
       "      <th>1</th>\n",
       "      <td>87388</td>\n",
       "      <td>57669</td>\n",
       "      <td>3.5</td>\n",
       "      <td>1237455297</td>\n",
       "      <td>0</td>\n",
       "      <td>0</td>\n",
       "      <td>0</td>\n",
       "      <td>0</td>\n",
       "      <td>1</td>\n",
       "      <td>1</td>\n",
       "      <td>0</td>\n",
       "      <td>1</td>\n",
       "      <td>0</td>\n",
       "      <td>0</td>\n",
       "      <td>0</td>\n",
       "      <td>0</td>\n",
       "      <td>0</td>\n",
       "      <td>0</td>\n",
       "      <td>0</td>\n",
       "      <td>0</td>\n",
       "      <td>0</td>\n",
       "      <td>0</td>\n",
       "      <td>1</td>\n",
       "      <td>0</td>\n",
       "      <td>0</td>\n",
       "      <td>Elizabeth Berrington|Rudy Blomme|Olivier Bonjo...</td>\n",
       "      <td>Martin McDonagh</td>\n",
       "      <td>107.0</td>\n",
       "      <td>$15,000,000</td>\n",
       "      <td>dwarf|bruges|irish|hitman</td>\n",
       "    </tr>\n",
       "    <tr>\n",
       "      <th>2</th>\n",
       "      <td>137050</td>\n",
       "      <td>57669</td>\n",
       "      <td>4.0</td>\n",
       "      <td>1425631854</td>\n",
       "      <td>0</td>\n",
       "      <td>0</td>\n",
       "      <td>0</td>\n",
       "      <td>0</td>\n",
       "      <td>1</td>\n",
       "      <td>1</td>\n",
       "      <td>0</td>\n",
       "      <td>1</td>\n",
       "      <td>0</td>\n",
       "      <td>0</td>\n",
       "      <td>0</td>\n",
       "      <td>0</td>\n",
       "      <td>0</td>\n",
       "      <td>0</td>\n",
       "      <td>0</td>\n",
       "      <td>0</td>\n",
       "      <td>0</td>\n",
       "      <td>0</td>\n",
       "      <td>1</td>\n",
       "      <td>0</td>\n",
       "      <td>0</td>\n",
       "      <td>Elizabeth Berrington|Rudy Blomme|Olivier Bonjo...</td>\n",
       "      <td>Martin McDonagh</td>\n",
       "      <td>107.0</td>\n",
       "      <td>$15,000,000</td>\n",
       "      <td>dwarf|bruges|irish|hitman</td>\n",
       "    </tr>\n",
       "  </tbody>\n",
       "</table>\n",
       "</div>"
      ],
      "text/plain": [
       "   userId  movieId  rating   timestamp  action  adventure  animation  \\\n",
       "0    5163    57669     4.0  1518349992       0          0          0   \n",
       "1   87388    57669     3.5  1237455297       0          0          0   \n",
       "2  137050    57669     4.0  1425631854       0          0          0   \n",
       "\n",
       "   children  comedy  crime  documentary  drama  fantasy  film  horror  imax  \\\n",
       "0         0       1      1            0      1        0     0       0     0   \n",
       "1         0       1      1            0      1        0     0       0     0   \n",
       "2         0       1      1            0      1        0     0       0     0   \n",
       "\n",
       "   musical  mystery  no genres listed  noir  romance  sci-fi  thriller  war  \\\n",
       "0        0        0                 0     0        0       0         1    0   \n",
       "1        0        0                 0     0        0       0         1    0   \n",
       "2        0        0                 0     0        0       0         1    0   \n",
       "\n",
       "   western                                         title_cast  \\\n",
       "0        0  Elizabeth Berrington|Rudy Blomme|Olivier Bonjo...   \n",
       "1        0  Elizabeth Berrington|Rudy Blomme|Olivier Bonjo...   \n",
       "2        0  Elizabeth Berrington|Rudy Blomme|Olivier Bonjo...   \n",
       "\n",
       "          director  runtime       budget              plot_keywords  \n",
       "0  Martin McDonagh    107.0  $15,000,000  dwarf|bruges|irish|hitman  \n",
       "1  Martin McDonagh    107.0  $15,000,000  dwarf|bruges|irish|hitman  \n",
       "2  Martin McDonagh    107.0  $15,000,000  dwarf|bruges|irish|hitman  "
      ]
     },
     "execution_count": 33,
     "metadata": {
      "tags": []
     },
     "output_type": "execute_result"
    }
   ],
   "source": [
    "df_train = df_train.merge(df_imdb[['director', 'runtime', 'budget']], on= 'movieId').fillna(0)\n",
    "df_train.head()"
   ]
  },
  {
   "cell_type": "code",
   "execution_count": null,
   "metadata": {
    "colab": {
     "base_uri": "https://localhost:8080/"
    },
    "id": "K1DipdeVi1O_",
    "outputId": "20cf672c-a9e3-4187-823f-8d9bcd041868"
   },
   "outputs": [
    {
     "data": {
      "text/plain": [
       "Index(['userId', 'movieId', 'rating', 'timestamp', 'action', 'adventure',\n",
       "       'animation', 'children', 'comedy', 'crime', 'documentary', 'drama',\n",
       "       'fantasy', 'film', 'horror', 'imax', 'musical', 'mystery',\n",
       "       'no genres listed', 'noir', 'romance', 'sci-fi', 'thriller', 'war',\n",
       "       'western', 'title_cast', 'director', 'runtime', 'budget',\n",
       "       'plot_keywords'],\n",
       "      dtype='object')"
      ]
     },
     "execution_count": 35,
     "metadata": {
      "tags": []
     },
     "output_type": "execute_result"
    }
   ],
   "source": [
    "print(df_train.columns)"
   ]
  },
  {
   "cell_type": "code",
   "execution_count": null,
   "metadata": {
    "id": "VChnrXGnJs9m"
   },
   "outputs": [],
   "source": [
    "df_train.to_csv('train_feat.csv', index=False)"
   ]
  },
  {
   "cell_type": "code",
   "execution_count": 19,
   "metadata": {
    "colab": {
     "base_uri": "https://localhost:8080/"
    },
    "id": "ikMqxXnoUQPL",
    "outputId": "a6b1e898-f69e-4770-9331-e2e6dcaa6d10"
   },
   "outputs": [
    {
     "name": "stdout",
     "output_type": "stream",
     "text": [
      "n_users: 160834, n_items: 13036, data sparsity: 0.4650 %\n"
     ]
    }
   ],
   "source": [
    "df_train = pd.read_csv('/content/train_feat.csv')\n",
    "df_train.rename(columns={'userId':'user'},inplace=True)\n",
    "df_train.rename(columns={'movieId':'item'},inplace=True)\n",
    "df_train.rename(columns={'rating':'label'},inplace=True)\n",
    "df_train.rename(columns={'timestamp':'time'},inplace=True)\n",
    "\n",
    "data = df_train.copy()\n",
    "\n",
    "sparse_col = [\n",
    "    'title', 'genres', 'action', 'adventure', 'animation', 'children',\n",
    "    'comedy', 'crime', 'documentary', 'drama', 'fantasy', 'film', 'horror',\n",
    "    'imax', 'musical', 'mystery', 'no genres listed', 'noir', 'romance',\n",
    "    'sci-fi', 'thriller', 'war', 'western', 'title_cast', 'director',\n",
    "    'runtime', 'budget', 'plot_keywords'\n",
    "]\n",
    "item_col = [\n",
    "    'title', 'genres', 'action', 'adventure', 'animation', 'children',\n",
    "    'comedy', 'crime', 'documentary', 'drama', 'fantasy', 'film', 'horror',\n",
    "    'imax', 'musical', 'mystery', 'no genres listed', 'noir', 'romance',\n",
    "    'sci-fi', 'thriller', 'war', 'western', 'title_cast', 'director',\n",
    "    'runtime', 'budget', 'plot_keywords'\n",
    "]\n",
    "\n",
    "# split whole data into three folds for training, evaluating and testing\n",
    "train_data, eval_data, test_data = random_split(\n",
    "    data, multi_ratios=[0.99, 0.005, 0.005])\n",
    "\n",
    "train_data, data_info = DatasetFeat.build_trainset(train_data, item_col,\n",
    "                                                   sparse_col)\n",
    "\n",
    "eval_data = DatasetFeat.build_evalset(eval_data)\n",
    "test_data = DatasetFeat.build_testset(test_data)\n",
    "print(data_info)"
   ]
  },
  {
   "cell_type": "markdown",
   "metadata": {
    "id": "jhRdqpanhtTv"
   },
   "source": []
  },
  {
   "cell_type": "code",
   "execution_count": 21,
   "metadata": {
    "colab": {
     "base_uri": "https://localhost:8080/"
    },
    "id": "-CvwwsGYTXS5",
    "outputId": "6368d06a-d62f-4299-86b4-32cc2523d129"
   },
   "outputs": [
    {
     "name": "stdout",
     "output_type": "stream",
     "text": [
      "\n",
      " ============================== FM ==============================\n",
      "Training start time: \u001b[35m2021-07-11 18:10:30\u001b[0m\n",
      "total params: \u001b[33m2,955,876\u001b[0m | embedding params: \u001b[33m2,955,826\u001b[0m | network params: \u001b[33m50\u001b[0m\n",
      "With lr_decay, epoch 1 learning rate: 0.004999999888241291\n"
     ]
    },
    {
     "name": "stderr",
     "output_type": "stream",
     "text": [
      "train: 100%|██████████| 976/976 [00:34<00:00, 28.10it/s]\n"
     ]
    },
    {
     "name": "stdout",
     "output_type": "stream",
     "text": [
      "Epoch 1 elapsed: 39.675s\n",
      "\t \u001b[32mtrain_loss: 1.0731\u001b[0m\n"
     ]
    },
    {
     "name": "stderr",
     "output_type": "stream",
     "text": [
      "eval_pred: 100%|██████████| 7/7 [00:00<00:00, 109.00it/s]\n"
     ]
    },
    {
     "name": "stdout",
     "output_type": "stream",
     "text": [
      "\t eval rmse: 0.8312\n",
      "\t eval mae: 0.6320\n",
      "\t eval r2: 0.3813\n",
      "==============================\n",
      "With lr_decay, epoch 2 learning rate: 0.004799999762326479\n"
     ]
    },
    {
     "name": "stderr",
     "output_type": "stream",
     "text": [
      "train: 100%|██████████| 976/976 [00:34<00:00, 28.60it/s]\n"
     ]
    },
    {
     "name": "stdout",
     "output_type": "stream",
     "text": [
      "Epoch 2 elapsed: 39.309s\n",
      "\t \u001b[32mtrain_loss: 0.627\u001b[0m\n"
     ]
    },
    {
     "name": "stderr",
     "output_type": "stream",
     "text": [
      "eval_pred: 100%|██████████| 7/7 [00:00<00:00, 172.71it/s]\n"
     ]
    },
    {
     "name": "stdout",
     "output_type": "stream",
     "text": [
      "\t eval rmse: 0.8122\n",
      "\t eval mae: 0.6163\n",
      "\t eval r2: 0.4093\n",
      "==============================\n",
      "With lr_decay, epoch 3 learning rate: 0.004607999697327614\n"
     ]
    },
    {
     "name": "stderr",
     "output_type": "stream",
     "text": [
      "train: 100%|██████████| 976/976 [00:34<00:00, 28.25it/s]\n"
     ]
    },
    {
     "name": "stdout",
     "output_type": "stream",
     "text": [
      "Epoch 3 elapsed: 39.568s\n",
      "\t \u001b[32mtrain_loss: 0.553\u001b[0m\n"
     ]
    },
    {
     "name": "stderr",
     "output_type": "stream",
     "text": [
      "eval_pred: 100%|██████████| 7/7 [00:00<00:00, 174.86it/s]\n"
     ]
    },
    {
     "name": "stdout",
     "output_type": "stream",
     "text": [
      "\t eval rmse: 0.8136\n",
      "\t eval mae: 0.6163\n",
      "\t eval r2: 0.4073\n",
      "==============================\n",
      "With lr_decay, epoch 4 learning rate: 0.004423679783940315\n"
     ]
    },
    {
     "name": "stderr",
     "output_type": "stream",
     "text": [
      "train: 100%|██████████| 976/976 [00:34<00:00, 28.13it/s]\n"
     ]
    },
    {
     "name": "stdout",
     "output_type": "stream",
     "text": [
      "Epoch 4 elapsed: 39.535s\n",
      "\t \u001b[32mtrain_loss: 0.5156\u001b[0m\n"
     ]
    },
    {
     "name": "stderr",
     "output_type": "stream",
     "text": [
      "eval_pred: 100%|██████████| 7/7 [00:00<00:00, 176.54it/s]\n"
     ]
    },
    {
     "name": "stdout",
     "output_type": "stream",
     "text": [
      "\t eval rmse: 0.8196\n",
      "\t eval mae: 0.6202\n",
      "\t eval r2: 0.3984\n",
      "==============================\n",
      "With lr_decay, epoch 5 learning rate: 0.004246732220053673\n"
     ]
    },
    {
     "name": "stderr",
     "output_type": "stream",
     "text": [
      "train: 100%|██████████| 976/976 [00:34<00:00, 28.07it/s]\n"
     ]
    },
    {
     "name": "stdout",
     "output_type": "stream",
     "text": [
      "Epoch 5 elapsed: 39.698s\n",
      "\t \u001b[32mtrain_loss: 0.4938\u001b[0m\n"
     ]
    },
    {
     "name": "stderr",
     "output_type": "stream",
     "text": [
      "eval_pred: 100%|██████████| 7/7 [00:00<00:00, 179.37it/s]\n"
     ]
    },
    {
     "name": "stdout",
     "output_type": "stream",
     "text": [
      "\t eval rmse: 0.8236\n",
      "\t eval mae: 0.6199\n",
      "\t eval r2: 0.3926\n",
      "==============================\n"
     ]
    },
    {
     "name": "stderr",
     "output_type": "stream",
     "text": [
      "eval_pred: 100%|██████████| 7/7 [00:00<00:00, 180.30it/s]"
     ]
    },
    {
     "name": "stdout",
     "output_type": "stream",
     "text": [
      "evaluate_result:  {'rmse': 0.8233143010382663, 'mae': 0.6193446419457109}\n"
     ]
    },
    {
     "name": "stderr",
     "output_type": "stream",
     "text": [
      "\n"
     ]
    }
   ],
   "source": [
    "reset_state(\"FM\")\n",
    "fm = FM(\"rating\", data_info, embed_size=16, n_epochs=5,\n",
    "            lr=0.005, lr_decay=True, reg=None, batch_size=10000,\n",
    "            num_neg=1, use_bn=True, dropout_rate=None, tf_sess_config=None)\n",
    "fm.fit(train_data, verbose=2, shuffle=True, eval_data=eval_data,\n",
    "           metrics=[\"rmse\", \"mae\", \"r2\"])\n",
    "\n",
    "# do final evaluation on test data\n",
    "print(\"evaluate_result: \", evaluate(model=fm, data=test_data,\n",
    "                                    metrics=[\"rmse\", \"mae\"]))"
   ]
  },
  {
   "cell_type": "code",
   "execution_count": null,
   "metadata": {
    "id": "brd0COvWTXWO"
   },
   "outputs": [],
   "source": [
    "reset_state(\"Wide_Deep\")\n",
    "\n",
    "wd = WideDeep(\"rating\", data_info, embed_size=16, n_epochs=2,\n",
    "              lr={\"wide\": 0.01, \"deep\": 1e-4}, lr_decay=False, reg=None,\n",
    "              batch_size=256, num_neg=1, use_bn=False, dropout_rate=None,\n",
    "              hidden_units=\"128,64,32\", tf_sess_config=None)\n",
    "wd.fit(train_data, verbose=2, shuffle=True, eval_data=eval_data,\n",
    "       metrics=[\"rmse\", \"mae\", \"r2\"])\n",
    "# do final evaluation on test data\n",
    "print(\"evaluate_result: \", evaluate(model=wd, data=test_data,\n",
    "                                    metrics=[\"rmse\", \"mae\"]))"
   ]
  },
  {
   "cell_type": "code",
   "execution_count": null,
   "metadata": {
    "id": "2gbrNStXTXZ-"
   },
   "outputs": [],
   "source": [
    "reset_state(\"DeepFM\")\n",
    "\n",
    "deepfm = DeepFM(\"rating\", data_info, embed_size=16, n_epochs=5,\n",
    "                lr=1e-4, lr_decay=False, reg=None, batch_size=2048,\n",
    "                num_neg=1, use_bn=False, dropout_rate=None,\n",
    "                hidden_units=\"128,64,32\", tf_sess_config=None)\n",
    "deepfm.fit(train_data, verbose=2, shuffle=True, eval_data=eval_data,\n",
    "           metrics=[\"rmse\", \"mae\", \"r2\"])\n",
    "\n",
    "print(\"evaluate_result: \", evaluate(model=deepfm, data=test_data,\n",
    "                                    metrics=[\"rmse\", \"mae\"]))"
   ]
  },
  {
   "cell_type": "code",
   "execution_count": null,
   "metadata": {
    "id": "uQ6kijxZTXdP"
   },
   "outputs": [],
   "source": [
    "reset_state(\"AutoInt\")\n",
    "autoint = AutoInt(\"rating\", data_info, embed_size=16, n_epochs=10,\n",
    "                  att_embed_size=(8, 8, 8), num_heads=4, use_residual=False,\n",
    "                  lr=1e-3, lr_decay=False, reg=None, batch_size=2048,\n",
    "                  num_neg=1, use_bn=False, dropout_rate=None,\n",
    "                  hidden_units=\"128,64,32\", tf_sess_config=None)\n",
    "autoint.fit(train_data, verbose=2, shuffle=True, eval_data=eval_data,\n",
    "            metrics=[\"rmse\", \"mae\", \"r2\"])"
   ]
  },
  {
   "cell_type": "code",
   "execution_count": null,
   "metadata": {
    "id": "AbqkPWyqTXgp"
   },
   "outputs": [],
   "source": [
    "reset_state(\"DIN\")\n",
    "din = DIN(\"rating\", data_info, embed_size=16, n_epochs=2,\n",
    "              recent_num=10, lr=1e-4, lr_decay=False, reg=None,\n",
    "              batch_size=2048, num_neg=1, use_bn=False, dropout_rate=None,\n",
    "              hidden_units=\"128,64,32\", tf_sess_config=None, use_tf_attention=True)\n",
    "din.fit(train_data, verbose=2, shuffle=True, eval_data=eval_data,\n",
    "            metrics=[\"rmse\", \"mae\", \"r2\"])"
   ]
  },
  {
   "cell_type": "code",
   "execution_count": null,
   "metadata": {
    "id": "6bZDLt75TXjb"
   },
   "outputs": [],
   "source": []
  },
  {
   "cell_type": "markdown",
   "metadata": {
    "id": "ei4PIZBOjKxV"
   },
   "source": [
    "\n",
    "### Create Submission\n",
    "Hit the blue Publish button at the top of your notebook screen. It will take some time for your kernel to run. When it has finished your navigation bar at the top of the screen will have a tab for Output. This only shows up if you have written an output file (like we did in the Prepare Submission File step)."
   ]
  },
  {
   "cell_type": "code",
   "execution_count": null,
   "metadata": {
    "id": "w0YDZdK-Kc2O"
   },
   "outputs": [],
   "source": [
    "# Pickle The Model\n",
    "model_save_path = \"SVD_tunedA1.pkl\"\n",
    "with open(model_save_path,'wb') as file:\n",
    "    pickle.dump(algo,file)"
   ]
  },
  {
   "cell_type": "code",
   "execution_count": null,
   "metadata": {
    "id": "DOpVMc-mKc2O"
   },
   "outputs": [],
   "source": [
    "model_load_path = \"/content/drive/MyDrive/Unsupervised Models/SVD_tunedA1.pkl\"\n",
    "with open(model_load_path,'rb') as file:\n",
    "    algo = pickle.load(file)"
   ]
  },
  {
   "cell_type": "code",
   "execution_count": null,
   "metadata": {
    "id": "b5iJZrLGjKxV"
   },
   "outputs": [],
   "source": [
    "def create_submission(algo, save_name):\n",
    "    \n",
    "    ratings_predictions = [algo.predict(row.userId, row.movieId) for _,row in df_test.iterrows()]\n",
    "    df_pred = pd.DataFrame(ratings_predictions)\n",
    "    df_pred = df_pred.rename(columns={'uid':'userId', 'iid':'movieId','est':'rating'})\n",
    "    df_pred.drop(['r_ui','details'],axis=1,inplace=True)\n",
    "    # Create ID column\n",
    "    df_pred['Id'] = df_pred.apply(lambda x:'%s_%s' % (x['userId'],x['movieId']),axis=1)\n",
    "    df_pred['Id'] = df_pred.apply(lambda x:'%s_%s' % (x['userId'],x['movieId']),axis=1)\n",
    "    df_pred = df_pred[['Id', 'rating']]\n",
    "    df_pred.to_csv(save_name + '.csv', index=False)\n",
    "    \n",
    "    return pd.read_csv('./' + save_name + '.csv')"
   ]
  },
  {
   "cell_type": "code",
   "execution_count": null,
   "metadata": {
    "id": "iZitmvpFjKxW"
   },
   "outputs": [],
   "source": [
    "submission = create_submission(algo, 'SVD_tunedA1')\n",
    "submission.head(10)"
   ]
  },
  {
   "cell_type": "code",
   "execution_count": 8,
   "metadata": {
    "colab": {
     "base_uri": "https://localhost:8080/"
    },
    "id": "YBCv2DSwO2Cl",
    "outputId": "1bcf645c-ecbd-4303-a337-14c493547f52"
   },
   "outputs": [
    {
     "name": "stdout",
     "output_type": "stream",
     "text": [
      "Mounted at /content/drive\n"
     ]
    }
   ],
   "source": [
    "from google.colab import drive\n",
    "drive.mount('/content/drive')"
   ]
  },
  {
   "cell_type": "code",
   "execution_count": null,
   "metadata": {
    "colab": {
     "base_uri": "https://localhost:8080/"
    },
    "id": "9DiZ8JwjzNZv",
    "outputId": "5ce341bc-7552-40c7-c57a-24f3d6fa3099"
   },
   "outputs": [
    {
     "name": "stdout",
     "output_type": "stream",
     "text": [
      "--2021-07-10 23:42:23--  https://kkb-production.jupyter-proxy.kaggle.net/k/67906852/eyJhbGciOiJkaXIiLCJlbmMiOiJBMTI4Q0JDLUhTMjU2IiwidHlwIjoiSldUIn0..EI35xsr87c7w1V2yD7-SDw.P1LKQiV4llJtRBVTZ6C8ZG7XZCLEuuotv8ZnngWLZaGkJnXeVRlmGzXehfIO1m9kRZVWT6Y0MlTOCLpuA9rwmXiuAqWSovowtSG2SlGQSutixactHV24vmnxUhSsda76o7PV8Si1ywiM_bH1MmAH5Yoi6X4ATCjeO2znT6Yr81sOgU3tGnpD4k_gpXuBSomIJW6M4VdWBLm1jbubY_Jx9g.8tA-L0aQQH60sptLCTJQIA/proxy/files/SVD_tunedA1.pkl\n",
      "Resolving kkb-production.jupyter-proxy.kaggle.net (kkb-production.jupyter-proxy.kaggle.net)... 35.244.180.134\n",
      "Connecting to kkb-production.jupyter-proxy.kaggle.net (kkb-production.jupyter-proxy.kaggle.net)|35.244.180.134|:443... connected.\n",
      "HTTP request sent, awaiting response... 200 OK\n",
      "Length: 740691882 (706M) [application/octet-stream]\n",
      "Saving to: ‘SVD_tunedA1.pkl’\n",
      "\n",
      "SVD_tunedA1.pkl     100%[===================>] 706.38M  24.5MB/s    in 31s     \n",
      "\n",
      "2021-07-10 23:42:54 (22.7 MB/s) - ‘SVD_tunedA1.pkl’ saved [740691882/740691882]\n",
      "\n"
     ]
    }
   ],
   "source": [
    "#!wget 'https://kkb-production.jupyter-proxy.kaggle.net/k/67906852/eyJhbGciOiJkaXIiLCJlbmMiOiJBMTI4Q0JDLUhTMjU2IiwidHlwIjoiSldUIn0..EI35xsr87c7w1V2yD7-SDw.P1LKQiV4llJtRBVTZ6C8ZG7XZCLEuuotv8ZnngWLZaGkJnXeVRlmGzXehfIO1m9kRZVWT6Y0MlTOCLpuA9rwmXiuAqWSovowtSG2SlGQSutixactHV24vmnxUhSsda76o7PV8Si1ywiM_bH1MmAH5Yoi6X4ATCjeO2znT6Yr81sOgU3tGnpD4k_gpXuBSomIJW6M4VdWBLm1jbubY_Jx9g.8tA-L0aQQH60sptLCTJQIA/proxy/files/SVD_tunedA1.pkl'"
   ]
  },
  {
   "cell_type": "code",
   "execution_count": 14,
   "metadata": {
    "id": "L7go5VSTKc2P"
   },
   "outputs": [],
   "source": [
    "cp \"/content/train_feat.csv\" \"/content/drive/MyDrive/Unsupervised Models\""
   ]
  },
  {
   "cell_type": "code",
   "execution_count": null,
   "metadata": {
    "id": "gZCxE7N_zYyO"
   },
   "outputs": [],
   "source": [
    "from IPython.display import FileLink\n",
    "FileLink('./train_feat.csv')"
   ]
  }
 ],
 "metadata": {
  "colab": {
   "collapsed_sections": [],
   "name": "zm5_recommender_system_hybrid.ipynb",
   "provenance": []
  },
  "kernelspec": {
   "display_name": "Python 3",
   "language": "python",
   "name": "python3"
  },
  "language_info": {
   "codemirror_mode": {
    "name": "ipython",
    "version": 3
   },
   "file_extension": ".py",
   "mimetype": "text/x-python",
   "name": "python",
   "nbconvert_exporter": "python",
   "pygments_lexer": "ipython3",
   "version": "3.8.8"
  }
 },
 "nbformat": 4,
 "nbformat_minor": 1
}

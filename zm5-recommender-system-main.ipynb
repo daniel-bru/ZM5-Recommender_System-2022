{
 "cells": [
  {
   "cell_type": "markdown",
   "metadata": {
    "gradient": {
     "editing": false
    },
    "id": "y9Bg4XjvjKxG"
   },
   "source": [
    "### TEAM ZM5\n",
    "\n",
    "# EDSA MOVIE RECOMMENDATION CHALLENGE "
   ]
  },
  {
   "cell_type": "markdown",
   "metadata": {
    "gradient": {
     "editing": false
    },
    "id": "_oWYY8ihjKxH"
   },
   "source": [
    "### Installing packages\n",
    "Please download all relevant packages in. There is no terminal so you will need to pip install everything."
   ]
  },
  {
   "cell_type": "code",
   "execution_count": 2,
   "metadata": {
    "gradient": {
     "editing": false
    },
    "id": "Tx223iVkjPVS",
    "outputId": "b408e89f-f72e-47e2-d12c-7f313dd4dc02"
   },
   "outputs": [
    {
     "name": "stdout",
     "output_type": "stream",
     "text": [
      "The name is too long, 541 chars total.\n",
      "Trying to shorten...\n",
      "New name is archive.zip?GoogleAccessId=web-data@kaggle-161607.iam.gserviceaccount.com&Expires=1626387714&Signature=KygcspWYq74MDW0sfdmsG+KzbIVu7bAXbXSgGzeRSkW1y50gc6YBYMtbWZMOlxFxGTB4M8pHrDatrNrM7K1O7uBHHp6x1h3QEEHSnSa1X4tTYBy+iExhUNlV5Ez1E9Df5zYEL.\n",
      "--2021-07-12 22:22:40--  https://storage.googleapis.com/kaggle-competitions-data/kaggle-v2/27685/2229266/bundle/archive.zip?GoogleAccessId=web-data@kaggle-161607.iam.gserviceaccount.com&Expires=1626387714&Signature=KygcspWYq74MDW0sfdmsG%2BKzbIVu7bAXbXSgGzeRSkW1y50gc6YBYMtbWZMOlxFxGTB4M8pHrDatrNrM7K1O7uBHHp6x1h3QEEHSnSa1X4tTYBy%2BiExhUNlV5Ez1E9Df5zYELJM1iOOtpnqWBcsndQN3mGXbpPgN4a9DBmihapuzgRXhixTX8Y3qyY9KJkoi99azSOVvQEj4S57R2KpqKOozaJUNNLSuV9z6KOoE0qzUq3%2FA5vvKE7uN7sG%2B5mmkmqAShUwzuurKBMGlty0%2FCCs8Yalhbfbto2PI4Yr%2BZJgpjxueDILjj1n1zcfeAQ083InWmYWZdd3Jbgyp4fIy0w%3D%3D&response-content-disposition=attachment%3B+filename%3Dedsa-movie-recommendation-challenge.zip\n",
      "Resolving storage.googleapis.com (storage.googleapis.com)... 172.253.122.128, 142.250.188.208, 172.217.164.176, ...\n",
      "Connecting to storage.googleapis.com (storage.googleapis.com)|172.253.122.128|:443... connected.\n",
      "HTTP request sent, awaiting response... 200 OK\n",
      "Length: 250788671 (239M) [application/zip]\n",
      "Saving to: ‘archive.zip?GoogleAccessId=web-data@kaggle-161607.iam.gserviceaccount.com&Expires=1626387714&Signature=KygcspWYq74MDW0sfdmsG+KzbIVu7bAXbXSgGzeRSkW1y50gc6YBYMtbWZMOlxFxGTB4M8pHrDatrNrM7K1O7uBHHp6x1h3QEEHSnSa1X4tTYBy+iExhUNlV5Ez1E9Df5zYEL’\n",
      "\n",
      "archive.zip?GoogleA 100%[===================>] 239.17M  21.9MB/s    in 12s     \n",
      "\n",
      "2021-07-12 22:22:52 (20.5 MB/s) - ‘archive.zip?GoogleAccessId=web-data@kaggle-161607.iam.gserviceaccount.com&Expires=1626387714&Signature=KygcspWYq74MDW0sfdmsG+KzbIVu7bAXbXSgGzeRSkW1y50gc6YBYMtbWZMOlxFxGTB4M8pHrDatrNrM7K1O7uBHHp6x1h3QEEHSnSa1X4tTYBy+iExhUNlV5Ez1E9Df5zYEL’ saved [250788671/250788671]\n",
      "\n"
     ]
    }
   ],
   "source": [
    "!wget 'https://storage.googleapis.com/kaggle-competitions-data/kaggle-v2/27685/2229266/bundle/archive.zip?GoogleAccessId=web-data@kaggle-161607.iam.gserviceaccount.com&Expires=1626387714&Signature=KygcspWYq74MDW0sfdmsG%2BKzbIVu7bAXbXSgGzeRSkW1y50gc6YBYMtbWZMOlxFxGTB4M8pHrDatrNrM7K1O7uBHHp6x1h3QEEHSnSa1X4tTYBy%2BiExhUNlV5Ez1E9Df5zYELJM1iOOtpnqWBcsndQN3mGXbpPgN4a9DBmihapuzgRXhixTX8Y3qyY9KJkoi99azSOVvQEj4S57R2KpqKOozaJUNNLSuV9z6KOoE0qzUq3%2FA5vvKE7uN7sG%2B5mmkmqAShUwzuurKBMGlty0%2FCCs8Yalhbfbto2PI4Yr%2BZJgpjxueDILjj1n1zcfeAQ083InWmYWZdd3Jbgyp4fIy0w%3D%3D&response-content-disposition=attachment%3B+filename%3Dedsa-movie-recommendation-challenge.zip'"
   ]
  },
  {
   "cell_type": "code",
   "execution_count": 3,
   "metadata": {
    "gradient": {
     "editing": false
    },
    "id": "KU1KjlyDjV3s",
    "outputId": "2850692c-1ee6-4eec-e85c-1be3a753ae1c"
   },
   "outputs": [
    {
     "name": "stdout",
     "output_type": "stream",
     "text": [
      "Archive:  archive.zip?GoogleAccessId=web-data@kaggle-161607.iam.gserviceaccount.com&Expires=1626387714&Signature=KygcspWYq74MDW0sfdmsG+KzbIVu7bAXbXSgGzeRSkW1y50gc6YBYMtbWZMOlxFxGTB4M8pHrDatrNrM7K1O7uBHHp6x1h3QEEHSnSa1X4tTYBy+iExhUNlV5Ez1E9Df5zYEL\n",
      "  inflating: genome_scores.csv       \n",
      "  inflating: genome_tags.csv         \n",
      "  inflating: imdb_data.csv           \n",
      "  inflating: links.csv               \n",
      "  inflating: movies.csv              \n",
      "  inflating: sample_submission.csv   \n",
      "  inflating: tags.csv                \n",
      "  inflating: test.csv                \n",
      "  inflating: train.csv               \n"
     ]
    }
   ],
   "source": [
    "!unzip 'archive.zip?GoogleAccessId=web-data@kaggle-161607.iam.gserviceaccount.com&Expires=1626387714&Signature=KygcspWYq74MDW0sfdmsG+KzbIVu7bAXbXSgGzeRSkW1y50gc6YBYMtbWZMOlxFxGTB4M8pHrDatrNrM7K1O7uBHHp6x1h3QEEHSnSa1X4tTYBy+iExhUNlV5Ez1E9Df5zYEL'"
   ]
  },
  {
   "cell_type": "code",
   "execution_count": 9,
   "metadata": {
    "gradient": {
     "editing": false
    },
    "id": "nbaVdXOxKc13",
    "outputId": "15127e0f-a194-4699-b01e-a297496f7be2"
   },
   "outputs": [
    {
     "name": "stdout",
     "output_type": "stream",
     "text": [
      "Requirement already satisfied: LibRecommender in /usr/local/lib/python3.6/dist-packages (0.6.8)\n",
      "Requirement already satisfied: pandas>=0.23.4 in /usr/local/lib/python3.6/dist-packages (from LibRecommender) (0.25.0)\n",
      "Requirement already satisfied: tqdm>=4.46.0 in /usr/local/lib/python3.6/dist-packages (from LibRecommender) (4.61.2)\n",
      "Requirement already satisfied: scikit-learn>=0.20.0 in /usr/local/lib/python3.6/dist-packages (from LibRecommender) (0.21.3)\n",
      "Requirement already satisfied: scipy>=1.2.1 in /usr/local/lib/python3.6/dist-packages (from LibRecommender) (1.3.0)\n",
      "Requirement already satisfied: tensorflow>=1.14.0 in /usr/local/lib/python3.6/dist-packages (from LibRecommender) (2.5.0)\n",
      "Requirement already satisfied: gensim>=4.0.0 in /usr/local/lib/python3.6/dist-packages (from LibRecommender) (4.0.1)\n",
      "Requirement already satisfied: numpy>=1.15.4 in /usr/local/lib/python3.6/dist-packages (from LibRecommender) (1.17.0)\n",
      "Requirement already satisfied: cython>=0.29.0 in /usr/local/lib/python3.6/dist-packages (from LibRecommender) (0.29.13)\n",
      "Requirement already satisfied: pytz>=2017.2 in /usr/local/lib/python3.6/dist-packages (from pandas>=0.23.4->LibRecommender) (2019.2)\n",
      "Requirement already satisfied: python-dateutil>=2.6.1 in /usr/local/lib/python3.6/dist-packages (from pandas>=0.23.4->LibRecommender) (2.8.0)\n",
      "Requirement already satisfied: joblib>=0.11 in /usr/local/lib/python3.6/dist-packages (from scikit-learn>=0.20.0->LibRecommender) (0.13.2)\n",
      "Requirement already satisfied: six~=1.15.0 in /usr/local/lib/python3.6/dist-packages (from tensorflow>=1.14.0->LibRecommender) (1.15.0)\n",
      "Requirement already satisfied: google-pasta~=0.2 in /usr/local/lib/python3.6/dist-packages (from tensorflow>=1.14.0->LibRecommender) (0.2.0)\n",
      "Requirement already satisfied: grpcio~=1.34.0 in /usr/local/lib/python3.6/dist-packages (from tensorflow>=1.14.0->LibRecommender) (1.34.1)\n",
      "Requirement already satisfied: typing-extensions~=3.7.4 in /usr/local/lib/python3.6/dist-packages (from tensorflow>=1.14.0->LibRecommender) (3.7.4.3)\n",
      "Requirement already satisfied: absl-py~=0.10 in /usr/local/lib/python3.6/dist-packages (from tensorflow>=1.14.0->LibRecommender) (0.13.0)\n",
      "Requirement already satisfied: protobuf>=3.9.2 in /usr/local/lib/python3.6/dist-packages (from tensorflow>=1.14.0->LibRecommender) (3.17.3)\n",
      "Requirement already satisfied: opt-einsum~=3.3.0 in /usr/local/lib/python3.6/dist-packages (from tensorflow>=1.14.0->LibRecommender) (3.3.0)\n",
      "Requirement already satisfied: astunparse~=1.6.3 in /usr/local/lib/python3.6/dist-packages (from tensorflow>=1.14.0->LibRecommender) (1.6.3)\n",
      "Requirement already satisfied: keras-nightly~=2.5.0.dev in /usr/local/lib/python3.6/dist-packages (from tensorflow>=1.14.0->LibRecommender) (2.5.0.dev2021032900)\n",
      "Requirement already satisfied: wrapt~=1.12.1 in /usr/local/lib/python3.6/dist-packages (from tensorflow>=1.14.0->LibRecommender) (1.12.1)\n",
      "Requirement already satisfied: wheel~=0.35 in /usr/local/lib/python3.6/dist-packages (from tensorflow>=1.14.0->LibRecommender) (0.36.2)\n",
      "Requirement already satisfied: h5py~=3.1.0 in /usr/local/lib/python3.6/dist-packages (from tensorflow>=1.14.0->LibRecommender) (3.1.0)\n",
      "Requirement already satisfied: tensorflow-estimator<2.6.0,>=2.5.0rc0 in /usr/local/lib/python3.6/dist-packages (from tensorflow>=1.14.0->LibRecommender) (2.5.0)\n",
      "Requirement already satisfied: gast==0.4.0 in /usr/local/lib/python3.6/dist-packages (from tensorflow>=1.14.0->LibRecommender) (0.4.0)\n",
      "Requirement already satisfied: keras-preprocessing~=1.1.2 in /usr/local/lib/python3.6/dist-packages (from tensorflow>=1.14.0->LibRecommender) (1.1.2)\n",
      "Requirement already satisfied: tensorboard~=2.5 in /usr/local/lib/python3.6/dist-packages (from tensorflow>=1.14.0->LibRecommender) (2.5.0)\n",
      "Requirement already satisfied: flatbuffers~=1.12.0 in /usr/local/lib/python3.6/dist-packages (from tensorflow>=1.14.0->LibRecommender) (1.12)\n",
      "Requirement already satisfied: termcolor~=1.1.0 in /usr/local/lib/python3.6/dist-packages (from tensorflow>=1.14.0->LibRecommender) (1.1.0)\n",
      "Requirement already satisfied: dataclasses; python_version < \"3.7\" in /usr/local/lib/python3.6/dist-packages (from gensim>=4.0.0->LibRecommender) (0.8)\n",
      "Requirement already satisfied: smart-open>=1.8.1 in /usr/local/lib/python3.6/dist-packages (from gensim>=4.0.0->LibRecommender) (5.1.0)\n",
      "Requirement already satisfied: cached-property; python_version < \"3.8\" in /usr/local/lib/python3.6/dist-packages (from h5py~=3.1.0->tensorflow>=1.14.0->LibRecommender) (1.5.2)\n",
      "Requirement already satisfied: setuptools>=41.0.0 in /usr/local/lib/python3.6/dist-packages (from tensorboard~=2.5->tensorflow>=1.14.0->LibRecommender) (41.0.1)\n",
      "Requirement already satisfied: markdown>=2.6.8 in /usr/local/lib/python3.6/dist-packages (from tensorboard~=2.5->tensorflow>=1.14.0->LibRecommender) (3.1.1)\n",
      "Requirement already satisfied: werkzeug>=0.11.15 in /usr/local/lib/python3.6/dist-packages (from tensorboard~=2.5->tensorflow>=1.14.0->LibRecommender) (0.15.5)\n",
      "Requirement already satisfied: requests<3,>=2.21.0 in /usr/local/lib/python3.6/dist-packages (from tensorboard~=2.5->tensorflow>=1.14.0->LibRecommender) (2.25.1)\n",
      "Requirement already satisfied: google-auth<2,>=1.6.3 in /usr/local/lib/python3.6/dist-packages (from tensorboard~=2.5->tensorflow>=1.14.0->LibRecommender) (1.32.1)\n",
      "Requirement already satisfied: tensorboard-data-server<0.7.0,>=0.6.0 in /usr/local/lib/python3.6/dist-packages (from tensorboard~=2.5->tensorflow>=1.14.0->LibRecommender) (0.6.1)\n",
      "Requirement already satisfied: google-auth-oauthlib<0.5,>=0.4.1 in /usr/local/lib/python3.6/dist-packages (from tensorboard~=2.5->tensorflow>=1.14.0->LibRecommender) (0.4.4)\n",
      "Requirement already satisfied: tensorboard-plugin-wit>=1.6.0 in /usr/local/lib/python3.6/dist-packages (from tensorboard~=2.5->tensorflow>=1.14.0->LibRecommender) (1.8.0)\n",
      "Requirement already satisfied: certifi>=2017.4.17 in /usr/local/lib/python3.6/dist-packages (from requests<3,>=2.21.0->tensorboard~=2.5->tensorflow>=1.14.0->LibRecommender) (2021.5.30)\n",
      "Requirement already satisfied: idna<3,>=2.5 in /usr/local/lib/python3.6/dist-packages (from requests<3,>=2.21.0->tensorboard~=2.5->tensorflow>=1.14.0->LibRecommender) (2.10)\n",
      "Requirement already satisfied: urllib3<1.27,>=1.21.1 in /usr/local/lib/python3.6/dist-packages (from requests<3,>=2.21.0->tensorboard~=2.5->tensorflow>=1.14.0->LibRecommender) (1.26.6)\n",
      "Requirement already satisfied: chardet<5,>=3.0.2 in /usr/local/lib/python3.6/dist-packages (from requests<3,>=2.21.0->tensorboard~=2.5->tensorflow>=1.14.0->LibRecommender) (4.0.0)\n",
      "Requirement already satisfied: cachetools<5.0,>=2.0.0 in /usr/local/lib/python3.6/dist-packages (from google-auth<2,>=1.6.3->tensorboard~=2.5->tensorflow>=1.14.0->LibRecommender) (4.2.2)\n",
      "Requirement already satisfied: pyasn1-modules>=0.2.1 in /usr/local/lib/python3.6/dist-packages (from google-auth<2,>=1.6.3->tensorboard~=2.5->tensorflow>=1.14.0->LibRecommender) (0.2.8)\n",
      "Requirement already satisfied: rsa<5,>=3.1.4; python_version >= \"3.6\" in /usr/local/lib/python3.6/dist-packages (from google-auth<2,>=1.6.3->tensorboard~=2.5->tensorflow>=1.14.0->LibRecommender) (4.7.2)\n",
      "Requirement already satisfied: requests-oauthlib>=0.7.0 in /usr/local/lib/python3.6/dist-packages (from google-auth-oauthlib<0.5,>=0.4.1->tensorboard~=2.5->tensorflow>=1.14.0->LibRecommender) (1.3.0)\n",
      "Requirement already satisfied: pyasn1<0.5.0,>=0.4.6 in /usr/local/lib/python3.6/dist-packages (from pyasn1-modules>=0.2.1->google-auth<2,>=1.6.3->tensorboard~=2.5->tensorflow>=1.14.0->LibRecommender) (0.4.8)\n",
      "Requirement already satisfied: oauthlib>=3.0.0 in /usr/local/lib/python3.6/dist-packages (from requests-oauthlib>=0.7.0->google-auth-oauthlib<0.5,>=0.4.1->tensorboard~=2.5->tensorflow>=1.14.0->LibRecommender) (3.1.1)\n",
      "\u001b[33mWARNING: You are using pip version 19.2.1, however version 21.1.3 is available.\n",
      "You should consider upgrading via the 'pip install --upgrade pip' command.\u001b[0m\n",
      "Requirement already satisfied: surprise in /usr/local/lib/python3.6/dist-packages (0.1)\n",
      "Requirement already satisfied: scikit-surprise in /usr/local/lib/python3.6/dist-packages (from surprise) (1.1.1)\n",
      "Requirement already satisfied: scipy>=1.0.0 in /usr/local/lib/python3.6/dist-packages (from scikit-surprise->surprise) (1.3.0)\n",
      "Requirement already satisfied: numpy>=1.11.2 in /usr/local/lib/python3.6/dist-packages (from scikit-surprise->surprise) (1.17.0)\n",
      "Requirement already satisfied: joblib>=0.11 in /usr/local/lib/python3.6/dist-packages (from scikit-surprise->surprise) (0.13.2)\n",
      "Requirement already satisfied: six>=1.10.0 in /usr/local/lib/python3.6/dist-packages (from scikit-surprise->surprise) (1.15.0)\n",
      "\u001b[33mWARNING: You are using pip version 19.2.1, however version 21.1.3 is available.\n",
      "You should consider upgrading via the 'pip install --upgrade pip' command.\u001b[0m\n",
      "Requirement already satisfied: comet_ml in /usr/local/lib/python3.6/dist-packages (3.13.0)\n",
      "Requirement already satisfied: six in /usr/local/lib/python3.6/dist-packages (from comet_ml) (1.15.0)\n",
      "Requirement already satisfied: jsonschema!=3.1.0,>=2.6.0 in /usr/local/lib/python3.6/dist-packages (from comet_ml) (3.0.2)\n",
      "Requirement already satisfied: requests-toolbelt>=0.8.0 in /usr/local/lib/python3.6/dist-packages (from comet_ml) (0.9.1)\n",
      "Requirement already satisfied: wrapt>=1.11.2 in /usr/local/lib/python3.6/dist-packages (from comet_ml) (1.12.1)\n",
      "Requirement already satisfied: requests>=2.18.4 in /usr/local/lib/python3.6/dist-packages (from comet_ml) (2.25.1)\n",
      "Requirement already satisfied: semantic-version>=2.8.0 in /usr/local/lib/python3.6/dist-packages (from comet_ml) (2.8.5)\n",
      "Requirement already satisfied: nvidia-ml-py3>=7.352.0 in /usr/local/lib/python3.6/dist-packages (from comet_ml) (7.352.0)\n",
      "Requirement already satisfied: websocket-client>=0.55.0 in /usr/local/lib/python3.6/dist-packages (from comet_ml) (1.1.0)\n",
      "Requirement already satisfied: wurlitzer>=1.0.2 in /usr/local/lib/python3.6/dist-packages (from comet_ml) (2.1.0)\n",
      "Requirement already satisfied: everett[ini]>=1.0.1; python_version >= \"3.0\" in /usr/local/lib/python3.6/dist-packages (from comet_ml) (1.0.3)\n",
      "Requirement already satisfied: dulwich>=0.20.6; python_version >= \"3.0\" in /usr/local/lib/python3.6/dist-packages (from comet_ml) (0.20.23)\n",
      "Requirement already satisfied: pyrsistent>=0.14.0 in /usr/local/lib/python3.6/dist-packages (from jsonschema!=3.1.0,>=2.6.0->comet_ml) (0.15.4)\n",
      "Requirement already satisfied: setuptools in /usr/local/lib/python3.6/dist-packages (from jsonschema!=3.1.0,>=2.6.0->comet_ml) (41.0.1)\n",
      "Requirement already satisfied: attrs>=17.4.0 in /usr/local/lib/python3.6/dist-packages (from jsonschema!=3.1.0,>=2.6.0->comet_ml) (19.1.0)\n",
      "Requirement already satisfied: urllib3<1.27,>=1.21.1 in /usr/local/lib/python3.6/dist-packages (from requests>=2.18.4->comet_ml) (1.26.6)\n",
      "Requirement already satisfied: chardet<5,>=3.0.2 in /usr/local/lib/python3.6/dist-packages (from requests>=2.18.4->comet_ml) (4.0.0)\n",
      "Requirement already satisfied: certifi>=2017.4.17 in /usr/local/lib/python3.6/dist-packages (from requests>=2.18.4->comet_ml) (2021.5.30)\n",
      "Requirement already satisfied: idna<3,>=2.5 in /usr/local/lib/python3.6/dist-packages (from requests>=2.18.4->comet_ml) (2.10)\n",
      "Requirement already satisfied: configobj; extra == \"ini\" in /usr/local/lib/python3.6/dist-packages (from everett[ini]>=1.0.1; python_version >= \"3.0\"->comet_ml) (5.0.6)\n",
      "\u001b[33mWARNING: You are using pip version 19.2.1, however version 21.1.3 is available.\n",
      "You should consider upgrading via the 'pip install --upgrade pip' command.\u001b[0m\n",
      "Collecting seaborn\n",
      "\u001b[?25l  Downloading https://files.pythonhosted.org/packages/68/ad/6c2406ae175f59ec616714e408979b674fe27b9587f79d59a528ddfbcd5b/seaborn-0.11.1-py3-none-any.whl (285kB)\n",
      "\u001b[K     |████████████████████████████████| 286kB 17.3MB/s eta 0:00:01\n",
      "\u001b[?25hRequirement already satisfied: scipy>=1.0 in /usr/local/lib/python3.6/dist-packages (from seaborn) (1.3.0)\n",
      "Requirement already satisfied: numpy>=1.15 in /usr/local/lib/python3.6/dist-packages (from seaborn) (1.17.0)\n",
      "Requirement already satisfied: matplotlib>=2.2 in /usr/local/lib/python3.6/dist-packages (from seaborn) (3.1.1)\n",
      "Requirement already satisfied: pandas>=0.23 in /usr/local/lib/python3.6/dist-packages (from seaborn) (0.25.0)\n",
      "Requirement already satisfied: pyparsing!=2.0.4,!=2.1.2,!=2.1.6,>=2.0.1 in /usr/local/lib/python3.6/dist-packages (from matplotlib>=2.2->seaborn) (2.4.2)\n",
      "Requirement already satisfied: python-dateutil>=2.1 in /usr/local/lib/python3.6/dist-packages (from matplotlib>=2.2->seaborn) (2.8.0)\n",
      "Requirement already satisfied: kiwisolver>=1.0.1 in /usr/local/lib/python3.6/dist-packages (from matplotlib>=2.2->seaborn) (1.1.0)\n",
      "Requirement already satisfied: cycler>=0.10 in /usr/local/lib/python3.6/dist-packages (from matplotlib>=2.2->seaborn) (0.10.0)\n",
      "Requirement already satisfied: pytz>=2017.2 in /usr/local/lib/python3.6/dist-packages (from pandas>=0.23->seaborn) (2019.2)\n",
      "Requirement already satisfied: six>=1.5 in /usr/local/lib/python3.6/dist-packages (from python-dateutil>=2.1->matplotlib>=2.2->seaborn) (1.15.0)\n",
      "Requirement already satisfied: setuptools in /usr/local/lib/python3.6/dist-packages (from kiwisolver>=1.0.1->matplotlib>=2.2->seaborn) (41.0.1)\n",
      "Installing collected packages: seaborn\n",
      "Successfully installed seaborn-0.11.1\n",
      "\u001b[33mWARNING: You are using pip version 19.2.1, however version 21.1.3 is available.\n",
      "You should consider upgrading via the 'pip install --upgrade pip' command.\u001b[0m\n"
     ]
    }
   ],
   "source": [
    "!pip install LibRecommender\n",
    "!pip install surprise\n",
    "!pip install comet_ml\n",
    "!pip install seaborn"
   ]
  },
  {
   "cell_type": "markdown",
   "metadata": {
    "gradient": {
     "editing": false
    },
    "id": "YxYt1RtwjKxI"
   },
   "source": [
    "### Imports"
   ]
  },
  {
   "cell_type": "code",
   "execution_count": 5,
   "metadata": {
    "execution": {
     "iopub.execute_input": "2021-07-12T22:02:23.190713Z",
     "iopub.status.busy": "2021-07-12T22:02:23.190125Z",
     "iopub.status.idle": "2021-07-12T22:02:23.520224Z",
     "shell.execute_reply": "2021-07-12T22:02:23.518940Z",
     "shell.execute_reply.started": "2021-07-12T22:02:23.190584Z"
    },
    "gradient": {
     "editing": false
    },
    "id": "HYWRCCuQ6C7x"
   },
   "outputs": [],
   "source": [
    "import comet_ml"
   ]
  },
  {
   "cell_type": "code",
   "execution_count": 6,
   "metadata": {
    "execution": {
     "iopub.execute_input": "2021-07-12T22:02:23.522179Z",
     "iopub.status.busy": "2021-07-12T22:02:23.521846Z",
     "iopub.status.idle": "2021-07-12T22:02:23.526409Z",
     "shell.execute_reply": "2021-07-12T22:02:23.525071Z",
     "shell.execute_reply.started": "2021-07-12T22:02:23.522148Z"
    },
    "gradient": {
     "editing": false
    },
    "id": "77cGEgEYjKxI"
   },
   "outputs": [],
   "source": [
    "# First import comet_ml at the top of your file\n",
    "from comet_ml import Experiment"
   ]
  },
  {
   "cell_type": "code",
   "execution_count": 7,
   "metadata": {
    "execution": {
     "iopub.execute_input": "2021-07-12T22:02:23.656114Z",
     "iopub.status.busy": "2021-07-12T22:02:23.655645Z",
     "iopub.status.idle": "2021-07-12T22:02:29.835720Z",
     "shell.execute_reply": "2021-07-12T22:02:29.834818Z",
     "shell.execute_reply.started": "2021-07-12T22:02:23.656079Z"
    },
    "gradient": {
     "editing": false
    },
    "id": "yYErFeM2jKxJ",
    "outputId": "dac0dad4-461b-4274-90ca-43967aa1f550"
   },
   "outputs": [
    {
     "name": "stderr",
     "output_type": "stream",
     "text": [
      "COMET WARNING: As you are running in a Jupyter environment, you will need to call `experiment.end()` when finished to ensure all metrics and code are logged before exiting.\n",
      "COMET INFO: Experiment is live on comet.ml https://www.comet.ml/daniel-bru/movie-reccomender-edsa/12d4d0d6a33946d18a94b59fb08b12ba\n",
      "\n"
     ]
    }
   ],
   "source": [
    "# Create an experiment with your api key for version control\n",
    "experiment = Experiment(\n",
    "    api_key=\"amGQj1TC3Wyk9LYf7bD9xNV6G\",\n",
    "    project_name=\"movie-reccomender-edsa\",\n",
    "    workspace=\"daniel-bru\",\n",
    ")"
   ]
  },
  {
   "cell_type": "code",
   "execution_count": 10,
   "metadata": {
    "execution": {
     "iopub.execute_input": "2021-07-12T22:02:29.837563Z",
     "iopub.status.busy": "2021-07-12T22:02:29.837079Z",
     "iopub.status.idle": "2021-07-12T22:02:37.758554Z",
     "shell.execute_reply": "2021-07-12T22:02:37.757557Z",
     "shell.execute_reply.started": "2021-07-12T22:02:29.837528Z"
    },
    "gradient": {},
    "id": "Yk6ypS-4jKxK",
    "outputId": "fcc65141-7eb0-4680-b804-72765a6d8b0c"
   },
   "outputs": [
    {
     "name": "stdout",
     "output_type": "stream",
     "text": [
      "WARNING:tensorflow:From /usr/local/lib/python3.6/dist-packages/tensorflow/python/compat/v2_compat.py:96: disable_resource_variables (from tensorflow.python.ops.variable_scope) is deprecated and will be removed in a future version.\n",
      "Instructions for updating:\n",
      "non-resource variables are not supported in the long term\n"
     ]
    }
   ],
   "source": [
    "# Install packages here\n",
    "# Packages for data processing\n",
    "import numpy as np\n",
    "import pandas as pd\n",
    "import datetime\n",
    "from sklearn import preprocessing\n",
    "from sklearn.datasets import make_blobs\n",
    "from sklearn.preprocessing import StandardScaler\n",
    "from sklearn.feature_extraction.text import TfidfVectorizer\n",
    "from sklearn.metrics.pairwise import cosine_similarity\n",
    "import re\n",
    "from scipy.sparse import csr_matrix\n",
    "import scipy as sp\n",
    "\n",
    "# Packages for visualization\n",
    "import matplotlib.pyplot as plt\n",
    "import seaborn as sns\n",
    "%matplotlib inline\n",
    "\n",
    "# Packages for modeling\n",
    "from surprise import Reader\n",
    "from surprise import Dataset\n",
    "from surprise import KNNWithMeans\n",
    "from surprise import KNNBasic\n",
    "from surprise.model_selection import cross_validate\n",
    "from surprise.model_selection import GridSearchCV\n",
    "from surprise import SVD\n",
    "from surprise import accuracy\n",
    "from surprise.model_selection import train_test_split\n",
    "from surprise import NMF\n",
    "from surprise import SlopeOne\n",
    "from surprise import CoClustering\n",
    "import heapq\n",
    "\n",
    "from libreco.data import random_split, DatasetPure, DataInfo\n",
    "from libreco.data import split_by_ratio_chrono, DatasetFeat\n",
    "from libreco.algorithms import SVD as libSVD\n",
    "from libreco.algorithms import SVDpp\n",
    "from libreco.algorithms import FM, WideDeep, DeepFM, AutoInt, DIN\n",
    "from libreco.evaluation import evaluate\n",
    "import os\n",
    "import tensorflow as tf\n",
    "os.environ['TF_CPP_MIN_LOG_LEVEL'] = '3'\n",
    "os.environ[\"KMP_WARNINGS\"] = \"FALSE\"\n",
    "tf.compat.v1.logging.set_verbosity(tf.compat.v1.logging.ERROR)\n",
    "def reset_state(name):\n",
    "    tf.compat.v1.reset_default_graph()\n",
    "    print(\"\\n\", \"=\" * 30, name, \"=\" * 30)\n",
    "\n",
    "# Packages for model evaluation\n",
    "from sklearn.metrics import mean_squared_error\n",
    "from sklearn.metrics import mean_absolute_error\n",
    "from time import time\n",
    "from time import sleep\n",
    "import gc\n",
    "\n",
    "# Package to suppress warnings\n",
    "import warnings\n",
    "warnings.filterwarnings(\"ignore\")\n",
    "\n",
    "# Packages for saving models\n",
    "import pickle"
   ]
  },
  {
   "cell_type": "markdown",
   "metadata": {
    "id": "LCAuMww8jKxK"
   },
   "source": [
    "### Reading in data"
   ]
  },
  {
   "cell_type": "code",
   "execution_count": 11,
   "metadata": {
    "execution": {
     "iopub.execute_input": "2021-07-12T22:02:37.760896Z",
     "iopub.status.busy": "2021-07-12T22:02:37.760593Z",
     "iopub.status.idle": "2021-07-12T22:03:02.459131Z",
     "shell.execute_reply": "2021-07-12T22:03:02.458026Z",
     "shell.execute_reply.started": "2021-07-12T22:02:37.760867Z"
    },
    "gradient": {},
    "id": "C63Vok3qjKxL"
   },
   "outputs": [],
   "source": [
    "root_path = ''\n",
    "df_sample_submission = pd.read_csv(root_path + 'sample_submission.csv')\n",
    "df_movies = pd.read_csv(root_path + 'movies.csv')\n",
    "df_imdb = pd.read_csv(root_path + 'imdb_data.csv')\n",
    "df_genome_scores = pd.read_csv(root_path + 'genome_scores.csv')\n",
    "df_genome_tags = pd.read_csv(root_path +'genome_tags.csv')\n",
    "train = pd.read_csv(root_path + 'train.csv')\n",
    "df_test = pd.read_csv(root_path + 'test.csv')\n",
    "df_tags = pd.read_csv(root_path + 'tags.csv')\n",
    "df_links = pd.read_csv(root_path + 'links.csv')"
   ]
  },
  {
   "cell_type": "code",
   "execution_count": 12,
   "metadata": {
    "execution": {
     "iopub.execute_input": "2021-07-12T22:03:02.461006Z",
     "iopub.status.busy": "2021-07-12T22:03:02.460703Z",
     "iopub.status.idle": "2021-07-12T22:03:02.504001Z",
     "shell.execute_reply": "2021-07-12T22:03:02.503119Z",
     "shell.execute_reply.started": "2021-07-12T22:03:02.460979Z"
    },
    "gradient": {},
    "id": "R5o1NjMIjKxL",
    "outputId": "a2b638fe-7e95-4416-c0dd-4cfdfa70ca9c"
   },
   "outputs": [
    {
     "name": "stdout",
     "output_type": "stream",
     "text": [
      "<class 'pandas.core.frame.DataFrame'>\n",
      "RangeIndex: 5000019 entries, 0 to 5000018\n",
      "Data columns (total 2 columns):\n",
      "Id        object\n",
      "rating    float64\n",
      "dtypes: float64(1), object(1)\n",
      "memory usage: 76.3+ MB\n",
      "None\n"
     ]
    },
    {
     "data": {
      "text/html": [
       "<div>\n",
       "<style scoped>\n",
       "    .dataframe tbody tr th:only-of-type {\n",
       "        vertical-align: middle;\n",
       "    }\n",
       "\n",
       "    .dataframe tbody tr th {\n",
       "        vertical-align: top;\n",
       "    }\n",
       "\n",
       "    .dataframe thead th {\n",
       "        text-align: right;\n",
       "    }\n",
       "</style>\n",
       "<table border=\"1\" class=\"dataframe\">\n",
       "  <thead>\n",
       "    <tr style=\"text-align: right;\">\n",
       "      <th></th>\n",
       "      <th>Id</th>\n",
       "      <th>rating</th>\n",
       "    </tr>\n",
       "  </thead>\n",
       "  <tbody>\n",
       "    <tr>\n",
       "      <th>0</th>\n",
       "      <td>1_2011</td>\n",
       "      <td>1.0</td>\n",
       "    </tr>\n",
       "    <tr>\n",
       "      <th>1</th>\n",
       "      <td>1_4144</td>\n",
       "      <td>1.0</td>\n",
       "    </tr>\n",
       "    <tr>\n",
       "      <th>2</th>\n",
       "      <td>1_5767</td>\n",
       "      <td>1.0</td>\n",
       "    </tr>\n",
       "    <tr>\n",
       "      <th>3</th>\n",
       "      <td>1_6711</td>\n",
       "      <td>1.0</td>\n",
       "    </tr>\n",
       "    <tr>\n",
       "      <th>4</th>\n",
       "      <td>1_7318</td>\n",
       "      <td>1.0</td>\n",
       "    </tr>\n",
       "  </tbody>\n",
       "</table>\n",
       "</div>"
      ],
      "text/plain": [
       "       Id  rating\n",
       "0  1_2011     1.0\n",
       "1  1_4144     1.0\n",
       "2  1_5767     1.0\n",
       "3  1_6711     1.0\n",
       "4  1_7318     1.0"
      ]
     },
     "execution_count": 12,
     "metadata": {},
     "output_type": "execute_result"
    }
   ],
   "source": [
    "pd.set_option(\"display.max.column\", None)\n",
    "print(df_sample_submission.info())\n",
    "df_sample_submission.head()"
   ]
  },
  {
   "cell_type": "code",
   "execution_count": 13,
   "metadata": {
    "execution": {
     "iopub.execute_input": "2021-07-12T22:03:02.505668Z",
     "iopub.status.busy": "2021-07-12T22:03:02.505160Z",
     "iopub.status.idle": "2021-07-12T22:03:02.541835Z",
     "shell.execute_reply": "2021-07-12T22:03:02.541028Z",
     "shell.execute_reply.started": "2021-07-12T22:03:02.505633Z"
    },
    "gradient": {},
    "id": "o7cSwPL4jKxM",
    "outputId": "e28a8c14-e8fc-4943-c8e3-3652bc92f9bc"
   },
   "outputs": [
    {
     "name": "stdout",
     "output_type": "stream",
     "text": [
      "<class 'pandas.core.frame.DataFrame'>\n",
      "RangeIndex: 62423 entries, 0 to 62422\n",
      "Data columns (total 3 columns):\n",
      "movieId    62423 non-null int64\n",
      "title      62423 non-null object\n",
      "genres     62423 non-null object\n",
      "dtypes: int64(1), object(2)\n",
      "memory usage: 1.4+ MB\n",
      "None\n"
     ]
    },
    {
     "data": {
      "text/html": [
       "<div>\n",
       "<style scoped>\n",
       "    .dataframe tbody tr th:only-of-type {\n",
       "        vertical-align: middle;\n",
       "    }\n",
       "\n",
       "    .dataframe tbody tr th {\n",
       "        vertical-align: top;\n",
       "    }\n",
       "\n",
       "    .dataframe thead th {\n",
       "        text-align: right;\n",
       "    }\n",
       "</style>\n",
       "<table border=\"1\" class=\"dataframe\">\n",
       "  <thead>\n",
       "    <tr style=\"text-align: right;\">\n",
       "      <th></th>\n",
       "      <th>movieId</th>\n",
       "      <th>title</th>\n",
       "      <th>genres</th>\n",
       "    </tr>\n",
       "  </thead>\n",
       "  <tbody>\n",
       "    <tr>\n",
       "      <th>0</th>\n",
       "      <td>1</td>\n",
       "      <td>Toy Story (1995)</td>\n",
       "      <td>Adventure|Animation|Children|Comedy|Fantasy</td>\n",
       "    </tr>\n",
       "    <tr>\n",
       "      <th>1</th>\n",
       "      <td>2</td>\n",
       "      <td>Jumanji (1995)</td>\n",
       "      <td>Adventure|Children|Fantasy</td>\n",
       "    </tr>\n",
       "    <tr>\n",
       "      <th>2</th>\n",
       "      <td>3</td>\n",
       "      <td>Grumpier Old Men (1995)</td>\n",
       "      <td>Comedy|Romance</td>\n",
       "    </tr>\n",
       "    <tr>\n",
       "      <th>3</th>\n",
       "      <td>4</td>\n",
       "      <td>Waiting to Exhale (1995)</td>\n",
       "      <td>Comedy|Drama|Romance</td>\n",
       "    </tr>\n",
       "    <tr>\n",
       "      <th>4</th>\n",
       "      <td>5</td>\n",
       "      <td>Father of the Bride Part II (1995)</td>\n",
       "      <td>Comedy</td>\n",
       "    </tr>\n",
       "  </tbody>\n",
       "</table>\n",
       "</div>"
      ],
      "text/plain": [
       "   movieId                               title  \\\n",
       "0        1                    Toy Story (1995)   \n",
       "1        2                      Jumanji (1995)   \n",
       "2        3             Grumpier Old Men (1995)   \n",
       "3        4            Waiting to Exhale (1995)   \n",
       "4        5  Father of the Bride Part II (1995)   \n",
       "\n",
       "                                        genres  \n",
       "0  Adventure|Animation|Children|Comedy|Fantasy  \n",
       "1                   Adventure|Children|Fantasy  \n",
       "2                               Comedy|Romance  \n",
       "3                         Comedy|Drama|Romance  \n",
       "4                                       Comedy  "
      ]
     },
     "execution_count": 13,
     "metadata": {},
     "output_type": "execute_result"
    }
   ],
   "source": [
    "print(df_movies.info())\n",
    "df_movies.head()"
   ]
  },
  {
   "cell_type": "code",
   "execution_count": 14,
   "metadata": {
    "execution": {
     "iopub.execute_input": "2021-07-12T22:03:02.543405Z",
     "iopub.status.busy": "2021-07-12T22:03:02.542951Z",
     "iopub.status.idle": "2021-07-12T22:03:02.583128Z",
     "shell.execute_reply": "2021-07-12T22:03:02.582132Z",
     "shell.execute_reply.started": "2021-07-12T22:03:02.543371Z"
    },
    "gradient": {},
    "id": "AsaDBwTjjKxN",
    "outputId": "c1bec6e5-bdf0-4620-fbe2-fe3d7e890b32"
   },
   "outputs": [
    {
     "name": "stdout",
     "output_type": "stream",
     "text": [
      "<class 'pandas.core.frame.DataFrame'>\n",
      "RangeIndex: 27278 entries, 0 to 27277\n",
      "Data columns (total 6 columns):\n",
      "movieId          27278 non-null int64\n",
      "title_cast       17210 non-null object\n",
      "director         17404 non-null object\n",
      "runtime          15189 non-null float64\n",
      "budget           7906 non-null object\n",
      "plot_keywords    16200 non-null object\n",
      "dtypes: float64(1), int64(1), object(4)\n",
      "memory usage: 1.2+ MB\n",
      "None\n"
     ]
    },
    {
     "data": {
      "text/html": [
       "<div>\n",
       "<style scoped>\n",
       "    .dataframe tbody tr th:only-of-type {\n",
       "        vertical-align: middle;\n",
       "    }\n",
       "\n",
       "    .dataframe tbody tr th {\n",
       "        vertical-align: top;\n",
       "    }\n",
       "\n",
       "    .dataframe thead th {\n",
       "        text-align: right;\n",
       "    }\n",
       "</style>\n",
       "<table border=\"1\" class=\"dataframe\">\n",
       "  <thead>\n",
       "    <tr style=\"text-align: right;\">\n",
       "      <th></th>\n",
       "      <th>movieId</th>\n",
       "      <th>title_cast</th>\n",
       "      <th>director</th>\n",
       "      <th>runtime</th>\n",
       "      <th>budget</th>\n",
       "      <th>plot_keywords</th>\n",
       "    </tr>\n",
       "  </thead>\n",
       "  <tbody>\n",
       "    <tr>\n",
       "      <th>0</th>\n",
       "      <td>1</td>\n",
       "      <td>Tom Hanks|Tim Allen|Don Rickles|Jim Varney|Wal...</td>\n",
       "      <td>John Lasseter</td>\n",
       "      <td>81.0</td>\n",
       "      <td>$30,000,000</td>\n",
       "      <td>toy|rivalry|cowboy|cgi animation</td>\n",
       "    </tr>\n",
       "    <tr>\n",
       "      <th>1</th>\n",
       "      <td>2</td>\n",
       "      <td>Robin Williams|Jonathan Hyde|Kirsten Dunst|Bra...</td>\n",
       "      <td>Jonathan Hensleigh</td>\n",
       "      <td>104.0</td>\n",
       "      <td>$65,000,000</td>\n",
       "      <td>board game|adventurer|fight|game</td>\n",
       "    </tr>\n",
       "    <tr>\n",
       "      <th>2</th>\n",
       "      <td>3</td>\n",
       "      <td>Walter Matthau|Jack Lemmon|Sophia Loren|Ann-Ma...</td>\n",
       "      <td>Mark Steven Johnson</td>\n",
       "      <td>101.0</td>\n",
       "      <td>$25,000,000</td>\n",
       "      <td>boat|lake|neighbor|rivalry</td>\n",
       "    </tr>\n",
       "    <tr>\n",
       "      <th>3</th>\n",
       "      <td>4</td>\n",
       "      <td>Whitney Houston|Angela Bassett|Loretta Devine|...</td>\n",
       "      <td>Terry McMillan</td>\n",
       "      <td>124.0</td>\n",
       "      <td>$16,000,000</td>\n",
       "      <td>black american|husband wife relationship|betra...</td>\n",
       "    </tr>\n",
       "    <tr>\n",
       "      <th>4</th>\n",
       "      <td>5</td>\n",
       "      <td>Steve Martin|Diane Keaton|Martin Short|Kimberl...</td>\n",
       "      <td>Albert Hackett</td>\n",
       "      <td>106.0</td>\n",
       "      <td>$30,000,000</td>\n",
       "      <td>fatherhood|doberman|dog|mansion</td>\n",
       "    </tr>\n",
       "  </tbody>\n",
       "</table>\n",
       "</div>"
      ],
      "text/plain": [
       "   movieId                                         title_cast  \\\n",
       "0        1  Tom Hanks|Tim Allen|Don Rickles|Jim Varney|Wal...   \n",
       "1        2  Robin Williams|Jonathan Hyde|Kirsten Dunst|Bra...   \n",
       "2        3  Walter Matthau|Jack Lemmon|Sophia Loren|Ann-Ma...   \n",
       "3        4  Whitney Houston|Angela Bassett|Loretta Devine|...   \n",
       "4        5  Steve Martin|Diane Keaton|Martin Short|Kimberl...   \n",
       "\n",
       "              director  runtime       budget  \\\n",
       "0        John Lasseter     81.0  $30,000,000   \n",
       "1   Jonathan Hensleigh    104.0  $65,000,000   \n",
       "2  Mark Steven Johnson    101.0  $25,000,000   \n",
       "3       Terry McMillan    124.0  $16,000,000   \n",
       "4       Albert Hackett    106.0  $30,000,000   \n",
       "\n",
       "                                       plot_keywords  \n",
       "0                   toy|rivalry|cowboy|cgi animation  \n",
       "1                   board game|adventurer|fight|game  \n",
       "2                         boat|lake|neighbor|rivalry  \n",
       "3  black american|husband wife relationship|betra...  \n",
       "4                    fatherhood|doberman|dog|mansion  "
      ]
     },
     "execution_count": 14,
     "metadata": {},
     "output_type": "execute_result"
    }
   ],
   "source": [
    "print(df_imdb.info())\n",
    "df_imdb.head()"
   ]
  },
  {
   "cell_type": "code",
   "execution_count": 15,
   "metadata": {
    "execution": {
     "iopub.execute_input": "2021-07-12T22:03:02.584929Z",
     "iopub.status.busy": "2021-07-12T22:03:02.584576Z",
     "iopub.status.idle": "2021-07-12T22:03:02.606106Z",
     "shell.execute_reply": "2021-07-12T22:03:02.605216Z",
     "shell.execute_reply.started": "2021-07-12T22:03:02.584889Z"
    },
    "gradient": {},
    "id": "cWuidB3ijKxO",
    "outputId": "040801c5-f29e-4c0f-c515-64c3dfcf2d5f"
   },
   "outputs": [
    {
     "name": "stdout",
     "output_type": "stream",
     "text": [
      "<class 'pandas.core.frame.DataFrame'>\n",
      "RangeIndex: 15584448 entries, 0 to 15584447\n",
      "Data columns (total 3 columns):\n",
      "movieId      int64\n",
      "tagId        int64\n",
      "relevance    float64\n",
      "dtypes: float64(1), int64(2)\n",
      "memory usage: 356.7 MB\n",
      "None\n"
     ]
    },
    {
     "data": {
      "text/html": [
       "<div>\n",
       "<style scoped>\n",
       "    .dataframe tbody tr th:only-of-type {\n",
       "        vertical-align: middle;\n",
       "    }\n",
       "\n",
       "    .dataframe tbody tr th {\n",
       "        vertical-align: top;\n",
       "    }\n",
       "\n",
       "    .dataframe thead th {\n",
       "        text-align: right;\n",
       "    }\n",
       "</style>\n",
       "<table border=\"1\" class=\"dataframe\">\n",
       "  <thead>\n",
       "    <tr style=\"text-align: right;\">\n",
       "      <th></th>\n",
       "      <th>movieId</th>\n",
       "      <th>tagId</th>\n",
       "      <th>relevance</th>\n",
       "    </tr>\n",
       "  </thead>\n",
       "  <tbody>\n",
       "    <tr>\n",
       "      <th>0</th>\n",
       "      <td>1</td>\n",
       "      <td>1</td>\n",
       "      <td>0.02875</td>\n",
       "    </tr>\n",
       "    <tr>\n",
       "      <th>1</th>\n",
       "      <td>1</td>\n",
       "      <td>2</td>\n",
       "      <td>0.02375</td>\n",
       "    </tr>\n",
       "    <tr>\n",
       "      <th>2</th>\n",
       "      <td>1</td>\n",
       "      <td>3</td>\n",
       "      <td>0.06250</td>\n",
       "    </tr>\n",
       "    <tr>\n",
       "      <th>3</th>\n",
       "      <td>1</td>\n",
       "      <td>4</td>\n",
       "      <td>0.07575</td>\n",
       "    </tr>\n",
       "    <tr>\n",
       "      <th>4</th>\n",
       "      <td>1</td>\n",
       "      <td>5</td>\n",
       "      <td>0.14075</td>\n",
       "    </tr>\n",
       "  </tbody>\n",
       "</table>\n",
       "</div>"
      ],
      "text/plain": [
       "   movieId  tagId  relevance\n",
       "0        1      1    0.02875\n",
       "1        1      2    0.02375\n",
       "2        1      3    0.06250\n",
       "3        1      4    0.07575\n",
       "4        1      5    0.14075"
      ]
     },
     "execution_count": 15,
     "metadata": {},
     "output_type": "execute_result"
    }
   ],
   "source": [
    "print(df_genome_scores.info())\n",
    "df_genome_scores.head()"
   ]
  },
  {
   "cell_type": "code",
   "execution_count": 16,
   "metadata": {
    "execution": {
     "iopub.execute_input": "2021-07-12T21:42:58.589166Z",
     "iopub.status.busy": "2021-07-12T21:42:58.588757Z",
     "iopub.status.idle": "2021-07-12T21:42:58.611788Z",
     "shell.execute_reply": "2021-07-12T21:42:58.610490Z",
     "shell.execute_reply.started": "2021-07-12T21:42:58.589127Z"
    },
    "gradient": {},
    "id": "LBU1XScvjKxO",
    "outputId": "2ecfcae2-0c93-4a65-af1a-640e33ac0024"
   },
   "outputs": [
    {
     "name": "stdout",
     "output_type": "stream",
     "text": [
      "<class 'pandas.core.frame.DataFrame'>\n",
      "RangeIndex: 1128 entries, 0 to 1127\n",
      "Data columns (total 2 columns):\n",
      "tagId    1128 non-null int64\n",
      "tag      1128 non-null object\n",
      "dtypes: int64(1), object(1)\n",
      "memory usage: 17.8+ KB\n",
      "None\n"
     ]
    },
    {
     "data": {
      "text/html": [
       "<div>\n",
       "<style scoped>\n",
       "    .dataframe tbody tr th:only-of-type {\n",
       "        vertical-align: middle;\n",
       "    }\n",
       "\n",
       "    .dataframe tbody tr th {\n",
       "        vertical-align: top;\n",
       "    }\n",
       "\n",
       "    .dataframe thead th {\n",
       "        text-align: right;\n",
       "    }\n",
       "</style>\n",
       "<table border=\"1\" class=\"dataframe\">\n",
       "  <thead>\n",
       "    <tr style=\"text-align: right;\">\n",
       "      <th></th>\n",
       "      <th>tagId</th>\n",
       "      <th>tag</th>\n",
       "    </tr>\n",
       "  </thead>\n",
       "  <tbody>\n",
       "    <tr>\n",
       "      <th>0</th>\n",
       "      <td>1</td>\n",
       "      <td>007</td>\n",
       "    </tr>\n",
       "    <tr>\n",
       "      <th>1</th>\n",
       "      <td>2</td>\n",
       "      <td>007 (series)</td>\n",
       "    </tr>\n",
       "    <tr>\n",
       "      <th>2</th>\n",
       "      <td>3</td>\n",
       "      <td>18th century</td>\n",
       "    </tr>\n",
       "    <tr>\n",
       "      <th>3</th>\n",
       "      <td>4</td>\n",
       "      <td>1920s</td>\n",
       "    </tr>\n",
       "    <tr>\n",
       "      <th>4</th>\n",
       "      <td>5</td>\n",
       "      <td>1930s</td>\n",
       "    </tr>\n",
       "  </tbody>\n",
       "</table>\n",
       "</div>"
      ],
      "text/plain": [
       "   tagId           tag\n",
       "0      1           007\n",
       "1      2  007 (series)\n",
       "2      3  18th century\n",
       "3      4         1920s\n",
       "4      5         1930s"
      ]
     },
     "execution_count": 16,
     "metadata": {},
     "output_type": "execute_result"
    }
   ],
   "source": [
    "print(df_genome_tags.info())\n",
    "df_genome_tags.head()"
   ]
  },
  {
   "cell_type": "code",
   "execution_count": 17,
   "metadata": {
    "execution": {
     "iopub.execute_input": "2021-07-12T21:42:58.813479Z",
     "iopub.status.busy": "2021-07-12T21:42:58.813076Z",
     "iopub.status.idle": "2021-07-12T21:42:58.951080Z",
     "shell.execute_reply": "2021-07-12T21:42:58.949912Z",
     "shell.execute_reply.started": "2021-07-12T21:42:58.813430Z"
    },
    "gradient": {},
    "id": "W7xr8iMljKxP",
    "outputId": "aafeedbc-09c7-4467-f6b6-46b3864f7df8"
   },
   "outputs": [
    {
     "name": "stdout",
     "output_type": "stream",
     "text": [
      "<class 'pandas.core.frame.DataFrame'>\n",
      "RangeIndex: 1093360 entries, 0 to 1093359\n",
      "Data columns (total 4 columns):\n",
      "userId       1093360 non-null int64\n",
      "movieId      1093360 non-null int64\n",
      "tag          1093344 non-null object\n",
      "timestamp    1093360 non-null int64\n",
      "dtypes: int64(3), object(1)\n",
      "memory usage: 33.4+ MB\n",
      "None\n"
     ]
    },
    {
     "data": {
      "text/html": [
       "<div>\n",
       "<style scoped>\n",
       "    .dataframe tbody tr th:only-of-type {\n",
       "        vertical-align: middle;\n",
       "    }\n",
       "\n",
       "    .dataframe tbody tr th {\n",
       "        vertical-align: top;\n",
       "    }\n",
       "\n",
       "    .dataframe thead th {\n",
       "        text-align: right;\n",
       "    }\n",
       "</style>\n",
       "<table border=\"1\" class=\"dataframe\">\n",
       "  <thead>\n",
       "    <tr style=\"text-align: right;\">\n",
       "      <th></th>\n",
       "      <th>userId</th>\n",
       "      <th>movieId</th>\n",
       "      <th>tag</th>\n",
       "      <th>timestamp</th>\n",
       "    </tr>\n",
       "  </thead>\n",
       "  <tbody>\n",
       "    <tr>\n",
       "      <th>0</th>\n",
       "      <td>3</td>\n",
       "      <td>260</td>\n",
       "      <td>classic</td>\n",
       "      <td>1439472355</td>\n",
       "    </tr>\n",
       "    <tr>\n",
       "      <th>1</th>\n",
       "      <td>3</td>\n",
       "      <td>260</td>\n",
       "      <td>sci-fi</td>\n",
       "      <td>1439472256</td>\n",
       "    </tr>\n",
       "    <tr>\n",
       "      <th>2</th>\n",
       "      <td>4</td>\n",
       "      <td>1732</td>\n",
       "      <td>dark comedy</td>\n",
       "      <td>1573943598</td>\n",
       "    </tr>\n",
       "    <tr>\n",
       "      <th>3</th>\n",
       "      <td>4</td>\n",
       "      <td>1732</td>\n",
       "      <td>great dialogue</td>\n",
       "      <td>1573943604</td>\n",
       "    </tr>\n",
       "    <tr>\n",
       "      <th>4</th>\n",
       "      <td>4</td>\n",
       "      <td>7569</td>\n",
       "      <td>so bad it's good</td>\n",
       "      <td>1573943455</td>\n",
       "    </tr>\n",
       "  </tbody>\n",
       "</table>\n",
       "</div>"
      ],
      "text/plain": [
       "   userId  movieId               tag   timestamp\n",
       "0       3      260           classic  1439472355\n",
       "1       3      260            sci-fi  1439472256\n",
       "2       4     1732       dark comedy  1573943598\n",
       "3       4     1732    great dialogue  1573943604\n",
       "4       4     7569  so bad it's good  1573943455"
      ]
     },
     "execution_count": 17,
     "metadata": {},
     "output_type": "execute_result"
    }
   ],
   "source": [
    "print(df_tags.info())\n",
    "df_tags.head()"
   ]
  },
  {
   "cell_type": "code",
   "execution_count": 18,
   "metadata": {
    "execution": {
     "iopub.execute_input": "2021-07-12T21:42:59.123316Z",
     "iopub.status.busy": "2021-07-12T21:42:59.122952Z",
     "iopub.status.idle": "2021-07-12T21:42:59.149825Z",
     "shell.execute_reply": "2021-07-12T21:42:59.148551Z",
     "shell.execute_reply.started": "2021-07-12T21:42:59.123285Z"
    },
    "gradient": {},
    "id": "yTnM-LlnjKxQ",
    "outputId": "94cc65db-59a3-41ee-b241-6dcb112dd27a"
   },
   "outputs": [
    {
     "name": "stdout",
     "output_type": "stream",
     "text": [
      "<class 'pandas.core.frame.DataFrame'>\n",
      "RangeIndex: 62423 entries, 0 to 62422\n",
      "Data columns (total 3 columns):\n",
      "movieId    62423 non-null int64\n",
      "imdbId     62423 non-null int64\n",
      "tmdbId     62316 non-null float64\n",
      "dtypes: float64(1), int64(2)\n",
      "memory usage: 1.4 MB\n",
      "None\n"
     ]
    },
    {
     "data": {
      "text/html": [
       "<div>\n",
       "<style scoped>\n",
       "    .dataframe tbody tr th:only-of-type {\n",
       "        vertical-align: middle;\n",
       "    }\n",
       "\n",
       "    .dataframe tbody tr th {\n",
       "        vertical-align: top;\n",
       "    }\n",
       "\n",
       "    .dataframe thead th {\n",
       "        text-align: right;\n",
       "    }\n",
       "</style>\n",
       "<table border=\"1\" class=\"dataframe\">\n",
       "  <thead>\n",
       "    <tr style=\"text-align: right;\">\n",
       "      <th></th>\n",
       "      <th>movieId</th>\n",
       "      <th>imdbId</th>\n",
       "      <th>tmdbId</th>\n",
       "    </tr>\n",
       "  </thead>\n",
       "  <tbody>\n",
       "    <tr>\n",
       "      <th>0</th>\n",
       "      <td>1</td>\n",
       "      <td>114709</td>\n",
       "      <td>862.0</td>\n",
       "    </tr>\n",
       "    <tr>\n",
       "      <th>1</th>\n",
       "      <td>2</td>\n",
       "      <td>113497</td>\n",
       "      <td>8844.0</td>\n",
       "    </tr>\n",
       "    <tr>\n",
       "      <th>2</th>\n",
       "      <td>3</td>\n",
       "      <td>113228</td>\n",
       "      <td>15602.0</td>\n",
       "    </tr>\n",
       "    <tr>\n",
       "      <th>3</th>\n",
       "      <td>4</td>\n",
       "      <td>114885</td>\n",
       "      <td>31357.0</td>\n",
       "    </tr>\n",
       "    <tr>\n",
       "      <th>4</th>\n",
       "      <td>5</td>\n",
       "      <td>113041</td>\n",
       "      <td>11862.0</td>\n",
       "    </tr>\n",
       "  </tbody>\n",
       "</table>\n",
       "</div>"
      ],
      "text/plain": [
       "   movieId  imdbId   tmdbId\n",
       "0        1  114709    862.0\n",
       "1        2  113497   8844.0\n",
       "2        3  113228  15602.0\n",
       "3        4  114885  31357.0\n",
       "4        5  113041  11862.0"
      ]
     },
     "execution_count": 18,
     "metadata": {},
     "output_type": "execute_result"
    }
   ],
   "source": [
    "print(df_links.info())\n",
    "df_links.head()"
   ]
  },
  {
   "cell_type": "code",
   "execution_count": 19,
   "metadata": {
    "execution": {
     "iopub.execute_input": "2021-07-12T21:42:59.433043Z",
     "iopub.status.busy": "2021-07-12T21:42:59.432633Z",
     "iopub.status.idle": "2021-07-12T21:42:59.455592Z",
     "shell.execute_reply": "2021-07-12T21:42:59.454487Z",
     "shell.execute_reply.started": "2021-07-12T21:42:59.433005Z"
    },
    "gradient": {},
    "id": "LurnBJfEjKxQ",
    "outputId": "d099f46b-ed61-47d5-c44f-63dcba3dda7e"
   },
   "outputs": [
    {
     "name": "stdout",
     "output_type": "stream",
     "text": [
      "<class 'pandas.core.frame.DataFrame'>\n",
      "RangeIndex: 10000038 entries, 0 to 10000037\n",
      "Data columns (total 4 columns):\n",
      "userId       int64\n",
      "movieId      int64\n",
      "rating       float64\n",
      "timestamp    int64\n",
      "dtypes: float64(1), int64(3)\n",
      "memory usage: 305.2 MB\n",
      "None\n"
     ]
    },
    {
     "data": {
      "text/html": [
       "<div>\n",
       "<style scoped>\n",
       "    .dataframe tbody tr th:only-of-type {\n",
       "        vertical-align: middle;\n",
       "    }\n",
       "\n",
       "    .dataframe tbody tr th {\n",
       "        vertical-align: top;\n",
       "    }\n",
       "\n",
       "    .dataframe thead th {\n",
       "        text-align: right;\n",
       "    }\n",
       "</style>\n",
       "<table border=\"1\" class=\"dataframe\">\n",
       "  <thead>\n",
       "    <tr style=\"text-align: right;\">\n",
       "      <th></th>\n",
       "      <th>userId</th>\n",
       "      <th>movieId</th>\n",
       "      <th>rating</th>\n",
       "      <th>timestamp</th>\n",
       "    </tr>\n",
       "  </thead>\n",
       "  <tbody>\n",
       "    <tr>\n",
       "      <th>0</th>\n",
       "      <td>5163</td>\n",
       "      <td>57669</td>\n",
       "      <td>4.0</td>\n",
       "      <td>1518349992</td>\n",
       "    </tr>\n",
       "    <tr>\n",
       "      <th>1</th>\n",
       "      <td>106343</td>\n",
       "      <td>5</td>\n",
       "      <td>4.5</td>\n",
       "      <td>1206238739</td>\n",
       "    </tr>\n",
       "    <tr>\n",
       "      <th>2</th>\n",
       "      <td>146790</td>\n",
       "      <td>5459</td>\n",
       "      <td>5.0</td>\n",
       "      <td>1076215539</td>\n",
       "    </tr>\n",
       "    <tr>\n",
       "      <th>3</th>\n",
       "      <td>106362</td>\n",
       "      <td>32296</td>\n",
       "      <td>2.0</td>\n",
       "      <td>1423042565</td>\n",
       "    </tr>\n",
       "    <tr>\n",
       "      <th>4</th>\n",
       "      <td>9041</td>\n",
       "      <td>366</td>\n",
       "      <td>3.0</td>\n",
       "      <td>833375837</td>\n",
       "    </tr>\n",
       "  </tbody>\n",
       "</table>\n",
       "</div>"
      ],
      "text/plain": [
       "   userId  movieId  rating   timestamp\n",
       "0    5163    57669     4.0  1518349992\n",
       "1  106343        5     4.5  1206238739\n",
       "2  146790     5459     5.0  1076215539\n",
       "3  106362    32296     2.0  1423042565\n",
       "4    9041      366     3.0   833375837"
      ]
     },
     "execution_count": 19,
     "metadata": {},
     "output_type": "execute_result"
    }
   ],
   "source": [
    "print(train.info())\n",
    "train.head()"
   ]
  },
  {
   "cell_type": "code",
   "execution_count": 20,
   "metadata": {
    "execution": {
     "iopub.execute_input": "2021-07-12T21:43:02.575952Z",
     "iopub.status.busy": "2021-07-12T21:43:02.575532Z",
     "iopub.status.idle": "2021-07-12T21:43:02.594709Z",
     "shell.execute_reply": "2021-07-12T21:43:02.593281Z",
     "shell.execute_reply.started": "2021-07-12T21:43:02.575916Z"
    },
    "gradient": {},
    "id": "z1eVNw3zjKxS",
    "outputId": "af796e1d-af86-42e7-d5f2-a06828d7f5ff"
   },
   "outputs": [
    {
     "name": "stdout",
     "output_type": "stream",
     "text": [
      "<class 'pandas.core.frame.DataFrame'>\n",
      "RangeIndex: 5000019 entries, 0 to 5000018\n",
      "Data columns (total 2 columns):\n",
      "userId     int64\n",
      "movieId    int64\n",
      "dtypes: int64(2)\n",
      "memory usage: 76.3 MB\n",
      "None\n"
     ]
    },
    {
     "data": {
      "text/html": [
       "<div>\n",
       "<style scoped>\n",
       "    .dataframe tbody tr th:only-of-type {\n",
       "        vertical-align: middle;\n",
       "    }\n",
       "\n",
       "    .dataframe tbody tr th {\n",
       "        vertical-align: top;\n",
       "    }\n",
       "\n",
       "    .dataframe thead th {\n",
       "        text-align: right;\n",
       "    }\n",
       "</style>\n",
       "<table border=\"1\" class=\"dataframe\">\n",
       "  <thead>\n",
       "    <tr style=\"text-align: right;\">\n",
       "      <th></th>\n",
       "      <th>userId</th>\n",
       "      <th>movieId</th>\n",
       "    </tr>\n",
       "  </thead>\n",
       "  <tbody>\n",
       "    <tr>\n",
       "      <th>0</th>\n",
       "      <td>1</td>\n",
       "      <td>2011</td>\n",
       "    </tr>\n",
       "    <tr>\n",
       "      <th>1</th>\n",
       "      <td>1</td>\n",
       "      <td>4144</td>\n",
       "    </tr>\n",
       "    <tr>\n",
       "      <th>2</th>\n",
       "      <td>1</td>\n",
       "      <td>5767</td>\n",
       "    </tr>\n",
       "    <tr>\n",
       "      <th>3</th>\n",
       "      <td>1</td>\n",
       "      <td>6711</td>\n",
       "    </tr>\n",
       "    <tr>\n",
       "      <th>4</th>\n",
       "      <td>1</td>\n",
       "      <td>7318</td>\n",
       "    </tr>\n",
       "  </tbody>\n",
       "</table>\n",
       "</div>"
      ],
      "text/plain": [
       "   userId  movieId\n",
       "0       1     2011\n",
       "1       1     4144\n",
       "2       1     5767\n",
       "3       1     6711\n",
       "4       1     7318"
      ]
     },
     "execution_count": 20,
     "metadata": {},
     "output_type": "execute_result"
    }
   ],
   "source": [
    "print(df_test.info())\n",
    "df_test.head()"
   ]
  },
  {
   "cell_type": "markdown",
   "metadata": {
    "id": "aceTFZ8ajKxS"
   },
   "source": [
    "# Exploratory Data Analysis"
   ]
  },
  {
   "cell_type": "markdown",
   "metadata": {
    "id": "QOPeKelxjKxS"
   },
   "source": [
    "**Most common Genres**"
   ]
  },
  {
   "cell_type": "code",
   "execution_count": 21,
   "metadata": {
    "execution": {
     "iopub.execute_input": "2021-07-12T21:43:04.715429Z",
     "iopub.status.busy": "2021-07-12T21:43:04.715038Z",
     "iopub.status.idle": "2021-07-12T21:43:05.134100Z",
     "shell.execute_reply": "2021-07-12T21:43:05.133127Z",
     "shell.execute_reply.started": "2021-07-12T21:43:04.715395Z"
    },
    "gradient": {},
    "id": "mdN8NV02jKxS",
    "outputId": "c345e7e3-aee6-4f83-ee66-a53390a158ed"
   },
   "outputs": [
    {
     "data": {
      "text/html": [
       "<div>\n",
       "<style scoped>\n",
       "    .dataframe tbody tr th:only-of-type {\n",
       "        vertical-align: middle;\n",
       "    }\n",
       "\n",
       "    .dataframe tbody tr th {\n",
       "        vertical-align: top;\n",
       "    }\n",
       "\n",
       "    .dataframe thead th {\n",
       "        text-align: right;\n",
       "    }\n",
       "</style>\n",
       "<table border=\"1\" class=\"dataframe\">\n",
       "  <thead>\n",
       "    <tr style=\"text-align: right;\">\n",
       "      <th></th>\n",
       "      <th>movieId</th>\n",
       "      <th>genres</th>\n",
       "    </tr>\n",
       "  </thead>\n",
       "  <tbody>\n",
       "    <tr>\n",
       "      <th>0</th>\n",
       "      <td>1</td>\n",
       "      <td>Adventure</td>\n",
       "    </tr>\n",
       "    <tr>\n",
       "      <th>1</th>\n",
       "      <td>1</td>\n",
       "      <td>Animation</td>\n",
       "    </tr>\n",
       "    <tr>\n",
       "      <th>2</th>\n",
       "      <td>1</td>\n",
       "      <td>Children</td>\n",
       "    </tr>\n",
       "    <tr>\n",
       "      <th>3</th>\n",
       "      <td>1</td>\n",
       "      <td>Comedy</td>\n",
       "    </tr>\n",
       "    <tr>\n",
       "      <th>4</th>\n",
       "      <td>1</td>\n",
       "      <td>Fantasy</td>\n",
       "    </tr>\n",
       "  </tbody>\n",
       "</table>\n",
       "</div>"
      ],
      "text/plain": [
       "   movieId     genres\n",
       "0        1  Adventure\n",
       "1        1  Animation\n",
       "2        1   Children\n",
       "3        1     Comedy\n",
       "4        1    Fantasy"
      ]
     },
     "execution_count": 21,
     "metadata": {},
     "output_type": "execute_result"
    }
   ],
   "source": [
    "# Create dataframe containing only the movieId and genres\n",
    "movies_genres = pd.DataFrame(df_movies[['movieId', 'genres']],\n",
    "                             columns=['movieId', 'genres'])\n",
    "\n",
    "# Split genres seperated by \"|\" and create a list containing the genres allocated to each movie\n",
    "movies_genres.genres = movies_genres.genres.apply(lambda x: x.split('|'))\n",
    "\n",
    "# Create expanded dataframe where each movie-genre combination is in a seperate row\n",
    "movies_genres = pd.DataFrame([(tup.movieId, d) for tup in movies_genres.itertuples() for d in tup.genres],\n",
    "                             columns=['movieId', 'genres'])\n",
    "\n",
    "movies_genres.head()"
   ]
  },
  {
   "cell_type": "code",
   "execution_count": 22,
   "metadata": {
    "execution": {
     "iopub.execute_input": "2021-07-12T21:43:05.135898Z",
     "iopub.status.busy": "2021-07-12T21:43:05.135610Z",
     "iopub.status.idle": "2021-07-12T21:43:05.639751Z",
     "shell.execute_reply": "2021-07-12T21:43:05.638281Z",
     "shell.execute_reply.started": "2021-07-12T21:43:05.135869Z"
    },
    "gradient": {},
    "id": "7CJ0AG-ojKxT",
    "outputId": "279a6f59-3f10-4b31-9330-235029217620"
   },
   "outputs": [
    {
     "data": {
      "image/png": "[encoded data removed]",
      "text/plain": [
       "<Figure size 1080x720 with 1 Axes>"
      ]
     },
     "metadata": {
      "needs_background": "light"
     },
     "output_type": "display_data"
    }
   ],
   "source": [
    "# Plot the genres from most common to least common\n",
    "plot = plt.figure(figsize=(15, 10))\n",
    "plt.title('Most common genres\\n', fontsize=20)\n",
    "sns.countplot(y=\"genres\", data=movies_genres,\n",
    "              order=movies_genres['genres'].value_counts(ascending=False).index,\n",
    "              palette='Reds_r')\n",
    "plt.show()"
   ]
  },
  {
   "cell_type": "markdown",
   "metadata": {
    "id": "tpvaBrZ_fSP0"
   },
   "source": [
    "**Most common actors**"
   ]
  },
  {
   "cell_type": "code",
   "execution_count": 23,
   "metadata": {
    "execution": {
     "iopub.execute_input": "2021-07-12T21:43:05.642148Z",
     "iopub.status.busy": "2021-07-12T21:43:05.641769Z",
     "iopub.status.idle": "2021-07-12T21:43:06.197697Z",
     "shell.execute_reply": "2021-07-12T21:43:06.196643Z",
     "shell.execute_reply.started": "2021-07-12T21:43:05.642113Z"
    },
    "gradient": {},
    "id": "-N5Vn-92fNra",
    "outputId": "fc6c332b-5498-45a5-91df-1ff6064e2ca2"
   },
   "outputs": [
    {
     "name": "stdout",
     "output_type": "stream",
     "text": [
      "Total Cast Members: 121036\n",
      "Most Common Cast Members:\n",
      " ['nan', 'Samuel L. Jackson', 'Steve Buscemi', 'Keith David', 'Willem Dafoe', 'Robert De Niro', 'Brian Cox', 'Gérard Depardieu', 'Christopher Walken', 'Bruce Willis', 'Morgan Freeman', 'Danny Glover', 'Alec Baldwin', 'Peter Stormare', 'Nicolas Cage', 'Stanley Tucci', 'Richard Jenkins', 'Susan Sarandon', 'Julianne Moore', 'Woody Harrelson', 'John Goodman', 'Stellan Skarsgård', 'Tom Wilkinson', 'Val Kilmer', 'Antonio Banderas', 'Christopher McDonald', 'Jeff Bennett', 'Johnny Depp', 'Ed Harris', 'John Leguizamo', 'Forest Whitaker', 'Ray Liotta', 'Donald Sutherland', 'Harvey Keitel', 'John Cusack', 'Luis Guzmán', 'Stephen Tobolowsky', 'Paul Giamatti', 'Danny Trejo', 'John Malkovich', 'Richard Riehle', 'George W. Bush', 'Jim Broadbent', 'David Strathairn', 'Ewan McGregor', 'Jim Cummings', 'William H. Macy', 'Robert Downey Jr.', 'Patricia Clarkson', 'Ving Rhames']\n"
     ]
    },
    {
     "data": {
      "text/html": [
       "<div>\n",
       "<style scoped>\n",
       "    .dataframe tbody tr th:only-of-type {\n",
       "        vertical-align: middle;\n",
       "    }\n",
       "\n",
       "    .dataframe tbody tr th {\n",
       "        vertical-align: top;\n",
       "    }\n",
       "\n",
       "    .dataframe thead th {\n",
       "        text-align: right;\n",
       "    }\n",
       "</style>\n",
       "<table border=\"1\" class=\"dataframe\">\n",
       "  <thead>\n",
       "    <tr style=\"text-align: right;\">\n",
       "      <th></th>\n",
       "      <th>movieId</th>\n",
       "      <th>title_cast</th>\n",
       "    </tr>\n",
       "  </thead>\n",
       "  <tbody>\n",
       "    <tr>\n",
       "      <th>0</th>\n",
       "      <td>1</td>\n",
       "      <td>Tom Hanks</td>\n",
       "    </tr>\n",
       "    <tr>\n",
       "      <th>1</th>\n",
       "      <td>1</td>\n",
       "      <td>Tim Allen</td>\n",
       "    </tr>\n",
       "    <tr>\n",
       "      <th>2</th>\n",
       "      <td>1</td>\n",
       "      <td>Don Rickles</td>\n",
       "    </tr>\n",
       "    <tr>\n",
       "      <th>3</th>\n",
       "      <td>1</td>\n",
       "      <td>Jim Varney</td>\n",
       "    </tr>\n",
       "    <tr>\n",
       "      <th>4</th>\n",
       "      <td>1</td>\n",
       "      <td>Wallace Shawn</td>\n",
       "    </tr>\n",
       "  </tbody>\n",
       "</table>\n",
       "</div>"
      ],
      "text/plain": [
       "   movieId     title_cast\n",
       "0        1      Tom Hanks\n",
       "1        1      Tim Allen\n",
       "2        1    Don Rickles\n",
       "3        1     Jim Varney\n",
       "4        1  Wallace Shawn"
      ]
     },
     "metadata": {},
     "output_type": "display_data"
    }
   ],
   "source": [
    "# Create dataframe containing only the movieId and cast members\n",
    "cast = pd.DataFrame(df_imdb[['movieId', 'title_cast']],\n",
    "                             columns=['movieId', 'title_cast'])\n",
    "\n",
    "# Split title_cast seperated by \"|\" and create a list containing the cast members in each movie\n",
    "cast.title_cast = cast.title_cast.astype(str).apply(lambda x: x.split('|'))\n",
    "\n",
    "# Create expanded dataframe where each movie - cast member combination is in a seperate row\n",
    "cast = pd.DataFrame([(tup.movieId, d) for tup in cast.itertuples() for d in tup.title_cast],\n",
    "                             columns=['movieId', 'title_cast'])\n",
    "\n",
    "mostc_cast = cast['title_cast'].value_counts(ascending=False).index.tolist()[:50]\n",
    "\n",
    "print('Total Cast Members:', len(list(cast['title_cast'].unique())))\n",
    "print('Most Common Cast Members:\\n', mostc_cast)\n",
    "display(cast.head())"
   ]
  },
  {
   "cell_type": "code",
   "execution_count": 24,
   "metadata": {
    "execution": {
     "iopub.execute_input": "2021-07-12T21:43:06.199737Z",
     "iopub.status.busy": "2021-07-12T21:43:06.199366Z",
     "iopub.status.idle": "2021-07-12T21:43:07.965864Z",
     "shell.execute_reply": "2021-07-12T21:43:07.964720Z",
     "shell.execute_reply.started": "2021-07-12T21:43:06.199702Z"
    },
    "gradient": {},
    "id": "N0HhZL4SfPC9",
    "outputId": "c06df9cc-bc42-4578-a555-c45736b534b2"
   },
   "outputs": [
    {
     "data": {
      "image/png": "[encoded data removed]",
      "text/plain": [
       "<Figure size 1080x1080 with 1 Axes>"
      ]
     },
     "metadata": {
      "needs_background": "light"
     },
     "output_type": "display_data"
    }
   ],
   "source": [
    "# Plot the genres from most common to least common\n",
    "plot = plt.figure(figsize=(15, 15))\n",
    "plt.title('Most common actors\\n', fontsize=20)\n",
    "sns.countplot(y=\"title_cast\", data=cast,\n",
    "              order=mostc_cast[1:50],\n",
    "              palette='Reds_r')\n",
    "plt.show()"
   ]
  },
  {
   "cell_type": "markdown",
   "metadata": {
    "id": "xJv8wc28jKxT"
   },
   "source": [
    "## Data Prepartion"
   ]
  },
  {
   "cell_type": "code",
   "execution_count": 68,
   "metadata": {
    "execution": {
     "iopub.execute_input": "2021-07-12T22:03:02.608366Z",
     "iopub.status.busy": "2021-07-12T22:03:02.607894Z",
     "iopub.status.idle": "2021-07-12T22:03:11.058687Z",
     "shell.execute_reply": "2021-07-12T22:03:11.057571Z",
     "shell.execute_reply.started": "2021-07-12T22:03:02.608335Z"
    },
    "gradient": {},
    "id": "OMMvaMMIJ9nD"
   },
   "outputs": [
    {
     "data": {
      "text/html": [
       "<div>\n",
       "<style scoped>\n",
       "    .dataframe tbody tr th:only-of-type {\n",
       "        vertical-align: middle;\n",
       "    }\n",
       "\n",
       "    .dataframe tbody tr th {\n",
       "        vertical-align: top;\n",
       "    }\n",
       "\n",
       "    .dataframe thead th {\n",
       "        text-align: right;\n",
       "    }\n",
       "</style>\n",
       "<table border=\"1\" class=\"dataframe\">\n",
       "  <thead>\n",
       "    <tr style=\"text-align: right;\">\n",
       "      <th></th>\n",
       "      <th>userId</th>\n",
       "      <th>movieId</th>\n",
       "      <th>rating</th>\n",
       "      <th>timestamp</th>\n",
       "      <th>movie_rating_count</th>\n",
       "      <th>user_rating_count</th>\n",
       "    </tr>\n",
       "  </thead>\n",
       "  <tbody>\n",
       "    <tr>\n",
       "      <th>0</th>\n",
       "      <td>5163</td>\n",
       "      <td>57669</td>\n",
       "      <td>4.0</td>\n",
       "      <td>1518349992</td>\n",
       "      <td>4253</td>\n",
       "      <td>22</td>\n",
       "    </tr>\n",
       "    <tr>\n",
       "      <th>1</th>\n",
       "      <td>5163</td>\n",
       "      <td>2671</td>\n",
       "      <td>1.0</td>\n",
       "      <td>1545511636</td>\n",
       "      <td>5698</td>\n",
       "      <td>22</td>\n",
       "    </tr>\n",
       "    <tr>\n",
       "      <th>2</th>\n",
       "      <td>5163</td>\n",
       "      <td>1247</td>\n",
       "      <td>4.5</td>\n",
       "      <td>1434310106</td>\n",
       "      <td>7569</td>\n",
       "      <td>22</td>\n",
       "    </tr>\n",
       "  </tbody>\n",
       "</table>\n",
       "</div>"
      ],
      "text/plain": [
       "   userId  movieId  rating   timestamp  movie_rating_count  user_rating_count\n",
       "0    5163    57669     4.0  1518349992                4253                 22\n",
       "1    5163     2671     1.0  1545511636                5698                 22\n",
       "2    5163     1247     4.5  1434310106                7569                 22"
      ]
     },
     "metadata": {},
     "output_type": "display_data"
    },
    {
     "name": "stdout",
     "output_type": "stream",
     "text": [
      "(9848791, 4)\n"
     ]
    },
    {
     "data": {
      "text/html": [
       "<div>\n",
       "<style scoped>\n",
       "    .dataframe tbody tr th:only-of-type {\n",
       "        vertical-align: middle;\n",
       "    }\n",
       "\n",
       "    .dataframe tbody tr th {\n",
       "        vertical-align: top;\n",
       "    }\n",
       "\n",
       "    .dataframe thead th {\n",
       "        text-align: right;\n",
       "    }\n",
       "</style>\n",
       "<table border=\"1\" class=\"dataframe\">\n",
       "  <thead>\n",
       "    <tr style=\"text-align: right;\">\n",
       "      <th></th>\n",
       "      <th>userId</th>\n",
       "      <th>movieId</th>\n",
       "      <th>rating</th>\n",
       "      <th>timestamp</th>\n",
       "    </tr>\n",
       "  </thead>\n",
       "  <tbody>\n",
       "    <tr>\n",
       "      <th>0</th>\n",
       "      <td>5163</td>\n",
       "      <td>57669</td>\n",
       "      <td>4.0</td>\n",
       "      <td>1518349992</td>\n",
       "    </tr>\n",
       "    <tr>\n",
       "      <th>1</th>\n",
       "      <td>5163</td>\n",
       "      <td>2671</td>\n",
       "      <td>1.0</td>\n",
       "      <td>1545511636</td>\n",
       "    </tr>\n",
       "    <tr>\n",
       "      <th>2</th>\n",
       "      <td>5163</td>\n",
       "      <td>1247</td>\n",
       "      <td>4.5</td>\n",
       "      <td>1434310106</td>\n",
       "    </tr>\n",
       "  </tbody>\n",
       "</table>\n",
       "</div>"
      ],
      "text/plain": [
       "   userId  movieId  rating   timestamp\n",
       "0    5163    57669     4.0  1518349992\n",
       "1    5163     2671     1.0  1545511636\n",
       "2    5163     1247     4.5  1434310106"
      ]
     },
     "metadata": {},
     "output_type": "display_data"
    }
   ],
   "source": [
    "df_train = train.copy()\n",
    "\n",
    "rating_count = df_train.groupby('movieId')['rating'].count().reset_index()\n",
    "rating_count.rename(columns = {'rating': 'movie_rating_count'}, inplace=True)\n",
    "df_train = df_train.merge(rating_count, on='movieId')\n",
    "\n",
    "user_count = df_train.groupby('userId')['rating'].count().reset_index()\n",
    "user_count.rename(columns={'rating': 'user_rating_count'}, inplace=True)\n",
    "df_train=df_train.merge(user_count, on='userId')\n",
    "\n",
    "df_train = df_train[df_train['movie_rating_count'] > 20]\n",
    "df_train = df_train[df_train['user_rating_count'] > 5]\n",
    "display(df_train.head(3))\n",
    "df_train.drop(['movie_rating_count','user_rating_count'], 1, inplace=True)\n",
    "print(df_train.shape)\n",
    "display(df_train.head(3))"
   ]
  },
  {
   "cell_type": "code",
   "execution_count": 63,
   "metadata": {
    "execution": {
     "iopub.execute_input": "2021-07-12T22:03:11.061276Z",
     "iopub.status.busy": "2021-07-12T22:03:11.060657Z",
     "iopub.status.idle": "2021-07-12T22:03:11.070004Z",
     "shell.execute_reply": "2021-07-12T22:03:11.068770Z",
     "shell.execute_reply.started": "2021-07-12T22:03:11.061226Z"
    },
    "gradient": {}
   },
   "outputs": [],
   "source": [
    "def create_features(df, column, features):\n",
    "    \"\"\"Creates features from a column of lists where the list items will be the features.\"\"\"\n",
    "    \n",
    "    features_df = pd.DataFrame(columns = features)\n",
    "    all_features = pd.concat([df, features_df], axis=1)\n",
    "\n",
    "    for i,row in all_features.iterrows():\n",
    "        for feature in features:\n",
    "            if feature in getattr(row,column):\n",
    "                all_features[feature].iloc[i]= 1\n",
    "    all_features = all_features.drop(column, axis=1)\n",
    "    \n",
    "    return all_features"
   ]
  },
  {
   "cell_type": "code",
   "execution_count": 64,
   "metadata": {
    "execution": {
     "iopub.execute_input": "2021-07-12T22:03:11.071807Z",
     "iopub.status.busy": "2021-07-12T22:03:11.071433Z",
     "iopub.status.idle": "2021-07-12T22:03:11.178105Z",
     "shell.execute_reply": "2021-07-12T22:03:11.177064Z",
     "shell.execute_reply.started": "2021-07-12T22:03:11.071776Z"
    },
    "gradient": {}
   },
   "outputs": [],
   "source": [
    "df_imdb.fillna(0, inplace=True)\n",
    "df_imdb.budget = df_imdb.budget.astype(str).apply(lambda x: int(re.sub(\"[^0-9]\", \"\", x)))"
   ]
  },
  {
   "cell_type": "code",
   "execution_count": 65,
   "metadata": {
    "execution": {
     "iopub.execute_input": "2021-07-12T22:03:11.180146Z",
     "iopub.status.busy": "2021-07-12T22:03:11.179796Z",
     "iopub.status.idle": "2021-07-12T22:05:05.325406Z",
     "shell.execute_reply": "2021-07-12T22:05:05.322817Z",
     "shell.execute_reply.started": "2021-07-12T22:03:11.180109Z"
    },
    "gradient": {}
   },
   "outputs": [
    {
     "name": "stdout",
     "output_type": "stream",
     "text": [
      "CPU times: user 3min 52s, sys: 1.51 s, total: 3min 53s\n",
      "Wall time: 3min 51s\n"
     ]
    },
    {
     "data": {
      "text/html": [
       "<div>\n",
       "<style scoped>\n",
       "    .dataframe tbody tr th:only-of-type {\n",
       "        vertical-align: middle;\n",
       "    }\n",
       "\n",
       "    .dataframe tbody tr th {\n",
       "        vertical-align: top;\n",
       "    }\n",
       "\n",
       "    .dataframe thead th {\n",
       "        text-align: right;\n",
       "    }\n",
       "</style>\n",
       "<table border=\"1\" class=\"dataframe\">\n",
       "  <thead>\n",
       "    <tr style=\"text-align: right;\">\n",
       "      <th></th>\n",
       "      <th>movieId</th>\n",
       "      <th>Adventure</th>\n",
       "      <th>Animation</th>\n",
       "      <th>Children</th>\n",
       "      <th>Comedy</th>\n",
       "      <th>Fantasy</th>\n",
       "      <th>Romance</th>\n",
       "      <th>Drama</th>\n",
       "      <th>Action</th>\n",
       "      <th>Crime</th>\n",
       "      <th>Thriller</th>\n",
       "      <th>Horror</th>\n",
       "      <th>Mystery</th>\n",
       "      <th>Sci-Fi</th>\n",
       "      <th>IMAX</th>\n",
       "      <th>Documentary</th>\n",
       "      <th>War</th>\n",
       "      <th>Musical</th>\n",
       "      <th>Western</th>\n",
       "      <th>Film-Noir</th>\n",
       "      <th>(no genres listed)</th>\n",
       "    </tr>\n",
       "  </thead>\n",
       "  <tbody>\n",
       "    <tr>\n",
       "      <th>0</th>\n",
       "      <td>1</td>\n",
       "      <td>1</td>\n",
       "      <td>1</td>\n",
       "      <td>1</td>\n",
       "      <td>1</td>\n",
       "      <td>1</td>\n",
       "      <td>NaN</td>\n",
       "      <td>NaN</td>\n",
       "      <td>NaN</td>\n",
       "      <td>NaN</td>\n",
       "      <td>NaN</td>\n",
       "      <td>NaN</td>\n",
       "      <td>NaN</td>\n",
       "      <td>NaN</td>\n",
       "      <td>NaN</td>\n",
       "      <td>NaN</td>\n",
       "      <td>NaN</td>\n",
       "      <td>NaN</td>\n",
       "      <td>NaN</td>\n",
       "      <td>NaN</td>\n",
       "      <td>NaN</td>\n",
       "    </tr>\n",
       "    <tr>\n",
       "      <th>1</th>\n",
       "      <td>2</td>\n",
       "      <td>1</td>\n",
       "      <td>NaN</td>\n",
       "      <td>1</td>\n",
       "      <td>NaN</td>\n",
       "      <td>1</td>\n",
       "      <td>NaN</td>\n",
       "      <td>NaN</td>\n",
       "      <td>NaN</td>\n",
       "      <td>NaN</td>\n",
       "      <td>NaN</td>\n",
       "      <td>NaN</td>\n",
       "      <td>NaN</td>\n",
       "      <td>NaN</td>\n",
       "      <td>NaN</td>\n",
       "      <td>NaN</td>\n",
       "      <td>NaN</td>\n",
       "      <td>NaN</td>\n",
       "      <td>NaN</td>\n",
       "      <td>NaN</td>\n",
       "      <td>NaN</td>\n",
       "    </tr>\n",
       "    <tr>\n",
       "      <th>2</th>\n",
       "      <td>3</td>\n",
       "      <td>NaN</td>\n",
       "      <td>NaN</td>\n",
       "      <td>NaN</td>\n",
       "      <td>1</td>\n",
       "      <td>NaN</td>\n",
       "      <td>1</td>\n",
       "      <td>NaN</td>\n",
       "      <td>NaN</td>\n",
       "      <td>NaN</td>\n",
       "      <td>NaN</td>\n",
       "      <td>NaN</td>\n",
       "      <td>NaN</td>\n",
       "      <td>NaN</td>\n",
       "      <td>NaN</td>\n",
       "      <td>NaN</td>\n",
       "      <td>NaN</td>\n",
       "      <td>NaN</td>\n",
       "      <td>NaN</td>\n",
       "      <td>NaN</td>\n",
       "      <td>NaN</td>\n",
       "    </tr>\n",
       "    <tr>\n",
       "      <th>3</th>\n",
       "      <td>4</td>\n",
       "      <td>NaN</td>\n",
       "      <td>NaN</td>\n",
       "      <td>NaN</td>\n",
       "      <td>1</td>\n",
       "      <td>NaN</td>\n",
       "      <td>1</td>\n",
       "      <td>1</td>\n",
       "      <td>NaN</td>\n",
       "      <td>NaN</td>\n",
       "      <td>NaN</td>\n",
       "      <td>NaN</td>\n",
       "      <td>NaN</td>\n",
       "      <td>NaN</td>\n",
       "      <td>NaN</td>\n",
       "      <td>NaN</td>\n",
       "      <td>NaN</td>\n",
       "      <td>NaN</td>\n",
       "      <td>NaN</td>\n",
       "      <td>NaN</td>\n",
       "      <td>NaN</td>\n",
       "    </tr>\n",
       "  </tbody>\n",
       "</table>\n",
       "</div>"
      ],
      "text/plain": [
       "   movieId Adventure Animation Children Comedy Fantasy Romance Drama Action  \\\n",
       "0        1         1         1        1      1       1     NaN   NaN    NaN   \n",
       "1        2         1       NaN        1    NaN       1     NaN   NaN    NaN   \n",
       "2        3       NaN       NaN      NaN      1     NaN       1   NaN    NaN   \n",
       "3        4       NaN       NaN      NaN      1     NaN       1     1    NaN   \n",
       "\n",
       "  Crime Thriller Horror Mystery Sci-Fi IMAX Documentary  War Musical Western  \\\n",
       "0   NaN      NaN    NaN     NaN    NaN  NaN         NaN  NaN     NaN     NaN   \n",
       "1   NaN      NaN    NaN     NaN    NaN  NaN         NaN  NaN     NaN     NaN   \n",
       "2   NaN      NaN    NaN     NaN    NaN  NaN         NaN  NaN     NaN     NaN   \n",
       "3   NaN      NaN    NaN     NaN    NaN  NaN         NaN  NaN     NaN     NaN   \n",
       "\n",
       "  Film-Noir (no genres listed)  \n",
       "0       NaN                NaN  \n",
       "1       NaN                NaN  \n",
       "2       NaN                NaN  \n",
       "3       NaN                NaN  "
      ]
     },
     "execution_count": 65,
     "metadata": {},
     "output_type": "execute_result"
    }
   ],
   "source": [
    "%%time\n",
    "movies_genres = pd.DataFrame(df_movies[['movieId', 'genres']],\n",
    "                             columns=['movieId', 'genres'])\n",
    "\n",
    "# Split genres seperated by \"|\" and create a list containing the genres allocated to each movie\n",
    "movies_genres.genres = movies_genres.genres.apply(lambda x: x.split('|'))\n",
    "genres = ['Adventure', 'Animation', 'Children', 'Comedy', 'Fantasy',\n",
    "       'Romance', 'Drama', 'Action', 'Crime', 'Thriller', 'Horror',\n",
    "       'Mystery', 'Sci-Fi', 'IMAX', 'Documentary', 'War', 'Musical',\n",
    "       'Western', 'Film-Noir', '(no genres listed)']\n",
    "\n",
    "genre_encode = create_features(movies_genres, 'genres', genres)\n",
    "genre_encode.head(4)"
   ]
  },
  {
   "cell_type": "code",
   "execution_count": 66,
   "metadata": {
    "execution": {
     "iopub.execute_input": "2021-07-12T22:05:05.329201Z",
     "iopub.status.busy": "2021-07-12T22:05:05.328696Z",
     "iopub.status.idle": "2021-07-12T22:05:13.207316Z",
     "shell.execute_reply": "2021-07-12T22:05:13.206111Z",
     "shell.execute_reply.started": "2021-07-12T22:05:05.329143Z"
    },
    "gradient": {}
   },
   "outputs": [
    {
     "name": "stdout",
     "output_type": "stream",
     "text": [
      "CPU times: user 16 s, sys: 2.98 ms, total: 16 s\n",
      "Wall time: 16 s\n"
     ]
    },
    {
     "data": {
      "text/html": [
       "<div>\n",
       "<style scoped>\n",
       "    .dataframe tbody tr th:only-of-type {\n",
       "        vertical-align: middle;\n",
       "    }\n",
       "\n",
       "    .dataframe tbody tr th {\n",
       "        vertical-align: top;\n",
       "    }\n",
       "\n",
       "    .dataframe thead th {\n",
       "        text-align: right;\n",
       "    }\n",
       "</style>\n",
       "<table border=\"1\" class=\"dataframe\">\n",
       "  <thead>\n",
       "    <tr style=\"text-align: right;\">\n",
       "      <th></th>\n",
       "      <th>movieId</th>\n",
       "      <th>Samuel L. Jackson</th>\n",
       "      <th>Steve Buscemi</th>\n",
       "      <th>Keith David</th>\n",
       "      <th>Willem Dafoe</th>\n",
       "      <th>Robert De Niro</th>\n",
       "      <th>Gérard Depardieu</th>\n",
       "      <th>Brian Cox</th>\n",
       "      <th>Christopher Walken</th>\n",
       "      <th>Danny Glover</th>\n",
       "      <th>Bruce Willis</th>\n",
       "      <th>Morgan Freeman</th>\n",
       "      <th>Alec Baldwin</th>\n",
       "      <th>Nicolas Cage</th>\n",
       "      <th>Peter Stormare</th>\n",
       "      <th>Susan Sarandon</th>\n",
       "      <th>Julianne Moore</th>\n",
       "      <th>Stanley Tucci</th>\n",
       "      <th>Richard Jenkins</th>\n",
       "      <th>John Goodman</th>\n",
       "      <th>Stellan Skarsgård</th>\n",
       "    </tr>\n",
       "  </thead>\n",
       "  <tbody>\n",
       "    <tr>\n",
       "      <th>0</th>\n",
       "      <td>1</td>\n",
       "      <td>NaN</td>\n",
       "      <td>NaN</td>\n",
       "      <td>NaN</td>\n",
       "      <td>NaN</td>\n",
       "      <td>NaN</td>\n",
       "      <td>NaN</td>\n",
       "      <td>NaN</td>\n",
       "      <td>NaN</td>\n",
       "      <td>NaN</td>\n",
       "      <td>NaN</td>\n",
       "      <td>NaN</td>\n",
       "      <td>NaN</td>\n",
       "      <td>NaN</td>\n",
       "      <td>NaN</td>\n",
       "      <td>NaN</td>\n",
       "      <td>NaN</td>\n",
       "      <td>NaN</td>\n",
       "      <td>NaN</td>\n",
       "      <td>NaN</td>\n",
       "      <td>NaN</td>\n",
       "    </tr>\n",
       "    <tr>\n",
       "      <th>1</th>\n",
       "      <td>2</td>\n",
       "      <td>NaN</td>\n",
       "      <td>NaN</td>\n",
       "      <td>NaN</td>\n",
       "      <td>NaN</td>\n",
       "      <td>NaN</td>\n",
       "      <td>NaN</td>\n",
       "      <td>NaN</td>\n",
       "      <td>NaN</td>\n",
       "      <td>NaN</td>\n",
       "      <td>NaN</td>\n",
       "      <td>NaN</td>\n",
       "      <td>NaN</td>\n",
       "      <td>NaN</td>\n",
       "      <td>NaN</td>\n",
       "      <td>NaN</td>\n",
       "      <td>NaN</td>\n",
       "      <td>NaN</td>\n",
       "      <td>NaN</td>\n",
       "      <td>NaN</td>\n",
       "      <td>NaN</td>\n",
       "    </tr>\n",
       "    <tr>\n",
       "      <th>2</th>\n",
       "      <td>3</td>\n",
       "      <td>NaN</td>\n",
       "      <td>NaN</td>\n",
       "      <td>NaN</td>\n",
       "      <td>NaN</td>\n",
       "      <td>NaN</td>\n",
       "      <td>NaN</td>\n",
       "      <td>NaN</td>\n",
       "      <td>NaN</td>\n",
       "      <td>NaN</td>\n",
       "      <td>NaN</td>\n",
       "      <td>NaN</td>\n",
       "      <td>NaN</td>\n",
       "      <td>NaN</td>\n",
       "      <td>NaN</td>\n",
       "      <td>NaN</td>\n",
       "      <td>NaN</td>\n",
       "      <td>NaN</td>\n",
       "      <td>NaN</td>\n",
       "      <td>NaN</td>\n",
       "      <td>NaN</td>\n",
       "    </tr>\n",
       "    <tr>\n",
       "      <th>3</th>\n",
       "      <td>4</td>\n",
       "      <td>NaN</td>\n",
       "      <td>NaN</td>\n",
       "      <td>NaN</td>\n",
       "      <td>NaN</td>\n",
       "      <td>NaN</td>\n",
       "      <td>NaN</td>\n",
       "      <td>NaN</td>\n",
       "      <td>NaN</td>\n",
       "      <td>NaN</td>\n",
       "      <td>NaN</td>\n",
       "      <td>NaN</td>\n",
       "      <td>NaN</td>\n",
       "      <td>NaN</td>\n",
       "      <td>NaN</td>\n",
       "      <td>NaN</td>\n",
       "      <td>NaN</td>\n",
       "      <td>NaN</td>\n",
       "      <td>NaN</td>\n",
       "      <td>NaN</td>\n",
       "      <td>NaN</td>\n",
       "    </tr>\n",
       "  </tbody>\n",
       "</table>\n",
       "</div>"
      ],
      "text/plain": [
       "   movieId Samuel L. Jackson Steve Buscemi Keith David Willem Dafoe  \\\n",
       "0        1               NaN           NaN         NaN          NaN   \n",
       "1        2               NaN           NaN         NaN          NaN   \n",
       "2        3               NaN           NaN         NaN          NaN   \n",
       "3        4               NaN           NaN         NaN          NaN   \n",
       "\n",
       "  Robert De Niro Gérard Depardieu Brian Cox Christopher Walken Danny Glover  \\\n",
       "0            NaN              NaN       NaN                NaN          NaN   \n",
       "1            NaN              NaN       NaN                NaN          NaN   \n",
       "2            NaN              NaN       NaN                NaN          NaN   \n",
       "3            NaN              NaN       NaN                NaN          NaN   \n",
       "\n",
       "  Bruce Willis Morgan Freeman Alec Baldwin Nicolas Cage Peter Stormare  \\\n",
       "0          NaN            NaN          NaN          NaN            NaN   \n",
       "1          NaN            NaN          NaN          NaN            NaN   \n",
       "2          NaN            NaN          NaN          NaN            NaN   \n",
       "3          NaN            NaN          NaN          NaN            NaN   \n",
       "\n",
       "  Susan Sarandon Julianne Moore Stanley Tucci Richard Jenkins John Goodman  \\\n",
       "0            NaN            NaN           NaN             NaN          NaN   \n",
       "1            NaN            NaN           NaN             NaN          NaN   \n",
       "2            NaN            NaN           NaN             NaN          NaN   \n",
       "3            NaN            NaN           NaN             NaN          NaN   \n",
       "\n",
       "  Stellan Skarsgård  \n",
       "0               NaN  \n",
       "1               NaN  \n",
       "2               NaN  \n",
       "3               NaN  "
      ]
     },
     "execution_count": 66,
     "metadata": {},
     "output_type": "execute_result"
    }
   ],
   "source": [
    "%%time\n",
    "cast = pd.DataFrame(df_imdb[['movieId', 'title_cast']],\n",
    "                             columns=['movieId', 'title_cast'])\n",
    "\n",
    "# Split title_cast seperated by \"|\" and create a list containing the cast members in each movie\n",
    "cast.title_cast = cast.title_cast.astype(str).apply(lambda x: x.split('|'))\n",
    "cast_movie = pd.DataFrame([(tup.movieId, d) for tup in cast.itertuples() for d in tup.title_cast],\n",
    "                             columns=['movieId', 'title_cast'])\n",
    "mostc_cast = cast_movie['title_cast'].value_counts(ascending=False).index.tolist()[:21]\n",
    "\n",
    "cast_encode = create_features(cast, 'title_cast', mostc_cast[1:])\n",
    "cast_encode.head(4)"
   ]
  },
  {
   "cell_type": "code",
   "execution_count": 69,
   "metadata": {
    "execution": {
     "iopub.execute_input": "2021-07-12T22:05:13.209955Z",
     "iopub.status.busy": "2021-07-12T22:05:13.209514Z",
     "iopub.status.idle": "2021-07-12T22:05:23.456763Z",
     "shell.execute_reply": "2021-07-12T22:05:23.455574Z",
     "shell.execute_reply.started": "2021-07-12T22:05:13.209899Z"
    },
    "gradient": {}
   },
   "outputs": [],
   "source": [
    "gc.collect()\n",
    "del rating_count, user_count, movies_genres, cast, cast_movie\n",
    "sleep(2)"
   ]
  },
  {
   "cell_type": "markdown",
   "metadata": {
    "id": "XsJdiCsmjKxU"
   },
   "source": [
    "## Modelling \n",
    "\n"
   ]
  },
  {
   "cell_type": "markdown",
   "metadata": {
    "id": "sOGusERajKxU"
   },
   "source": [
    "### Collaborative Filtering "
   ]
  },
  {
   "cell_type": "code",
   "execution_count": 33,
   "metadata": {
    "gradient": {},
    "id": "aAYejWasjKxT"
   },
   "outputs": [
    {
     "name": "stdout",
     "output_type": "stream",
     "text": [
      "CPU times: user 19.4 s, sys: 2.63 s, total: 22 s\n",
      "Wall time: 21.9 s\n"
     ]
    }
   ],
   "source": [
    "%%time\n",
    "ratings = df_train.copy()\n",
    "ratings_dict = {'itemID': list(ratings.movieId),\n",
    "                'userID': list(ratings.userId),\n",
    "                'rating': list(ratings.rating)}\n",
    "df = pd.DataFrame(ratings_dict)\n",
    "\n",
    "# A reader is still needed but only the rating_scale param is requiered.\n",
    "reader = Reader(rating_scale=(0.5, 5.0))\n",
    "# The columns must correspond to user id, item id and ratings (in that order).\n",
    "data = Dataset.load_from_df(df[['userID', 'itemID', 'rating']], reader)"
   ]
  },
  {
   "cell_type": "code",
   "execution_count": 34,
   "metadata": {
    "gradient": {},
    "id": "VDVxYjAbqG28"
   },
   "outputs": [
    {
     "name": "stdout",
     "output_type": "stream",
     "text": [
      "CPU times: user 34.9 s, sys: 1.16 s, total: 36.1 s\n",
      "Wall time: 36 s\n"
     ]
    }
   ],
   "source": [
    "%%time\n",
    "trainset, testset = train_test_split(data, test_size=.01, random_state = 1)"
   ]
  },
  {
   "cell_type": "code",
   "execution_count": 35,
   "metadata": {
    "gradient": {}
   },
   "outputs": [],
   "source": [
    "gc.collect()\n",
    "del ratings, ratings_dict, df, data\n",
    "sleep(10)"
   ]
  },
  {
   "cell_type": "markdown",
   "metadata": {
    "id": "mqp1sqZZjKxV"
   },
   "source": [
    "#### SVD      (surprise Package)"
   ]
  },
  {
   "cell_type": "code",
   "execution_count": 36,
   "metadata": {
    "gradient": {},
    "id": "QlZiAB3-jKxV",
    "outputId": "a60ae704-0424-46f8-bee2-c49257183f35"
   },
   "outputs": [
    {
     "name": "stdout",
     "output_type": "stream",
     "text": [
      "Processing epoch 0\n",
      "Processing epoch 1\n",
      "Processing epoch 2\n",
      "Processing epoch 3\n",
      "Processing epoch 4\n",
      "Processing epoch 5\n",
      "Processing epoch 6\n",
      "Processing epoch 7\n",
      "Processing epoch 8\n",
      "Processing epoch 9\n",
      "Processing epoch 10\n",
      "Processing epoch 11\n",
      "Processing epoch 12\n",
      "Processing epoch 13\n",
      "Processing epoch 14\n",
      "Processing epoch 15\n",
      "Processing epoch 16\n",
      "Processing epoch 17\n",
      "Processing epoch 18\n",
      "Processing epoch 19\n",
      "RMSE: 0.8182\n",
      "MAE:  0.6200\n",
      "CPU times: user 11min 21s, sys: 439 ms, total: 11min 21s\n",
      "Wall time: 11min 21s\n"
     ]
    },
    {
     "data": {
      "text/plain": [
       "0.6200475090398871"
      ]
     },
     "execution_count": 36,
     "metadata": {},
     "output_type": "execute_result"
    }
   ],
   "source": [
    "%%time\n",
    "algo = SVD(verbose=True)\n",
    "# Train the algorithm on the trainset, and predict ratings for the testset\n",
    "algo.fit(trainset)\n",
    "predictions = algo.test(testset)\n",
    "\n",
    "# Compute RMSE\n",
    "accuracy.rmse(predictions)\n",
    "accuracy.mae(predictions)"
   ]
  },
  {
   "cell_type": "code",
   "execution_count": 37,
   "metadata": {
    "gradient": {}
   },
   "outputs": [],
   "source": [
    "gc.collect()\n",
    "del algo\n",
    "sleep(10)"
   ]
  },
  {
   "cell_type": "code",
   "execution_count": 38,
   "metadata": {
    "gradient": {},
    "id": "s_HCqeKSt-sd",
    "outputId": "658cdf05-e173-403b-bd36-b9981c8793a5"
   },
   "outputs": [
    {
     "name": "stdout",
     "output_type": "stream",
     "text": [
      "Processing epoch 0\n",
      "Processing epoch 1\n",
      "Processing epoch 2\n",
      "Processing epoch 3\n",
      "Processing epoch 4\n",
      "Processing epoch 5\n",
      "Processing epoch 6\n",
      "Processing epoch 7\n",
      "Processing epoch 8\n",
      "Processing epoch 9\n",
      "Processing epoch 10\n",
      "Processing epoch 11\n",
      "Processing epoch 12\n",
      "Processing epoch 13\n",
      "Processing epoch 14\n",
      "Processing epoch 15\n",
      "RMSE: 0.8028\n",
      "MAE:  0.6050\n",
      "CPU times: user 16min 5s, sys: 882 ms, total: 16min 6s\n",
      "Wall time: 16min 5s\n"
     ]
    },
    {
     "data": {
      "text/plain": [
       "0.6050337130095826"
      ]
     },
     "execution_count": 38,
     "metadata": {},
     "output_type": "execute_result"
    }
   ],
   "source": [
    "%%time\n",
    "algo = SVD(random_state = 1, n_epochs= 16, verbose=True, n_factors =220, lr_all = 0.016, reg_all =0.02, \n",
    "           init_std_dev = 0.005, init_mean = -0.037)\n",
    "# Train the algorithm on the trainset, and predict ratings for the testset\n",
    "algo.fit(trainset)\n",
    "predictions = algo.test(testset)\n",
    "\n",
    "# Compute RMSE\n",
    "accuracy.rmse(predictions) # rmse: 0.8101      5min 29s\n",
    "accuracy.mae(predictions)"
   ]
  },
  {
   "cell_type": "code",
   "execution_count": 39,
   "metadata": {
    "gradient": {}
   },
   "outputs": [],
   "source": [
    "gc.collect()\n",
    "del algo, trainset, testset, \n",
    "sleep(10)"
   ]
  },
  {
   "cell_type": "code",
   "execution_count": null,
   "metadata": {
    "gradient": {},
    "id": "4RFfsRSlKc2F",
    "outputId": "ff4c6e03-76f1-4610-dc50-673bbcdfc702"
   },
   "outputs": [],
   "source": [
    "#trainset = data.build_full_trainset()\n",
    "#algo = SVD(random_state = 1, n_epochs= 16, verbose=True, n_factors =220, lr_all = 0.016, reg_all =0.02, init_std_dev = 0.005, init_mean = -0.037)\n",
    "#algo.fit(trainset)"
   ]
  },
  {
   "cell_type": "markdown",
   "metadata": {
    "id": "FwWQnppEKc2G"
   },
   "source": [
    "#### SVD (LibRecommender package)"
   ]
  },
  {
   "cell_type": "code",
   "execution_count": 70,
   "metadata": {
    "gradient": {},
    "id": "2abYRaqOKc2G",
    "outputId": "4d33eb28-0ca8-43d7-9d6e-74d139c5b76f"
   },
   "outputs": [
    {
     "name": "stdout",
     "output_type": "stream",
     "text": [
      "n_users: 160834, n_items: 13036, data sparsity: 0.4650 %\n",
      "CPU times: user 29.4 s, sys: 2.13 s, total: 31.6 s\n",
      "Wall time: 31.5 s\n"
     ]
    }
   ],
   "source": [
    "%%time\n",
    "data = df_train.copy()\n",
    "data.rename(columns={'userId':'user', 'movieId':'item','rating':'label', \n",
    "                               'timestamp':'time'}, inplace=True)\n",
    "\n",
    "# split whole data into three folds for training, evaluating and testing\n",
    "train_data, eval_data, test_data = random_split(data, multi_ratios=[0.99, 0.005, 0.005])\n",
    "\n",
    "train_data, data_info = DatasetPure.build_trainset(train_data)\n",
    "eval_data = DatasetPure.build_evalset(eval_data)\n",
    "test_data = DatasetPure.build_testset(test_data)\n",
    "print(data_info)"
   ]
  },
  {
   "cell_type": "code",
   "execution_count": 71,
   "metadata": {
    "gradient": {},
    "id": "jkHCItyaKc2G"
   },
   "outputs": [],
   "source": [
    "def reset_state(name):\n",
    "    tf.compat.v1.reset_default_graph()\n",
    "    print(\"\\n\", \"=\" * 30, name, \"=\" * 30)"
   ]
  },
  {
   "cell_type": "code",
   "execution_count": 42,
   "metadata": {
    "gradient": {},
    "id": "WKJD4S4MXkqd",
    "outputId": "0a8d744c-5028-48a3-8ab5-69e8396d53bf"
   },
   "outputs": [
    {
     "name": "stdout",
     "output_type": "stream",
     "text": [
      "\n",
      " ============================== libSVD ==============================\n",
      "Training start time: \u001b[35m2021-07-12 23:02:59\u001b[0m\n"
     ]
    },
    {
     "name": "stderr",
     "output_type": "stream",
     "text": [
      "train: 100%|██████████| 976/976 [00:06<00:00, 142.53it/s]\n"
     ]
    },
    {
     "name": "stdout",
     "output_type": "stream",
     "text": [
      "Epoch 1 elapsed: 11.867s\n",
      "\t \u001b[32mtrain_loss: 0.7915\u001b[0m\n"
     ]
    },
    {
     "name": "stderr",
     "output_type": "stream",
     "text": [
      "eval_pred: 100%|██████████| 7/7 [00:00<00:00, 512.04it/s]\n"
     ]
    },
    {
     "name": "stdout",
     "output_type": "stream",
     "text": [
      "\t eval rmse: 0.8337\n",
      "\t eval mae: 0.6342\n",
      "\t eval r2: 0.3812\n",
      "==============================\n"
     ]
    },
    {
     "name": "stderr",
     "output_type": "stream",
     "text": [
      "train: 100%|██████████| 976/976 [00:06<00:00, 144.41it/s]\n"
     ]
    },
    {
     "name": "stdout",
     "output_type": "stream",
     "text": [
      "Epoch 2 elapsed: 11.700s\n",
      "\t \u001b[32mtrain_loss: 0.6425\u001b[0m\n"
     ]
    },
    {
     "name": "stderr",
     "output_type": "stream",
     "text": [
      "eval_pred: 100%|██████████| 7/7 [00:00<00:00, 500.05it/s]\n"
     ]
    },
    {
     "name": "stdout",
     "output_type": "stream",
     "text": [
      "\t eval rmse: 0.8182\n",
      "\t eval mae: 0.6217\n",
      "\t eval r2: 0.4040\n",
      "==============================\n"
     ]
    },
    {
     "name": "stderr",
     "output_type": "stream",
     "text": [
      "train: 100%|██████████| 976/976 [00:06<00:00, 145.11it/s]\n"
     ]
    },
    {
     "name": "stdout",
     "output_type": "stream",
     "text": [
      "Epoch 3 elapsed: 11.782s\n",
      "\t \u001b[32mtrain_loss: 0.5945\u001b[0m\n"
     ]
    },
    {
     "name": "stderr",
     "output_type": "stream",
     "text": [
      "eval_pred: 100%|██████████| 7/7 [00:00<00:00, 480.92it/s]\n"
     ]
    },
    {
     "name": "stdout",
     "output_type": "stream",
     "text": [
      "\t eval rmse: 0.8162\n",
      "\t eval mae: 0.6198\n",
      "\t eval r2: 0.4069\n",
      "==============================\n"
     ]
    },
    {
     "name": "stderr",
     "output_type": "stream",
     "text": [
      "eval_pred: 100%|██████████| 7/7 [00:00<00:00, 464.05it/s]\n"
     ]
    },
    {
     "name": "stdout",
     "output_type": "stream",
     "text": [
      "evaluate_result:  {'rmse': 0.8137771024383709, 'mae': 0.616514382066739}\n",
      "CPU times: user 1min 45s, sys: 6.32 s, total: 1min 51s\n",
      "Wall time: 37 s\n"
     ]
    }
   ],
   "source": [
    "%%time\n",
    "reset_state('libSVD')\n",
    "svd_lib = libSVD(task=\"rating\", data_info=data_info, embed_size=8, n_epochs=3, lr=0.005,batch_size=10000, \n",
    "                 batch_sampling=True)  # embed_size=8, n_epochs=3, lr=0.005,batch_size=10000\n",
    "# monitor metrics on eval_data during training\n",
    "svd_lib.fit(train_data, verbose=2, eval_data=eval_data, metrics=[\"rmse\", \"mae\", \"r2\"])\n",
    "\n",
    "# do final evaluation on test data\n",
    "print(\"evaluate_result: \", evaluate(model=svd_lib, data=test_data,\n",
    "                                    metrics=[\"rmse\", \"mae\"]))"
   ]
  },
  {
   "cell_type": "code",
   "execution_count": 43,
   "metadata": {
    "gradient": {}
   },
   "outputs": [
    {
     "name": "stdout",
     "output_type": "stream",
     "text": [
      "prediction:  [4.356262]\n",
      "recommendation:  [(86345, 5.0126114), (143511, 5.0124683), (296, 4.9253125), (160289, 4.9095993), (118888, 4.8955703)]\n"
     ]
    },
    {
     "data": {
      "text/plain": [
       "array([4.356262 , 3.0760856, 4.447539 , 4.4829307, 3.5870876, 4.294245 ,\n",
       "       3.9488153, 4.017835 , 4.463873 , 3.815593 ], dtype=float32)"
      ]
     },
     "execution_count": 43,
     "metadata": {},
     "output_type": "execute_result"
    }
   ],
   "source": [
    "print(\"prediction: \", svd_lib.predict(user=5163, item=57669))\n",
    "print(\"recommendation: \", svd_lib.recommend_user(user=5163, n_rec=5))\n",
    "svd_lib.predict(df_train['userId'][:10], df_train['movieId'][:10])"
   ]
  },
  {
   "cell_type": "code",
   "execution_count": 44,
   "metadata": {
    "gradient": {}
   },
   "outputs": [],
   "source": [
    "gc.collect()\n",
    "del data, svd_lib\n",
    "sleep(10)"
   ]
  },
  {
   "cell_type": "markdown",
   "metadata": {
    "id": "4fK-IwqIVrwJ"
   },
   "source": [
    "SVDpp from Librecommender"
   ]
  },
  {
   "cell_type": "code",
   "execution_count": 72,
   "metadata": {
    "gradient": {},
    "id": "pj5KYJeDKc2G",
    "outputId": "d573f996-2b1a-4c71-d00c-8dd43c6fb6e9"
   },
   "outputs": [
    {
     "name": "stdout",
     "output_type": "stream",
     "text": [
      "\n",
      " ============================== SVDpp ==============================\n",
      "Training start time: \u001b[35m2021-07-13 00:37:42\u001b[0m\n"
     ]
    },
    {
     "name": "stderr",
     "output_type": "stream",
     "text": [
      "train: 100%|██████████| 976/976 [15:35<00:00,  1.04it/s]\n"
     ]
    },
    {
     "name": "stdout",
     "output_type": "stream",
     "text": [
      "Epoch 1 elapsed: 941.896s\n",
      "\t \u001b[32mtrain_loss: 0.7369\u001b[0m\n"
     ]
    },
    {
     "name": "stderr",
     "output_type": "stream",
     "text": [
      "eval_pred: 100%|██████████| 7/7 [00:00<00:00, 414.35it/s]\n"
     ]
    },
    {
     "name": "stdout",
     "output_type": "stream",
     "text": [
      "\t eval rmse: 0.8118\n",
      "\t eval mae: 0.6175\n",
      "\t eval r2: 0.4133\n",
      "==============================\n"
     ]
    },
    {
     "name": "stderr",
     "output_type": "stream",
     "text": [
      "train: 100%|██████████| 976/976 [15:41<00:00,  1.04it/s]\n"
     ]
    },
    {
     "name": "stdout",
     "output_type": "stream",
     "text": [
      "Epoch 2 elapsed: 947.863s\n",
      "\t \u001b[32mtrain_loss: 0.5991\u001b[0m\n"
     ]
    },
    {
     "name": "stderr",
     "output_type": "stream",
     "text": [
      "eval_pred: 100%|██████████| 7/7 [00:00<00:00, 439.98it/s]\n"
     ]
    },
    {
     "name": "stdout",
     "output_type": "stream",
     "text": [
      "\t eval rmse: 0.8002\n",
      "\t eval mae: 0.6077\n",
      "\t eval r2: 0.4299\n",
      "==============================\n"
     ]
    },
    {
     "name": "stderr",
     "output_type": "stream",
     "text": [
      "train: 100%|██████████| 976/976 [15:36<00:00,  1.04it/s]\n"
     ]
    },
    {
     "name": "stdout",
     "output_type": "stream",
     "text": [
      "Epoch 3 elapsed: 943.085s\n",
      "\t \u001b[32mtrain_loss: 0.5405\u001b[0m\n"
     ]
    },
    {
     "name": "stderr",
     "output_type": "stream",
     "text": [
      "eval_pred: 100%|██████████| 7/7 [00:00<00:00, 473.76it/s]\n"
     ]
    },
    {
     "name": "stdout",
     "output_type": "stream",
     "text": [
      "\t eval rmse: 0.8044\n",
      "\t eval mae: 0.6100\n",
      "\t eval r2: 0.4240\n",
      "==============================\n"
     ]
    },
    {
     "name": "stderr",
     "output_type": "stream",
     "text": [
      "eval_pred: 100%|██████████| 7/7 [00:00<00:00, 470.79it/s]"
     ]
    },
    {
     "name": "stdout",
     "output_type": "stream",
     "text": [
      "evaluate_result:  {'rmse': 0.7995931212640899, 'mae': 0.6051560321468874}\n",
      "CPU times: user 1h 2min 3s, sys: 13min 56s, total: 1h 16min\n",
      "Wall time: 47min 24s\n"
     ]
    },
    {
     "name": "stderr",
     "output_type": "stream",
     "text": [
      "\n"
     ]
    }
   ],
   "source": [
    "%%time\n",
    "reset_state('SVDpp')\n",
    "svdpp = SVDpp(task=\"rating\", data_info=data_info, embed_size=16, n_epochs=2, lr=0.005,batch_size=10000,\n",
    "              batch_sampling=True)  # embed_size=16, n_epochs=2, lr=0.005,batch_size=10000\n",
    "# monitor metrics on eval_data during training\n",
    "svdpp.fit(train_data, verbose=2, eval_data=eval_data, metrics=[\"rmse\", \"mae\", \"r2\"])\n",
    "\n",
    "# do final evaluation on test data\n",
    "print(\"evaluate_result: \", evaluate(model=svdpp, data=test_data,\n",
    "                                    metrics=[\"rmse\", \"mae\"]))"
   ]
  },
  {
   "cell_type": "code",
   "execution_count": 46,
   "metadata": {
    "gradient": {}
   },
   "outputs": [
    {
     "name": "stdout",
     "output_type": "stream",
     "text": [
      "prediction:  [4.2640405]\n",
      "recommendation:  [(141826, 4.854715), (127098, 4.8520575), (1196, 4.802204), (296, 4.7998724), (86345, 4.78571)]\n"
     ]
    },
    {
     "data": {
      "text/plain": [
       "array([4.2640405, 2.957478 , 4.092132 , 4.558829 , 3.354058 , 4.2632527,\n",
       "       4.021072 , 3.9542356, 4.283123 , 4.5577803], dtype=float32)"
      ]
     },
     "execution_count": 46,
     "metadata": {},
     "output_type": "execute_result"
    }
   ],
   "source": [
    "print(\"prediction: \", svdpp.predict(user=5163, item=57669))\n",
    "print(\"recommendation: \", svdpp.recommend_user(user=5163, n_rec=5))\n",
    "svdpp.predict(df_train['userId'][:10], df_train['movieId'][:10])"
   ]
  },
  {
   "cell_type": "code",
   "execution_count": 73,
   "metadata": {
    "gradient": {}
   },
   "outputs": [],
   "source": [
    "gc.collect()\n",
    "del svdpp, train_data, data_info, eval_data, test_data\n",
    "sleep(10)"
   ]
  },
  {
   "cell_type": "markdown",
   "metadata": {
    "id": "hjZSzPYjVkh1"
   },
   "source": [
    "Train SVDpp on full dataset"
   ]
  },
  {
   "cell_type": "code",
   "execution_count": null,
   "metadata": {
    "gradient": {},
    "id": "jurAZ-9oKc2H"
   },
   "outputs": [],
   "source": [
    "# data = pd.read_csv(root_path + 'train.csv', header=0, names = [\"user\", \"item\", \"label\", \"time\"])\n",
    "# train_data, data_info = DatasetPure.build_trainset(data)\n",
    "\n",
    "# reset_state('SVDpp')\n",
    "# svdpp = SVDpp(task=\"rating\", data_info=data_info, embed_size=16, n_epochs=2, lr=0.005,batch_size=10000, batch_sampling=True)\n",
    "# svdpp.fit(train_data, verbose=2)"
   ]
  },
  {
   "cell_type": "markdown",
   "metadata": {
    "id": "_lRUtrfYWMjn"
   },
   "source": [
    "Save SVDpp model"
   ]
  },
  {
   "cell_type": "code",
   "execution_count": null,
   "metadata": {
    "gradient": {},
    "id": "H8NbFKUCnE7y"
   },
   "outputs": [],
   "source": [
    "\"\"\"\n",
    "data_info.save(path=\"SVDpp_model_path\")\n",
    "svdpp.save(path=\"SVDpp_model_path\", model_name=\"svdpp_model\", manual=True,\n",
    "                inference_only=False)\n",
    "\"\"\""
   ]
  },
  {
   "cell_type": "code",
   "execution_count": null,
   "metadata": {
    "gradient": {},
    "id": "5Vu-KxHVnRKY"
   },
   "outputs": [],
   "source": [
    "\"\"\"\n",
    "tf.compat.v1.reset_default_graph()\n",
    "data_info = DataInfo.load(\"SVDpp_model_path\")\n",
    "\n",
    "svdpp_loaded = SVDpp(task=\"rating\", data_info=data_info, embed_size=16, n_epochs=2, \n",
    "                                                lr=0.005,batch_size=10000, batch_sampling=True)\n",
    "\n",
    "data = pd.read_csv(root_path + 'train.csv', header=0, names = [\"user\", \"item\", \"label\", \"time\"])\n",
    "train_data, eval_data, test_data = random_split(data, multi_ratios=[0.99, 0.005, 0.005])\n",
    "train_data, data_info = DatasetPure.build_trainset(train_data)\n",
    "svdpp_loaded.rebuild_graph(path=\"SVDpp_model_path\", model_name=\"svdpp_model\",\n",
    "                        full_assign=True, train_data=train_data)\n",
    "\"\"\""
   ]
  },
  {
   "cell_type": "code",
   "execution_count": null,
   "metadata": {
    "gradient": {},
    "id": "fXWgl8nzQC5H"
   },
   "outputs": [],
   "source": [
    "#svdpp_loaded.predict(df_train['userId'][:10], df_train['movieId'][:10])"
   ]
  },
  {
   "cell_type": "markdown",
   "metadata": {
    "id": "l7xyKU9Uhzzm"
   },
   "source": [
    "### Hybrid Models"
   ]
  },
  {
   "cell_type": "code",
   "execution_count": 74,
   "metadata": {
    "execution": {
     "iopub.execute_input": "2021-07-12T22:05:23.458629Z",
     "iopub.status.busy": "2021-07-12T22:05:23.458247Z",
     "iopub.status.idle": "2021-07-12T22:05:33.419663Z",
     "shell.execute_reply": "2021-07-12T22:05:33.418261Z",
     "shell.execute_reply.started": "2021-07-12T22:05:23.458590Z"
    },
    "gradient": {},
    "id": "Se9n7fokiZPy",
    "outputId": "36da6e84-6653-46af-b127-db3ee25b4082"
   },
   "outputs": [
    {
     "name": "stdout",
     "output_type": "stream",
     "text": [
      "(9848791, 44)\n",
      "CPU times: user 10.7 s, sys: 4.37 s, total: 15 s\n",
      "Wall time: 14.9 s\n"
     ]
    }
   ],
   "source": [
    "%%time\n",
    "mergeded_train = df_train.copy()\n",
    "mergeded_train = pd.merge(mergeded_train, genre_encode,on= 'movieId', how='left')\n",
    "mergeded_train = pd.merge(mergeded_train, cast_encode, on= 'movieId', how='left')\n",
    "print(mergeded_train.shape)"
   ]
  },
  {
   "cell_type": "code",
   "execution_count": 75,
   "metadata": {
    "execution": {
     "iopub.execute_input": "2021-07-12T22:05:33.421926Z",
     "iopub.status.busy": "2021-07-12T22:05:33.421498Z",
     "iopub.status.idle": "2021-07-12T22:05:43.631931Z",
     "shell.execute_reply": "2021-07-12T22:05:43.630668Z",
     "shell.execute_reply.started": "2021-07-12T22:05:33.421882Z"
    },
    "gradient": {}
   },
   "outputs": [],
   "source": [
    "gc.collect()\n",
    "del genre_encode, cast_encode\n",
    "sleep(10)"
   ]
  },
  {
   "cell_type": "code",
   "execution_count": 76,
   "metadata": {
    "execution": {
     "iopub.execute_input": "2021-07-12T22:05:43.633707Z",
     "iopub.status.busy": "2021-07-12T22:05:43.633372Z",
     "iopub.status.idle": "2021-07-12T22:09:00.666405Z",
     "shell.execute_reply": "2021-07-12T22:09:00.665181Z",
     "shell.execute_reply.started": "2021-07-12T22:05:43.633676Z"
    },
    "gradient": {},
    "id": "jCICZACml9Ja",
    "outputId": "078871a8-e83b-4bd1-863d-a85936301d09"
   },
   "outputs": [
    {
     "name": "stdout",
     "output_type": "stream",
     "text": [
      "CPU times: user 2min 26s, sys: 23.8 s, total: 2min 50s\n",
      "Wall time: 2min 47s\n"
     ]
    },
    {
     "data": {
      "text/html": [
       "<div>\n",
       "<style scoped>\n",
       "    .dataframe tbody tr th:only-of-type {\n",
       "        vertical-align: middle;\n",
       "    }\n",
       "\n",
       "    .dataframe tbody tr th {\n",
       "        vertical-align: top;\n",
       "    }\n",
       "\n",
       "    .dataframe thead th {\n",
       "        text-align: right;\n",
       "    }\n",
       "</style>\n",
       "<table border=\"1\" class=\"dataframe\">\n",
       "  <thead>\n",
       "    <tr style=\"text-align: right;\">\n",
       "      <th></th>\n",
       "      <th>userId</th>\n",
       "      <th>movieId</th>\n",
       "      <th>rating</th>\n",
       "      <th>timestamp</th>\n",
       "      <th>Adventure</th>\n",
       "      <th>Animation</th>\n",
       "      <th>Children</th>\n",
       "      <th>Comedy</th>\n",
       "      <th>Fantasy</th>\n",
       "      <th>Romance</th>\n",
       "      <th>Drama</th>\n",
       "      <th>Action</th>\n",
       "      <th>Crime</th>\n",
       "      <th>Thriller</th>\n",
       "      <th>Horror</th>\n",
       "      <th>Mystery</th>\n",
       "      <th>Sci-Fi</th>\n",
       "      <th>IMAX</th>\n",
       "      <th>Documentary</th>\n",
       "      <th>War</th>\n",
       "      <th>Musical</th>\n",
       "      <th>Western</th>\n",
       "      <th>Film-Noir</th>\n",
       "      <th>(no genres listed)</th>\n",
       "      <th>Samuel L. Jackson</th>\n",
       "      <th>Steve Buscemi</th>\n",
       "      <th>Keith David</th>\n",
       "      <th>Willem Dafoe</th>\n",
       "      <th>Robert De Niro</th>\n",
       "      <th>Gérard Depardieu</th>\n",
       "      <th>Brian Cox</th>\n",
       "      <th>Christopher Walken</th>\n",
       "      <th>Danny Glover</th>\n",
       "      <th>Bruce Willis</th>\n",
       "      <th>Morgan Freeman</th>\n",
       "      <th>Alec Baldwin</th>\n",
       "      <th>Nicolas Cage</th>\n",
       "      <th>Peter Stormare</th>\n",
       "      <th>Susan Sarandon</th>\n",
       "      <th>Julianne Moore</th>\n",
       "      <th>Stanley Tucci</th>\n",
       "      <th>Richard Jenkins</th>\n",
       "      <th>John Goodman</th>\n",
       "      <th>Stellan Skarsgård</th>\n",
       "      <th>runtime</th>\n",
       "      <th>budget</th>\n",
       "    </tr>\n",
       "  </thead>\n",
       "  <tbody>\n",
       "    <tr>\n",
       "      <th>0</th>\n",
       "      <td>5163</td>\n",
       "      <td>57669</td>\n",
       "      <td>4.0</td>\n",
       "      <td>1518349992</td>\n",
       "      <td>0</td>\n",
       "      <td>0</td>\n",
       "      <td>0</td>\n",
       "      <td>1</td>\n",
       "      <td>0</td>\n",
       "      <td>0</td>\n",
       "      <td>1</td>\n",
       "      <td>0</td>\n",
       "      <td>1</td>\n",
       "      <td>1</td>\n",
       "      <td>0</td>\n",
       "      <td>0</td>\n",
       "      <td>0</td>\n",
       "      <td>0</td>\n",
       "      <td>0</td>\n",
       "      <td>0</td>\n",
       "      <td>0</td>\n",
       "      <td>0</td>\n",
       "      <td>0</td>\n",
       "      <td>0</td>\n",
       "      <td>0</td>\n",
       "      <td>0</td>\n",
       "      <td>0</td>\n",
       "      <td>0</td>\n",
       "      <td>0</td>\n",
       "      <td>0</td>\n",
       "      <td>0</td>\n",
       "      <td>0</td>\n",
       "      <td>0</td>\n",
       "      <td>0</td>\n",
       "      <td>0</td>\n",
       "      <td>0</td>\n",
       "      <td>0</td>\n",
       "      <td>0</td>\n",
       "      <td>0</td>\n",
       "      <td>0</td>\n",
       "      <td>0</td>\n",
       "      <td>0</td>\n",
       "      <td>0</td>\n",
       "      <td>0</td>\n",
       "      <td>107.0</td>\n",
       "      <td>15000000</td>\n",
       "    </tr>\n",
       "    <tr>\n",
       "      <th>1</th>\n",
       "      <td>87388</td>\n",
       "      <td>57669</td>\n",
       "      <td>3.5</td>\n",
       "      <td>1237455297</td>\n",
       "      <td>0</td>\n",
       "      <td>0</td>\n",
       "      <td>0</td>\n",
       "      <td>1</td>\n",
       "      <td>0</td>\n",
       "      <td>0</td>\n",
       "      <td>1</td>\n",
       "      <td>0</td>\n",
       "      <td>1</td>\n",
       "      <td>1</td>\n",
       "      <td>0</td>\n",
       "      <td>0</td>\n",
       "      <td>0</td>\n",
       "      <td>0</td>\n",
       "      <td>0</td>\n",
       "      <td>0</td>\n",
       "      <td>0</td>\n",
       "      <td>0</td>\n",
       "      <td>0</td>\n",
       "      <td>0</td>\n",
       "      <td>0</td>\n",
       "      <td>0</td>\n",
       "      <td>0</td>\n",
       "      <td>0</td>\n",
       "      <td>0</td>\n",
       "      <td>0</td>\n",
       "      <td>0</td>\n",
       "      <td>0</td>\n",
       "      <td>0</td>\n",
       "      <td>0</td>\n",
       "      <td>0</td>\n",
       "      <td>0</td>\n",
       "      <td>0</td>\n",
       "      <td>0</td>\n",
       "      <td>0</td>\n",
       "      <td>0</td>\n",
       "      <td>0</td>\n",
       "      <td>0</td>\n",
       "      <td>0</td>\n",
       "      <td>0</td>\n",
       "      <td>107.0</td>\n",
       "      <td>15000000</td>\n",
       "    </tr>\n",
       "    <tr>\n",
       "      <th>2</th>\n",
       "      <td>137050</td>\n",
       "      <td>57669</td>\n",
       "      <td>4.0</td>\n",
       "      <td>1425631854</td>\n",
       "      <td>0</td>\n",
       "      <td>0</td>\n",
       "      <td>0</td>\n",
       "      <td>1</td>\n",
       "      <td>0</td>\n",
       "      <td>0</td>\n",
       "      <td>1</td>\n",
       "      <td>0</td>\n",
       "      <td>1</td>\n",
       "      <td>1</td>\n",
       "      <td>0</td>\n",
       "      <td>0</td>\n",
       "      <td>0</td>\n",
       "      <td>0</td>\n",
       "      <td>0</td>\n",
       "      <td>0</td>\n",
       "      <td>0</td>\n",
       "      <td>0</td>\n",
       "      <td>0</td>\n",
       "      <td>0</td>\n",
       "      <td>0</td>\n",
       "      <td>0</td>\n",
       "      <td>0</td>\n",
       "      <td>0</td>\n",
       "      <td>0</td>\n",
       "      <td>0</td>\n",
       "      <td>0</td>\n",
       "      <td>0</td>\n",
       "      <td>0</td>\n",
       "      <td>0</td>\n",
       "      <td>0</td>\n",
       "      <td>0</td>\n",
       "      <td>0</td>\n",
       "      <td>0</td>\n",
       "      <td>0</td>\n",
       "      <td>0</td>\n",
       "      <td>0</td>\n",
       "      <td>0</td>\n",
       "      <td>0</td>\n",
       "      <td>0</td>\n",
       "      <td>107.0</td>\n",
       "      <td>15000000</td>\n",
       "    </tr>\n",
       "    <tr>\n",
       "      <th>3</th>\n",
       "      <td>120490</td>\n",
       "      <td>57669</td>\n",
       "      <td>4.5</td>\n",
       "      <td>1408228517</td>\n",
       "      <td>0</td>\n",
       "      <td>0</td>\n",
       "      <td>0</td>\n",
       "      <td>1</td>\n",
       "      <td>0</td>\n",
       "      <td>0</td>\n",
       "      <td>1</td>\n",
       "      <td>0</td>\n",
       "      <td>1</td>\n",
       "      <td>1</td>\n",
       "      <td>0</td>\n",
       "      <td>0</td>\n",
       "      <td>0</td>\n",
       "      <td>0</td>\n",
       "      <td>0</td>\n",
       "      <td>0</td>\n",
       "      <td>0</td>\n",
       "      <td>0</td>\n",
       "      <td>0</td>\n",
       "      <td>0</td>\n",
       "      <td>0</td>\n",
       "      <td>0</td>\n",
       "      <td>0</td>\n",
       "      <td>0</td>\n",
       "      <td>0</td>\n",
       "      <td>0</td>\n",
       "      <td>0</td>\n",
       "      <td>0</td>\n",
       "      <td>0</td>\n",
       "      <td>0</td>\n",
       "      <td>0</td>\n",
       "      <td>0</td>\n",
       "      <td>0</td>\n",
       "      <td>0</td>\n",
       "      <td>0</td>\n",
       "      <td>0</td>\n",
       "      <td>0</td>\n",
       "      <td>0</td>\n",
       "      <td>0</td>\n",
       "      <td>0</td>\n",
       "      <td>107.0</td>\n",
       "      <td>15000000</td>\n",
       "    </tr>\n",
       "    <tr>\n",
       "      <th>4</th>\n",
       "      <td>50616</td>\n",
       "      <td>57669</td>\n",
       "      <td>4.5</td>\n",
       "      <td>1446941640</td>\n",
       "      <td>0</td>\n",
       "      <td>0</td>\n",
       "      <td>0</td>\n",
       "      <td>1</td>\n",
       "      <td>0</td>\n",
       "      <td>0</td>\n",
       "      <td>1</td>\n",
       "      <td>0</td>\n",
       "      <td>1</td>\n",
       "      <td>1</td>\n",
       "      <td>0</td>\n",
       "      <td>0</td>\n",
       "      <td>0</td>\n",
       "      <td>0</td>\n",
       "      <td>0</td>\n",
       "      <td>0</td>\n",
       "      <td>0</td>\n",
       "      <td>0</td>\n",
       "      <td>0</td>\n",
       "      <td>0</td>\n",
       "      <td>0</td>\n",
       "      <td>0</td>\n",
       "      <td>0</td>\n",
       "      <td>0</td>\n",
       "      <td>0</td>\n",
       "      <td>0</td>\n",
       "      <td>0</td>\n",
       "      <td>0</td>\n",
       "      <td>0</td>\n",
       "      <td>0</td>\n",
       "      <td>0</td>\n",
       "      <td>0</td>\n",
       "      <td>0</td>\n",
       "      <td>0</td>\n",
       "      <td>0</td>\n",
       "      <td>0</td>\n",
       "      <td>0</td>\n",
       "      <td>0</td>\n",
       "      <td>0</td>\n",
       "      <td>0</td>\n",
       "      <td>107.0</td>\n",
       "      <td>15000000</td>\n",
       "    </tr>\n",
       "  </tbody>\n",
       "</table>\n",
       "</div>"
      ],
      "text/plain": [
       "   userId  movieId  rating   timestamp  Adventure  Animation  Children  \\\n",
       "0    5163    57669     4.0  1518349992          0          0         0   \n",
       "1   87388    57669     3.5  1237455297          0          0         0   \n",
       "2  137050    57669     4.0  1425631854          0          0         0   \n",
       "3  120490    57669     4.5  1408228517          0          0         0   \n",
       "4   50616    57669     4.5  1446941640          0          0         0   \n",
       "\n",
       "   Comedy  Fantasy  Romance  Drama  Action  Crime  Thriller  Horror  Mystery  \\\n",
       "0       1        0        0      1       0      1         1       0        0   \n",
       "1       1        0        0      1       0      1         1       0        0   \n",
       "2       1        0        0      1       0      1         1       0        0   \n",
       "3       1        0        0      1       0      1         1       0        0   \n",
       "4       1        0        0      1       0      1         1       0        0   \n",
       "\n",
       "   Sci-Fi  IMAX  Documentary  War  Musical  Western  Film-Noir  \\\n",
       "0       0     0            0    0        0        0          0   \n",
       "1       0     0            0    0        0        0          0   \n",
       "2       0     0            0    0        0        0          0   \n",
       "3       0     0            0    0        0        0          0   \n",
       "4       0     0            0    0        0        0          0   \n",
       "\n",
       "   (no genres listed)  Samuel L. Jackson  Steve Buscemi  Keith David  \\\n",
       "0                   0                  0              0            0   \n",
       "1                   0                  0              0            0   \n",
       "2                   0                  0              0            0   \n",
       "3                   0                  0              0            0   \n",
       "4                   0                  0              0            0   \n",
       "\n",
       "   Willem Dafoe  Robert De Niro  Gérard Depardieu  Brian Cox  \\\n",
       "0             0               0                 0          0   \n",
       "1             0               0                 0          0   \n",
       "2             0               0                 0          0   \n",
       "3             0               0                 0          0   \n",
       "4             0               0                 0          0   \n",
       "\n",
       "   Christopher Walken  Danny Glover  Bruce Willis  Morgan Freeman  \\\n",
       "0                   0             0             0               0   \n",
       "1                   0             0             0               0   \n",
       "2                   0             0             0               0   \n",
       "3                   0             0             0               0   \n",
       "4                   0             0             0               0   \n",
       "\n",
       "   Alec Baldwin  Nicolas Cage  Peter Stormare  Susan Sarandon  Julianne Moore  \\\n",
       "0             0             0               0               0               0   \n",
       "1             0             0               0               0               0   \n",
       "2             0             0               0               0               0   \n",
       "3             0             0               0               0               0   \n",
       "4             0             0               0               0               0   \n",
       "\n",
       "   Stanley Tucci  Richard Jenkins  John Goodman  Stellan Skarsgård  runtime  \\\n",
       "0              0                0             0                  0    107.0   \n",
       "1              0                0             0                  0    107.0   \n",
       "2              0                0             0                  0    107.0   \n",
       "3              0                0             0                  0    107.0   \n",
       "4              0                0             0                  0    107.0   \n",
       "\n",
       "     budget  \n",
       "0  15000000  \n",
       "1  15000000  \n",
       "2  15000000  \n",
       "3  15000000  \n",
       "4  15000000  "
      ]
     },
     "execution_count": 76,
     "metadata": {},
     "output_type": "execute_result"
    }
   ],
   "source": [
    "%%time\n",
    "mergeded_train = pd.merge(mergeded_train, df_imdb[['movieId', 'runtime', \n",
    "                                                   'budget']], on= 'movieId').fillna(0)\n",
    "mergeded_train.head()"
   ]
  },
  {
   "cell_type": "code",
   "execution_count": 77,
   "metadata": {
    "execution": {
     "iopub.execute_input": "2021-07-12T22:09:00.668343Z",
     "iopub.status.busy": "2021-07-12T22:09:00.668008Z",
     "iopub.status.idle": "2021-07-12T22:09:00.674521Z",
     "shell.execute_reply": "2021-07-12T22:09:00.673303Z",
     "shell.execute_reply.started": "2021-07-12T22:09:00.668309Z"
    },
    "gradient": {},
    "id": "K1DipdeVi1O_",
    "outputId": "20cf672c-a9e3-4187-823f-8d9bcd041868"
   },
   "outputs": [
    {
     "name": "stdout",
     "output_type": "stream",
     "text": [
      "['Adventure', 'Animation', 'Children', 'Comedy', 'Fantasy', 'Romance', 'Drama', 'Action', 'Crime', 'Thriller', 'Horror', 'Mystery', 'Sci-Fi', 'IMAX', 'Documentary', 'War', 'Musical', 'Western', 'Film-Noir', '(no genres listed)', 'Samuel L. Jackson', 'Steve Buscemi', 'Keith David', 'Willem Dafoe', 'Robert De Niro', 'Gérard Depardieu', 'Brian Cox', 'Christopher Walken', 'Danny Glover', 'Bruce Willis', 'Morgan Freeman', 'Alec Baldwin', 'Nicolas Cage', 'Peter Stormare', 'Susan Sarandon', 'Julianne Moore', 'Stanley Tucci', 'Richard Jenkins', 'John Goodman', 'Stellan Skarsgård', 'runtime', 'budget']\n"
     ]
    }
   ],
   "source": [
    "columns = list(mergeded_train.columns)\n",
    "print(columns[4:])"
   ]
  },
  {
   "cell_type": "code",
   "execution_count": null,
   "metadata": {
    "execution": {
     "iopub.execute_input": "2021-07-12T22:09:00.676025Z",
     "iopub.status.busy": "2021-07-12T22:09:00.675737Z",
     "iopub.status.idle": "2021-07-12T22:10:55.427297Z",
     "shell.execute_reply": "2021-07-12T22:10:55.426315Z",
     "shell.execute_reply.started": "2021-07-12T22:09:00.675998Z"
    },
    "gradient": {},
    "id": "VChnrXGnJs9m"
   },
   "outputs": [],
   "source": [
    "mergeded_train.to_csv('train_feat.csv', index=False)"
   ]
  },
  {
   "cell_type": "code",
   "execution_count": null,
   "metadata": {
    "execution": {
     "iopub.execute_input": "2021-07-12T22:10:55.429550Z",
     "iopub.status.busy": "2021-07-12T22:10:55.428891Z",
     "iopub.status.idle": "2021-07-12T22:10:55.436894Z",
     "shell.execute_reply": "2021-07-12T22:10:55.435678Z",
     "shell.execute_reply.started": "2021-07-12T22:10:55.429501Z"
    },
    "gradient": {}
   },
   "outputs": [],
   "source": [
    "from IPython.display import FileLink\n",
    "FileLink('./train_feat.csv')"
   ]
  },
  {
   "cell_type": "code",
   "execution_count": 78,
   "metadata": {
    "execution": {
     "iopub.execute_input": "2021-07-12T22:10:55.440961Z",
     "iopub.status.busy": "2021-07-12T22:10:55.440513Z",
     "iopub.status.idle": "2021-07-12T22:12:15.435769Z",
     "shell.execute_reply": "2021-07-12T22:12:15.434373Z",
     "shell.execute_reply.started": "2021-07-12T22:10:55.440914Z"
    },
    "gradient": {},
    "id": "ikMqxXnoUQPL",
    "outputId": "a6b1e898-f69e-4770-9331-e2e6dcaa6d10"
   },
   "outputs": [
    {
     "name": "stdout",
     "output_type": "stream",
     "text": [
      "n_users: 160815, n_items: 11637, data sparsity: 0.5052 %\n",
      "CPU times: user 1min 18s, sys: 14 s, total: 1min 32s\n",
      "Wall time: 1min 31s\n"
     ]
    }
   ],
   "source": [
    "%%time\n",
    "#mergeded_train = pd.read_csv('./train_feat.csv')\n",
    "mergeded_train.rename(columns={'userId':'user', 'movieId':'item','rating':'label', \n",
    "                               'timestamp':'time'}, inplace=True)\n",
    "\n",
    "columns = list(mergeded_train.columns)\n",
    "sparse_col = columns[4:]\n",
    "item_col = columns[4:]\n",
    "\n",
    "# split whole data into three folds for training, evaluating and testing\n",
    "train_data, eval_data, test_data = random_split(\n",
    "    mergeded_train, multi_ratios=[0.99, 0.005, 0.005])\n",
    "\n",
    "train_data, data_info = DatasetFeat.build_trainset(train_data, item_col=item_col,\n",
    "                                                   sparse_col=sparse_col)\n",
    "eval_data = DatasetFeat.build_evalset(eval_data)\n",
    "test_data = DatasetFeat.build_testset(test_data)\n",
    "print(data_info)"
   ]
  },
  {
   "cell_type": "code",
   "execution_count": 54,
   "metadata": {
    "execution": {
     "iopub.execute_input": "2021-07-12T22:12:15.438384Z",
     "iopub.status.busy": "2021-07-12T22:12:15.437932Z",
     "iopub.status.idle": "2021-07-12T22:12:25.681742Z",
     "shell.execute_reply": "2021-07-12T22:12:25.680458Z",
     "shell.execute_reply.started": "2021-07-12T22:12:15.438333Z"
    },
    "gradient": {}
   },
   "outputs": [],
   "source": [
    "gc.collect()\n",
    "del mergeded_train, columns, sparse_col, item_col\n",
    "sleep(10)"
   ]
  },
  {
   "cell_type": "code",
   "execution_count": null,
   "metadata": {
    "gradient": {},
    "id": "-CvwwsGYTXS5",
    "outputId": "6368d06a-d62f-4299-86b4-32cc2523d129"
   },
   "outputs": [
    {
     "name": "stdout",
     "output_type": "stream",
     "text": [
      "\n",
      " ============================== FM ==============================\n",
      "Training start time: \u001b[35m2021-07-13 01:39:56\u001b[0m\n",
      "total params: \u001b[33m1,559,392\u001b[0m | embedding params: \u001b[33m1,559,324\u001b[0m | network params: \u001b[33m68\u001b[0m\n"
     ]
    },
    {
     "name": "stderr",
     "output_type": "stream",
     "text": [
      "train: 100%|██████████| 4727/4727 [00:44<00:00, 106.62it/s]\n"
     ]
    },
    {
     "name": "stdout",
     "output_type": "stream",
     "text": [
      "Epoch 1 elapsed: 58.294s\n",
      "\t \u001b[32mtrain_loss: 0.791\u001b[0m\n"
     ]
    },
    {
     "name": "stderr",
     "output_type": "stream",
     "text": [
      "eval_pred: 100%|██████████| 6/6 [00:00<00:00, 79.57it/s]\n"
     ]
    },
    {
     "name": "stdout",
     "output_type": "stream",
     "text": [
      "\t eval rmse: 0.8421\n",
      "\t eval mae: 0.6397\n",
      "\t eval r2: 0.3658\n",
      "==============================\n"
     ]
    }
   ],
   "source": [
    "%%time\n",
    "reset_state(\"FM\")\n",
    "fm = FM(\"rating\", data_info, embed_size=8, n_epochs=2,\n",
    "            lr=0.01, lr_decay=False, reg=None, batch_size=2000,\n",
    "            num_neg=1, use_bn=True, dropout_rate=None, tf_sess_config=None)\n",
    "fm.fit(train_data, verbose=2, shuffle=True, eval_data=eval_data,\n",
    "           metrics=[\"rmse\", \"mae\", \"r2\"])\n",
    "\n",
    "# do final evaluation on test data\n",
    "print(\"evaluate_result: \", evaluate(model=fm, data=test_data,\n",
    "                                    metrics=[\"rmse\", \"mae\"]))"
   ]
  },
  {
   "cell_type": "code",
   "execution_count": null,
   "metadata": {
    "gradient": {}
   },
   "outputs": [],
   "source": [
    "gc.collect()\n",
    "del fm\n",
    "sleep(10)"
   ]
  },
  {
   "cell_type": "code",
   "execution_count": null,
   "metadata": {
    "gradient": {},
    "id": "brd0COvWTXWO"
   },
   "outputs": [],
   "source": [
    "%%time\n",
    "reset_state(\"Wide_Deep\")\n",
    "wd = WideDeep(\"rating\", data_info, embed_size=16, n_epochs=2,\n",
    "              lr={\"wide\": 0.01, \"deep\": 1e-4}, lr_decay=False, reg=None,\n",
    "              batch_size=100000, num_neg=1, use_bn=False, dropout_rate=None,\n",
    "              hidden_units=\"128,64,32\", tf_sess_config=None)\n",
    "wd.fit(train_data, verbose=2, shuffle=True, eval_data=eval_data,\n",
    "       metrics=[\"rmse\", \"mae\", \"r2\"])\n",
    "# do final evaluation on test data\n",
    "print(\"evaluate_result: \", evaluate(model=wd, data=test_data,\n",
    "                                    metrics=[\"rmse\", \"mae\"]))"
   ]
  },
  {
   "cell_type": "code",
   "execution_count": null,
   "metadata": {
    "gradient": {}
   },
   "outputs": [],
   "source": [
    "gc.collect()\n",
    "del wd\n",
    "sleep(10)"
   ]
  },
  {
   "cell_type": "code",
   "execution_count": null,
   "metadata": {
    "gradient": {},
    "id": "2gbrNStXTXZ-"
   },
   "outputs": [],
   "source": [
    "%%time\n",
    "reset_state(\"DeepFM\")\n",
    "deepfm = DeepFM(\"rating\", data_info, embed_size=512, n_epochs=3,\n",
    "                lr=5e-3, lr_decay=True, reg=None, batch_size=2048,\n",
    "                num_neg=1, use_bn=False, dropout_rate=None,\n",
    "                hidden_units=\"128,64,32,16,8,4\", tf_sess_config=None)\n",
    "deepfm.fit(train_data, verbose=2, shuffle=True, eval_data=eval_data,\n",
    "           metrics=[\"rmse\", \"mae\", \"r2\"])\n",
    "\n",
    "print(\"evaluate_result: \", evaluate(model=deepfm, data=test_data,\n",
    "                                    metrics=[\"rmse\", \"mae\"]))"
   ]
  },
  {
   "cell_type": "code",
   "execution_count": null,
   "metadata": {
    "gradient": {}
   },
   "outputs": [],
   "source": [
    "gc.collect()\n",
    "del deepfm\n",
    "sleep(10)"
   ]
  },
  {
   "cell_type": "code",
   "execution_count": null,
   "metadata": {
    "execution": {
     "iopub.execute_input": "2021-07-12T22:13:05.193536Z",
     "iopub.status.busy": "2021-07-12T22:13:05.193115Z"
    },
    "gradient": {},
    "id": "uQ6kijxZTXdP"
   },
   "outputs": [],
   "source": [
    "%%time\n",
    "reset_state(\"AutoInt\")\n",
    "autoint = AutoInt(\"rating\", data_info, embed_size=16, n_epochs=2,\n",
    "                  att_embed_size=(8, 8, 8), num_heads=4, use_residual=False,\n",
    "                  lr=1e-3, lr_decay=False, reg=None, batch_size=2048,\n",
    "                  num_neg=1, use_bn=False, dropout_rate=None,\n",
    "                  hidden_units=\"128,64,32\", tf_sess_config=None)\n",
    "autoint.fit(train_data, verbose=2, shuffle=True, eval_data=eval_data,\n",
    "            metrics=[\"rmse\", \"mae\", \"r2\"])"
   ]
  },
  {
   "cell_type": "code",
   "execution_count": null,
   "metadata": {
    "execution": {
     "iopub.execute_input": "2021-07-12T21:58:13.878020Z",
     "iopub.status.busy": "2021-07-12T21:58:13.877630Z",
     "iopub.status.idle": "2021-07-12T21:58:24.127490Z",
     "shell.execute_reply": "2021-07-12T21:58:24.126394Z",
     "shell.execute_reply.started": "2021-07-12T21:58:13.877989Z"
    },
    "gradient": {}
   },
   "outputs": [],
   "source": [
    "gc.collect()\n",
    "del autoint\n",
    "sleep(10)"
   ]
  },
  {
   "cell_type": "markdown",
   "metadata": {
    "id": "ei4PIZBOjKxV"
   },
   "source": [
    "\n",
    "### Create Submission\n",
    "Hit the blue Publish button at the top of your notebook screen. It will take some time for your kernel to run. When it has finished your navigation bar at the top of the screen will have a tab for Output. This only shows up if you have written an output file (like we did in the Prepare Submission File step)."
   ]
  },
  {
   "cell_type": "code",
   "execution_count": null,
   "metadata": {
    "gradient": {},
    "id": "w0YDZdK-Kc2O"
   },
   "outputs": [],
   "source": [
    "\"\"\"\n",
    "# Pickle The Model\n",
    "model_save_path = \"SVD_tunedA1.pkl\"\n",
    "with open(model_save_path,'wb') as file:\n",
    "    pickle.dump(algo,file)\n",
    "\"\"\""
   ]
  },
  {
   "cell_type": "code",
   "execution_count": null,
   "metadata": {
    "gradient": {},
    "id": "DOpVMc-mKc2O"
   },
   "outputs": [],
   "source": [
    "\"\"\"\n",
    "model_load_path = \"/content/drive/MyDrive/Unsupervised Models/SVD_tunedA1.pkl\"\n",
    "with open(model_load_path,'rb') as file:\n",
    "    algo = pickle.load(file)\n",
    "\"\"\""
   ]
  },
  {
   "cell_type": "code",
   "execution_count": null,
   "metadata": {
    "gradient": {},
    "id": "b5iJZrLGjKxV"
   },
   "outputs": [],
   "source": [
    "def create_submission(algo, save_name):\n",
    "    \n",
    "    ratings_predictions = [algo.predict(row.userId, row.movieId) for _,row in df_test.iterrows()]\n",
    "    df_pred = pd.DataFrame(ratings_predictions)\n",
    "    df_pred = df_pred.rename(columns={'uid':'userId', 'iid':'movieId','est':'rating'})\n",
    "    df_pred.drop(['r_ui','details'],axis=1,inplace=True)\n",
    "    # Create ID column\n",
    "    df_pred['Id'] = df_pred.apply(lambda x:'%s_%s' % (x['userId'],x['movieId']),axis=1)\n",
    "    df_pred['Id'] = df_pred.apply(lambda x:'%s_%s' % (x['userId'],x['movieId']),axis=1)\n",
    "    df_pred = df_pred[['Id', 'rating']]\n",
    "    df_pred.to_csv(save_name + '.csv', index=False)\n",
    "    \n",
    "    return pd.read_csv('./' + save_name + '.csv')\n",
    "\n",
    "def create_librec_submission(svdpp, save_name)\n",
    "    svdpp_pred = svdpp.predict(df_test['userId'], df_test['movieId'], cold_start= \"popular\")\n",
    "    df_pred =df_test.copy()\n",
    "    df_pred['rating'] = svdpp_pred\n",
    "    df_pred['Id'] = df_pred.apply(lambda x:'%s_%s' % (x['userId'],x['movieId']),axis=1)\n",
    "    df_pred['Id'] = df_pred.apply(lambda x:'%s_%s' % (x['userId'],x['movieId']),axis=1)\n",
    "    df_pred = df_pred[['Id', 'rating']]\n",
    "    df_pred.to_csv(save_name + '.csv', index=False)\n",
    "    return pd.read_csv('./' + save_name + '.csv')"
   ]
  },
  {
   "cell_type": "code",
   "execution_count": null,
   "metadata": {
    "gradient": {},
    "id": "iZitmvpFjKxW"
   },
   "outputs": [],
   "source": [
    "\"\"\"%%time\n",
    "submission = create_submission(algo, 'SVD_tunedA1')\n",
    "submission.head(10)\"\"\""
   ]
  },
  {
   "cell_type": "code",
   "execution_count": null,
   "metadata": {
    "gradient": {}
   },
   "outputs": [],
   "source": [
    "\"\"\"%%time\n",
    "librec_submission = create_librec_submission(svdpp, 'SVDpp_librecA')\n",
    "librec_submission.head(10)\"\"\""
   ]
  },
  {
   "cell_type": "code",
   "execution_count": null,
   "metadata": {
    "gradient": {},
    "id": "YBCv2DSwO2Cl",
    "outputId": "1bcf645c-ecbd-4303-a337-14c493547f52"
   },
   "outputs": [],
   "source": [
    "\"\"\"from google.colab import drive\n",
    "drive.mount('/content/drive')\"\"\""
   ]
  },
  {
   "cell_type": "code",
   "execution_count": null,
   "metadata": {
    "gradient": {},
    "id": "9DiZ8JwjzNZv",
    "outputId": "5ce341bc-7552-40c7-c57a-24f3d6fa3099"
   },
   "outputs": [],
   "source": [
    "#!wget 'https://kkb-production.jupyter-proxy.kaggle.net/k/67906852/eyJhbGciOiJkaXIiLCJlbmMiOiJBMTI4Q0JDLUhTMjU2IiwidHlwIjoiSldUIn0..EI35xsr87c7w1V2yD7-SDw.P1LKQiV4llJtRBVTZ6C8ZG7XZCLEuuotv8ZnngWLZaGkJnXeVRlmGzXehfIO1m9kRZVWT6Y0MlTOCLpuA9rwmXiuAqWSovowtSG2SlGQSutixactHV24vmnxUhSsda76o7PV8Si1ywiM_bH1MmAH5Yoi6X4ATCjeO2znT6Yr81sOgU3tGnpD4k_gpXuBSomIJW6M4VdWBLm1jbubY_Jx9g.8tA-L0aQQH60sptLCTJQIA/proxy/files/SVD_tunedA1.pkl'"
   ]
  },
  {
   "cell_type": "code",
   "execution_count": null,
   "metadata": {
    "gradient": {},
    "id": "L7go5VSTKc2P"
   },
   "outputs": [],
   "source": [
    "#cp \"/content/train_feat.csv\" \"/content/drive/MyDrive/Unsupervised Models\""
   ]
  },
  {
   "cell_type": "code",
   "execution_count": null,
   "metadata": {},
   "outputs": [],
   "source": []
  },
  {
   "cell_type": "code",
   "execution_count": null,
   "metadata": {},
   "outputs": [],
   "source": [
    "def load_movie_titles(df):\n",
    "    \"\"\"Load movie titles from database records.\n",
    "    Parameters\n",
    "    ----------\n",
    "    path_to_movies : str\n",
    "        Relative or absolute path to movie database stored\n",
    "        in .csv format.\n",
    "    Returns\n",
    "    -------\n",
    "    list[str]\n",
    "        Movie titles.\n",
    "    \"\"\"\n",
    "    df = df.dropna()\n",
    "    movie_list = df['title'].to_list()\n",
    "    return movie_list\n",
    "\n",
    "title_list = load_movie_titles(df_movies)\n",
    "df_movies[14930:15200]\n",
    "df_movies[25055:25255]\n",
    "df_movies[21100:21200]"
   ]
  }
 ],
 "metadata": {
  "kernelspec": {
   "display_name": "Python 3",
   "language": "python",
   "name": "python3"
  },
  "language_info": {
   "codemirror_mode": {
    "name": "ipython",
    "version": 3
   },
   "file_extension": ".py",
   "mimetype": "text/x-python",
   "name": "python",
   "nbconvert_exporter": "python",
   "pygments_lexer": "ipython3",
   "version": "3.6.8"
  }
 },
 "nbformat": 4,
 "nbformat_minor": 4
}
